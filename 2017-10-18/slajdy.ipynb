{
 "cells": [
  {
   "cell_type": "markdown",
   "metadata": {
    "slideshow": {
     "slide_type": "slide"
    }
   },
   "source": [
    "# Python w badaniach humanistycznych"
   ]
  },
  {
   "cell_type": "markdown",
   "metadata": {
    "slideshow": {
     "slide_type": "slide"
    }
   },
   "source": [
    "# Po co Python? Po co programowanie?"
   ]
  },
  {
   "cell_type": "markdown",
   "metadata": {
    "slideshow": {
     "slide_type": "slide"
    }
   },
   "source": [
    "## Komputery są głupie, ale bardzo szybko robią proste rzeczy.\n",
    "\n",
    "Pamiętanie o tym bardzo pomaga - w programowaniu i interakcji z komputerami w ogóle."
   ]
  },
  {
   "cell_type": "markdown",
   "metadata": {
    "slideshow": {
     "slide_type": "slide"
    }
   },
   "source": [
    "## W czym komputery są dobre?\n",
    "\n",
    "1. Liczenie\n",
    "2. Praca z dużymi ilościami danych\n",
    "3. Powtarzanie w kółko (prawie) tego samego\n",
    "4. Wizualizacja"
   ]
  },
  {
   "cell_type": "markdown",
   "metadata": {
    "slideshow": {
     "slide_type": "slide"
    }
   },
   "source": [
    "## Ważne informacje:\n",
    "\n",
    "* w razie wątpliwości czy problemów proszę przerywać i pytać - jak najczęściej i jak najbardziej na bieżąco\n",
    "* kod przykładowy będziemy dziś oglądać za pomocą Jupyter Notebook (http://jupyter.org/)\n",
    "* edytowalne kopie tej prezentacji znajdują się na https://jupyter.talus.pl (logowanie przez githuba), można tam edytować kod i sprawdzać, jak zmienia się jego działanie\n",
    "* teraz jest dobry moment, żeby otworzyć tę stronę"
   ]
  },
  {
   "cell_type": "markdown",
   "metadata": {
    "slideshow": {
     "slide_type": "slide"
    }
   },
   "source": [
    "## 1. Liczenie"
   ]
  },
  {
   "cell_type": "code",
   "execution_count": 1,
   "metadata": {
    "slideshow": {
     "slide_type": "fragment"
    }
   },
   "outputs": [
    {
     "data": {
      "text/plain": [
       "4"
      ]
     },
     "execution_count": 1,
     "metadata": {},
     "output_type": "execute_result"
    }
   ],
   "source": [
    "2 + 2"
   ]
  },
  {
   "cell_type": "code",
   "execution_count": 2,
   "metadata": {
    "slideshow": {
     "slide_type": "fragment"
    }
   },
   "outputs": [
    {
     "data": {
      "text/plain": [
       "170644.56910569104"
      ]
     },
     "execution_count": 2,
     "metadata": {},
     "output_type": "execute_result"
    }
   ],
   "source": [
    "# wszystko od '#' do końca wiersza to komentarz (Python go pomija - jest tylko dla nas)\n",
    "95434 + 2342 * (395 / 12.3)  # komentarz może zacząć się nie-na-początku wiersza"
   ]
  },
  {
   "cell_type": "code",
   "execution_count": 3,
   "metadata": {
    "slideshow": {
     "slide_type": "fragment"
    }
   },
   "outputs": [
    {
     "data": {
      "text/plain": [
       "12"
      ]
     },
     "execution_count": 3,
     "metadata": {},
     "output_type": "execute_result"
    }
   ],
   "source": [
    "a = 5  # przypisujemy 5 do zmiennej a...\n",
    "a + 7  # ...i możemy jej potem używać"
   ]
  },
  {
   "cell_type": "code",
   "execution_count": 4,
   "metadata": {
    "slideshow": {
     "slide_type": "fragment"
    }
   },
   "outputs": [
    {
     "name": "stdout",
     "output_type": "stream",
     "text": [
      "5\n",
      "12\n"
     ]
    },
    {
     "data": {
      "text/plain": [
       "19"
      ]
     },
     "execution_count": 4,
     "metadata": {},
     "output_type": "execute_result"
    }
   ],
   "source": [
    "# ważna obserwacja: zmienne zadeklarowane w innych komórkach działają potem\n",
    "print(a)  # poleceniem print możemy wypisywać coś \"w międzyczasie\"\n",
    "a = a + 7  # raz przypisana zmienna może zmieniać wartość\n",
    "print(a)\n",
    "a = a + 7\n",
    "zmienna_o_dlugiej_nazwie_12 = a  # nazwy zmiennych mogą być długie (i powinny być znaczące, nie mogą zawierać spacji)\n",
    "zmienna_o_dlugiej_nazwie_12  # wartość obliczenia w ostatnim wierszu komórki jest jej \"wynikiem\""
   ]
  },
  {
   "cell_type": "markdown",
   "metadata": {
    "slideshow": {
     "slide_type": "slide"
    }
   },
   "source": [
    "## A co, jeśli nie chcemy liczyć na palcach?"
   ]
  },
  {
   "cell_type": "code",
   "execution_count": 5,
   "metadata": {
    "slideshow": {
     "slide_type": "fragment"
    }
   },
   "outputs": [
    {
     "data": {
      "text/plain": [
       "100"
      ]
     },
     "execution_count": 5,
     "metadata": {},
     "output_type": "execute_result"
    }
   ],
   "source": [
    "# pętla for powtarza wielokrotnie tę samą operację\n",
    "suma = 0\n",
    "# range(100) oznacza \"wszystkie liczby naturalne mniejsze od 100\" (0, 1, 2, ..., 98, 99) \n",
    "for i in range(100):\n",
    "    suma += 1  # skrót na 'suma = suma + 1'\n",
    "suma"
   ]
  },
  {
   "cell_type": "code",
   "execution_count": 6,
   "metadata": {
    "slideshow": {
     "slide_type": "fragment"
    }
   },
   "outputs": [
    {
     "data": {
      "text/plain": [
       "5050"
      ]
     },
     "execution_count": 6,
     "metadata": {},
     "output_type": "execute_result"
    }
   ],
   "source": [
    "szereg = 0\n",
    "for i in range(101):  # liczby 0, 1, ..., 99, 100\n",
    "    # 'i' w ciele pętli przyjmuje wartość z range'a (w pierwszym obrocie pętli 0, w drugim 1, w trzecim 2 etc.)\n",
    "    szereg += i\n",
    "szereg"
   ]
  },
  {
   "cell_type": "markdown",
   "metadata": {
    "slideshow": {
     "slide_type": "slide"
    }
   },
   "source": [
    "## A jeśli chcemy liczyć tylko niektóre liczby?"
   ]
  },
  {
   "cell_type": "code",
   "execution_count": 7,
   "metadata": {
    "slideshow": {
     "slide_type": "fragment"
    }
   },
   "outputs": [
    {
     "data": {
      "text/plain": [
       "10"
      ]
     },
     "execution_count": 7,
     "metadata": {},
     "output_type": "execute_result"
    }
   ],
   "source": [
    "szereg_mniejszy = 0\n",
    "for i in range(100):\n",
    "    if szereg_mniejszy < 10:  # tak, ten warunek jest bez sensu -- co on robi?\n",
    "        szereg_mniejszy += i\n",
    "szereg_mniejszy"
   ]
  },
  {
   "cell_type": "code",
   "execution_count": 8,
   "metadata": {
    "slideshow": {
     "slide_type": "fragment"
    }
   },
   "outputs": [
    {
     "data": {
      "text/plain": [
       "2450"
      ]
     },
     "execution_count": 8,
     "metadata": {},
     "output_type": "execute_result"
    }
   ],
   "source": [
    "suma_parzysta = 0\n",
    "for i in range(100):\n",
    "    if i % 2 == 0:  # '%' - operator \"modulo\", czyli reszta z dzielenia\n",
    "        suma_parzysta += i\n",
    "suma_parzysta"
   ]
  },
  {
   "cell_type": "markdown",
   "metadata": {
    "slideshow": {
     "slide_type": "slide"
    }
   },
   "source": [
    "## Zmienne mogą być nie tylko liczbami."
   ]
  },
  {
   "cell_type": "code",
   "execution_count": 9,
   "metadata": {
    "slideshow": {
     "slide_type": "fragment"
    }
   },
   "outputs": [
    {
     "data": {
      "text/plain": [
       "[5, 2, 1, 9, 3, 4, 8, 7]"
      ]
     },
     "execution_count": 9,
     "metadata": {},
     "output_type": "execute_result"
    }
   ],
   "source": [
    "x = [5, 2, 1, 9, 3]  # lista złożona z pięciu liczb: 1, 2, 3, 4, 5\n",
    "y = [4, 8, 7]\n",
    "x + y"
   ]
  },
  {
   "cell_type": "code",
   "execution_count": 10,
   "metadata": {
    "slideshow": {
     "slide_type": "fragment"
    }
   },
   "outputs": [
    {
     "name": "stdout",
     "output_type": "stream",
     "text": [
      "1\n",
      "5\n",
      "3\n",
      "[2, 1]\n",
      "5\n",
      "2\n",
      "1\n",
      "9\n",
      "3\n"
     ]
    }
   ],
   "source": [
    "print(x[2])  # elementy listy numerujemy od '0'\n",
    "print(x[0])\n",
    "print(x[-1])  # możemy też liczyć od końca listy - wtedy numerujemy od 1...\n",
    "print(x[1:3])  # przedział na liście działa jak range -- prawe ograniczenie nie należy do zbioru\n",
    "# po liście można też iterować for -- dostajemy wtedy jej elementy\n",
    "for i in x:\n",
    "    print(i)"
   ]
  },
  {
   "cell_type": "code",
   "execution_count": 11,
   "metadata": {
    "slideshow": {
     "slide_type": "fragment"
    }
   },
   "outputs": [
    {
     "name": "stdout",
     "output_type": "stream",
     "text": [
      "1\n",
      "3\n"
     ]
    }
   ],
   "source": [
    "z = {'a': 1, 'b': 2, 'c': 3}  # słownik z kluczami - literami i wartościami - liczbami\n",
    "print(z['a'])\n",
    "print(z['c'])"
   ]
  },
  {
   "cell_type": "markdown",
   "metadata": {
    "slideshow": {
     "slide_type": "slide"
    }
   },
   "source": [
    "## Ważna obserwacja:\n",
    "\n"
   ]
  },
  {
   "cell_type": "code",
   "execution_count": 12,
   "metadata": {
    "slideshow": {
     "slide_type": "fragment"
    }
   },
   "outputs": [
    {
     "name": "stdout",
     "output_type": "stream",
     "text": [
      "5\n",
      "zmw\n",
      "zmw\n"
     ]
    }
   ],
   "source": [
    "zmw = 5\n",
    "print(zmw)  # zmienna o nazwie 'zmw'\n",
    "print('zmw')  # dosłowny napis 'zmw'\n",
    "print(\"zmw\")  # też także - pythonowi nie robi to różnicy"
   ]
  },
  {
   "cell_type": "markdown",
   "metadata": {
    "slideshow": {
     "slide_type": "slide"
    }
   },
   "source": [
    "   ## Prawdziwy (prawie) przykład"
   ]
  },
  {
   "cell_type": "markdown",
   "metadata": {
    "slideshow": {
     "slide_type": "subslide"
    }
   },
   "source": [
    "Ile pieniędzy dostaniemy po 10 latach wkładając 100 zł do banku na 4% rocznie?"
   ]
  },
  {
   "cell_type": "code",
   "execution_count": 13,
   "metadata": {
    "slideshow": {
     "slide_type": "fragment"
    }
   },
   "outputs": [
    {
     "data": {
      "text/plain": [
       "148.02442849183444"
      ]
     },
     "execution_count": 13,
     "metadata": {},
     "output_type": "execute_result"
    }
   ],
   "source": [
    "kasa = 100\n",
    "for i in range(10):\n",
    "    kasa *= 1.04\n",
    "kasa"
   ]
  },
  {
   "cell_type": "markdown",
   "metadata": {
    "slideshow": {
     "slide_type": "slide"
    }
   },
   "source": [
    "## 2. Praca z dużymi ilościami danych"
   ]
  },
  {
   "cell_type": "code",
   "execution_count": 14,
   "metadata": {
    "slideshow": {
     "slide_type": "fragment"
    }
   },
   "outputs": [
    {
     "name": "stdout",
     "output_type": "stream",
     "text": [
      "322\n",
      "W początkach roku 1878, kiedy świat polityczny zajmował się pokojem san-stefańskim, wyborem nowego p\n",
      "W POCZĄTKACH ROKU 1878, KIEDY ŚWIAT POLITYCZNY ZAJMOWAŁ SIĘ POKOJEM SAN-STEFAŃSKIM, WYBOREM NOWEGO P\n",
      "w początkach roku 1878, kiedy świat polityczny zajmował się pokojem san-stefańskim, wyborem nowego p\n",
      "40\n",
      "['W', 'początkach', 'roku', '1878,', 'kiedy', 'świat', 'polityczny', 'zajmował', 'się', 'pokojem']\n"
     ]
    }
   ],
   "source": [
    "tekst = 'W początkach roku 1878, kiedy świat polityczny zajmował się pokojem san-stefańskim, wyborem nowego papieża albo szansami europejskiej wojny, warszawscy kupcy tudzież inteligencja pewnej okolicy Krakowskiego Przedmieścia niemniej gorąco interesowała się przyszłością galanteryjnego sklepu pod firmą J. Mincel i S. Wokulski.'\n",
    "# tekst działa w znacznej części jak lista znaków\n",
    "print(len(tekst))  # liczba znaków w tekście\n",
    "print(tekst[0:100])  # pierwsze 100 znaków w tekście\n",
    "print(tekst.upper()[0:100])  # upper() zamienia napisy na kapitaliki\n",
    "print(tekst.lower()[0:100])  # lower() zamienia napisy na minuskułę\n",
    "slowa = tekst.split()  # prawie lista słów w tekście (split buduje listę dzieląc napis po białych znakach)\n",
    "print(len(slowa))\n",
    "print(slowa[:10])\n"
   ]
  },
  {
   "cell_type": "markdown",
   "metadata": {
    "slideshow": {
     "slide_type": "slide"
    }
   },
   "source": [
    "## Coś trochę większego?"
   ]
  },
  {
   "cell_type": "code",
   "execution_count": 15,
   "metadata": {
    "slideshow": {
     "slide_type": "fragment"
    }
   },
   "outputs": [],
   "source": [
    "import requests\n",
    "dlugi_tekst = requests.get('https://wolnelektury.pl/media/book/txt/lalka-tom-pierwszy.txt').content  # ściągamy tekst z internetu"
   ]
  },
  {
   "cell_type": "code",
   "execution_count": 16,
   "metadata": {
    "slideshow": {
     "slide_type": "fragment"
    }
   },
   "outputs": [
    {
     "name": "stdout",
     "output_type": "stream",
     "text": [
      "122839\n"
     ]
    }
   ],
   "source": [
    "slowa = dlugi_tekst.decode('utf-8').upper().split()\n",
    "print(len(slowa))"
   ]
  },
  {
   "cell_type": "code",
   "execution_count": 17,
   "metadata": {
    "slideshow": {
     "slide_type": "subslide"
    }
   },
   "outputs": [
    {
     "data": {
      "text/plain": [
       "[('—', 5813),\n",
       " ('I', 3463),\n",
       " ('SIĘ', 2660),\n",
       " ('W', 2463),\n",
       " ('NA', 2127),\n",
       " ('NIE', 2107),\n",
       " ('Z', 1830),\n",
       " ('DO', 1522),\n",
       " ('ŻE', 1404),\n",
       " ('A', 1263),\n",
       " ('TO', 951),\n",
       " ('PAN', 890),\n",
       " ('ZA', 750),\n",
       " ('O', 689),\n",
       " ('ALE', 643),\n",
       " ('JAK', 563),\n",
       " ('CO', 550),\n",
       " ('WOKULSKI', 543),\n",
       " ('PO', 534),\n",
       " ('MU', 507)]"
      ]
     },
     "execution_count": 17,
     "metadata": {},
     "output_type": "execute_result"
    }
   ],
   "source": [
    "licznik_slow = {}\n",
    "for s in slowa:\n",
    "    if s not in licznik_slow:\n",
    "        licznik_slow[s] = 1\n",
    "    else:\n",
    "        licznik_slow[s] += 1\n",
    "\n",
    "sorted(licznik_slow.items(), key=lambda x: x[1], reverse=True)[0:20]  # 20 najpopularniejszych \"słów\""
   ]
  },
  {
   "cell_type": "markdown",
   "metadata": {
    "slideshow": {
     "slide_type": "slide"
    }
   },
   "source": [
    "## 3. Powtarzanie w kółko (prawie) tego samego"
   ]
  },
  {
   "cell_type": "code",
   "execution_count": 18,
   "metadata": {
    "slideshow": {
     "slide_type": "fragment"
    }
   },
   "outputs": [],
   "source": [
    "def send_mail(receiver, subject, text):\n",
    "    # tę funkcję nauczymy się pisać w przyszłości\n",
    "    print('udaję, że wysyłam maila')\n",
    "\n",
    "maile = []\n",
    "max_punktow = 100\n",
    "with open('../lista_studentow.txt') as fp:\n",
    "    for line in fp:\n",
    "        imie, nazwisko, adres, wynik = line.split()\n",
    "        wynik = int(wynik)\n",
    "        maile.append((adres, '''\n",
    "Dzień dobry,\n",
    "Wynik z testu to {wyn}/{max} punktów. Oznacza to, że {opis}.\n",
    "W razie czego proszę pisać na adres {adres}.\n",
    "\n",
    "Pozdrawiam\n",
    "PK'''.format(wyn=wynik,\n",
    "             max=max_punktow,\n",
    "             opis='udało się zaliczyć -- gratuluję' if wynik >= 60 else 'niestety nie udało się zaliczyć',\n",
    "             adres='p.kasprzyk@lach.edu.pl')))\n"
   ]
  },
  {
   "cell_type": "code",
   "execution_count": 19,
   "metadata": {
    "slideshow": {
     "slide_type": "subslide"
    }
   },
   "outputs": [
    {
     "name": "stdout",
     "output_type": "stream",
     "text": [
      "janek@example.com\n",
      "\n",
      "Dzień dobry,\n",
      "Wynik z testu to 40/100 punktów. Oznacza to, że niestety nie udało się zaliczyć.\n",
      "W razie czego proszę pisać na adres p.kasprzyk@lach.edu.pl.\n",
      "\n",
      "Pozdrawiam\n",
      "PK\n",
      "==============\n",
      "udaję, że wysyłam maila\n",
      "zocha@example.com\n",
      "\n",
      "Dzień dobry,\n",
      "Wynik z testu to 99/100 punktów. Oznacza to, że udało się zaliczyć -- gratuluję.\n",
      "W razie czego proszę pisać na adres p.kasprzyk@lach.edu.pl.\n",
      "\n",
      "Pozdrawiam\n",
      "PK\n",
      "==============\n",
      "udaję, że wysyłam maila\n"
     ]
    }
   ],
   "source": [
    "for adres, tresc in maile:\n",
    "    print(adres)\n",
    "    print(tresc)\n",
    "    print('==============')\n",
    "    send_mail(receiver=adres, subject='Wyniki egzaminu', text=tresc)"
   ]
  },
  {
   "cell_type": "code",
   "execution_count": 20,
   "metadata": {
    "slideshow": {
     "slide_type": "slide"
    }
   },
   "outputs": [
    {
     "name": "stdout",
     "output_type": "stream",
     "text": [
      "University of Warsaw\n",
      "Faculty of Management\n",
      "S Y L L A B U S\n",
      "This Syllabus Is Subject To Change\n",
      "International Management\n",
      "Prof. Dr David Jones                                    \n",
      "\n",
      "Introduction.\n",
      "\n",
      "This course will acquaint the international graduate student with some core concepts and major principles of\n"
     ]
    }
   ],
   "source": [
    "import docx\n",
    "import requests\n",
    "import io\n",
    "content = requests.get('http://www.wz.uw.edu.pl/kierunkiFiles/International_Management.docx').content\n",
    "doc = docx.Document(io.BytesIO(content))\n",
    "print('\\n'.join(p.text for p in doc.paragraphs)[:300])\n",
    "    "
   ]
  },
  {
   "cell_type": "markdown",
   "metadata": {
    "slideshow": {
     "slide_type": "slide"
    }
   },
   "source": [
    "## Uwaga\n",
    "Kolejne przykłady są tylko przykładami -- zrozumienie ich nie jest na dziś konieczne."
   ]
  },
  {
   "cell_type": "markdown",
   "metadata": {
    "slideshow": {
     "slide_type": "slide"
    }
   },
   "source": [
    "## 4. Wizualizacja"
   ]
  },
  {
   "cell_type": "code",
   "execution_count": 21,
   "metadata": {
    "slideshow": {
     "slide_type": "slide"
    }
   },
   "outputs": [
    {
     "data": {
      "text/plain": [
       "''"
      ]
     },
     "execution_count": 21,
     "metadata": {},
     "output_type": "execute_result"
    }
   ],
   "source": [
    "from matplotlib import pyplot\n",
    "\n",
    "pyplot.rcdefaults()\n",
    "\n",
    "dane = sorted(licznik_slow.items(), key=lambda x: x[1], reverse=True)[0:20]  # 20 najpopularniejszych \"słów\" w pierwszym tomie Lalki\n",
    "etykiety = [i[0] for i in dane]\n",
    "wartosci = [i[1] for i in dane]\n",
    "indeksy = list(range(len(etykiety)))\n",
    "\n",
    "pyplot.bar(indeksy, wartosci, 0.8)\n",
    "pyplot.xticks(indeksy, etykiety, rotation=80)\n",
    "pyplot.title(\"Słowa w Lalce\")\n",
    "''"
   ]
  },
  {
   "cell_type": "code",
   "execution_count": 22,
   "metadata": {
    "slideshow": {
     "slide_type": "subslide"
    }
   },
   "outputs": [
    {
     "data": {
      "image/png": "[encoded data removed]",
      "text/plain": [
       "<matplotlib.figure.Figure at 0x7faf76d99c18>"
      ]
     },
     "metadata": {},
     "output_type": "display_data"
    }
   ],
   "source": [
    "pyplot.show()"
   ]
  },
  {
   "cell_type": "code",
   "execution_count": 23,
   "metadata": {
    "slideshow": {
     "slide_type": "slide"
    }
   },
   "outputs": [
    {
     "data": {
      "text/plain": [
       "''"
      ]
     },
     "execution_count": 23,
     "metadata": {},
     "output_type": "execute_result"
    }
   ],
   "source": [
    "from matplotlib import pyplot\n",
    "\n",
    "pyplot.rcdefaults()\n",
    "\n",
    "dane = {w: licznik_slow[w] for w in ['WOKULSKI', 'ŁĘCKA', 'RZECKI', 'ŁĘCKI', 'KRZESZOWSKI']}\n",
    "lacznie = sum(dane.values())\n",
    "etykiety = [i[0] for i in dane.items()]\n",
    "wartosci = [i[1] / lacznie for i in dane.items()]\n",
    "indeksy = list(range(len(etykiety)))\n",
    "\n",
    "pyplot.pie(wartosci, labels=etykiety, startangle=180)\n",
    "pyplot.axis('equal')\n",
    "pyplot.title(\"Proporcje wystąpień nazwisk\")\n",
    "''"
   ]
  },
  {
   "cell_type": "code",
   "execution_count": 24,
   "metadata": {
    "slideshow": {
     "slide_type": "subslide"
    }
   },
   "outputs": [
    {
     "data": {
      "image/png": "[encoded data removed]",
      "text/plain": [
       "<matplotlib.figure.Figure at 0x7faf6cecdac8>"
      ]
     },
     "metadata": {},
     "output_type": "display_data"
    }
   ],
   "source": [
    "pyplot.show()"
   ]
  },
  {
   "cell_type": "code",
   "execution_count": 25,
   "metadata": {
    "slideshow": {
     "slide_type": "slide"
    }
   },
   "outputs": [],
   "source": [
    "import plotly.offline as py\n",
    "import plotly.graph_objs as go\n",
    "import json\n",
    "\n",
    "\n",
    "fname = '../dane/mp_8_coords.json'\n",
    "mp_list = []\n",
    "with open(fname, encoding='utf-8') as fp:\n",
    "    for line in fp:\n",
    "        mp_list.append(json.loads(line))\n",
    "\n",
    "min_lon = 90\n",
    "max_lon = -90\n",
    "min_lat = 90\n",
    "max_lat = -90\n",
    "data = []\n",
    "for mp in mp_list:\n",
    "    lon, lat = mp['data']['poslowie.miejsce_urodzenia_koord']\n",
    "    min_lat = min(min_lat, lat)\n",
    "    max_lat = max(max_lat, lat)\n",
    "    min_lon = min(min_lon, lon)\n",
    "    max_lon = max(max_lon, lon)\n",
    "    data.append(go.Scattergeo(\n",
    "        lon=[lon],\n",
    "        lat=[lat],\n",
    "        text=mp['data']['poslowie.miejsce_urodzenia'],\n",
    "        marker=dict(\n",
    "            size=5,\n",
    "            color='rgb(0, 0, 255)'\n",
    "        ),\n",
    "        name=mp['data']['poslowie.nazwa'],\n",
    "    ))\n",
    "\n",
    "layout = go.Layout(\n",
    "    title='Miejsca urodzenia posłów na Sejm RP VIII kadencji',\n",
    "    geo=dict(\n",
    "        resolution=50,\n",
    "        projection=dict(type='mercator'),\n",
    "        showland=True,\n",
    "        showcountries=True,\n",
    "        lonaxis=dict(range=[min_lon - 20, max_lon + 20]),\n",
    "        lataxis=dict(range=[min_lat - 2, max_lat + 2]),\n",
    "    ),\n",
    ")\n",
    "\n",
    "fig = go.Figure(layout=layout, data=data)"
   ]
  },
  {
   "cell_type": "code",
   "execution_count": 26,
   "metadata": {
    "slideshow": {
     "slide_type": "subslide"
    }
   },
   "outputs": [
    {
     "data": {
      "text/html": [
       "<script>requirejs.config({paths: { 'plotly': ['https://cdn.plot.ly/plotly-latest.min']},});if(!window.Plotly) {{require(['plotly'],function(plotly) {window.Plotly=plotly;});}}</script>"
      ],
      "text/vnd.plotly.v1+html": [
       "<script>requirejs.config({paths: { 'plotly': ['https://cdn.plot.ly/plotly-latest.min']},});if(!window.Plotly) {{require(['plotly'],function(plotly) {window.Plotly=plotly;});}}</script>"
      ]
     },
     "metadata": {},
     "output_type": "display_data"
    },
    {
     "data": {
      "application/vnd.plotly.v1+json": {
       "data": [
        {
         "lat": [
          50.8
         ],
         "lon": [
          19.116666666
         ],
         "marker": {
          "color": "rgb(0, 0, 255)",
          "size": 5
         },
         "name": "Szymon Giżyński",
         "text": "Częstochowa",
         "type": "scattergeo"
        },
        {
         "lat": [
          54.190277777
         ],
         "lon": [
          16.181666666
         ],
         "marker": {
          "color": "rgb(0, 0, 255)",
          "size": 5
         },
         "name": "Marek Hok",
         "text": "Koszalin",
         "type": "scattergeo"
        },
        {
         "lat": [
          52.7
         ],
         "lon": [
          16.383333333
         ],
         "marker": {
          "color": "rgb(0, 0, 255)",
          "size": 5
         },
         "name": "Rafał Grupiński",
         "text": "Wronki",
         "type": "scattergeo"
        },
        {
         "lat": [
          50.2
         ],
         "lon": [
          19.275
         ],
         "marker": {
          "color": "rgb(0, 0, 255)",
          "size": 5
         },
         "name": "Grzegorz Matusiak",
         "text": "Jaworzno",
         "type": "scattergeo"
        },
        {
         "lat": [
          52.216666666
         ],
         "lon": [
          21.033333333
         ],
         "marker": {
          "color": "rgb(0, 0, 255)",
          "size": 5
         },
         "name": "Maks Kraczkowski",
         "text": "Warszawa",
         "type": "scattergeo"
        },
        {
         "lat": [
          49.616666666
         ],
         "lon": [
          19.966666666
         ],
         "marker": {
          "color": "rgb(0, 0, 255)",
          "size": 5
         },
         "name": "Edward Siarka",
         "text": "Rabka",
         "type": "scattergeo"
        },
        {
         "lat": [
          50.033333333
         ],
         "lon": [
          19.233333333
         ],
         "marker": {
          "color": "rgb(0, 0, 255)",
          "size": 5
         },
         "name": "Dorota Niedziela",
         "text": "Oświęcim",
         "type": "scattergeo"
        },
        {
         "lat": [
          52.216666666
         ],
         "lon": [
          21.033333333
         ],
         "marker": {
          "color": "rgb(0, 0, 255)",
          "size": 5
         },
         "name": "Joanna Fabisiak",
         "text": "Warszawa",
         "type": "scattergeo"
        },
        {
         "lat": [
          50.4
         ],
         "lon": [
          19.766666666
         ],
         "marker": {
          "color": "rgb(0, 0, 255)",
          "size": 5
         },
         "name": "Lidia Gądek",
         "text": "Wolbrom",
         "type": "scattergeo"
        },
        {
         "lat": [
          53.016666666
         ],
         "lon": [
          18.616666666
         ],
         "marker": {
          "color": "rgb(0, 0, 255)",
          "size": 5
         },
         "name": "Łukasz Zbonikowski",
         "text": "Toruń",
         "type": "scattergeo"
        },
        {
         "lat": [
          50.25
         ],
         "lon": [
          21.766666666
         ],
         "marker": {
          "color": "rgb(0, 0, 255)",
          "size": 5
         },
         "name": "Zbigniew Chmielowiec",
         "text": "Kolbuszowa",
         "type": "scattergeo"
        },
        {
         "lat": [
          50.489166666
         ],
         "lon": [
          16.456111111
         ],
         "marker": {
          "color": "rgb(0, 0, 255)",
          "size": 5
         },
         "name": "Sławomir Kłosowski",
         "text": "Wambierzyce",
         "type": "scattergeo"
        },
        {
         "lat": [
          49.86666667
         ],
         "lon": [
          21.3
         ],
         "marker": {
          "color": "rgb(0, 0, 255)",
          "size": 5
         },
         "name": "Jan Warzecha",
         "text": "Jodłowa",
         "type": "scattergeo"
        },
        {
         "lat": [
          50.2
         ],
         "lon": [
          17.833333333
         ],
         "marker": {
          "color": "rgb(0, 0, 255)",
          "size": 5
         },
         "name": "Mariusz Orion Jędrysek",
         "text": "Głubczyce",
         "type": "scattergeo"
        },
        {
         "lat": [
          52.95
         ],
         "lon": [
          18.933333333
         ],
         "marker": {
          "color": "rgb(0, 0, 255)",
          "size": 5
         },
         "name": "Jan Krzysztof Ardanowski",
         "text": "Czernikowo",
         "type": "scattergeo"
        },
        {
         "lat": [
          50.133333333
         ],
         "lon": [
          19.633333333
         ],
         "marker": {
          "color": "rgb(0, 0, 255)",
          "size": 5
         },
         "name": "Andrzej Adamczyk",
         "text": "Krzeszowice",
         "type": "scattergeo"
        },
        {
         "lat": [
          53.969722222
         ],
         "lon": [
          14.785833333
         ],
         "marker": {
          "color": "rgb(0, 0, 255)",
          "size": 5
         },
         "name": "Marek Zagórski",
         "text": "Kamień Pomorski",
         "type": "scattergeo"
        },
        {
         "lat": [
          50.916666666
         ],
         "lon": [
          22.216666666
         ],
         "marker": {
          "color": "rgb(0, 0, 255)",
          "size": 5
         },
         "name": "Wojciech Wilk",
         "text": "Kraśnik",
         "type": "scattergeo"
        },
        {
         "lat": [
          50.43333
         ],
         "lon": [
          18.95
         ],
         "marker": {
          "color": "rgb(0, 0, 255)",
          "size": 5
         },
         "name": "Joachim Brudziński",
         "text": "Świerklaniec",
         "type": "scattergeo"
        },
        {
         "lat": [
          52.016666666
         ],
         "lon": [
          18.5
         ],
         "marker": {
          "color": "rgb(0, 0, 255)",
          "size": 5
         },
         "name": "Waldemar Buda",
         "text": "Turek",
         "type": "scattergeo"
        },
        {
         "lat": [
          49.666666666
         ],
         "lon": [
          21.166666666
         ],
         "marker": {
          "color": "rgb(0, 0, 255)",
          "size": 5
         },
         "name": "Elżbieta Borowska",
         "text": "Gorlice",
         "type": "scattergeo"
        },
        {
         "lat": [
          50.8725
         ],
         "lon": [
          20.631944444
         ],
         "marker": {
          "color": "rgb(0, 0, 255)",
          "size": 5
         },
         "name": "Adam Cyrański",
         "text": "Kielce",
         "type": "scattergeo"
        },
        {
         "lat": [
          50.25
         ],
         "lon": [
          19
         ],
         "marker": {
          "color": "rgb(0, 0, 255)",
          "size": 5
         },
         "name": "Grzegorz Długi",
         "text": "Katowice",
         "type": "scattergeo"
        },
        {
         "lat": [
          52.2
         ],
         "lon": [
          18.633333333
         ],
         "marker": {
          "color": "rgb(0, 0, 255)",
          "size": 5
         },
         "name": "Leszek Galemba",
         "text": "Koło",
         "type": "scattergeo"
        },
        {
         "lat": [
          51.65
         ],
         "lon": [
          17.7
         ],
         "marker": {
          "color": "rgb(0, 0, 255)",
          "size": 5
         },
         "name": "Tomasz Ławniczak",
         "text": "Ostrów Wielkopolski",
         "type": "scattergeo"
        },
        {
         "lat": [
          51.759494444
         ],
         "lon": [
          19.458511111
         ],
         "marker": {
          "color": "rgb(0, 0, 255)",
          "size": 5
         },
         "name": "Katarzyna Lubnauer",
         "text": "Łódź",
         "type": "scattergeo"
        },
        {
         "lat": [
          50.2
         ],
         "lon": [
          20.3
         ],
         "marker": {
          "color": "rgb(0, 0, 255)",
          "size": 5
         },
         "name": "Norbert Kaczmarczyk",
         "text": "Proszowice",
         "type": "scattergeo"
        },
        {
         "lat": [
          52.333333333
         ],
         "lon": [
          17.583333333
         ],
         "marker": {
          "color": "rgb(0, 0, 255)",
          "size": 5
         },
         "name": "Bartosz Józwiak",
         "text": "Września",
         "type": "scattergeo"
        },
        {
         "lat": [
          51.7575
         ],
         "lon": [
          18.08
         ],
         "marker": {
          "color": "rgb(0, 0, 255)",
          "size": 5
         },
         "name": "Jerzy Kozłowski",
         "text": "Kalisz",
         "type": "scattergeo"
        },
        {
         "lat": [
          50.846111111
         ],
         "lon": [
          16.491388888
         ],
         "marker": {
          "color": "rgb(0, 0, 255)",
          "size": 5
         },
         "name": "Wojciech Murdzek",
         "text": "Świdnica",
         "type": "scattergeo"
        },
        {
         "lat": [
          50.347
         ],
         "lon": [
          18.923
         ],
         "marker": {
          "color": "rgb(0, 0, 255)",
          "size": 5
         },
         "name": "Janusz Cichoń",
         "text": "Bytom",
         "type": "scattergeo"
        },
        {
         "lat": [
          49.623888888
         ],
         "lon": [
          20.697222222
         ],
         "marker": {
          "color": "rgb(0, 0, 255)",
          "size": 5
         },
         "name": "Andrzej Czerwiński",
         "text": "Nowy Sącz",
         "type": "scattergeo"
        },
        {
         "lat": [
          50.583333333
         ],
         "lon": [
          16.5
         ],
         "marker": {
          "color": "rgb(0, 0, 255)",
          "size": 5
         },
         "name": "Monika Wielichowska",
         "text": "Nowa Ruda",
         "type": "scattergeo"
        },
        {
         "lat": [
          52.55
         ],
         "lon": [
          19.7
         ],
         "marker": {
          "color": "rgb(0, 0, 255)",
          "size": 5
         },
         "name": "Elżbieta Gapińska",
         "text": "Płock",
         "type": "scattergeo"
        },
        {
         "lat": [
          54.366666666
         ],
         "lon": [
          18.633333333
         ],
         "marker": {
          "color": "rgb(0, 0, 255)",
          "size": 5
         },
         "name": "Małgorzata Gosiewska",
         "text": "Gdańsk",
         "type": "scattergeo"
        },
        {
         "lat": [
          50
         ],
         "lon": [
          18.45
         ],
         "marker": {
          "color": "rgb(0, 0, 255)",
          "size": 5
         },
         "name": "Krzysztof Sitarski",
         "text": "Wodzisław Śląski",
         "type": "scattergeo"
        },
        {
         "lat": [
          49.666666666
         ],
         "lon": [
          21.166666666
         ],
         "marker": {
          "color": "rgb(0, 0, 255)",
          "size": 5
         },
         "name": "Barbara Bartuś",
         "text": "Gorlice",
         "type": "scattergeo"
        },
        {
         "lat": [
          51.4
         ],
         "lon": [
          19.683333333
         ],
         "marker": {
          "color": "rgb(0, 0, 255)",
          "size": 5
         },
         "name": "Witold Waszczykowski",
         "text": "Piotrków Trybunalski",
         "type": "scattergeo"
        },
        {
         "lat": [
          53.424722222
         ],
         "lon": [
          14.555277777
         ],
         "marker": {
          "color": "rgb(0, 0, 255)",
          "size": 5
         },
         "name": "Artur Szałabawka",
         "text": "Szczecin",
         "type": "scattergeo"
        },
        {
         "lat": [
          53.424722222
         ],
         "lon": [
          14.555277777
         ],
         "marker": {
          "color": "rgb(0, 0, 255)",
          "size": 5
         },
         "name": "Paweł Szefernaker",
         "text": "Szczecin",
         "type": "scattergeo"
        },
        {
         "lat": [
          50.066666666
         ],
         "lon": [
          19.95
         ],
         "marker": {
          "color": "rgb(0, 0, 255)",
          "size": 5
         },
         "name": "Małgorzata Wassermann",
         "text": "Kraków",
         "type": "scattergeo"
        },
        {
         "lat": [
          52.4
         ],
         "lon": [
          16.916666666
         ],
         "marker": {
          "color": "rgb(0, 0, 255)",
          "size": 5
         },
         "name": "Szymon Ziółkowski",
         "text": "Poznań",
         "type": "scattergeo"
        },
        {
         "lat": [
          50.2
         ],
         "lon": [
          19.275
         ],
         "marker": {
          "color": "rgb(0, 0, 255)",
          "size": 5
         },
         "name": "Paweł Bańkowski",
         "text": "Jaworzno",
         "type": "scattergeo"
        },
        {
         "lat": [
          50.983333333
         ],
         "lon": [
          18.216666666
         ],
         "marker": {
          "color": "rgb(0, 0, 255)",
          "size": 5
         },
         "name": "Bożena Henczyca",
         "text": "Kluczbork",
         "type": "scattergeo"
        },
        {
         "lat": [
          53.116666666
         ],
         "lon": [
          18
         ],
         "marker": {
          "color": "rgb(0, 0, 255)",
          "size": 5
         },
         "name": "Piotr Król",
         "text": "Bydgoszcz",
         "type": "scattergeo"
        },
        {
         "lat": [
          50.05
         ],
         "lon": [
          22
         ],
         "marker": {
          "color": "rgb(0, 0, 255)",
          "size": 5
         },
         "name": "Wojciech Buczak",
         "text": "Rzeszów",
         "type": "scattergeo"
        },
        {
         "lat": [
          50.216666666
         ],
         "lon": [
          18.683333333
         ],
         "marker": {
          "color": "rgb(0, 0, 255)",
          "size": 5
         },
         "name": "Krystyna Szumilas",
         "text": "Knurów",
         "type": "scattergeo"
        },
        {
         "lat": [
          53.4
         ],
         "lon": [
          22.4
         ],
         "marker": {
          "color": "rgb(0, 0, 255)",
          "size": 5
         },
         "name": "Kazimierz Gwiazdowski",
         "text": "Radziłów",
         "type": "scattergeo"
        },
        {
         "lat": [
          50.323888888
         ],
         "lon": [
          19.194722222
         ],
         "marker": {
          "color": "rgb(0, 0, 255)",
          "size": 5
         },
         "name": "Beata Małecka-Libera",
         "text": "Dąbrowa Górnicza",
         "type": "scattergeo"
        },
        {
         "lat": [
          53.783333333
         ],
         "lon": [
          20.483333333
         ],
         "marker": {
          "color": "rgb(0, 0, 255)",
          "size": 5
         },
         "name": "Henryka Krzywonos-Strycharska",
         "text": "Olsztyn",
         "type": "scattergeo"
        },
        {
         "lat": [
          51.759494444
         ],
         "lon": [
          19.458511111
         ],
         "marker": {
          "color": "rgb(0, 0, 255)",
          "size": 5
         },
         "name": "Włodzimierz Nykiel",
         "text": "Łódź",
         "type": "scattergeo"
        },
        {
         "lat": [
          51.403611111
         ],
         "lon": [
          21.156666666
         ],
         "marker": {
          "color": "rgb(0, 0, 255)",
          "size": 5
         },
         "name": "Robert Mordak",
         "text": "Radom",
         "type": "scattergeo"
        },
        {
         "lat": [
          51.4
         ],
         "lon": [
          16.2
         ],
         "marker": {
          "color": "rgb(0, 0, 255)",
          "size": 5
         },
         "name": "Jan Mosiński",
         "text": "Lubin",
         "type": "scattergeo"
        },
        {
         "lat": [
          52.216666666
         ],
         "lon": [
          21.033333333
         ],
         "marker": {
          "color": "rgb(0, 0, 255)",
          "size": 5
         },
         "name": "Paweł Lisiecki",
         "text": "Warszawa",
         "type": "scattergeo"
        },
        {
         "lat": [
          50.241944444
         ],
         "lon": [
          22.128888888
         ],
         "marker": {
          "color": "rgb(0, 0, 255)",
          "size": 5
         },
         "name": "Mieczysław Miazga",
         "text": "Sokołów Małopolski",
         "type": "scattergeo"
        },
        {
         "lat": [
          51.10773
         ],
         "lon": [
          17.03533
         ],
         "marker": {
          "color": "rgb(0, 0, 255)",
          "size": 5
         },
         "name": "Ryszard Petru",
         "text": "Wrocław",
         "type": "scattergeo"
        },
        {
         "lat": [
          50.333333333
         ],
         "lon": [
          19.083333333
         ],
         "marker": {
          "color": "rgb(0, 0, 255)",
          "size": 5
         },
         "name": "Monika Rosa",
         "text": "Czeladź",
         "type": "scattergeo"
        },
        {
         "lat": [
          51.759494444
         ],
         "lon": [
          19.458511111
         ],
         "marker": {
          "color": "rgb(0, 0, 255)",
          "size": 5
         },
         "name": "Cezary Grabarczyk",
         "text": "Łódź",
         "type": "scattergeo"
        },
        {
         "lat": [
          50.8
         ],
         "lon": [
          19.116666666
         ],
         "marker": {
          "color": "rgb(0, 0, 255)",
          "size": 5
         },
         "name": "Izabela Leszczyna",
         "text": "Częstochowa",
         "type": "scattergeo"
        },
        {
         "lat": [
          53.266666666
         ],
         "lon": [
          16.466666666
         ],
         "marker": {
          "color": "rgb(0, 0, 255)",
          "size": 5
         },
         "name": "Paweł Suski",
         "text": "Wałcz",
         "type": "scattergeo"
        },
        {
         "lat": [
          52.216666666
         ],
         "lon": [
          21.033333333
         ],
         "marker": {
          "color": "rgb(0, 0, 255)",
          "size": 5
         },
         "name": "Michał Szczerba",
         "text": "Warszawa",
         "type": "scattergeo"
        },
        {
         "lat": [
          50.3167
         ],
         "lon": [
          22.9167
         ],
         "marker": {
          "color": "rgb(0, 0, 255)",
          "size": 5
         },
         "name": "Zofia Czernow",
         "text": "Wola Obszańska",
         "type": "scattergeo"
        },
        {
         "lat": [
          54
         ],
         "lon": [
          15.983333333
         ],
         "marker": {
          "color": "rgb(0, 0, 255)",
          "size": 5
         },
         "name": "Jerzy Borowczak",
         "text": "Białogard",
         "type": "scattergeo"
        },
        {
         "lat": [
          51.15
         ],
         "lon": [
          20.55
         ],
         "marker": {
          "color": "rgb(0, 0, 255)",
          "size": 5
         },
         "name": "Ewa Drozd",
         "text": "Stąporków",
         "type": "scattergeo"
        },
        {
         "lat": [
          51.531388888
         ],
         "lon": [
          20.008888888
         ],
         "marker": {
          "color": "rgb(0, 0, 255)",
          "size": 5
         },
         "name": "Sławomir Jan Piechota",
         "text": "Tomaszów Mazowiecki",
         "type": "scattergeo"
        },
        {
         "lat": [
          54.5
         ],
         "lon": [
          18.533333333
         ],
         "marker": {
          "color": "rgb(0, 0, 255)",
          "size": 5
         },
         "name": "Dorota Arciszewska-Mielewczyk",
         "text": "Gdynia",
         "type": "scattergeo"
        },
        {
         "lat": [
          51.383333333
         ],
         "lon": [
          20.283333333
         ],
         "marker": {
          "color": "rgb(0, 0, 255)",
          "size": 5
         },
         "name": "Robert Telus",
         "text": "Opoczno",
         "type": "scattergeo"
        },
        {
         "lat": [
          54.433333333
         ],
         "lon": [
          18.55
         ],
         "marker": {
          "color": "rgb(0, 0, 255)",
          "size": 5
         },
         "name": "Marek Biernacki",
         "text": "Sopot",
         "type": "scattergeo"
        },
        {
         "lat": [
          52.221598
         ],
         "lon": [
          21.232257
         ],
         "marker": {
          "color": "rgb(0, 0, 255)",
          "size": 5
         },
         "name": "Jan Szyszko",
         "text": "Stara Miłosna",
         "type": "scattergeo"
        },
        {
         "lat": [
          52.216666666
         ],
         "lon": [
          21.033333333
         ],
         "marker": {
          "color": "rgb(0, 0, 255)",
          "size": 5
         },
         "name": "Piotr Uściński",
         "text": "Warszawa",
         "type": "scattergeo"
        },
        {
         "lat": [
          52.216666666
         ],
         "lon": [
          21.033333333
         ],
         "marker": {
          "color": "rgb(0, 0, 255)",
          "size": 5
         },
         "name": "Maciej Wąsik",
         "text": "Warszawa",
         "type": "scattergeo"
        },
        {
         "lat": [
          51.983333
         ],
         "lon": [
          22.8
         ],
         "marker": {
          "color": "rgb(0, 0, 255)",
          "size": 5
         },
         "name": "Kornelia Wróblewska",
         "text": "Międzyrzec Podlaski",
         "type": "scattergeo"
        },
        {
         "lat": [
          52.216666666
         ],
         "lon": [
          21.033333333
         ],
         "marker": {
          "color": "rgb(0, 0, 255)",
          "size": 5
         },
         "name": "Michał Dworczyk",
         "text": "Warszawa",
         "type": "scattergeo"
        },
        {
         "lat": [
          50.55
         ],
         "lon": [
          22.733333333
         ],
         "marker": {
          "color": "rgb(0, 0, 255)",
          "size": 5
         },
         "name": "Agata Borowiec",
         "text": "Biłgoraj",
         "type": "scattergeo"
        },
        {
         "lat": [
          52.216666666
         ],
         "lon": [
          21.033333333
         ],
         "marker": {
          "color": "rgb(0, 0, 255)",
          "size": 5
         },
         "name": "Jan Dziedziczak",
         "text": "Warszawa",
         "type": "scattergeo"
        },
        {
         "lat": [
          50.233333333
         ],
         "lon": [
          19.866666666
         ],
         "marker": {
          "color": "rgb(0, 0, 255)",
          "size": 5
         },
         "name": "Elżbieta Duda",
         "text": "Skała",
         "type": "scattergeo"
        },
        {
         "lat": [
          52.292777777
         ],
         "lon": [
          21.116111111
         ],
         "marker": {
          "color": "rgb(0, 0, 255)",
          "size": 5
         },
         "name": "Jolanta Hibner",
         "text": "Ząbki",
         "type": "scattergeo"
        },
        {
         "lat": [
          54.366666666
         ],
         "lon": [
          18.633333333
         ],
         "marker": {
          "color": "rgb(0, 0, 255)",
          "size": 5
         },
         "name": "Marcin Horała",
         "text": "Gdańsk",
         "type": "scattergeo"
        },
        {
         "lat": [
          54.5
         ],
         "lon": [
          18.533333333
         ],
         "marker": {
          "color": "rgb(0, 0, 255)",
          "size": 5
         },
         "name": "Agnieszka Pomaska",
         "text": "Gdynia",
         "type": "scattergeo"
        },
        {
         "lat": [
          51.7575
         ],
         "lon": [
          18.08
         ],
         "marker": {
          "color": "rgb(0, 0, 255)",
          "size": 5
         },
         "name": "Piotr Kaleta",
         "text": "Kalisz",
         "type": "scattergeo"
        },
        {
         "lat": [
          50.25
         ],
         "lon": [
          19
         ],
         "marker": {
          "color": "rgb(0, 0, 255)",
          "size": 5
         },
         "name": "Marek Wójcik",
         "text": "Katowice",
         "type": "scattergeo"
        },
        {
         "lat": [
          52.216666666
         ],
         "lon": [
          21.033333333
         ],
         "marker": {
          "color": "rgb(0, 0, 255)",
          "size": 5
         },
         "name": "Anna Krupka",
         "text": "Warszawa",
         "type": "scattergeo"
        },
        {
         "lat": [
          50.466666666
         ],
         "lon": [
          20.716666666
         ],
         "marker": {
          "color": "rgb(0, 0, 255)",
          "size": 5
         },
         "name": "Piotr Liroy-Marzec",
         "text": "Busko-Zdrój",
         "type": "scattergeo"
        },
        {
         "lat": [
          52.216666666
         ],
         "lon": [
          21.033333333
         ],
         "marker": {
          "color": "rgb(0, 0, 255)",
          "size": 5
         },
         "name": "Joanna Lichocka",
         "text": "Warszawa",
         "type": "scattergeo"
        },
        {
         "lat": [
          50.322222222
         ],
         "lon": [
          22.318611111
         ],
         "marker": {
          "color": "rgb(0, 0, 255)",
          "size": 5
         },
         "name": "Jerzy Paul",
         "text": "Nowa Sarzyna",
         "type": "scattergeo"
        },
        {
         "lat": [
          52.4
         ],
         "lon": [
          16.916666666
         ],
         "marker": {
          "color": "rgb(0, 0, 255)",
          "size": 5
         },
         "name": "Krzysztof Paszyk",
         "text": "Poznań",
         "type": "scattergeo"
        },
        {
         "lat": [
          53.526944444
         ],
         "lon": [
          16.012222222
         ],
         "marker": {
          "color": "rgb(0, 0, 255)",
          "size": 5
         },
         "name": "Krystyna Sibińska",
         "text": "Złocieniec",
         "type": "scattergeo"
        },
        {
         "lat": [
          51.8
         ],
         "lon": [
          16.3
         ],
         "marker": {
          "color": "rgb(0, 0, 255)",
          "size": 5
         },
         "name": "Waldy Dzikowski",
         "text": "Wschowa",
         "type": "scattergeo"
        },
        {
         "lat": [
          50.033333333
         ],
         "lon": [
          19.233333333
         ],
         "marker": {
          "color": "rgb(0, 0, 255)",
          "size": 5
         },
         "name": "Beata Szydło",
         "text": "Oświęcim",
         "type": "scattergeo"
        },
        {
         "lat": [
          52.066666666
         ],
         "lon": [
          21.016666666
         ],
         "marker": {
          "color": "rgb(0, 0, 255)",
          "size": 5
         },
         "name": "Roman Jacek Kosecki",
         "text": "Piaseczno",
         "type": "scattergeo"
        },
        {
         "lat": [
          51.856388888
         ],
         "lon": [
          19.406111111
         ],
         "marker": {
          "color": "rgb(0, 0, 255)",
          "size": 5
         },
         "name": "Agnieszka Hanajczyk",
         "text": "Zgierz",
         "type": "scattergeo"
        },
        {
         "lat": [
          49.5167
         ],
         "lon": [
          22.4833
         ],
         "marker": {
          "color": "rgb(0, 0, 255)",
          "size": 5
         },
         "name": "Mirosława Nykiel",
         "text": "Wańkowa",
         "type": "scattergeo"
        },
        {
         "lat": [
          51.689722222
         ],
         "lon": [
          20.723055555
         ],
         "marker": {
          "color": "rgb(0, 0, 255)",
          "size": 5
         },
         "name": "Dariusz Bąk",
         "text": "Mogielnica",
         "type": "scattergeo"
        },
        {
         "lat": [
          50.283333333
         ],
         "lon": [
          19.566666666
         ],
         "marker": {
          "color": "rgb(0, 0, 255)",
          "size": 5
         },
         "name": "Jacek Osuch",
         "text": "Olkusz",
         "type": "scattergeo"
        },
        {
         "lat": [
          54.433333333
         ],
         "lon": [
          18.55
         ],
         "marker": {
          "color": "rgb(0, 0, 255)",
          "size": 5
         },
         "name": "Janusz Śniadek",
         "text": "Sopot",
         "type": "scattergeo"
        },
        {
         "lat": [
          52.633333333
         ],
         "lon": [
          20.383333333
         ],
         "marker": {
          "color": "rgb(0, 0, 255)",
          "size": 5
         },
         "name": "Joanna Mucha",
         "text": "Płońsk",
         "type": "scattergeo"
        },
        {
         "lat": [
          52.25
         ],
         "lon": [
          15.533333333
         ],
         "marker": {
          "color": "rgb(0, 0, 255)",
          "size": 5
         },
         "name": "Mirosława Stachowiak-Różecka",
         "text": "Świebodzin",
         "type": "scattergeo"
        },
        {
         "lat": [
          51.233333333
         ],
         "lon": [
          22.566666666
         ],
         "marker": {
          "color": "rgb(0, 0, 255)",
          "size": 5
         },
         "name": "Dominik Tarczyński",
         "text": "Lublin",
         "type": "scattergeo"
        },
        {
         "lat": [
          52.016666666
         ],
         "lon": [
          18.5
         ],
         "marker": {
          "color": "rgb(0, 0, 255)",
          "size": 5
         },
         "name": "Ryszard Bartosik",
         "text": "Turek",
         "type": "scattergeo"
        },
        {
         "lat": [
          50.916666666
         ],
         "lon": [
          22.216666666
         ],
         "marker": {
          "color": "rgb(0, 0, 255)",
          "size": 5
         },
         "name": "Jarosław Stawiarski",
         "text": "Kraśnik",
         "type": "scattergeo"
        },
        {
         "lat": [
          54.033333333
         ],
         "lon": [
          19.05
         ],
         "marker": {
          "color": "rgb(0, 0, 255)",
          "size": 5
         },
         "name": "Kazimierz Smoliński",
         "text": "Malbork",
         "type": "scattergeo"
        },
        {
         "lat": [
          52.216666666
         ],
         "lon": [
          21.033333333
         ],
         "marker": {
          "color": "rgb(0, 0, 255)",
          "size": 5
         },
         "name": "Anita Czerwińska",
         "text": "Warszawa",
         "type": "scattergeo"
        },
        {
         "lat": [
          50.25
         ],
         "lon": [
          19
         ],
         "marker": {
          "color": "rgb(0, 0, 255)",
          "size": 5
         },
         "name": "Ewa Kołodziej",
         "text": "Katowice",
         "type": "scattergeo"
        },
        {
         "lat": [
          51
         ],
         "lon": [
          23.166666666
         ],
         "marker": {
          "color": "rgb(0, 0, 255)",
          "size": 5
         },
         "name": "Teresa Hałas",
         "text": "Krasnystaw",
         "type": "scattergeo"
        },
        {
         "lat": [
          53.3
         ],
         "lon": [
          19.45
         ],
         "marker": {
          "color": "rgb(0, 0, 255)",
          "size": 5
         },
         "name": "Antoni Mężydło",
         "text": "Lubawa",
         "type": "scattergeo"
        },
        {
         "lat": [
          54.366666666
         ],
         "lon": [
          18.633333333
         ],
         "marker": {
          "color": "rgb(0, 0, 255)",
          "size": 5
         },
         "name": "Adam Korol",
         "text": "Gdańsk",
         "type": "scattergeo"
        },
        {
         "lat": [
          53.166666666
         ],
         "lon": [
          22.083333333
         ],
         "marker": {
          "color": "rgb(0, 0, 255)",
          "size": 5
         },
         "name": "Bernadeta Krynicka",
         "text": "Łomża",
         "type": "scattergeo"
        },
        {
         "lat": [
          52.208333333
         ],
         "lon": [
          21.811666666
         ],
         "marker": {
          "color": "rgb(0, 0, 255)",
          "size": 5
         },
         "name": "Czesław Mroczek",
         "text": "Kałuszyn",
         "type": "scattergeo"
        },
        {
         "lat": [
          53.783333333
         ],
         "lon": [
          20.483333333
         ],
         "marker": {
          "color": "rgb(0, 0, 255)",
          "size": 5
         },
         "name": "Mirosław Pampuch",
         "text": "Olsztyn",
         "type": "scattergeo"
        },
        {
         "lat": [
          52.4
         ],
         "lon": [
          16.916666666
         ],
         "marker": {
          "color": "rgb(0, 0, 255)",
          "size": 5
         },
         "name": "Jacek Tomczak",
         "text": "Poznań",
         "type": "scattergeo"
        },
        {
         "lat": [
          51.133333333
         ],
         "lon": [
          23.483333333
         ],
         "marker": {
          "color": "rgb(0, 0, 255)",
          "size": 5
         },
         "name": "Grzegorz Raniewicz",
         "text": "Chełm",
         "type": "scattergeo"
        },
        {
         "lat": [
          50.8725
         ],
         "lon": [
          20.631944444
         ],
         "marker": {
          "color": "rgb(0, 0, 255)",
          "size": 5
         },
         "name": "Rajmund Miller",
         "text": "Kielce",
         "type": "scattergeo"
        },
        {
         "lat": [
          53.4925
         ],
         "lon": [
          18.776111111
         ],
         "marker": {
          "color": "rgb(0, 0, 255)",
          "size": 5
         },
         "name": "Tomasz Szymański",
         "text": "Grudziądz",
         "type": "scattergeo"
        },
        {
         "lat": [
          50.05
         ],
         "lon": [
          22
         ],
         "marker": {
          "color": "rgb(0, 0, 255)",
          "size": 5
         },
         "name": "Andrzej Szlachta",
         "text": "Rzeszów",
         "type": "scattergeo"
        },
        {
         "lat": [
          51.216666666
         ],
         "lon": [
          16.166666666
         ],
         "marker": {
          "color": "rgb(0, 0, 255)",
          "size": 5
         },
         "name": "Robert Kropiwnicki",
         "text": "Legnica",
         "type": "scattergeo"
        },
        {
         "lat": [
          52.216666666
         ],
         "lon": [
          21.033333333
         ],
         "marker": {
          "color": "rgb(0, 0, 255)",
          "size": 5
         },
         "name": "Anna Maria Siarkowska",
         "text": "Warszawa",
         "type": "scattergeo"
        },
        {
         "lat": [
          50.360555555
         ],
         "lon": [
          22.742222222
         ],
         "marker": {
          "color": "rgb(0, 0, 255)",
          "size": 5
         },
         "name": "Stanisław Żmijan",
         "text": "Tarnogród",
         "type": "scattergeo"
        },
        {
         "lat": [
          51.403611111
         ],
         "lon": [
          21.156666666
         ],
         "marker": {
          "color": "rgb(0, 0, 255)",
          "size": 5
         },
         "name": "Wojciech Skurkiewicz",
         "text": "Radom",
         "type": "scattergeo"
        },
        {
         "lat": [
          49.883333333
         ],
         "lon": [
          19.5
         ],
         "marker": {
          "color": "rgb(0, 0, 255)",
          "size": 5
         },
         "name": "Marek Polak",
         "text": "Wadowice",
         "type": "scattergeo"
        },
        {
         "lat": [
          51.10773
         ],
         "lon": [
          17.03533
         ],
         "marker": {
          "color": "rgb(0, 0, 255)",
          "size": 5
         },
         "name": "Przemysław Czarnecki",
         "text": "Wrocław",
         "type": "scattergeo"
        },
        {
         "lat": [
          53.710277777
         ],
         "lon": [
          17.001111111
         ],
         "marker": {
          "color": "rgb(0, 0, 255)",
          "size": 5
         },
         "name": "Krzysztof Szulowski",
         "text": "Janowiec",
         "type": "scattergeo"
        },
        {
         "lat": [
          53.116666666
         ],
         "lon": [
          23.166666666
         ],
         "marker": {
          "color": "rgb(0, 0, 255)",
          "size": 5
         },
         "name": "Krzysztof Truskolaski",
         "text": "Białystok",
         "type": "scattergeo"
        },
        {
         "lat": [
          51.531388888
         ],
         "lon": [
          20.008888888
         ],
         "marker": {
          "color": "rgb(0, 0, 255)",
          "size": 5
         },
         "name": "Rafał Wójcikowski",
         "text": "Tomaszów Mazowiecki",
         "type": "scattergeo"
        },
        {
         "lat": [
          52.216666666
         ],
         "lon": [
          21.033333333
         ],
         "marker": {
          "color": "rgb(0, 0, 255)",
          "size": 5
         },
         "name": "Piotr Apel",
         "text": "Warszawa",
         "type": "scattergeo"
        },
        {
         "lat": [
          52.6
         ],
         "lon": [
          16.583333333
         ],
         "marker": {
          "color": "rgb(0, 0, 255)",
          "size": 5
         },
         "name": "Zbigniew Ajchler",
         "text": "Szamotuły",
         "type": "scattergeo"
        },
        {
         "lat": [
          51.865555555
         ],
         "lon": [
          20.8675
         ],
         "marker": {
          "color": "rgb(0, 0, 255)",
          "size": 5
         },
         "name": "Marek Suski",
         "text": "Grójec",
         "type": "scattergeo"
        },
        {
         "lat": [
          50.45
         ],
         "lon": [
          18.866666666
         ],
         "marker": {
          "color": "rgb(0, 0, 255)",
          "size": 5
         },
         "name": "Barbara Dziuk",
         "text": "Tarnowskie Góry",
         "type": "scattergeo"
        },
        {
         "lat": [
          50.066666666
         ],
         "lon": [
          19.95
         ],
         "marker": {
          "color": "rgb(0, 0, 255)",
          "size": 5
         },
         "name": "Ewa Filipiak",
         "text": "Kraków",
         "type": "scattergeo"
        },
        {
         "lat": [
          50.866666666
         ],
         "lon": [
          17.483333333
         ],
         "marker": {
          "color": "rgb(0, 0, 255)",
          "size": 5
         },
         "name": "Stanisław Gawłowski",
         "text": "Brzeg",
         "type": "scattergeo"
        },
        {
         "lat": [
          53.716666666
         ],
         "lon": [
          16.683333333
         ],
         "marker": {
          "color": "rgb(0, 0, 255)",
          "size": 5
         },
         "name": "Małgorzata Golińska",
         "text": "Szczecinek",
         "type": "scattergeo"
        },
        {
         "lat": [
          53.816666666
         ],
         "lon": [
          22.35
         ],
         "marker": {
          "color": "rgb(0, 0, 255)",
          "size": 5
         },
         "name": "Wojciech Kossakowski",
         "text": "Ełk",
         "type": "scattergeo"
        },
        {
         "lat": [
          51.4
         ],
         "lon": [
          19.683333333
         ],
         "marker": {
          "color": "rgb(0, 0, 255)",
          "size": 5
         },
         "name": "Dariusz Kubiak",
         "text": "Piotrków Trybunalski",
         "type": "scattergeo"
        },
        {
         "lat": [
          53.716666666
         ],
         "lon": [
          16.683333333
         ],
         "marker": {
          "color": "rgb(0, 0, 255)",
          "size": 5
         },
         "name": "Radosław Lubczyk",
         "text": "Szczecinek",
         "type": "scattergeo"
        },
        {
         "lat": [
          53.424722222
         ],
         "lon": [
          14.555277777
         ],
         "marker": {
          "color": "rgb(0, 0, 255)",
          "size": 5
         },
         "name": "Norbert Obrycki",
         "text": "Szczecin",
         "type": "scattergeo"
        },
        {
         "lat": [
          52.25
         ],
         "lon": [
          15.533333333
         ],
         "marker": {
          "color": "rgb(0, 0, 255)",
          "size": 5
         },
         "name": "Katarzyna Osos",
         "text": "Świebodzin",
         "type": "scattergeo"
        },
        {
         "lat": [
          53.424722222
         ],
         "lon": [
          14.555277777
         ],
         "marker": {
          "color": "rgb(0, 0, 255)",
          "size": 5
         },
         "name": "Piotr Misiło",
         "text": "Szczecin",
         "type": "scattergeo"
        },
        {
         "lat": [
          49.8225
         ],
         "lon": [
          19.044444444
         ],
         "marker": {
          "color": "rgb(0, 0, 255)",
          "size": 5
         },
         "name": "Grzegorz Puda",
         "text": "Bielsko-Biała",
         "type": "scattergeo"
        },
        {
         "lat": [
          50.866666666
         ],
         "lon": [
          17.483333333
         ],
         "marker": {
          "color": "rgb(0, 0, 255)",
          "size": 5
         },
         "name": "Jacek Protasiewicz",
         "text": "Brzeg",
         "type": "scattergeo"
        },
        {
         "lat": [
          53.116666666
         ],
         "lon": [
          18
         ],
         "marker": {
          "color": "rgb(0, 0, 255)",
          "size": 5
         },
         "name": "Łukasz Schreiber",
         "text": "Bydgoszcz",
         "type": "scattergeo"
        },
        {
         "lat": [
          53.885555555
         ],
         "lon": [
          17.721944444
         ],
         "marker": {
          "color": "rgb(0, 0, 255)",
          "size": 5
         },
         "name": "Stanisław Lamczyk",
         "text": "Brusy",
         "type": "scattergeo"
        },
        {
         "lat": [
          50.2
         ],
         "lon": [
          20.3
         ],
         "marker": {
          "color": "rgb(0, 0, 255)",
          "size": 5
         },
         "name": "Ireneusz Raś",
         "text": "Proszowice",
         "type": "scattergeo"
        },
        {
         "lat": [
          50.333333333
         ],
         "lon": [
          19.083333333
         ],
         "marker": {
          "color": "rgb(0, 0, 255)",
          "size": 5
         },
         "name": "Waldemar Andzel",
         "text": "Czeladź",
         "type": "scattergeo"
        },
        {
         "lat": [
          52.13333333
         ],
         "lon": [
          22.48333333
         ],
         "marker": {
          "color": "rgb(0, 0, 255)",
          "size": 5
         },
         "name": "Krzysztof Tchórzewski",
         "text": "Rzążew",
         "type": "scattergeo"
        },
        {
         "lat": [
          53.166666666
         ],
         "lon": [
          22.083333333
         ],
         "marker": {
          "color": "rgb(0, 0, 255)",
          "size": 5
         },
         "name": "Jerzy Żyżyński",
         "text": "Łomża",
         "type": "scattergeo"
        },
        {
         "lat": [
          51.939722222
         ],
         "lon": [
          15.505
         ],
         "marker": {
          "color": "rgb(0, 0, 255)",
          "size": 5
         },
         "name": "Marek Ast",
         "text": "Zielona Góra",
         "type": "scattergeo"
        },
        {
         "lat": [
          50.666666666
         ],
         "lon": [
          17.933333333
         ],
         "marker": {
          "color": "rgb(0, 0, 255)",
          "size": 5
         },
         "name": "Grzegorz Schetyna",
         "text": "Opole",
         "type": "scattergeo"
        },
        {
         "lat": [
          50.8725
         ],
         "lon": [
          20.631944444
         ],
         "marker": {
          "color": "rgb(0, 0, 255)",
          "size": 5
         },
         "name": "Artur Gierada",
         "text": "Kielce",
         "type": "scattergeo"
        },
        {
         "lat": [
          52.233333333
         ],
         "lon": [
          19.366666666
         ],
         "marker": {
          "color": "rgb(0, 0, 255)",
          "size": 5
         },
         "name": "Tadeusz Woźniak",
         "text": "Kutno",
         "type": "scattergeo"
        },
        {
         "lat": [
          51.952777777
         ],
         "lon": [
          20.141666666
         ],
         "marker": {
          "color": "rgb(0, 0, 255)",
          "size": 5
         },
         "name": "Dorota Rutkowska",
         "text": "Skierniewice",
         "type": "scattergeo"
        },
        {
         "lat": [
          51.233333333
         ],
         "lon": [
          22.7
         ],
         "marker": {
          "color": "rgb(0, 0, 255)",
          "size": 5
         },
         "name": "Artur Soboń",
         "text": "Świdnik",
         "type": "scattergeo"
        },
        {
         "lat": [
          50.116666666
         ],
         "lon": [
          19.316666666
         ],
         "marker": {
          "color": "rgb(0, 0, 255)",
          "size": 5
         },
         "name": "Marek Sowa",
         "text": "Libiąż",
         "type": "scattergeo"
        },
        {
         "lat": [
          54.366666666
         ],
         "lon": [
          18.633333333
         ],
         "marker": {
          "color": "rgb(0, 0, 255)",
          "size": 5
         },
         "name": "Grzegorz Raczak",
         "text": "Gdańsk",
         "type": "scattergeo"
        },
        {
         "lat": [
          53.783333333
         ],
         "lon": [
          20.483333333
         ],
         "marker": {
          "color": "rgb(0, 0, 255)",
          "size": 5
         },
         "name": "Iwona Arent",
         "text": "Olsztyn",
         "type": "scattergeo"
        },
        {
         "lat": [
          50.3
         ],
         "lon": [
          19.166666666
         ],
         "marker": {
          "color": "rgb(0, 0, 255)",
          "size": 5
         },
         "name": "Ewa Malik",
         "text": "Sosnowiec",
         "type": "scattergeo"
        },
        {
         "lat": [
          53.29
         ],
         "lon": [
          23.601667
         ],
         "marker": {
          "color": "rgb(0, 0, 255)",
          "size": 5
         },
         "name": "Mieczysław Kazimierz Baszko",
         "text": "Boratyńszczyzna",
         "type": "scattergeo"
        },
        {
         "lat": [
          50.347
         ],
         "lon": [
          18.923
         ],
         "marker": {
          "color": "rgb(0, 0, 255)",
          "size": 5
         },
         "name": "Wojciech Szarama",
         "text": "Bytom",
         "type": "scattergeo"
        },
        {
         "lat": [
          52.216666666
         ],
         "lon": [
          21.033333333
         ],
         "marker": {
          "color": "rgb(0, 0, 255)",
          "size": 5
         },
         "name": "Tomasz Cimoszewicz",
         "text": "Warszawa",
         "type": "scattergeo"
        },
        {
         "lat": [
          50.347
         ],
         "lon": [
          18.923
         ],
         "marker": {
          "color": "rgb(0, 0, 255)",
          "size": 5
         },
         "name": "Barbara Dolniak",
         "text": "Bytom",
         "type": "scattergeo"
        },
        {
         "lat": [
          51.403611111
         ],
         "lon": [
          21.156666666
         ],
         "marker": {
          "color": "rgb(0, 0, 255)",
          "size": 5
         },
         "name": "Leszek Ruszczyk",
         "text": "Radom",
         "type": "scattergeo"
        },
        {
         "lat": [
          51.233333333
         ],
         "lon": [
          22.566666666
         ],
         "marker": {
          "color": "rgb(0, 0, 255)",
          "size": 5
         },
         "name": "Jarosław Sachajko",
         "text": "Lublin",
         "type": "scattergeo"
        },
        {
         "lat": [
          51.30222222
         ],
         "lon": [
          16.90888889
         ],
         "marker": {
          "color": "rgb(0, 0, 255)",
          "size": 5
         },
         "name": "Krzysztof Michałkiewicz",
         "text": "Oborniki Śląskie",
         "type": "scattergeo"
        },
        {
         "lat": [
          52.575833333
         ],
         "lon": [
          17.009722222
         ],
         "marker": {
          "color": "rgb(0, 0, 255)",
          "size": 5
         },
         "name": "Witold Czarnecki",
         "text": "Murowana Goślina",
         "type": "scattergeo"
        },
        {
         "lat": [
          54
         ],
         "lon": [
          15.983333333
         ],
         "marker": {
          "color": "rgb(0, 0, 255)",
          "size": 5
         },
         "name": "Stefan Strzałkowski",
         "text": "Białogard",
         "type": "scattergeo"
        },
        {
         "lat": [
          52.233333333
         ],
         "lon": [
          20.233333333
         ],
         "marker": {
          "color": "rgb(0, 0, 255)",
          "size": 5
         },
         "name": "Mariusz Kamiński",
         "text": "Sochaczew",
         "type": "scattergeo"
        },
        {
         "lat": [
          50.25
         ],
         "lon": [
          18.85
         ],
         "marker": {
          "color": "rgb(0, 0, 255)",
          "size": 5
         },
         "name": "Grzegorz Tobiszowski",
         "text": "Ruda Śląska",
         "type": "scattergeo"
        },
        {
         "lat": [
          54.433333333
         ],
         "lon": [
          18.55
         ],
         "marker": {
          "color": "rgb(0, 0, 255)",
          "size": 5
         },
         "name": "Leonard Krasulski",
         "text": "Sopot",
         "type": "scattergeo"
        },
        {
         "lat": [
          53.083333333
         ],
         "lon": [
          21.583333333
         ],
         "marker": {
          "color": "rgb(0, 0, 255)",
          "size": 5
         },
         "name": "Arkadiusz Czartoryski",
         "text": "Ostrołęka",
         "type": "scattergeo"
        },
        {
         "lat": [
          51.10773
         ],
         "lon": [
          17.03533
         ],
         "marker": {
          "color": "rgb(0, 0, 255)",
          "size": 5
         },
         "name": "Marzena Machałek",
         "text": "Wrocław",
         "type": "scattergeo"
        },
        {
         "lat": [
          50.066666666
         ],
         "lon": [
          19.95
         ],
         "marker": {
          "color": "rgb(0, 0, 255)",
          "size": 5
         },
         "name": "Ryszard Terlecki",
         "text": "Kraków",
         "type": "scattergeo"
        },
        {
         "lat": [
          49.55
         ],
         "lon": [
          22.216666666
         ],
         "marker": {
          "color": "rgb(0, 0, 255)",
          "size": 5
         },
         "name": "Piotr Uruski",
         "text": "Sanok",
         "type": "scattergeo"
        },
        {
         "lat": [
          51.65
         ],
         "lon": [
          17.7
         ],
         "marker": {
          "color": "rgb(0, 0, 255)",
          "size": 5
         },
         "name": "Ryszard Wilczyński",
         "text": "Ostrów Wielkopolski",
         "type": "scattergeo"
        },
        {
         "lat": [
          51.658888888
         ],
         "lon": [
          16.080277777
         ],
         "marker": {
          "color": "rgb(0, 0, 255)",
          "size": 5
         },
         "name": "Joanna Augustynowska",
         "text": "Głogów",
         "type": "scattergeo"
        },
        {
         "lat": [
          49.996388888
         ],
         "lon": [
          19.438055555
         ],
         "marker": {
          "color": "rgb(0, 0, 255)",
          "size": 5
         },
         "name": "Zbigniew Biernat",
         "text": "Zator",
         "type": "scattergeo"
        },
        {
         "lat": [
          49.5625
         ],
         "lon": [
          20.636388888
         ],
         "marker": {
          "color": "rgb(0, 0, 255)",
          "size": 5
         },
         "name": "Antoni Duda",
         "text": "Stary Sącz",
         "type": "scattergeo"
        },
        {
         "lat": [
          54.366666666
         ],
         "lon": [
          18.633333333
         ],
         "marker": {
          "color": "rgb(0, 0, 255)",
          "size": 5
         },
         "name": "Grzegorz Furgo",
         "text": "Gdańsk",
         "type": "scattergeo"
        },
        {
         "lat": [
          51.10773
         ],
         "lon": [
          17.03533
         ],
         "marker": {
          "color": "rgb(0, 0, 255)",
          "size": 5
         },
         "name": "Ryszard Galla",
         "text": "Wrocław",
         "type": "scattergeo"
        },
        {
         "lat": [
          52.88638889
         ],
         "lon": [
          21.80888889
         ],
         "marker": {
          "color": "rgb(0, 0, 255)",
          "size": 5
         },
         "name": "Zbigniew Gryglas",
         "text": "Jelonki",
         "type": "scattergeo"
        },
        {
         "lat": [
          54.366666666
         ],
         "lon": [
          18.633333333
         ],
         "marker": {
          "color": "rgb(0, 0, 255)",
          "size": 5
         },
         "name": "Andrzej Kobylarz",
         "text": "Gdańsk",
         "type": "scattergeo"
        },
        {
         "lat": [
          50.983333333
         ],
         "lon": [
          18.216666666
         ],
         "marker": {
          "color": "rgb(0, 0, 255)",
          "size": 5
         },
         "name": "Tomasz Kostuś",
         "text": "Kluczbork",
         "type": "scattergeo"
        },
        {
         "lat": [
          54.25
         ],
         "lon": [
          20.8
         ],
         "marker": {
          "color": "rgb(0, 0, 255)",
          "size": 5
         },
         "name": "Andrzej Maciejewski",
         "text": "Bartoszyce",
         "type": "scattergeo"
        },
        {
         "lat": [
          51.658888888
         ],
         "lon": [
          16.080277777
         ],
         "marker": {
          "color": "rgb(0, 0, 255)",
          "size": 5
         },
         "name": "Krzysztof Mieszkowski",
         "text": "Głogów",
         "type": "scattergeo"
        },
        {
         "lat": [
          53.424722222
         ],
         "lon": [
          14.555277777
         ],
         "marker": {
          "color": "rgb(0, 0, 255)",
          "size": 5
         },
         "name": "Iwona Michałek",
         "text": "Szczecin",
         "type": "scattergeo"
        },
        {
         "lat": [
          51.9277
         ],
         "lon": [
          19.7847
         ],
         "marker": {
          "color": "rgb(0, 0, 255)",
          "size": 5
         },
         "name": "Stefan Niesiołowski",
         "text": "Kałęczew",
         "type": "scattergeo"
        },
        {
         "lat": [
          50.954722222
         ],
         "lon": [
          15.923055555
         ],
         "marker": {
          "color": "rgb(0, 0, 255)",
          "size": 5
         },
         "name": "Krystyna Pawłowicz",
         "text": "Wojcieszów",
         "type": "scattergeo"
        },
        {
         "lat": [
          52.216666666
         ],
         "lon": [
          21.033333333
         ],
         "marker": {
          "color": "rgb(0, 0, 255)",
          "size": 5
         },
         "name": "Piotr Naimski",
         "text": "Warszawa",
         "type": "scattergeo"
        },
        {
         "lat": [
          50.45
         ],
         "lon": [
          18.866666666
         ],
         "marker": {
          "color": "rgb(0, 0, 255)",
          "size": 5
         },
         "name": "Tomasz Głogowski",
         "text": "Tarnowskie Góry",
         "type": "scattergeo"
        },
        {
         "lat": [
          50.083333333
         ],
         "lon": [
          18.5
         ],
         "marker": {
          "color": "rgb(0, 0, 255)",
          "size": 5
         },
         "name": "Marek Krząkała",
         "text": "Rybnik",
         "type": "scattergeo"
        },
        {
         "lat": [
          50.083333333
         ],
         "lon": [
          18.233333333
         ],
         "marker": {
          "color": "rgb(0, 0, 255)",
          "size": 5
         },
         "name": "Arkadiusz Mularczyk",
         "text": "Racibórz",
         "type": "scattergeo"
        },
        {
         "lat": [
          50.333333333
         ],
         "lon": [
          19.083333333
         ],
         "marker": {
          "color": "rgb(0, 0, 255)",
          "size": 5
         },
         "name": "Borys Budka",
         "text": "Czeladź",
         "type": "scattergeo"
        },
        {
         "lat": [
          54.466666666
         ],
         "lon": [
          17.033333333
         ],
         "marker": {
          "color": "rgb(0, 0, 255)",
          "size": 5
         },
         "name": "Zbigniew Konwiński",
         "text": "Słupsk",
         "type": "scattergeo"
        },
        {
         "lat": [
          53.966666666
         ],
         "lon": [
          18.533333333
         ],
         "marker": {
          "color": "rgb(0, 0, 255)",
          "size": 5
         },
         "name": "Sławomir Neumann",
         "text": "Starogard Gdański",
         "type": "scattergeo"
        },
        {
         "lat": [
          52.216666666
         ],
         "lon": [
          21.033333333
         ],
         "marker": {
          "color": "rgb(0, 0, 255)",
          "size": 5
         },
         "name": "Artur Górski",
         "text": "Warszawa",
         "type": "scattergeo"
        },
        {
         "lat": [
          53.116666666
         ],
         "lon": [
          18
         ],
         "marker": {
          "color": "rgb(0, 0, 255)",
          "size": 5
         },
         "name": "Paweł Skutecki",
         "text": "Bydgoszcz",
         "type": "scattergeo"
        },
        {
         "lat": [
          53.7
         ],
         "lon": [
          19.966666666
         ],
         "marker": {
          "color": "rgb(0, 0, 255)",
          "size": 5
         },
         "name": "Zbigniew Babalski",
         "text": "Ostróda",
         "type": "scattergeo"
        },
        {
         "lat": [
          53.116666666
         ],
         "lon": [
          18
         ],
         "marker": {
          "color": "rgb(0, 0, 255)",
          "size": 5
         },
         "name": "Michał Stasiński",
         "text": "Bydgoszcz",
         "type": "scattergeo"
        },
        {
         "lat": [
          49.833333333
         ],
         "lon": [
          19.933333333
         ],
         "marker": {
          "color": "rgb(0, 0, 255)",
          "size": 5
         },
         "name": "Jarosław Szlachetka",
         "text": "Myślenice",
         "type": "scattergeo"
        },
        {
         "lat": [
          53.25
         ],
         "lon": [
          19.4
         ],
         "marker": {
          "color": "rgb(0, 0, 255)",
          "size": 5
         },
         "name": "Paweł Szramka",
         "text": "Brodnica",
         "type": "scattergeo"
        },
        {
         "lat": [
          50.2
         ],
         "lon": [
          19.275
         ],
         "marker": {
          "color": "rgb(0, 0, 255)",
          "size": 5
         },
         "name": "Robert Warwas",
         "text": "Jaworzno",
         "type": "scattergeo"
        },
        {
         "lat": [
          51.766666666
         ],
         "lon": [
          20.25
         ],
         "marker": {
          "color": "rgb(0, 0, 255)",
          "size": 5
         },
         "name": "Grzegorz Wojciechowski",
         "text": "Rawa Mazowiecka",
         "type": "scattergeo"
        },
        {
         "lat": [
          50.05
         ],
         "lon": [
          22
         ],
         "marker": {
          "color": "rgb(0, 0, 255)",
          "size": 5
         },
         "name": "Krystyna Wróblewska",
         "text": "Rzeszów",
         "type": "scattergeo"
        },
        {
         "lat": [
          52.4
         ],
         "lon": [
          16.916666666
         ],
         "marker": {
          "color": "rgb(0, 0, 255)",
          "size": 5
         },
         "name": "Bartłomiej Wróblewski",
         "text": "Poznań",
         "type": "scattergeo"
        },
        {
         "lat": [
          53.65
         ],
         "lon": [
          22.45
         ],
         "marker": {
          "color": "rgb(0, 0, 255)",
          "size": 5
         },
         "name": "Adam Andruszkiewicz",
         "text": "Grajewo",
         "type": "scattergeo"
        },
        {
         "lat": [
          50.7
         ],
         "lon": [
          22.4
         ],
         "marker": {
          "color": "rgb(0, 0, 255)",
          "size": 5
         },
         "name": "Jerzy Bielecki",
         "text": "Janów Lubelski",
         "type": "scattergeo"
        },
        {
         "lat": [
          50.86666667
         ],
         "lon": [
          19.38333333
         ],
         "marker": {
          "color": "rgb(0, 0, 255)",
          "size": 5
         },
         "name": "Lidia Burzyńska",
         "text": "Rzeki Wielkie",
         "type": "scattergeo"
        },
        {
         "lat": [
          53.066666666
         ],
         "lon": [
          19.45
         ],
         "marker": {
          "color": "rgb(0, 0, 255)",
          "size": 5
         },
         "name": "Zbigniew Sosnowski",
         "text": "Rypin",
         "type": "scattergeo"
        },
        {
         "lat": [
          52.55
         ],
         "lon": [
          19.7
         ],
         "marker": {
          "color": "rgb(0, 0, 255)",
          "size": 5
         },
         "name": "Piotr Zgorzelski",
         "text": "Płock",
         "type": "scattergeo"
        },
        {
         "lat": [
          52.383333333
         ],
         "lon": [
          20.883333333
         ],
         "marker": {
          "color": "rgb(0, 0, 255)",
          "size": 5
         },
         "name": "Jan Grabiec",
         "text": "Legionowo",
         "type": "scattergeo"
        },
        {
         "lat": [
          50.347
         ],
         "lon": [
          18.923
         ],
         "marker": {
          "color": "rgb(0, 0, 255)",
          "size": 5
         },
         "name": "Paweł Kobyliński",
         "text": "Bytom",
         "type": "scattergeo"
        },
        {
         "lat": [
          50.25
         ],
         "lon": [
          18.85
         ],
         "marker": {
          "color": "rgb(0, 0, 255)",
          "size": 5
         },
         "name": "Danuta Pietraszewska",
         "text": "Ruda Śląska",
         "type": "scattergeo"
        },
        {
         "lat": [
          51.939722222
         ],
         "lon": [
          15.505
         ],
         "marker": {
          "color": "rgb(0, 0, 255)",
          "size": 5
         },
         "name": "Paweł Pudłowski",
         "text": "Zielona Góra",
         "type": "scattergeo"
        },
        {
         "lat": [
          53.966666666
         ],
         "lon": [
          18.533333333
         ],
         "marker": {
          "color": "rgb(0, 0, 255)",
          "size": 5
         },
         "name": "Paweł Papke",
         "text": "Starogard Gdański",
         "type": "scattergeo"
        },
        {
         "lat": [
          49.983333333
         ],
         "lon": [
          20.433333333
         ],
         "marker": {
          "color": "rgb(0, 0, 255)",
          "size": 5
         },
         "name": "Krzysztof Gadowski",
         "text": "Bochnia",
         "type": "scattergeo"
        },
        {
         "lat": [
          53.735833333
         ],
         "lon": [
          18.930833333
         ],
         "marker": {
          "color": "rgb(0, 0, 255)",
          "size": 5
         },
         "name": "Tomasz Piotr Nowak",
         "text": "Kwidzyn",
         "type": "scattergeo"
        },
        {
         "lat": [
          52.963611111
         ],
         "lon": [
          23.519444444
         ],
         "marker": {
          "color": "rgb(0, 0, 255)",
          "size": 5
         },
         "name": "Krzysztof Jurgiel",
         "text": "Ogrodniki",
         "type": "scattergeo"
        },
        {
         "lat": [
          51.77972222
         ],
         "lon": [
          18.83916667
         ],
         "marker": {
          "color": "rgb(0, 0, 255)",
          "size": 5
         },
         "name": "Piotr Polak",
         "text": "Grabinka",
         "type": "scattergeo"
        },
        {
         "lat": [
          53.116666666
         ],
         "lon": [
          18
         ],
         "marker": {
          "color": "rgb(0, 0, 255)",
          "size": 5
         },
         "name": "Grzegorz Schreiber",
         "text": "Bydgoszcz",
         "type": "scattergeo"
        },
        {
         "lat": [
          52.216666666
         ],
         "lon": [
          21.033333333
         ],
         "marker": {
          "color": "rgb(0, 0, 255)",
          "size": 5
         },
         "name": "Marek Opioła",
         "text": "Warszawa",
         "type": "scattergeo"
        },
        {
         "lat": [
          50.166666666
         ],
         "lon": [
          18.9
         ],
         "marker": {
          "color": "rgb(0, 0, 255)",
          "size": 5
         },
         "name": "Izabela Kloc",
         "text": "Mikołów",
         "type": "scattergeo"
        },
        {
         "lat": [
          51.5872
         ],
         "lon": [
          22.0922
         ],
         "marker": {
          "color": "rgb(0, 0, 255)",
          "size": 5
         },
         "name": "Henryk Kowalczyk",
         "text": "Żabianka",
         "type": "scattergeo"
        },
        {
         "lat": [
          54.5
         ],
         "lon": [
          18.533333333
         ],
         "marker": {
          "color": "rgb(0, 0, 255)",
          "size": 5
         },
         "name": "Jarosław Sellin",
         "text": "Gdynia",
         "type": "scattergeo"
        },
        {
         "lat": [
          50.066666666
         ],
         "lon": [
          19.95
         ],
         "marker": {
          "color": "rgb(0, 0, 255)",
          "size": 5
         },
         "name": "Bogusław Sonik",
         "text": "Kraków",
         "type": "scattergeo"
        },
        {
         "lat": [
          52.216666666
         ],
         "lon": [
          21.033333333
         ],
         "marker": {
          "color": "rgb(0, 0, 255)",
          "size": 5
         },
         "name": "Stanisław Tyszka",
         "text": "Warszawa",
         "type": "scattergeo"
        },
        {
         "lat": [
          51.4392
         ],
         "lon": [
          17.63
         ],
         "marker": {
          "color": "rgb(0, 0, 255)",
          "size": 5
         },
         "name": "Jacek Wilk",
         "text": "Kocina",
         "type": "scattergeo"
        },
        {
         "lat": [
          52.216666666
         ],
         "lon": [
          21.033333333
         ],
         "marker": {
          "color": "rgb(0, 0, 255)",
          "size": 5
         },
         "name": "Małgorzata Wypych",
         "text": "Warszawa",
         "type": "scattergeo"
        },
        {
         "lat": [
          53.85
         ],
         "lon": [
          20.95
         ],
         "marker": {
          "color": "rgb(0, 0, 255)",
          "size": 5
         },
         "name": "Urszula Pasławska",
         "text": "Biskupiec",
         "type": "scattergeo"
        },
        {
         "lat": [
          52.216666666
         ],
         "lon": [
          21.033333333
         ],
         "marker": {
          "color": "rgb(0, 0, 255)",
          "size": 5
         },
         "name": "Mirosław Maliszewski",
         "text": "Warszawa",
         "type": "scattergeo"
        },
        {
         "lat": [
          51.403611111
         ],
         "lon": [
          21.156666666
         ],
         "marker": {
          "color": "rgb(0, 0, 255)",
          "size": 5
         },
         "name": "Anna Białkowska",
         "text": "Radom",
         "type": "scattergeo"
        },
        {
         "lat": [
          50.883333333
         ],
         "lon": [
          21.866666666
         ],
         "marker": {
          "color": "rgb(0, 0, 255)",
          "size": 5
         },
         "name": "Marek Kwitek",
         "text": "Annopol",
         "type": "scattergeo"
        },
        {
         "lat": [
          50.126944444
         ],
         "lon": [
          19.112222222
         ],
         "marker": {
          "color": "rgb(0, 0, 255)",
          "size": 5
         },
         "name": "Bożena Borys-Szopa",
         "text": "Lędziny",
         "type": "scattergeo"
        },
        {
         "lat": [
          52.216666666
         ],
         "lon": [
          21.033333333
         ],
         "marker": {
          "color": "rgb(0, 0, 255)",
          "size": 5
         },
         "name": "Marek Jakubiak",
         "text": "Warszawa",
         "type": "scattergeo"
        },
        {
         "lat": [
          52.533333333
         ],
         "lon": [
          17.6
         ],
         "marker": {
          "color": "rgb(0, 0, 255)",
          "size": 5
         },
         "name": "Paweł Arndt",
         "text": "Gniezno",
         "type": "scattergeo"
        },
        {
         "lat": [
          50.25
         ],
         "lon": [
          19
         ],
         "marker": {
          "color": "rgb(0, 0, 255)",
          "size": 5
         },
         "name": "Joanna Kluzik-Rostkowska",
         "text": "Katowice",
         "type": "scattergeo"
        },
        {
         "lat": [
          54.71667
         ],
         "lon": [
          18.23333
         ],
         "marker": {
          "color": "rgb(0, 0, 255)",
          "size": 5
         },
         "name": "Kazimierz Plocke",
         "text": "Domatowo",
         "type": "scattergeo"
        },
        {
         "lat": [
          53.016666666
         ],
         "lon": [
          18.616666666
         ],
         "marker": {
          "color": "rgb(0, 0, 255)",
          "size": 5
         },
         "name": "Arkadiusz Myrcha",
         "text": "Toruń",
         "type": "scattergeo"
        },
        {
         "lat": [
          53.616666666
         ],
         "lon": [
          21.8
         ],
         "marker": {
          "color": "rgb(0, 0, 255)",
          "size": 5
         },
         "name": "Jerzy Małecki",
         "text": "Pisz",
         "type": "scattergeo"
        },
        {
         "lat": [
          50.0125
         ],
         "lon": [
          20.988611111
         ],
         "marker": {
          "color": "rgb(0, 0, 255)",
          "size": 5
         },
         "name": "Urszula Augustyn",
         "text": "Tarnów",
         "type": "scattergeo"
        },
        {
         "lat": [
          52.6
         ],
         "lon": [
          16.583333333
         ],
         "marker": {
          "color": "rgb(0, 0, 255)",
          "size": 5
         },
         "name": "Jakub Rutnicki",
         "text": "Szamotuły",
         "type": "scattergeo"
        },
        {
         "lat": [
          52.4
         ],
         "lon": [
          16.916666666
         ],
         "marker": {
          "color": "rgb(0, 0, 255)",
          "size": 5
         },
         "name": "Bożena Szydłowska",
         "text": "Poznań",
         "type": "scattergeo"
        },
        {
         "lat": [
          50.2
         ],
         "lon": [
          20.3
         ],
         "marker": {
          "color": "rgb(0, 0, 255)",
          "size": 5
         },
         "name": "Włodzimierz Bernacki",
         "text": "Proszowice",
         "type": "scattergeo"
        },
        {
         "lat": [
          52.866666666
         ],
         "lon": [
          20.633333333
         ],
         "marker": {
          "color": "rgb(0, 0, 255)",
          "size": 5
         },
         "name": "Robert Kołakowski",
         "text": "Ciechanów",
         "type": "scattergeo"
        },
        {
         "lat": [
          52.216666666
         ],
         "lon": [
          21.033333333
         ],
         "marker": {
          "color": "rgb(0, 0, 255)",
          "size": 5
         },
         "name": "Jacek Sasin",
         "text": "Warszawa",
         "type": "scattergeo"
        },
        {
         "lat": [
          52.416666666
         ],
         "lon": [
          19.466666666
         ],
         "marker": {
          "color": "rgb(0, 0, 255)",
          "size": 5
         },
         "name": "Wojciech Jasiński",
         "text": "Gostynin",
         "type": "scattergeo"
        },
        {
         "lat": [
          52.8167
         ],
         "lon": [
          21.8
         ],
         "marker": {
          "color": "rgb(0, 0, 255)",
          "size": 5
         },
         "name": "Dariusz Piontkowski",
         "text": "Sielc",
         "type": "scattergeo"
        },
        {
         "lat": [
          53.15
         ],
         "lon": [
          16.733333333
         ],
         "marker": {
          "color": "rgb(0, 0, 255)",
          "size": 5
         },
         "name": "Jan Szewczak",
         "text": "Piła",
         "type": "scattergeo"
        },
        {
         "lat": [
          49.623888888
         ],
         "lon": [
          20.697222222
         ],
         "marker": {
          "color": "rgb(0, 0, 255)",
          "size": 5
         },
         "name": "Józefa Szczurek-Żelazko",
         "text": "Nowy Sącz",
         "type": "scattergeo"
        },
        {
         "lat": [
          52.4
         ],
         "lon": [
          16.916666666
         ],
         "marker": {
          "color": "rgb(0, 0, 255)",
          "size": 5
         },
         "name": "Szymon Szynkowski vel Sęk",
         "text": "Poznań",
         "type": "scattergeo"
        },
        {
         "lat": [
          51.759494444
         ],
         "lon": [
          19.458511111
         ],
         "marker": {
          "color": "rgb(0, 0, 255)",
          "size": 5
         },
         "name": "Piotr Pszczółkowski",
         "text": "Łódź",
         "type": "scattergeo"
        },
        {
         "lat": [
          53.15
         ],
         "lon": [
          16.733333333
         ],
         "marker": {
          "color": "rgb(0, 0, 255)",
          "size": 5
         },
         "name": "Grzegorz Piechowiak",
         "text": "Piła",
         "type": "scattergeo"
        },
        {
         "lat": [
          49.783333333
         ],
         "lon": [
          22.766666666
         ],
         "marker": {
          "color": "rgb(0, 0, 255)",
          "size": 5
         },
         "name": "Wojciech Bakun",
         "text": "Przemyśl",
         "type": "scattergeo"
        },
        {
         "lat": [
          -4.379788
         ],
         "lon": [
          15.309706
         ],
         "marker": {
          "color": "rgb(0, 0, 255)",
          "size": 5
         },
         "name": "Killion Munyama",
         "text": "Makala",
         "type": "scattergeo"
        },
        {
         "lat": [
          50.8725
         ],
         "lon": [
          20.631944444
         ],
         "marker": {
          "color": "rgb(0, 0, 255)",
          "size": 5
         },
         "name": "Czesław Sobierajski",
         "text": "Kielce",
         "type": "scattergeo"
        },
        {
         "lat": [
          55.833333333
         ],
         "lon": [
          32.933333333
         ],
         "marker": {
          "color": "rgb(0, 0, 255)",
          "size": 5
         },
         "name": "Katarzyna Czochara",
         "text": "Biała",
         "type": "scattergeo"
        },
        {
         "lat": [
          49.683333333
         ],
         "lon": [
          21.75
         ],
         "marker": {
          "color": "rgb(0, 0, 255)",
          "size": 5
         },
         "name": "Joanna Frydrych",
         "text": "Krosno",
         "type": "scattergeo"
        },
        {
         "lat": [
          50.05
         ],
         "lon": [
          21.416666666
         ],
         "marker": {
          "color": "rgb(0, 0, 255)",
          "size": 5
         },
         "name": "Zdzisław Gawlik",
         "text": "Dębica",
         "type": "scattergeo"
        },
        {
         "lat": [
          52.533333333
         ],
         "lon": [
          17.6
         ],
         "marker": {
          "color": "rgb(0, 0, 255)",
          "size": 5
         },
         "name": "Paulina Hennig-Kloska",
         "text": "Gniezno",
         "type": "scattergeo"
        },
        {
         "lat": [
          50.05
         ],
         "lon": [
          22
         ],
         "marker": {
          "color": "rgb(0, 0, 255)",
          "size": 5
         },
         "name": "Maciej Masłowski",
         "text": "Rzeszów",
         "type": "scattergeo"
        },
        {
         "lat": [
          49.683333333
         ],
         "lon": [
          21.75
         ],
         "marker": {
          "color": "rgb(0, 0, 255)",
          "size": 5
         },
         "name": "Andrzej Matusiewicz",
         "text": "Krosno",
         "type": "scattergeo"
        },
        {
         "lat": [
          53.7
         ],
         "lon": [
          17.55
         ],
         "marker": {
          "color": "rgb(0, 0, 255)",
          "size": 5
         },
         "name": "Aleksander Mrówczyński",
         "text": "Chojnice",
         "type": "scattergeo"
        },
        {
         "lat": [
          53.15
         ],
         "lon": [
          16.733333333
         ],
         "marker": {
          "color": "rgb(0, 0, 255)",
          "size": 5
         },
         "name": "Błażej Parda",
         "text": "Piła",
         "type": "scattergeo"
        },
        {
         "lat": [
          54.190277777
         ],
         "lon": [
          16.181666666
         ],
         "marker": {
          "color": "rgb(0, 0, 255)",
          "size": 5
         },
         "name": "Stefan Romecki",
         "text": "Koszalin",
         "type": "scattergeo"
        },
        {
         "lat": [
          52.216666666
         ],
         "lon": [
          21.033333333
         ],
         "marker": {
          "color": "rgb(0, 0, 255)",
          "size": 5
         },
         "name": "Małgorzata Kidawa-Błońska",
         "text": "Warszawa",
         "type": "scattergeo"
        },
        {
         "lat": [
          54.316111111
         ],
         "lon": [
          22.309444444
         ],
         "marker": {
          "color": "rgb(0, 0, 255)",
          "size": 5
         },
         "name": "Bożena Kamińska",
         "text": "Gołdap",
         "type": "scattergeo"
        },
        {
         "lat": [
          51.939722222
         ],
         "lon": [
          15.505
         ],
         "marker": {
          "color": "rgb(0, 0, 255)",
          "size": 5
         },
         "name": "Jerzy Materna",
         "text": "Zielona Góra",
         "type": "scattergeo"
        },
        {
         "lat": [
          51.8
         ],
         "lon": [
          16.3
         ],
         "marker": {
          "color": "rgb(0, 0, 255)",
          "size": 5
         },
         "name": "Elżbieta Rafalska",
         "text": "Wschowa",
         "type": "scattergeo"
        },
        {
         "lat": [
          50.85
         ],
         "lon": [
          22.48333
         ],
         "marker": {
          "color": "rgb(0, 0, 255)",
          "size": 5
         },
         "name": "Gabriela Masłowska",
         "text": "Batorz",
         "type": "scattergeo"
        },
        {
         "lat": [
          51.10773
         ],
         "lon": [
          17.03533
         ],
         "marker": {
          "color": "rgb(0, 0, 255)",
          "size": 5
         },
         "name": "Wojciech Zubowski",
         "text": "Wrocław",
         "type": "scattergeo"
        },
        {
         "lat": [
          49.9
         ],
         "lon": [
          21.05
         ],
         "marker": {
          "color": "rgb(0, 0, 255)",
          "size": 5
         },
         "name": "Michał Wojtkiewicz",
         "text": "Tuchów",
         "type": "scattergeo"
        },
        {
         "lat": [
          49.8225
         ],
         "lon": [
          19.044444444
         ],
         "marker": {
          "color": "rgb(0, 0, 255)",
          "size": 5
         },
         "name": "Mirosław Suchoń",
         "text": "Bielsko-Biała",
         "type": "scattergeo"
        },
        {
         "lat": [
          50.05
         ],
         "lon": [
          22
         ],
         "marker": {
          "color": "rgb(0, 0, 255)",
          "size": 5
         },
         "name": "Halina Szydełko",
         "text": "Rzeszów",
         "type": "scattergeo"
        },
        {
         "lat": [
          49.783333333
         ],
         "lon": [
          22.766666666
         ],
         "marker": {
          "color": "rgb(0, 0, 255)",
          "size": 5
         },
         "name": "Marek Kuchciński",
         "text": "Przemyśl",
         "type": "scattergeo"
        },
        {
         "lat": [
          49.466666666
         ],
         "lon": [
          20.016666666
         ],
         "marker": {
          "color": "rgb(0, 0, 255)",
          "size": 5
         },
         "name": "Józef Brynkus",
         "text": "Nowy Targ",
         "type": "scattergeo"
        },
        {
         "lat": [
          50.766666666
         ],
         "lon": [
          16.283333333
         ],
         "marker": {
          "color": "rgb(0, 0, 255)",
          "size": 5
         },
         "name": "Alicja Chybicka",
         "text": "Wałbrzych",
         "type": "scattergeo"
        },
        {
         "lat": [
          54.383333333
         ],
         "lon": [
          19.833333333
         ],
         "marker": {
          "color": "rgb(0, 0, 255)",
          "size": 5
         },
         "name": "Barbara Chrobak",
         "text": "Braniewo",
         "type": "scattergeo"
        },
        {
         "lat": [
          50.0125
         ],
         "lon": [
          20.988611111
         ],
         "marker": {
          "color": "rgb(0, 0, 255)",
          "size": 5
         },
         "name": "Anna Czech",
         "text": "Tarnów",
         "type": "scattergeo"
        },
        {
         "lat": [
          52.216666666
         ],
         "lon": [
          21.033333333
         ],
         "marker": {
          "color": "rgb(0, 0, 255)",
          "size": 5
         },
         "name": "Marcin Święcicki",
         "text": "Warszawa",
         "type": "scattergeo"
        },
        {
         "lat": [
          52.866666666
         ],
         "lon": [
          21.1
         ],
         "marker": {
          "color": "rgb(0, 0, 255)",
          "size": 5
         },
         "name": "Jerzy Gosiewski",
         "text": "Maków Mazowiecki",
         "type": "scattergeo"
        },
        {
         "lat": [
          52.216666666
         ],
         "lon": [
          21.033333333
         ],
         "marker": {
          "color": "rgb(0, 0, 255)",
          "size": 5
         },
         "name": "Andrzej Halicki",
         "text": "Warszawa",
         "type": "scattergeo"
        },
        {
         "lat": [
          53.424722222
         ],
         "lon": [
          14.555277777
         ],
         "marker": {
          "color": "rgb(0, 0, 255)",
          "size": 5
         },
         "name": "Arkadiusz Marchewka",
         "text": "Szczecin",
         "type": "scattergeo"
        },
        {
         "lat": [
          51.233333333
         ],
         "lon": [
          22.566666666
         ],
         "marker": {
          "color": "rgb(0, 0, 255)",
          "size": 5
         },
         "name": "Jakub Kulesza",
         "text": "Lublin",
         "type": "scattergeo"
        },
        {
         "lat": [
          49.563055555
         ],
         "lon": [
          19.0875
         ],
         "marker": {
          "color": "rgb(0, 0, 255)",
          "size": 5
         },
         "name": "Kazimierz Matuszny",
         "text": "Milówka",
         "type": "scattergeo"
        },
        {
         "lat": [
          52.733333333
         ],
         "lon": [
          15.25
         ],
         "marker": {
          "color": "rgb(0, 0, 255)",
          "size": 5
         },
         "name": "Jarosław Porwich",
         "text": "Gorzów Wielkopolski",
         "type": "scattergeo"
        },
        {
         "lat": [
          50.8725
         ],
         "lon": [
          20.631944444
         ],
         "marker": {
          "color": "rgb(0, 0, 255)",
          "size": 5
         },
         "name": "Marcin Porzucek",
         "text": "Kielce",
         "type": "scattergeo"
        },
        {
         "lat": [
          53.116666666
         ],
         "lon": [
          18
         ],
         "marker": {
          "color": "rgb(0, 0, 255)",
          "size": 5
         },
         "name": "Paweł Olszewski",
         "text": "Bydgoszcz",
         "type": "scattergeo"
        },
        {
         "lat": [
          51.10773
         ],
         "lon": [
          17.03533
         ],
         "marker": {
          "color": "rgb(0, 0, 255)",
          "size": 5
         },
         "name": "Krzysztof Ostrowski",
         "text": "Wrocław",
         "type": "scattergeo"
        },
        {
         "lat": [
          51.658888888
         ],
         "lon": [
          16.080277777
         ],
         "marker": {
          "color": "rgb(0, 0, 255)",
          "size": 5
         },
         "name": "Joanna Schmidt",
         "text": "Głogów",
         "type": "scattergeo"
        },
        {
         "lat": [
          53.15
         ],
         "lon": [
          17.266666666
         ],
         "marker": {
          "color": "rgb(0, 0, 255)",
          "size": 5
         },
         "name": "Maria Małgorzata Janyska",
         "text": "Wyrzysk",
         "type": "scattergeo"
        },
        {
         "lat": [
          52.033333333
         ],
         "lon": [
          23.116666666
         ],
         "marker": {
          "color": "rgb(0, 0, 255)",
          "size": 5
         },
         "name": "Adam Abramowicz",
         "text": "Biała Podlaska",
         "type": "scattergeo"
        },
        {
         "lat": [
          51.3
         ],
         "lon": [
          17.716666666
         ],
         "marker": {
          "color": "rgb(0, 0, 255)",
          "size": 5
         },
         "name": "Beata Kempa",
         "text": "Syców",
         "type": "scattergeo"
        },
        {
         "lat": [
          50.766666666
         ],
         "lon": [
          16.283333333
         ],
         "marker": {
          "color": "rgb(0, 0, 255)",
          "size": 5
         },
         "name": "Agnieszka Kołacz-Leszczyńska",
         "text": "Wałbrzych",
         "type": "scattergeo"
        },
        {
         "lat": [
          51.116666666
         ],
         "lon": [
          20.916666666
         ],
         "marker": {
          "color": "rgb(0, 0, 255)",
          "size": 5
         },
         "name": "Marzena Okła-Drewnowicz",
         "text": "Skarżysko-Kamienna",
         "type": "scattergeo"
        },
        {
         "lat": [
          50.86027778
         ],
         "lon": [
          17.04444444
         ],
         "marker": {
          "color": "rgb(0, 0, 255)",
          "size": 5
         },
         "name": "Czesław Hoc",
         "text": "Jelenin",
         "type": "scattergeo"
        },
        {
         "lat": [
          52.983333333
         ],
         "lon": [
          22.25
         ],
         "marker": {
          "color": "rgb(0, 0, 255)",
          "size": 5
         },
         "name": "Lech Kołakowski",
         "text": "Zambrów",
         "type": "scattergeo"
        },
        {
         "lat": [
          51.9
         ],
         "lon": [
          21.633333333
         ],
         "marker": {
          "color": "rgb(0, 0, 255)",
          "size": 5
         },
         "name": "Grzegorz Adam Woźniak",
         "text": "Garwolin",
         "type": "scattergeo"
        },
        {
         "lat": [
          49.67611
         ],
         "lon": [
          20.59778
         ],
         "marker": {
          "color": "rgb(0, 0, 255)",
          "size": 5
         },
         "name": "Wiesław Janczyk",
         "text": "Chomranice",
         "type": "scattergeo"
        },
        {
         "lat": [
          53.424722222
         ],
         "lon": [
          14.555277777
         ],
         "marker": {
          "color": "rgb(0, 0, 255)",
          "size": 5
         },
         "name": "Leszek Dobrzyński",
         "text": "Szczecin",
         "type": "scattergeo"
        },
        {
         "lat": [
          50.0833
         ],
         "lon": [
          21.4
         ],
         "marker": {
          "color": "rgb(0, 0, 255)",
          "size": 5
         },
         "name": "Kazimierz Moskal",
         "text": "Żyraków",
         "type": "scattergeo"
        },
        {
         "lat": [
          51.416666666
         ],
         "lon": [
          21.966666666
         ],
         "marker": {
          "color": "rgb(0, 0, 255)",
          "size": 5
         },
         "name": "Piotr Pyzik",
         "text": "Puławy",
         "type": "scattergeo"
        },
        {
         "lat": [
          53.7
         ],
         "lon": [
          17.55
         ],
         "marker": {
          "color": "rgb(0, 0, 255)",
          "size": 5
         },
         "name": "Eugeniusz Kłopotek",
         "text": "Chojnice",
         "type": "scattergeo"
        },
        {
         "lat": [
          51.233333333
         ],
         "lon": [
          22.566666666
         ],
         "marker": {
          "color": "rgb(0, 0, 255)",
          "size": 5
         },
         "name": "Sylwester Tułajew",
         "text": "Lublin",
         "type": "scattergeo"
        },
        {
         "lat": [
          52.1
         ],
         "lon": [
          19.933333333
         ],
         "marker": {
          "color": "rgb(0, 0, 255)",
          "size": 5
         },
         "name": "Paweł Bejda",
         "text": "Łowicz",
         "type": "scattergeo"
        },
        {
         "lat": [
          52.216666666
         ],
         "lon": [
          21.033333333
         ],
         "marker": {
          "color": "rgb(0, 0, 255)",
          "size": 5
         },
         "name": "Andrzej Smirnow",
         "text": "Warszawa",
         "type": "scattergeo"
        },
        {
         "lat": [
          53.424722222
         ],
         "lon": [
          14.555277777
         ],
         "marker": {
          "color": "rgb(0, 0, 255)",
          "size": 5
         },
         "name": "Krzysztof Zaremba",
         "text": "Szczecin",
         "type": "scattergeo"
        },
        {
         "lat": [
          51.939722222
         ],
         "lon": [
          15.505
         ],
         "marker": {
          "color": "rgb(0, 0, 255)",
          "size": 5
         },
         "name": "Artur Zasada",
         "text": "Zielona Góra",
         "type": "scattergeo"
        },
        {
         "lat": [
          52.216666666
         ],
         "lon": [
          21.033333333
         ],
         "marker": {
          "color": "rgb(0, 0, 255)",
          "size": 5
         },
         "name": "Krzysztof Czabański",
         "text": "Warszawa",
         "type": "scattergeo"
        },
        {
         "lat": [
          50.85
         ],
         "lon": [
          16.316666666
         ],
         "marker": {
          "color": "rgb(0, 0, 255)",
          "size": 5
         },
         "name": "Ireneusz Zyska",
         "text": "Świebodzice",
         "type": "scattergeo"
        },
        {
         "lat": [
          50.275833333
         ],
         "lon": [
          18.985833333
         ],
         "marker": {
          "color": "rgb(0, 0, 255)",
          "size": 5
         },
         "name": "Jacek Falfus",
         "text": "Siemianowice Śląskie",
         "type": "scattergeo"
        },
        {
         "lat": [
          50.8
         ],
         "lon": [
          19.116666666
         ],
         "marker": {
          "color": "rgb(0, 0, 255)",
          "size": 5
         },
         "name": "Konrad Głębocki",
         "text": "Częstochowa",
         "type": "scattergeo"
        },
        {
         "lat": [
          51.233333333
         ],
         "lon": [
          22.566666666
         ],
         "marker": {
          "color": "rgb(0, 0, 255)",
          "size": 5
         },
         "name": "Artur Dunin",
         "text": "Lublin",
         "type": "scattergeo"
        },
        {
         "lat": [
          51.23333333
         ],
         "lon": [
          22.38333333
         ],
         "marker": {
          "color": "rgb(0, 0, 255)",
          "size": 5
         },
         "name": "Jan Łopata",
         "text": "Motycz",
         "type": "scattergeo"
        },
        {
         "lat": [
          54.566666666
         ],
         "lon": [
          18.4
         ],
         "marker": {
          "color": "rgb(0, 0, 255)",
          "size": 5
         },
         "name": "Jan Klawiter",
         "text": "Rumia",
         "type": "scattergeo"
        },
        {
         "lat": [
          49.8225
         ],
         "lon": [
          19.044444444
         ],
         "marker": {
          "color": "rgb(0, 0, 255)",
          "size": 5
         },
         "name": "Jerzy Jachnik",
         "text": "Bielsko-Biała",
         "type": "scattergeo"
        },
        {
         "lat": [
          50.466666666
         ],
         "lon": [
          20.716666666
         ],
         "marker": {
          "color": "rgb(0, 0, 255)",
          "size": 5
         },
         "name": "Krystian Jarubas",
         "text": "Busko-Zdrój",
         "type": "scattergeo"
        },
        {
         "lat": [
          51.759494444
         ],
         "lon": [
          19.458511111
         ],
         "marker": {
          "color": "rgb(0, 0, 255)",
          "size": 5
         },
         "name": "Alicja Kaczorowska",
         "text": "Łódź",
         "type": "scattergeo"
        },
        {
         "lat": [
          54.091111111
         ],
         "lon": [
          18.786388888
         ],
         "marker": {
          "color": "rgb(0, 0, 255)",
          "size": 5
         },
         "name": "Teresa Piotrowska",
         "text": "Tczew",
         "type": "scattergeo"
        },
        {
         "lat": [
          52.4
         ],
         "lon": [
          16.916666666
         ],
         "marker": {
          "color": "rgb(0, 0, 255)",
          "size": 5
         },
         "name": "Marek Ruciński",
         "text": "Poznań",
         "type": "scattergeo"
        },
        {
         "lat": [
          50.283333333
         ],
         "lon": [
          21.433333333
         ],
         "marker": {
          "color": "rgb(0, 0, 255)",
          "size": 5
         },
         "name": "Krystyna Skowrońska",
         "text": "Mielec",
         "type": "scattergeo"
        },
        {
         "lat": [
          52.733333333
         ],
         "lon": [
          15.25
         ],
         "marker": {
          "color": "rgb(0, 0, 255)",
          "size": 5
         },
         "name": "Tomasz Kucharski",
         "text": "Gorzów Wielkopolski",
         "type": "scattergeo"
        },
        {
         "lat": [
          54.366666666
         ],
         "lon": [
          18.633333333
         ],
         "marker": {
          "color": "rgb(0, 0, 255)",
          "size": 5
         },
         "name": "Elżbieta Gelert",
         "text": "Gdańsk",
         "type": "scattergeo"
        },
        {
         "lat": [
          50.45
         ],
         "lon": [
          19.516666666
         ],
         "marker": {
          "color": "rgb(0, 0, 255)",
          "size": 5
         },
         "name": "Anna Nemś",
         "text": "Ogrodzieniec",
         "type": "scattergeo"
        },
        {
         "lat": [
          50.85
         ],
         "lon": [
          16.316666666
         ],
         "marker": {
          "color": "rgb(0, 0, 255)",
          "size": 5
         },
         "name": "Anna Zalewska",
         "text": "Świebodzice",
         "type": "scattergeo"
        },
        {
         "lat": [
          49.683333333
         ],
         "lon": [
          21.75
         ],
         "marker": {
          "color": "rgb(0, 0, 255)",
          "size": 5
         },
         "name": "Piotr Babinetz",
         "text": "Krosno",
         "type": "scattergeo"
        },
        {
         "lat": [
          51.05
         ],
         "lon": [
          21.066666666
         ],
         "marker": {
          "color": "rgb(0, 0, 255)",
          "size": 5
         },
         "name": "Krzysztof Lipiec",
         "text": "Starachowice",
         "type": "scattergeo"
        },
        {
         "lat": [
          49.8225
         ],
         "lon": [
          19.044444444
         ],
         "marker": {
          "color": "rgb(0, 0, 255)",
          "size": 5
         },
         "name": "Stanisław Szwed",
         "text": "Bielsko-Biała",
         "type": "scattergeo"
        },
        {
         "lat": [
          51.051666666
         ],
         "lon": [
          20.8325
         ],
         "marker": {
          "color": "rgb(0, 0, 255)",
          "size": 5
         },
         "name": "Maria Zuba",
         "text": "Suchedniów",
         "type": "scattergeo"
        },
        {
         "lat": [
          50.313055555
         ],
         "lon": [
          17.374166666
         ],
         "marker": {
          "color": "rgb(0, 0, 255)",
          "size": 5
         },
         "name": "Andrzej Sośnierz",
         "text": "Głuchołazy",
         "type": "scattergeo"
        },
        {
         "lat": [
          51.308888888
         ],
         "lon": [
          21.248611111
         ],
         "marker": {
          "color": "rgb(0, 0, 255)",
          "size": 5
         },
         "name": "Ewa Kopacz",
         "text": "Skaryszew",
         "type": "scattergeo"
        },
        {
         "lat": [
          51.10773
         ],
         "lon": [
          17.03533
         ],
         "marker": {
          "color": "rgb(0, 0, 255)",
          "size": 5
         },
         "name": "Piotr Łukasz Babiarz",
         "text": "Wrocław",
         "type": "scattergeo"
        },
        {
         "lat": [
          50.066666666
         ],
         "lon": [
          19.95
         ],
         "marker": {
          "color": "rgb(0, 0, 255)",
          "size": 5
         },
         "name": "Urszula Rusecka",
         "text": "Kraków",
         "type": "scattergeo"
        },
        {
         "lat": [
          52.216666666
         ],
         "lon": [
          21.033333333
         ],
         "marker": {
          "color": "rgb(0, 0, 255)",
          "size": 5
         },
         "name": "Michał Kamiński",
         "text": "Warszawa",
         "type": "scattergeo"
        },
        {
         "lat": [
          52.65
         ],
         "lon": [
          17.95
         ],
         "marker": {
          "color": "rgb(0, 0, 255)",
          "size": 5
         },
         "name": "Tomasz Lenz",
         "text": "Mogilno",
         "type": "scattergeo"
        },
        {
         "lat": [
          50.805
         ],
         "lon": [
          21.424722222
         ],
         "marker": {
          "color": "rgb(0, 0, 255)",
          "size": 5
         },
         "name": "Kazimierz Kotowski",
         "text": "Opatów",
         "type": "scattergeo"
        },
        {
         "lat": [
          50.933333333
         ],
         "lon": [
          21.4
         ],
         "marker": {
          "color": "rgb(0, 0, 255)",
          "size": 5
         },
         "name": "Andrzej Kryj",
         "text": "Ostrowiec Świętokrzyski",
         "type": "scattergeo"
        },
        {
         "lat": [
          51.216666666
         ],
         "lon": [
          18.566666666
         ],
         "marker": {
          "color": "rgb(0, 0, 255)",
          "size": 5
         },
         "name": "Beata Mateusiak-Pielucha",
         "text": "Wieluń",
         "type": "scattergeo"
        },
        {
         "lat": [
          50.8
         ],
         "lon": [
          19.116666666
         ],
         "marker": {
          "color": "rgb(0, 0, 255)",
          "size": 5
         },
         "name": "Halina Rozpondek",
         "text": "Częstochowa",
         "type": "scattergeo"
        },
        {
         "lat": [
          51.759494444
         ],
         "lon": [
          19.458511111
         ],
         "marker": {
          "color": "rgb(0, 0, 255)",
          "size": 5
         },
         "name": "Małgorzata Niemczyk",
         "text": "Łódź",
         "type": "scattergeo"
        },
        {
         "lat": [
          52.4
         ],
         "lon": [
          16.916666666
         ],
         "marker": {
          "color": "rgb(0, 0, 255)",
          "size": 5
         },
         "name": "Tomasz Latos",
         "text": "Poznań",
         "type": "scattergeo"
        },
        {
         "lat": [
          52.216666666
         ],
         "lon": [
          21.033333333
         ],
         "marker": {
          "color": "rgb(0, 0, 255)",
          "size": 5
         },
         "name": "Antoni Macierewicz",
         "text": "Warszawa",
         "type": "scattergeo"
        },
        {
         "lat": [
          50.666666666
         ],
         "lon": [
          17.933333333
         ],
         "marker": {
          "color": "rgb(0, 0, 255)",
          "size": 5
         },
         "name": "Patryk Jaki",
         "text": "Opole",
         "type": "scattergeo"
        },
        {
         "lat": [
          50.766666666
         ],
         "lon": [
          16.283333333
         ],
         "marker": {
          "color": "rgb(0, 0, 255)",
          "size": 5
         },
         "name": "Izabela Katarzyna Mrzygłocka",
         "text": "Wałbrzych",
         "type": "scattergeo"
        },
        {
         "lat": [
          52.4
         ],
         "lon": [
          16.916666666
         ],
         "marker": {
          "color": "rgb(0, 0, 255)",
          "size": 5
         },
         "name": "Tadeusz Dziuba",
         "text": "Poznań",
         "type": "scattergeo"
        },
        {
         "lat": [
          51.4
         ],
         "lon": [
          16.2
         ],
         "marker": {
          "color": "rgb(0, 0, 255)",
          "size": 5
         },
         "name": "Elżbieta Stępień",
         "text": "Lubin",
         "type": "scattergeo"
        },
        {
         "lat": [
          50.066666666
         ],
         "lon": [
          19.95
         ],
         "marker": {
          "color": "rgb(0, 0, 255)",
          "size": 5
         },
         "name": "Michał Wójcik",
         "text": "Kraków",
         "type": "scattergeo"
        },
        {
         "lat": [
          50.066666666
         ],
         "lon": [
          19.95
         ],
         "marker": {
          "color": "rgb(0, 0, 255)",
          "size": 5
         },
         "name": "Zbigniew Ziobro",
         "text": "Kraków",
         "type": "scattergeo"
        },
        {
         "lat": [
          53.8
         ],
         "lon": [
          15.4
         ],
         "marker": {
          "color": "rgb(0, 0, 255)",
          "size": 5
         },
         "name": "Bartosz Arłukowicz",
         "text": "Resko",
         "type": "scattergeo"
        },
        {
         "lat": [
          51.416666666
         ],
         "lon": [
          21.966666666
         ],
         "marker": {
          "color": "rgb(0, 0, 255)",
          "size": 5
         },
         "name": "Włodzimierz Karpiński",
         "text": "Puławy",
         "type": "scattergeo"
        },
        {
         "lat": [
          52.216666666
         ],
         "lon": [
          21.033333333
         ],
         "marker": {
          "color": "rgb(0, 0, 255)",
          "size": 5
         },
         "name": "Andrzej Melak",
         "text": "Warszawa",
         "type": "scattergeo"
        },
        {
         "lat": [
          52.216666666
         ],
         "lon": [
          21.033333333
         ],
         "marker": {
          "color": "rgb(0, 0, 255)",
          "size": 5
         },
         "name": "Jarosław Kaczyński",
         "text": "Warszawa",
         "type": "scattergeo"
        },
        {
         "lat": [
          51.658888888
         ],
         "lon": [
          16.080277777
         ],
         "marker": {
          "color": "rgb(0, 0, 255)",
          "size": 5
         },
         "name": "Sylwester Chruszcz",
         "text": "Głogów",
         "type": "scattergeo"
        },
        {
         "lat": [
          50.4
         ],
         "lon": [
          22.63333
         ],
         "marker": {
          "color": "rgb(0, 0, 255)",
          "size": 5
         },
         "name": "Genowefa Tokarska",
         "text": "Biszcza",
         "type": "scattergeo"
        },
        {
         "lat": [
          51.79861111
         ],
         "lon": [
          18.33305556
         ],
         "marker": {
          "color": "rgb(0, 0, 255)",
          "size": 5
         },
         "name": "Mariusz Witczak",
         "text": "Koźminek",
         "type": "scattergeo"
        },
        {
         "lat": [
          50.46305556
         ],
         "lon": [
          18.29944444
         ],
         "marker": {
          "color": "rgb(0, 0, 255)",
          "size": 5
         },
         "name": "Iwona Śledzińska-Katarasińska",
         "text": "Komorniki",
         "type": "scattergeo"
        },
        {
         "lat": [
          50.866666666
         ],
         "lon": [
          17.483333333
         ],
         "marker": {
          "color": "rgb(0, 0, 255)",
          "size": 5
         },
         "name": "Paweł Grabowski",
         "text": "Brzeg",
         "type": "scattergeo"
        },
        {
         "lat": [
          50.8
         ],
         "lon": [
          19.116666666
         ],
         "marker": {
          "color": "rgb(0, 0, 255)",
          "size": 5
         },
         "name": "Tomasz Jaskóła",
         "text": "Częstochowa",
         "type": "scattergeo"
        },
        {
         "lat": [
          53.783333333
         ],
         "lon": [
          20.483333333
         ],
         "marker": {
          "color": "rgb(0, 0, 255)",
          "size": 5
         },
         "name": "Piotr Cieśliński",
         "text": "Olsztyn",
         "type": "scattergeo"
        },
        {
         "lat": [
          52.216666666
         ],
         "lon": [
          21.033333333
         ],
         "marker": {
          "color": "rgb(0, 0, 255)",
          "size": 5
         },
         "name": "Jarosław Krajewski",
         "text": "Warszawa",
         "type": "scattergeo"
        },
        {
         "lat": [
          51.403611111
         ],
         "lon": [
          21.156666666
         ],
         "marker": {
          "color": "rgb(0, 0, 255)",
          "size": 5
         },
         "name": "Anna Kwiecień",
         "text": "Radom",
         "type": "scattergeo"
        },
        {
         "lat": [
          51.403611111
         ],
         "lon": [
          21.156666666
         ],
         "marker": {
          "color": "rgb(0, 0, 255)",
          "size": 5
         },
         "name": "Andrzej Kosztowniak",
         "text": "Radom",
         "type": "scattergeo"
        },
        {
         "lat": [
          49.466666666
         ],
         "lon": [
          20.016666666
         ],
         "marker": {
          "color": "rgb(0, 0, 255)",
          "size": 5
         },
         "name": "Anna Paluch",
         "text": "Nowy Targ",
         "type": "scattergeo"
        },
        {
         "lat": [
          50.066666666
         ],
         "lon": [
          19.95
         ],
         "marker": {
          "color": "rgb(0, 0, 255)",
          "size": 5
         },
         "name": "Jerzy Meysztowicz",
         "text": "Kraków",
         "type": "scattergeo"
        },
        {
         "lat": [
          53.016666666
         ],
         "lon": [
          18.616666666
         ],
         "marker": {
          "color": "rgb(0, 0, 255)",
          "size": 5
         },
         "name": "Joanna Scheuring-Wielgus",
         "text": "Toruń",
         "type": "scattergeo"
        },
        {
         "lat": [
          53.116666666
         ],
         "lon": [
          23.166666666
         ],
         "marker": {
          "color": "rgb(0, 0, 255)",
          "size": 5
         },
         "name": "Robert Tyszkiewicz",
         "text": "Białystok",
         "type": "scattergeo"
        },
        {
         "lat": [
          53.166666666
         ],
         "lon": [
          22.083333333
         ],
         "marker": {
          "color": "rgb(0, 0, 255)",
          "size": 5
         },
         "name": "Michał Jach",
         "text": "Łomża",
         "type": "scattergeo"
        },
        {
         "lat": [
          50.533333333
         ],
         "lon": [
          23.183333333
         ],
         "marker": {
          "color": "rgb(0, 0, 255)",
          "size": 5
         },
         "name": "Sławomir Zawiślak",
         "text": "Krasnobród",
         "type": "scattergeo"
        },
        {
         "lat": [
          49.983333333
         ],
         "lon": [
          20.433333333
         ],
         "marker": {
          "color": "rgb(0, 0, 255)",
          "size": 5
         },
         "name": "Stanisław Piotrowicz",
         "text": "Bochnia",
         "type": "scattergeo"
        },
        {
         "lat": [
          53.116666666
         ],
         "lon": [
          23.166666666
         ],
         "marker": {
          "color": "rgb(0, 0, 255)",
          "size": 5
         },
         "name": "Jacek Żalek",
         "text": "Białystok",
         "type": "scattergeo"
        },
        {
         "lat": [
          51.10773
         ],
         "lon": [
          17.03533
         ],
         "marker": {
          "color": "rgb(0, 0, 255)",
          "size": 5
         },
         "name": "Jacek Świat",
         "text": "Wrocław",
         "type": "scattergeo"
        },
        {
         "lat": [
          52.216666666
         ],
         "lon": [
          21.033333333
         ],
         "marker": {
          "color": "rgb(0, 0, 255)",
          "size": 5
         },
         "name": "Bartosz Kownacki",
         "text": "Warszawa",
         "type": "scattergeo"
        },
        {
         "lat": [
          52.216666666
         ],
         "lon": [
          21.033333333
         ],
         "marker": {
          "color": "rgb(0, 0, 255)",
          "size": 5
         },
         "name": "Maciej Małecki",
         "text": "Warszawa",
         "type": "scattergeo"
        },
        {
         "lat": [
          49.8225
         ],
         "lon": [
          19.044444444
         ],
         "marker": {
          "color": "rgb(0, 0, 255)",
          "size": 5
         },
         "name": "Stanisław Pięta",
         "text": "Bielsko-Biała",
         "type": "scattergeo"
        },
        {
         "lat": [
          52.55
         ],
         "lon": [
          19.7
         ],
         "marker": {
          "color": "rgb(0, 0, 255)",
          "size": 5
         },
         "name": "Ewa Tomaszewska",
         "text": "Płock",
         "type": "scattergeo"
        },
        {
         "lat": [
          51.65
         ],
         "lon": [
          17.7
         ],
         "marker": {
          "color": "rgb(0, 0, 255)",
          "size": 5
         },
         "name": "Jarosław Urbaniak",
         "text": "Ostrów Wielkopolski",
         "type": "scattergeo"
        },
        {
         "lat": [
          54.166666666
         ],
         "lon": [
          19.4
         ],
         "marker": {
          "color": "rgb(0, 0, 255)",
          "size": 5
         },
         "name": "Jerzy Wilk",
         "text": "Elbląg",
         "type": "scattergeo"
        },
        {
         "lat": [
          50.967222222
         ],
         "lon": [
          18.731944444
         ],
         "marker": {
          "color": "rgb(0, 0, 255)",
          "size": 5
         },
         "name": "Marian Zembala",
         "text": "Krzepice",
         "type": "scattergeo"
        },
        {
         "lat": [
          50.866666666
         ],
         "lon": [
          18.5
         ],
         "marker": {
          "color": "rgb(0, 0, 255)",
          "size": 5
         },
         "name": "Bartłomiej Stawiarski",
         "text": "Strzelce Opolskie",
         "type": "scattergeo"
        },
        {
         "lat": [
          51.916666666
         ],
         "lon": [
          22.383333333
         ],
         "marker": {
          "color": "rgb(0, 0, 255)",
          "size": 5
         },
         "name": "Krzysztof Głuchowski",
         "text": "Łuków",
         "type": "scattergeo"
        },
        {
         "lat": [
          52.216666666
         ],
         "lon": [
          22.716666666
         ],
         "marker": {
          "color": "rgb(0, 0, 255)",
          "size": 5
         },
         "name": "Marcin Duszek",
         "text": "Łosice",
         "type": "scattergeo"
        },
        {
         "lat": [
          50.166666666
         ],
         "lon": [
          20.983333333
         ],
         "marker": {
          "color": "rgb(0, 0, 255)",
          "size": 5
         },
         "name": "Michał Cieślak",
         "text": "Dąbrowa Tarnowska",
         "type": "scattergeo"
        },
        {
         "lat": [
          52.1167
         ],
         "lon": [
          16.8167
         ],
         "marker": {
          "color": "rgb(0, 0, 255)",
          "size": 5
         },
         "name": "Teresa Glenc",
         "text": "Gorzyczki",
         "type": "scattergeo"
        },
        {
         "lat": [
          50.05
         ],
         "lon": [
          22
         ],
         "marker": {
          "color": "rgb(0, 0, 255)",
          "size": 5
         },
         "name": "Marek Rząsa",
         "text": "Rzeszów",
         "type": "scattergeo"
        },
        {
         "lat": [
          51.633333333
         ],
         "lon": [
          15.133333333
         ],
         "marker": {
          "color": "rgb(0, 0, 255)",
          "size": 5
         },
         "name": "Bożenna Bukiewicz",
         "text": "Żary",
         "type": "scattergeo"
        },
        {
         "lat": [
          52.216666666
         ],
         "lon": [
          21.033333333
         ],
         "marker": {
          "color": "rgb(0, 0, 255)",
          "size": 5
         },
         "name": "Marcin Kierwiński",
         "text": "Warszawa",
         "type": "scattergeo"
        },
        {
         "lat": [
          52.216666666
         ],
         "lon": [
          21.033333333
         ],
         "marker": {
          "color": "rgb(0, 0, 255)",
          "size": 5
         },
         "name": "Leszek Korzeniowski",
         "text": "Warszawa",
         "type": "scattergeo"
        },
        {
         "lat": [
          50.066666666
         ],
         "lon": [
          19.95
         ],
         "marker": {
          "color": "rgb(0, 0, 255)",
          "size": 5
         },
         "name": "Władysław Kosiniak-Kamysz",
         "text": "Kraków",
         "type": "scattergeo"
        },
        {
         "lat": [
          52.333333333
         ],
         "lon": [
          17.583333333
         ],
         "marker": {
          "color": "rgb(0, 0, 255)",
          "size": 5
         },
         "name": "Ewa Kozanecka",
         "text": "Września",
         "type": "scattergeo"
        },
        {
         "lat": [
          50.611666666
         ],
         "lon": [
          20.749722222
         ],
         "marker": {
          "color": "rgb(0, 0, 255)",
          "size": 5
         },
         "name": "Bogdan Latosiński",
         "text": "Chmielnik",
         "type": "scattergeo"
        },
        {
         "lat": [
          51.066666666
         ],
         "lon": [
          19.45
         ],
         "marker": {
          "color": "rgb(0, 0, 255)",
          "size": 5
         },
         "name": "Anna Milczanowska",
         "text": "Radomsko",
         "type": "scattergeo"
        },
        {
         "lat": [
          51.2833
         ],
         "lon": [
          19.6167
         ],
         "marker": {
          "color": "rgb(0, 0, 255)",
          "size": 5
         },
         "name": "Elżbieta Radziszewska",
         "text": "Białocin",
         "type": "scattergeo"
        },
        {
         "lat": [
          51.10773
         ],
         "lon": [
          17.03533
         ],
         "marker": {
          "color": "rgb(0, 0, 255)",
          "size": 5
         },
         "name": "Aldona Młyńczak",
         "text": "Wrocław",
         "type": "scattergeo"
        },
        {
         "lat": [
          52.919166666
         ],
         "lon": [
          22.514444444
         ],
         "marker": {
          "color": "rgb(0, 0, 255)",
          "size": 5
         },
         "name": "Jacek Bogucki",
         "text": "Wysokie Mazowieckie",
         "type": "scattergeo"
        },
        {
         "lat": [
          52.06666667
         ],
         "lon": [
          18.66666667
         ],
         "marker": {
          "color": "rgb(0, 0, 255)",
          "size": 5
         },
         "name": "Zbigniew Dolata",
         "text": "Koźmin",
         "type": "scattergeo"
        },
        {
         "lat": [
          52.8
         ],
         "lon": [
          21.9
         ],
         "marker": {
          "color": "rgb(0, 0, 255)",
          "size": 5
         },
         "name": "Beata Mazurek",
         "text": "Ostrów Mazowiecka",
         "type": "scattergeo"
        },
        {
         "lat": [
          51.05
         ],
         "lon": [
          16.183333333
         ],
         "marker": {
          "color": "rgb(0, 0, 255)",
          "size": 5
         },
         "name": "Elżbieta Witek",
         "text": "Jawor",
         "type": "scattergeo"
        },
        {
         "lat": [
          57.616666666
         ],
         "lon": [
          39.85
         ],
         "marker": {
          "color": "rgb(0, 0, 255)",
          "size": 5
         },
         "name": "Mieczysław Kasprzak",
         "text": "Jarosław",
         "type": "scattergeo"
        },
        {
         "lat": [
          50.133333333
         ],
         "lon": [
          19.4
         ],
         "marker": {
          "color": "rgb(0, 0, 255)",
          "size": 5
         },
         "name": "Dariusz Starzycki",
         "text": "Chrzanów",
         "type": "scattergeo"
        },
        {
         "lat": [
          51.274166666
         ],
         "lon": [
          16.365
         ],
         "marker": {
          "color": "rgb(0, 0, 255)",
          "size": 5
         },
         "name": "Ewa Szymańska",
         "text": "Prochowice",
         "type": "scattergeo"
        },
        {
         "lat": [
          50.066666666
         ],
         "lon": [
          19.95
         ],
         "marker": {
          "color": "rgb(0, 0, 255)",
          "size": 5
         },
         "name": "Agnieszka Ścigaj",
         "text": "Kraków",
         "type": "scattergeo"
        },
        {
         "lat": [
          50.583333333
         ],
         "lon": [
          21.683333333
         ],
         "marker": {
          "color": "rgb(0, 0, 255)",
          "size": 5
         },
         "name": "Rafał Weber",
         "text": "Tarnobrzeg",
         "type": "scattergeo"
        },
        {
         "lat": [
          54.5
         ],
         "lon": [
          18.533333333
         ],
         "marker": {
          "color": "rgb(0, 0, 255)",
          "size": 5
         },
         "name": "Magdalena Błeńska",
         "text": "Gdynia",
         "type": "scattergeo"
        },
        {
         "lat": [
          50.383333333
         ],
         "lon": [
          18.95
         ],
         "marker": {
          "color": "rgb(0, 0, 255)",
          "size": 5
         },
         "name": "Jerzy Polaczek",
         "text": "Piekary Śląskie",
         "type": "scattergeo"
        },
        {
         "lat": [
          51.10773
         ],
         "lon": [
          17.03533
         ],
         "marker": {
          "color": "rgb(0, 0, 255)",
          "size": 5
         },
         "name": "Stanisław Huskowski",
         "text": "Wrocław",
         "type": "scattergeo"
        },
        {
         "lat": [
          54.366666666
         ],
         "lon": [
          18.633333333
         ],
         "marker": {
          "color": "rgb(0, 0, 255)",
          "size": 5
         },
         "name": "Małgorzata Chmiel",
         "text": "Gdańsk",
         "type": "scattergeo"
        },
        {
         "lat": [
          52.866666666
         ],
         "lon": [
          20.633333333
         ],
         "marker": {
          "color": "rgb(0, 0, 255)",
          "size": 5
         },
         "name": "Anna Cicholska",
         "text": "Ciechanów",
         "type": "scattergeo"
        },
        {
         "lat": [
          52.216666666
         ],
         "lon": [
          21.033333333
         ],
         "marker": {
          "color": "rgb(0, 0, 255)",
          "size": 5
         },
         "name": "Piotr Gliński",
         "text": "Warszawa",
         "type": "scattergeo"
        },
        {
         "lat": [
          52.216666666
         ],
         "lon": [
          21.033333333
         ],
         "marker": {
          "color": "rgb(0, 0, 255)",
          "size": 5
         },
         "name": "Kamila Gasiuk-Pihowicz",
         "text": "Warszawa",
         "type": "scattergeo"
        },
        {
         "lat": [
          51.759494444
         ],
         "lon": [
          19.458511111
         ],
         "marker": {
          "color": "rgb(0, 0, 255)",
          "size": 5
         },
         "name": "Joanna Kopcińska",
         "text": "Łódź",
         "type": "scattergeo"
        },
        {
         "lat": [
          50.066666666
         ],
         "lon": [
          19.95
         ],
         "marker": {
          "color": "rgb(0, 0, 255)",
          "size": 5
         },
         "name": "Barbara Bubula",
         "text": "Kraków",
         "type": "scattergeo"
        },
        {
         "lat": [
          51.283333333
         ],
         "lon": [
          17.983333333
         ],
         "marker": {
          "color": "rgb(0, 0, 255)",
          "size": 5
         },
         "name": "Andżelika Możdżanowska",
         "text": "Kępno",
         "type": "scattergeo"
        },
        {
         "lat": [
          50.55
         ],
         "lon": [
          22.733333333
         ],
         "marker": {
          "color": "rgb(0, 0, 255)",
          "size": 5
         },
         "name": "Piotr Olszówka",
         "text": "Biłgoraj",
         "type": "scattergeo"
        },
        {
         "lat": [
          51.4
         ],
         "lon": [
          16.2
         ],
         "marker": {
          "color": "rgb(0, 0, 255)",
          "size": 5
         },
         "name": "Krzysztof Kubów",
         "text": "Lubin",
         "type": "scattergeo"
        },
        {
         "lat": [
          49.716666666
         ],
         "lon": [
          20.466666666
         ],
         "marker": {
          "color": "rgb(0, 0, 255)",
          "size": 5
         },
         "name": "Józef Leśniak",
         "text": "Limanowa",
         "type": "scattergeo"
        },
        {
         "lat": [
          54.366666666
         ],
         "lon": [
          18.633333333
         ],
         "marker": {
          "color": "rgb(0, 0, 255)",
          "size": 5
         },
         "name": "Ewa Lieder",
         "text": "Gdańsk",
         "type": "scattergeo"
        },
        {
         "lat": [
          54.116666666
         ],
         "lon": [
          20.583333333
         ],
         "marker": {
          "color": "rgb(0, 0, 255)",
          "size": 5
         },
         "name": "Jacek Protas",
         "text": "Lidzbark Warmiński",
         "type": "scattergeo"
        },
        {
         "lat": [
          50.785
         ],
         "lon": [
          18.356666666
         ],
         "marker": {
          "color": "rgb(0, 0, 255)",
          "size": 5
         },
         "name": "Józef Lassota",
         "text": "Siedliska",
         "type": "scattergeo"
        },
        {
         "lat": [
          49.913011111
         ],
         "lon": [
          18.834305555
         ],
         "marker": {
          "color": "rgb(0, 0, 255)",
          "size": 5
         },
         "name": "Bogdan Rzońca",
         "text": "Zarzecze",
         "type": "scattergeo"
        },
        {
         "lat": [
          50.066666666
         ],
         "lon": [
          19.95
         ],
         "marker": {
          "color": "rgb(0, 0, 255)",
          "size": 5
         },
         "name": "Jarosław Gowin",
         "text": "Kraków",
         "type": "scattergeo"
        },
        {
         "lat": [
          50.066666666
         ],
         "lon": [
          22.233333333
         ],
         "marker": {
          "color": "rgb(0, 0, 255)",
          "size": 5
         },
         "name": "Kazimierz Gołojuch",
         "text": "Łańcut",
         "type": "scattergeo"
        },
        {
         "lat": [
          51.856388888
         ],
         "lon": [
          19.406111111
         ],
         "marker": {
          "color": "rgb(0, 0, 255)",
          "size": 5
         },
         "name": "Marek Matuszewski",
         "text": "Zgierz",
         "type": "scattergeo"
        },
        {
         "lat": [
          52.383333333
         ],
         "lon": [
          20.883333333
         ],
         "marker": {
          "color": "rgb(0, 0, 255)",
          "size": 5
         },
         "name": "Mariusz Błaszczak",
         "text": "Legionowo",
         "type": "scattergeo"
        },
        {
         "lat": [
          51.152777777
         ],
         "lon": [
          15
         ],
         "marker": {
          "color": "rgb(0, 0, 255)",
          "size": 5
         },
         "name": "Robert Winnicki",
         "text": "Zgorzelec",
         "type": "scattergeo"
        },
        {
         "lat": [
          50.933333333
         ],
         "lon": [
          21.4
         ],
         "marker": {
          "color": "rgb(0, 0, 255)",
          "size": 5
         },
         "name": "Anna Wasilewska",
         "text": "Ostrowiec Świętokrzyski",
         "type": "scattergeo"
        },
        {
         "lat": [
          54.5
         ],
         "lon": [
          18.533333333
         ],
         "marker": {
          "color": "rgb(0, 0, 255)",
          "size": 5
         },
         "name": "Małgorzata Zwiercan",
         "text": "Gdynia",
         "type": "scattergeo"
        },
        {
         "lat": [
          51.65
         ],
         "lon": [
          19.383333333
         ],
         "marker": {
          "color": "rgb(0, 0, 255)",
          "size": 5
         },
         "name": "Krzysztof Maciejewski",
         "text": "Pabianice",
         "type": "scattergeo"
        },
        {
         "lat": [
          54.433333333
         ],
         "lon": [
          18.55
         ],
         "marker": {
          "color": "rgb(0, 0, 255)",
          "size": 5
         },
         "name": "Tadeusz Aziewicz",
         "text": "Sopot",
         "type": "scattergeo"
        },
        {
         "lat": [
          51.233333333
         ],
         "lon": [
          22.566666666
         ],
         "marker": {
          "color": "rgb(0, 0, 255)",
          "size": 5
         },
         "name": "Elżbieta Kruk",
         "text": "Lublin",
         "type": "scattergeo"
        },
        {
         "lat": [
          50.083333333
         ],
         "lon": [
          18.5
         ],
         "marker": {
          "color": "rgb(0, 0, 255)",
          "size": 5
         },
         "name": "Grzegorz Janik",
         "text": "Rybnik",
         "type": "scattergeo"
        },
        {
         "lat": [
          50.7
         ],
         "lon": [
          18.68333333
         ],
         "marker": {
          "color": "rgb(0, 0, 255)",
          "size": 5
         },
         "name": "Andrzej Gawron",
         "text": "Kochcice",
         "type": "scattergeo"
        },
        {
         "lat": [
          50.333333333
         ],
         "lon": [
          19.083333333
         ],
         "marker": {
          "color": "rgb(0, 0, 255)",
          "size": 5
         },
         "name": "Jarosław Gonciarz",
         "text": "Czeladź",
         "type": "scattergeo"
        },
        {
         "lat": [
          53.424722222
         ],
         "lon": [
          14.555277777
         ],
         "marker": {
          "color": "rgb(0, 0, 255)",
          "size": 5
         },
         "name": "Magdalena Kochan",
         "text": "Szczecin",
         "type": "scattergeo"
        },
        {
         "lat": [
          53.9
         ],
         "lon": [
          15.216666666
         ],
         "marker": {
          "color": "rgb(0, 0, 255)",
          "size": 5
         },
         "name": "Cezary Tomczyk",
         "text": "Gryfice",
         "type": "scattergeo"
        },
        {
         "lat": [
          50.45
         ],
         "lon": [
          17
         ],
         "marker": {
          "color": "rgb(0, 0, 255)",
          "size": 5
         },
         "name": "Paweł Kukiz",
         "text": "Paczków",
         "type": "scattergeo"
        },
        {
         "lat": [
          52.25
         ],
         "lon": [
          15.533333333
         ],
         "marker": {
          "color": "rgb(0, 0, 255)",
          "size": 5
         },
         "name": "Jacek Kurzępa",
         "text": "Świebodzin",
         "type": "scattergeo"
        },
        {
         "lat": [
          50.25
         ],
         "lon": [
          19
         ],
         "marker": {
          "color": "rgb(0, 0, 255)",
          "size": 5
         },
         "name": "Gabriela Lenartowicz",
         "text": "Katowice",
         "type": "scattergeo"
        },
        {
         "lat": [
          52.216666666
         ],
         "lon": [
          21.033333333
         ],
         "marker": {
          "color": "rgb(0, 0, 255)",
          "size": 5
         },
         "name": "Kornel Morawiecki",
         "text": "Warszawa",
         "type": "scattergeo"
        },
        {
         "lat": [
          53.766666666
         ],
         "lon": [
          16.1
         ],
         "marker": {
          "color": "rgb(0, 0, 255)",
          "size": 5
         },
         "name": "Sławomir Nitras",
         "text": "Połczyn-Zdrój",
         "type": "scattergeo"
        },
        {
         "lat": [
          54.04
         ],
         "lon": [
          21.758888888
         ],
         "marker": {
          "color": "rgb(0, 0, 255)",
          "size": 5
         },
         "name": "Adam Ołdakowski",
         "text": "Giżycko",
         "type": "scattergeo"
        },
        {
         "lat": [
          50.471388888
         ],
         "lon": [
          17.333888888
         ],
         "marker": {
          "color": "rgb(0, 0, 255)",
          "size": 5
         },
         "name": "Janusz Sanocki",
         "text": "Nysa",
         "type": "scattergeo"
        },
        {
         "lat": [
          52.866666666
         ],
         "lon": [
          18.7
         ],
         "marker": {
          "color": "rgb(0, 0, 255)",
          "size": 5
         },
         "name": "Michał Jaros",
         "text": "Aleksandrów Kujawski",
         "type": "scattergeo"
        },
        {
         "lat": [
          53.116666666
         ],
         "lon": [
          18
         ],
         "marker": {
          "color": "rgb(0, 0, 255)",
          "size": 5
         },
         "name": "Krzysztof Brejza",
         "text": "Bydgoszcz",
         "type": "scattergeo"
        },
        {
         "lat": [
          54.466666666
         ],
         "lon": [
          17.033333333
         ],
         "marker": {
          "color": "rgb(0, 0, 255)",
          "size": 5
         },
         "name": "Jolanta Szczypińska",
         "text": "Słupsk",
         "type": "scattergeo"
        },
        {
         "lat": [
          50.766666666
         ],
         "lon": [
          16.283333333
         ],
         "marker": {
          "color": "rgb(0, 0, 255)",
          "size": 5
         },
         "name": "Tomasz Siemoniak",
         "text": "Wałbrzych",
         "type": "scattergeo"
        },
        {
         "lat": [
          50.2
         ],
         "lon": [
          17.833333333
         ],
         "marker": {
          "color": "rgb(0, 0, 255)",
          "size": 5
         },
         "name": "Adam Lipiński",
         "text": "Głubczyce",
         "type": "scattergeo"
        },
        {
         "lat": [
          52.083333333
         ],
         "lon": [
          16.65
         ],
         "marker": {
          "color": "rgb(0, 0, 255)",
          "size": 5
         },
         "name": "Adam Szłapka",
         "text": "Kościan",
         "type": "scattergeo"
        },
        {
         "lat": [
          52.216666666
         ],
         "lon": [
          21.033333333
         ],
         "marker": {
          "color": "rgb(0, 0, 255)",
          "size": 5
         },
         "name": "Rafał Trzaskowski",
         "text": "Warszawa",
         "type": "scattergeo"
        },
        {
         "lat": [
          52.183333333
         ],
         "lon": [
          21.566666666
         ],
         "marker": {
          "color": "rgb(0, 0, 255)",
          "size": 5
         },
         "name": "Teresa Wargocka",
         "text": "Mińsk Mazowiecki",
         "type": "scattergeo"
        },
        {
         "lat": [
          50.666666666
         ],
         "lon": [
          17.933333333
         ],
         "marker": {
          "color": "rgb(0, 0, 255)",
          "size": 5
         },
         "name": "Witold Zembaczyński",
         "text": "Opole",
         "type": "scattergeo"
        },
        {
         "lat": [
          52.546944444
         ],
         "lon": [
          18.500833333
         ],
         "marker": {
          "color": "rgb(0, 0, 255)",
          "size": 5
         },
         "name": "Anna Elżbieta Sobecka",
         "text": "Piotrków Kujawski",
         "type": "scattergeo"
        },
        {
         "lat": [
          52.145
         ],
         "lon": [
          16.760555555
         ],
         "marker": {
          "color": "rgb(0, 0, 255)",
          "size": 5
         },
         "name": "Wojciech Ziemniak",
         "text": "Czempiń",
         "type": "scattergeo"
        },
        {
         "lat": [
          54.135555555
         ],
         "lon": [
          19.013333333
         ],
         "marker": {
          "color": "rgb(0, 0, 255)",
          "size": 5
         },
         "name": "Tadeusz Cymański",
         "text": "Nowy Staw",
         "type": "scattergeo"
        },
        {
         "lat": [
          49.623888888
         ],
         "lon": [
          20.697222222
         ],
         "marker": {
          "color": "rgb(0, 0, 255)",
          "size": 5
         },
         "name": "Jan Duda",
         "text": "Nowy Sącz",
         "type": "scattergeo"
        },
        {
         "lat": [
          52.216666666
         ],
         "lon": [
          21.033333333
         ],
         "marker": {
          "color": "rgb(0, 0, 255)",
          "size": 5
         },
         "name": "Kinga Gajewska-Płochocka",
         "text": "Warszawa",
         "type": "scattergeo"
        },
        {
         "lat": [
          50.283333333
         ],
         "lon": [
          18.666666666
         ],
         "marker": {
          "color": "rgb(0, 0, 255)",
          "size": 5
         },
         "name": "Marta Golbik",
         "text": "Gliwice",
         "type": "scattergeo"
        },
        {
         "lat": [
          51.266666666
         ],
         "lon": [
          15.933333333
         ],
         "marker": {
          "color": "rgb(0, 0, 255)",
          "size": 5
         },
         "name": "Wiesław Krajewski",
         "text": "Chojnów",
         "type": "scattergeo"
        },
        {
         "lat": [
          50.2
         ],
         "lon": [
          19.275
         ],
         "marker": {
          "color": "rgb(0, 0, 255)",
          "size": 5
         },
         "name": "Wojciech Król",
         "text": "Jaworzno",
         "type": "scattergeo"
        },
        {
         "lat": [
          52.216666666
         ],
         "lon": [
          21.033333333
         ],
         "marker": {
          "color": "rgb(0, 0, 255)",
          "size": 5
         },
         "name": "Krzysztof Łapiński",
         "text": "Warszawa",
         "type": "scattergeo"
        },
        {
         "lat": [
          49.983333333
         ],
         "lon": [
          18.95
         ],
         "marker": {
          "color": "rgb(0, 0, 255)",
          "size": 5
         },
         "name": "Tomasz Tomczykiewicz",
         "text": "Pszczyna",
         "type": "scattergeo"
        },
        {
         "lat": [
          52.233333333
         ],
         "lon": [
          19.366666666
         ],
         "marker": {
          "color": "rgb(0, 0, 255)",
          "size": 5
         },
         "name": "Tomasz Rzymkowski",
         "text": "Kutno",
         "type": "scattergeo"
        },
        {
         "lat": [
          51.856388888
         ],
         "lon": [
          19.406111111
         ],
         "marker": {
          "color": "rgb(0, 0, 255)",
          "size": 5
         },
         "name": "Łukasz Rzepecki",
         "text": "Zgierz",
         "type": "scattergeo"
        },
        {
         "lat": [
          57.616666666
         ],
         "lon": [
          39.85
         ],
         "marker": {
          "color": "rgb(0, 0, 255)",
          "size": 5
         },
         "name": "Anna Schmidt-Rodziewicz",
         "text": "Jarosław",
         "type": "scattergeo"
        }
       ],
       "layout": {
        "geo": {
         "lataxis": {
          "range": [
           -6.379788,
           59.616666666
          ]
         },
         "lonaxis": {
          "range": [
           -5.444722222999999,
           59.85
          ]
         },
         "projection": {
          "type": "mercator"
         },
         "resolution": 50,
         "showcountries": true,
         "showland": true
        },
        "title": "Miejsca urodzenia posłów na Sejm RP VIII kadencji"
       }
      },
      "text/html": [
       "<div id=\"a21d12d8-0ceb-405e-992c-b94d14e140d4\" style=\"height: 525px; width: 100%;\" class=\"plotly-graph-div\"></div><script type=\"text/javascript\">require([\"plotly\"], function(Plotly) { window.PLOTLYENV=window.PLOTLYENV || {};window.PLOTLYENV.BASE_URL=\"https://plot.ly\";Plotly.newPlot(\"a21d12d8-0ceb-405e-992c-b94d14e140d4\", [{\"marker\": {\"size\": 5, \"color\": \"rgb(0, 0, 255)\"}, \"lon\": [19.116666666], \"type\": \"scattergeo\", \"text\": \"Cz\\u0119stochowa\", \"name\": \"Szymon Gi\\u017cy\\u0144ski\", \"lat\": [50.8]}, {\"marker\": {\"size\": 5, \"color\": \"rgb(0, 0, 255)\"}, \"lon\": [16.181666666], \"type\": \"scattergeo\", \"text\": \"Koszalin\", \"name\": \"Marek Hok\", \"lat\": [54.190277777]}, {\"marker\": {\"size\": 5, \"color\": \"rgb(0, 0, 255)\"}, \"lon\": [16.383333333], \"type\": \"scattergeo\", \"text\": \"Wronki\", \"name\": \"Rafa\\u0142 Grupi\\u0144ski\", \"lat\": [52.7]}, {\"marker\": {\"size\": 5, \"color\": \"rgb(0, 0, 255)\"}, \"lon\": [19.275], \"type\": \"scattergeo\", \"text\": \"Jaworzno\", \"name\": \"Grzegorz Matusiak\", \"lat\": [50.2]}, {\"marker\": {\"size\": 5, \"color\": \"rgb(0, 0, 255)\"}, \"lon\": [21.033333333], \"type\": \"scattergeo\", \"text\": \"Warszawa\", \"name\": \"Maks Kraczkowski\", \"lat\": [52.216666666]}, {\"marker\": {\"size\": 5, \"color\": \"rgb(0, 0, 255)\"}, \"lon\": [19.966666666], \"type\": \"scattergeo\", \"text\": \"Rabka\", \"name\": \"Edward Siarka\", \"lat\": [49.616666666]}, {\"marker\": {\"size\": 5, \"color\": \"rgb(0, 0, 255)\"}, \"lon\": [19.233333333], \"type\": \"scattergeo\", \"text\": \"O\\u015bwi\\u0119cim\", \"name\": \"Dorota Niedziela\", \"lat\": [50.033333333]}, {\"marker\": {\"size\": 5, \"color\": \"rgb(0, 0, 255)\"}, \"lon\": [21.033333333], \"type\": \"scattergeo\", \"text\": \"Warszawa\", \"name\": \"Joanna Fabisiak\", \"lat\": [52.216666666]}, {\"marker\": {\"size\": 5, \"color\": \"rgb(0, 0, 255)\"}, \"lon\": [19.766666666], \"type\": \"scattergeo\", \"text\": \"Wolbrom\", \"name\": \"Lidia G\\u0105dek\", \"lat\": [50.4]}, {\"marker\": {\"size\": 5, \"color\": \"rgb(0, 0, 255)\"}, \"lon\": [18.616666666], \"type\": \"scattergeo\", \"text\": \"Toru\\u0144\", \"name\": \"\\u0141ukasz Zbonikowski\", \"lat\": [53.016666666]}, {\"marker\": {\"size\": 5, \"color\": \"rgb(0, 0, 255)\"}, \"lon\": [21.766666666], \"type\": \"scattergeo\", \"text\": \"Kolbuszowa\", \"name\": \"Zbigniew Chmielowiec\", \"lat\": [50.25]}, {\"marker\": {\"size\": 5, \"color\": \"rgb(0, 0, 255)\"}, \"lon\": [16.456111111], \"type\": \"scattergeo\", \"text\": \"Wambierzyce\", \"name\": \"S\\u0142awomir K\\u0142osowski\", \"lat\": [50.489166666]}, {\"marker\": {\"size\": 5, \"color\": \"rgb(0, 0, 255)\"}, \"lon\": [21.3], \"type\": \"scattergeo\", \"text\": \"Jod\\u0142owa\", \"name\": \"Jan Warzecha\", \"lat\": [49.86666667]}, {\"marker\": {\"size\": 5, \"color\": \"rgb(0, 0, 255)\"}, \"lon\": [17.833333333], \"type\": \"scattergeo\", \"text\": \"G\\u0142ubczyce\", \"name\": \"Mariusz Orion J\\u0119drysek\", \"lat\": [50.2]}, {\"marker\": {\"size\": 5, \"color\": \"rgb(0, 0, 255)\"}, \"lon\": [18.933333333], \"type\": \"scattergeo\", \"text\": \"Czernikowo\", \"name\": \"Jan Krzysztof Ardanowski\", \"lat\": [52.95]}, {\"marker\": {\"size\": 5, \"color\": \"rgb(0, 0, 255)\"}, \"lon\": [19.633333333], \"type\": \"scattergeo\", \"text\": \"Krzeszowice\", \"name\": \"Andrzej Adamczyk\", \"lat\": [50.133333333]}, {\"marker\": {\"size\": 5, \"color\": \"rgb(0, 0, 255)\"}, \"lon\": [14.785833333], \"type\": \"scattergeo\", \"text\": \"Kamie\\u0144 Pomorski\", \"name\": \"Marek Zag\\u00f3rski\", \"lat\": [53.969722222]}, {\"marker\": {\"size\": 5, \"color\": \"rgb(0, 0, 255)\"}, \"lon\": [22.216666666], \"type\": \"scattergeo\", \"text\": \"Kra\\u015bnik\", \"name\": \"Wojciech Wilk\", \"lat\": [50.916666666]}, {\"marker\": {\"size\": 5, \"color\": \"rgb(0, 0, 255)\"}, \"lon\": [18.95], \"type\": \"scattergeo\", \"text\": \"\\u015awierklaniec\", \"name\": \"Joachim Brudzi\\u0144ski\", \"lat\": [50.43333]}, {\"marker\": {\"size\": 5, \"color\": \"rgb(0, 0, 255)\"}, \"lon\": [18.5], \"type\": \"scattergeo\", \"text\": \"Turek\", \"name\": \"Waldemar Buda\", \"lat\": [52.016666666]}, {\"marker\": {\"size\": 5, \"color\": \"rgb(0, 0, 255)\"}, \"lon\": [21.166666666], \"type\": \"scattergeo\", \"text\": \"Gorlice\", \"name\": \"El\\u017cbieta Borowska\", \"lat\": [49.666666666]}, {\"marker\": {\"size\": 5, \"color\": \"rgb(0, 0, 255)\"}, \"lon\": [20.631944444], \"type\": \"scattergeo\", \"text\": \"Kielce\", \"name\": \"Adam Cyra\\u0144ski\", \"lat\": [50.8725]}, {\"marker\": {\"size\": 5, \"color\": \"rgb(0, 0, 255)\"}, \"lon\": [19.0], \"type\": \"scattergeo\", \"text\": \"Katowice\", \"name\": \"Grzegorz D\\u0142ugi\", \"lat\": [50.25]}, {\"marker\": {\"size\": 5, \"color\": \"rgb(0, 0, 255)\"}, \"lon\": [18.633333333], \"type\": \"scattergeo\", \"text\": \"Ko\\u0142o\", \"name\": \"Leszek Galemba\", \"lat\": [52.2]}, {\"marker\": {\"size\": 5, \"color\": \"rgb(0, 0, 255)\"}, \"lon\": [17.7], \"type\": \"scattergeo\", \"text\": \"Ostr\\u00f3w Wielkopolski\", \"name\": \"Tomasz \\u0141awniczak\", \"lat\": [51.65]}, {\"marker\": {\"size\": 5, \"color\": \"rgb(0, 0, 255)\"}, \"lon\": [19.458511111], \"type\": \"scattergeo\", \"text\": \"\\u0141\\u00f3d\\u017a\", \"name\": \"Katarzyna Lubnauer\", \"lat\": [51.759494444]}, {\"marker\": {\"size\": 5, \"color\": \"rgb(0, 0, 255)\"}, \"lon\": [20.3], \"type\": \"scattergeo\", \"text\": \"Proszowice\", \"name\": \"Norbert Kaczmarczyk\", \"lat\": [50.2]}, {\"marker\": {\"size\": 5, \"color\": \"rgb(0, 0, 255)\"}, \"lon\": [17.583333333], \"type\": \"scattergeo\", \"text\": \"Wrze\\u015bnia\", \"name\": \"Bartosz J\\u00f3zwiak\", \"lat\": [52.333333333]}, {\"marker\": {\"size\": 5, \"color\": \"rgb(0, 0, 255)\"}, \"lon\": [18.08], \"type\": \"scattergeo\", \"text\": \"Kalisz\", \"name\": \"Jerzy Koz\\u0142owski\", \"lat\": [51.7575]}, {\"marker\": {\"size\": 5, \"color\": \"rgb(0, 0, 255)\"}, \"lon\": [16.491388888], \"type\": \"scattergeo\", \"text\": \"\\u015awidnica\", \"name\": \"Wojciech Murdzek\", \"lat\": [50.846111111]}, {\"marker\": {\"size\": 5, \"color\": \"rgb(0, 0, 255)\"}, \"lon\": [18.923], \"type\": \"scattergeo\", \"text\": \"Bytom\", \"name\": \"Janusz Cicho\\u0144\", \"lat\": [50.347]}, {\"marker\": {\"size\": 5, \"color\": \"rgb(0, 0, 255)\"}, \"lon\": [20.697222222], \"type\": \"scattergeo\", \"text\": \"Nowy S\\u0105cz\", \"name\": \"Andrzej Czerwi\\u0144ski\", \"lat\": [49.623888888]}, {\"marker\": {\"size\": 5, \"color\": \"rgb(0, 0, 255)\"}, \"lon\": [16.5], \"type\": \"scattergeo\", \"text\": \"Nowa Ruda\", \"name\": \"Monika Wielichowska\", \"lat\": [50.583333333]}, {\"marker\": {\"size\": 5, \"color\": \"rgb(0, 0, 255)\"}, \"lon\": [19.7], \"type\": \"scattergeo\", \"text\": \"P\\u0142ock\", \"name\": \"El\\u017cbieta Gapi\\u0144ska\", \"lat\": [52.55]}, {\"marker\": {\"size\": 5, \"color\": \"rgb(0, 0, 255)\"}, \"lon\": [18.633333333], \"type\": \"scattergeo\", \"text\": \"Gda\\u0144sk\", \"name\": \"Ma\\u0142gorzata Gosiewska\", \"lat\": [54.366666666]}, {\"marker\": {\"size\": 5, \"color\": \"rgb(0, 0, 255)\"}, \"lon\": [18.45], \"type\": \"scattergeo\", \"text\": \"Wodzis\\u0142aw \\u015al\\u0105ski\", \"name\": \"Krzysztof Sitarski\", \"lat\": [50.0]}, {\"marker\": {\"size\": 5, \"color\": \"rgb(0, 0, 255)\"}, \"lon\": [21.166666666], \"type\": \"scattergeo\", \"text\": \"Gorlice\", \"name\": \"Barbara Bartu\\u015b\", \"lat\": [49.666666666]}, {\"marker\": {\"size\": 5, \"color\": \"rgb(0, 0, 255)\"}, \"lon\": [19.683333333], \"type\": \"scattergeo\", \"text\": \"Piotrk\\u00f3w Trybunalski\", \"name\": \"Witold Waszczykowski\", \"lat\": [51.4]}, {\"marker\": {\"size\": 5, \"color\": \"rgb(0, 0, 255)\"}, \"lon\": [14.555277777], \"type\": \"scattergeo\", \"text\": \"Szczecin\", \"name\": \"Artur Sza\\u0142abawka\", \"lat\": [53.424722222]}, {\"marker\": {\"size\": 5, \"color\": \"rgb(0, 0, 255)\"}, \"lon\": [14.555277777], \"type\": \"scattergeo\", \"text\": \"Szczecin\", \"name\": \"Pawe\\u0142 Szefernaker\", \"lat\": [53.424722222]}, {\"marker\": {\"size\": 5, \"color\": \"rgb(0, 0, 255)\"}, \"lon\": [19.95], \"type\": \"scattergeo\", \"text\": \"Krak\\u00f3w\", \"name\": \"Ma\\u0142gorzata Wassermann\", \"lat\": [50.066666666]}, {\"marker\": {\"size\": 5, \"color\": \"rgb(0, 0, 255)\"}, \"lon\": [16.916666666], \"type\": \"scattergeo\", \"text\": \"Pozna\\u0144\", \"name\": \"Szymon Zi\\u00f3\\u0142kowski\", \"lat\": [52.4]}, {\"marker\": {\"size\": 5, \"color\": \"rgb(0, 0, 255)\"}, \"lon\": [19.275], \"type\": \"scattergeo\", \"text\": \"Jaworzno\", \"name\": \"Pawe\\u0142 Ba\\u0144kowski\", \"lat\": [50.2]}, {\"marker\": {\"size\": 5, \"color\": \"rgb(0, 0, 255)\"}, \"lon\": [18.216666666], \"type\": \"scattergeo\", \"text\": \"Kluczbork\", \"name\": \"Bo\\u017cena Henczyca\", \"lat\": [50.983333333]}, {\"marker\": {\"size\": 5, \"color\": \"rgb(0, 0, 255)\"}, \"lon\": [18.0], \"type\": \"scattergeo\", \"text\": \"Bydgoszcz\", \"name\": \"Piotr Kr\\u00f3l\", \"lat\": [53.116666666]}, {\"marker\": {\"size\": 5, \"color\": \"rgb(0, 0, 255)\"}, \"lon\": [22.0], \"type\": \"scattergeo\", \"text\": \"Rzesz\\u00f3w\", \"name\": \"Wojciech Buczak\", \"lat\": [50.05]}, {\"marker\": {\"size\": 5, \"color\": \"rgb(0, 0, 255)\"}, \"lon\": [18.683333333], \"type\": \"scattergeo\", \"text\": \"Knur\\u00f3w\", \"name\": \"Krystyna Szumilas\", \"lat\": [50.216666666]}, {\"marker\": {\"size\": 5, \"color\": \"rgb(0, 0, 255)\"}, \"lon\": [22.4], \"type\": \"scattergeo\", \"text\": \"Radzi\\u0142\\u00f3w\", \"name\": \"Kazimierz Gwiazdowski\", \"lat\": [53.4]}, {\"marker\": {\"size\": 5, \"color\": \"rgb(0, 0, 255)\"}, \"lon\": [19.194722222], \"type\": \"scattergeo\", \"text\": \"D\\u0105browa G\\u00f3rnicza\", \"name\": \"Beata Ma\\u0142ecka-Libera\", \"lat\": [50.323888888]}, {\"marker\": {\"size\": 5, \"color\": \"rgb(0, 0, 255)\"}, \"lon\": [20.483333333], \"type\": \"scattergeo\", \"text\": \"Olsztyn\", \"name\": \"Henryka Krzywonos-Strycharska\", \"lat\": [53.783333333]}, {\"marker\": {\"size\": 5, \"color\": \"rgb(0, 0, 255)\"}, \"lon\": [19.458511111], \"type\": \"scattergeo\", \"text\": \"\\u0141\\u00f3d\\u017a\", \"name\": \"W\\u0142odzimierz Nykiel\", \"lat\": [51.759494444]}, {\"marker\": {\"size\": 5, \"color\": \"rgb(0, 0, 255)\"}, \"lon\": [21.156666666], \"type\": \"scattergeo\", \"text\": \"Radom\", \"name\": \"Robert Mordak\", \"lat\": [51.403611111]}, {\"marker\": {\"size\": 5, \"color\": \"rgb(0, 0, 255)\"}, \"lon\": [16.2], \"type\": \"scattergeo\", \"text\": \"Lubin\", \"name\": \"Jan Mosi\\u0144ski\", \"lat\": [51.4]}, {\"marker\": {\"size\": 5, \"color\": \"rgb(0, 0, 255)\"}, \"lon\": [21.033333333], \"type\": \"scattergeo\", \"text\": \"Warszawa\", \"name\": \"Pawe\\u0142 Lisiecki\", \"lat\": [52.216666666]}, {\"marker\": {\"size\": 5, \"color\": \"rgb(0, 0, 255)\"}, \"lon\": [22.128888888], \"type\": \"scattergeo\", \"text\": \"Soko\\u0142\\u00f3w Ma\\u0142opolski\", \"name\": \"Mieczys\\u0142aw Miazga\", \"lat\": [50.241944444]}, {\"marker\": {\"size\": 5, \"color\": \"rgb(0, 0, 255)\"}, \"lon\": [17.03533], \"type\": \"scattergeo\", \"text\": \"Wroc\\u0142aw\", \"name\": \"Ryszard Petru\", \"lat\": [51.10773]}, {\"marker\": {\"size\": 5, \"color\": \"rgb(0, 0, 255)\"}, \"lon\": [19.083333333], \"type\": \"scattergeo\", \"text\": \"Czelad\\u017a\", \"name\": \"Monika Rosa\", \"lat\": [50.333333333]}, {\"marker\": {\"size\": 5, \"color\": \"rgb(0, 0, 255)\"}, \"lon\": [19.458511111], \"type\": \"scattergeo\", \"text\": \"\\u0141\\u00f3d\\u017a\", \"name\": \"Cezary Grabarczyk\", \"lat\": [51.759494444]}, {\"marker\": {\"size\": 5, \"color\": \"rgb(0, 0, 255)\"}, \"lon\": [19.116666666], \"type\": \"scattergeo\", \"text\": \"Cz\\u0119stochowa\", \"name\": \"Izabela Leszczyna\", \"lat\": [50.8]}, {\"marker\": {\"size\": 5, \"color\": \"rgb(0, 0, 255)\"}, \"lon\": [16.466666666], \"type\": \"scattergeo\", \"text\": \"Wa\\u0142cz\", \"name\": \"Pawe\\u0142 Suski\", \"lat\": [53.266666666]}, {\"marker\": {\"size\": 5, \"color\": \"rgb(0, 0, 255)\"}, \"lon\": [21.033333333], \"type\": \"scattergeo\", \"text\": \"Warszawa\", \"name\": \"Micha\\u0142 Szczerba\", \"lat\": [52.216666666]}, {\"marker\": {\"size\": 5, \"color\": \"rgb(0, 0, 255)\"}, \"lon\": [22.9167], \"type\": \"scattergeo\", \"text\": \"Wola Obsza\\u0144ska\", \"name\": \"Zofia Czernow\", \"lat\": [50.3167]}, {\"marker\": {\"size\": 5, \"color\": \"rgb(0, 0, 255)\"}, \"lon\": [15.983333333], \"type\": \"scattergeo\", \"text\": \"Bia\\u0142ogard\", \"name\": \"Jerzy Borowczak\", \"lat\": [54.0]}, {\"marker\": {\"size\": 5, \"color\": \"rgb(0, 0, 255)\"}, \"lon\": [20.55], \"type\": \"scattergeo\", \"text\": \"St\\u0105pork\\u00f3w\", \"name\": \"Ewa Drozd\", \"lat\": [51.15]}, {\"marker\": {\"size\": 5, \"color\": \"rgb(0, 0, 255)\"}, \"lon\": [20.008888888], \"type\": \"scattergeo\", \"text\": \"Tomasz\\u00f3w Mazowiecki\", \"name\": \"S\\u0142awomir Jan Piechota\", \"lat\": [51.531388888]}, {\"marker\": {\"size\": 5, \"color\": \"rgb(0, 0, 255)\"}, \"lon\": [18.533333333], \"type\": \"scattergeo\", \"text\": \"Gdynia\", \"name\": \"Dorota Arciszewska-Mielewczyk\", \"lat\": [54.5]}, {\"marker\": {\"size\": 5, \"color\": \"rgb(0, 0, 255)\"}, \"lon\": [20.283333333], \"type\": \"scattergeo\", \"text\": \"Opoczno\", \"name\": \"Robert Telus\", \"lat\": [51.383333333]}, {\"marker\": {\"size\": 5, \"color\": \"rgb(0, 0, 255)\"}, \"lon\": [18.55], \"type\": \"scattergeo\", \"text\": \"Sopot\", \"name\": \"Marek Biernacki\", \"lat\": [54.433333333]}, {\"marker\": {\"size\": 5, \"color\": \"rgb(0, 0, 255)\"}, \"lon\": [21.232257], \"type\": \"scattergeo\", \"text\": \"Stara Mi\\u0142osna\", \"name\": \"Jan Szyszko\", \"lat\": [52.221598]}, {\"marker\": {\"size\": 5, \"color\": \"rgb(0, 0, 255)\"}, \"lon\": [21.033333333], \"type\": \"scattergeo\", \"text\": \"Warszawa\", \"name\": \"Piotr U\\u015bci\\u0144ski\", \"lat\": [52.216666666]}, {\"marker\": {\"size\": 5, \"color\": \"rgb(0, 0, 255)\"}, \"lon\": [21.033333333], \"type\": \"scattergeo\", \"text\": \"Warszawa\", \"name\": \"Maciej W\\u0105sik\", \"lat\": [52.216666666]}, {\"marker\": {\"size\": 5, \"color\": \"rgb(0, 0, 255)\"}, \"lon\": [22.8], \"type\": \"scattergeo\", \"text\": \"Mi\\u0119dzyrzec Podlaski\", \"name\": \"Kornelia Wr\\u00f3blewska\", \"lat\": [51.983333]}, {\"marker\": {\"size\": 5, \"color\": \"rgb(0, 0, 255)\"}, \"lon\": [21.033333333], \"type\": \"scattergeo\", \"text\": \"Warszawa\", \"name\": \"Micha\\u0142 Dworczyk\", \"lat\": [52.216666666]}, {\"marker\": {\"size\": 5, \"color\": \"rgb(0, 0, 255)\"}, \"lon\": [22.733333333], \"type\": \"scattergeo\", \"text\": \"Bi\\u0142goraj\", \"name\": \"Agata Borowiec\", \"lat\": [50.55]}, {\"marker\": {\"size\": 5, \"color\": \"rgb(0, 0, 255)\"}, \"lon\": [21.033333333], \"type\": \"scattergeo\", \"text\": \"Warszawa\", \"name\": \"Jan Dziedziczak\", \"lat\": [52.216666666]}, {\"marker\": {\"size\": 5, \"color\": \"rgb(0, 0, 255)\"}, \"lon\": [19.866666666], \"type\": \"scattergeo\", \"text\": \"Ska\\u0142a\", \"name\": \"El\\u017cbieta Duda\", \"lat\": [50.233333333]}, {\"marker\": {\"size\": 5, \"color\": \"rgb(0, 0, 255)\"}, \"lon\": [21.116111111], \"type\": \"scattergeo\", \"text\": \"Z\\u0105bki\", \"name\": \"Jolanta Hibner\", \"lat\": [52.292777777]}, {\"marker\": {\"size\": 5, \"color\": \"rgb(0, 0, 255)\"}, \"lon\": [18.633333333], \"type\": \"scattergeo\", \"text\": \"Gda\\u0144sk\", \"name\": \"Marcin Hora\\u0142a\", \"lat\": [54.366666666]}, {\"marker\": {\"size\": 5, \"color\": \"rgb(0, 0, 255)\"}, \"lon\": [18.533333333], \"type\": \"scattergeo\", \"text\": \"Gdynia\", \"name\": \"Agnieszka Pomaska\", \"lat\": [54.5]}, {\"marker\": {\"size\": 5, \"color\": \"rgb(0, 0, 255)\"}, \"lon\": [18.08], \"type\": \"scattergeo\", \"text\": \"Kalisz\", \"name\": \"Piotr Kaleta\", \"lat\": [51.7575]}, {\"marker\": {\"size\": 5, \"color\": \"rgb(0, 0, 255)\"}, \"lon\": [19.0], \"type\": \"scattergeo\", \"text\": \"Katowice\", \"name\": \"Marek W\\u00f3jcik\", \"lat\": [50.25]}, {\"marker\": {\"size\": 5, \"color\": \"rgb(0, 0, 255)\"}, \"lon\": [21.033333333], \"type\": \"scattergeo\", \"text\": \"Warszawa\", \"name\": \"Anna Krupka\", \"lat\": [52.216666666]}, {\"marker\": {\"size\": 5, \"color\": \"rgb(0, 0, 255)\"}, \"lon\": [20.716666666], \"type\": \"scattergeo\", \"text\": \"Busko-Zdr\\u00f3j\", \"name\": \"Piotr Liroy-Marzec\", \"lat\": [50.466666666]}, {\"marker\": {\"size\": 5, \"color\": \"rgb(0, 0, 255)\"}, \"lon\": [21.033333333], \"type\": \"scattergeo\", \"text\": \"Warszawa\", \"name\": \"Joanna Lichocka\", \"lat\": [52.216666666]}, {\"marker\": {\"size\": 5, \"color\": \"rgb(0, 0, 255)\"}, \"lon\": [22.318611111], \"type\": \"scattergeo\", \"text\": \"Nowa Sarzyna\", \"name\": \"Jerzy Paul\", \"lat\": [50.322222222]}, {\"marker\": {\"size\": 5, \"color\": \"rgb(0, 0, 255)\"}, \"lon\": [16.916666666], \"type\": \"scattergeo\", \"text\": \"Pozna\\u0144\", \"name\": \"Krzysztof Paszyk\", \"lat\": [52.4]}, {\"marker\": {\"size\": 5, \"color\": \"rgb(0, 0, 255)\"}, \"lon\": [16.012222222], \"type\": \"scattergeo\", \"text\": \"Z\\u0142ocieniec\", \"name\": \"Krystyna Sibi\\u0144ska\", \"lat\": [53.526944444]}, {\"marker\": {\"size\": 5, \"color\": \"rgb(0, 0, 255)\"}, \"lon\": [16.3], \"type\": \"scattergeo\", \"text\": \"Wschowa\", \"name\": \"Waldy Dzikowski\", \"lat\": [51.8]}, {\"marker\": {\"size\": 5, \"color\": \"rgb(0, 0, 255)\"}, \"lon\": [19.233333333], \"type\": \"scattergeo\", \"text\": \"O\\u015bwi\\u0119cim\", \"name\": \"Beata Szyd\\u0142o\", \"lat\": [50.033333333]}, {\"marker\": {\"size\": 5, \"color\": \"rgb(0, 0, 255)\"}, \"lon\": [21.016666666], \"type\": \"scattergeo\", \"text\": \"Piaseczno\", \"name\": \"Roman Jacek Kosecki\", \"lat\": [52.066666666]}, {\"marker\": {\"size\": 5, \"color\": \"rgb(0, 0, 255)\"}, \"lon\": [19.406111111], \"type\": \"scattergeo\", \"text\": \"Zgierz\", \"name\": \"Agnieszka Hanajczyk\", \"lat\": [51.856388888]}, {\"marker\": {\"size\": 5, \"color\": \"rgb(0, 0, 255)\"}, \"lon\": [22.4833], \"type\": \"scattergeo\", \"text\": \"Wa\\u0144kowa\", \"name\": \"Miros\\u0142awa Nykiel\", \"lat\": [49.5167]}, {\"marker\": {\"size\": 5, \"color\": \"rgb(0, 0, 255)\"}, \"lon\": [20.723055555], \"type\": \"scattergeo\", \"text\": \"Mogielnica\", \"name\": \"Dariusz B\\u0105k\", \"lat\": [51.689722222]}, {\"marker\": {\"size\": 5, \"color\": \"rgb(0, 0, 255)\"}, \"lon\": [19.566666666], \"type\": \"scattergeo\", \"text\": \"Olkusz\", \"name\": \"Jacek Osuch\", \"lat\": [50.283333333]}, {\"marker\": {\"size\": 5, \"color\": \"rgb(0, 0, 255)\"}, \"lon\": [18.55], \"type\": \"scattergeo\", \"text\": \"Sopot\", \"name\": \"Janusz \\u015aniadek\", \"lat\": [54.433333333]}, {\"marker\": {\"size\": 5, \"color\": \"rgb(0, 0, 255)\"}, \"lon\": [20.383333333], \"type\": \"scattergeo\", \"text\": \"P\\u0142o\\u0144sk\", \"name\": \"Joanna Mucha\", \"lat\": [52.633333333]}, {\"marker\": {\"size\": 5, \"color\": \"rgb(0, 0, 255)\"}, \"lon\": [15.533333333], \"type\": \"scattergeo\", \"text\": \"\\u015awiebodzin\", \"name\": \"Miros\\u0142awa Stachowiak-R\\u00f3\\u017cecka\", \"lat\": [52.25]}, {\"marker\": {\"size\": 5, \"color\": \"rgb(0, 0, 255)\"}, \"lon\": [22.566666666], \"type\": \"scattergeo\", \"text\": \"Lublin\", \"name\": \"Dominik Tarczy\\u0144ski\", \"lat\": [51.233333333]}, {\"marker\": {\"size\": 5, \"color\": \"rgb(0, 0, 255)\"}, \"lon\": [18.5], \"type\": \"scattergeo\", \"text\": \"Turek\", \"name\": \"Ryszard Bartosik\", \"lat\": [52.016666666]}, {\"marker\": {\"size\": 5, \"color\": \"rgb(0, 0, 255)\"}, \"lon\": [22.216666666], \"type\": \"scattergeo\", \"text\": \"Kra\\u015bnik\", \"name\": \"Jaros\\u0142aw Stawiarski\", \"lat\": [50.916666666]}, {\"marker\": {\"size\": 5, \"color\": \"rgb(0, 0, 255)\"}, \"lon\": [19.05], \"type\": \"scattergeo\", \"text\": \"Malbork\", \"name\": \"Kazimierz Smoli\\u0144ski\", \"lat\": [54.033333333]}, {\"marker\": {\"size\": 5, \"color\": \"rgb(0, 0, 255)\"}, \"lon\": [21.033333333], \"type\": \"scattergeo\", \"text\": \"Warszawa\", \"name\": \"Anita Czerwi\\u0144ska\", \"lat\": [52.216666666]}, {\"marker\": {\"size\": 5, \"color\": \"rgb(0, 0, 255)\"}, \"lon\": [19.0], \"type\": \"scattergeo\", \"text\": \"Katowice\", \"name\": \"Ewa Ko\\u0142odziej\", \"lat\": [50.25]}, {\"marker\": {\"size\": 5, \"color\": \"rgb(0, 0, 255)\"}, \"lon\": [23.166666666], \"type\": \"scattergeo\", \"text\": \"Krasnystaw\", \"name\": \"Teresa Ha\\u0142as\", \"lat\": [51.0]}, {\"marker\": {\"size\": 5, \"color\": \"rgb(0, 0, 255)\"}, \"lon\": [19.45], \"type\": \"scattergeo\", \"text\": \"Lubawa\", \"name\": \"Antoni M\\u0119\\u017cyd\\u0142o\", \"lat\": [53.3]}, {\"marker\": {\"size\": 5, \"color\": \"rgb(0, 0, 255)\"}, \"lon\": [18.633333333], \"type\": \"scattergeo\", \"text\": \"Gda\\u0144sk\", \"name\": \"Adam Korol\", \"lat\": [54.366666666]}, {\"marker\": {\"size\": 5, \"color\": \"rgb(0, 0, 255)\"}, \"lon\": [22.083333333], \"type\": \"scattergeo\", \"text\": \"\\u0141om\\u017ca\", \"name\": \"Bernadeta Krynicka\", \"lat\": [53.166666666]}, {\"marker\": {\"size\": 5, \"color\": \"rgb(0, 0, 255)\"}, \"lon\": [21.811666666], \"type\": \"scattergeo\", \"text\": \"Ka\\u0142uszyn\", \"name\": \"Czes\\u0142aw Mroczek\", \"lat\": [52.208333333]}, {\"marker\": {\"size\": 5, \"color\": \"rgb(0, 0, 255)\"}, \"lon\": [20.483333333], \"type\": \"scattergeo\", \"text\": \"Olsztyn\", \"name\": \"Miros\\u0142aw Pampuch\", \"lat\": [53.783333333]}, {\"marker\": {\"size\": 5, \"color\": \"rgb(0, 0, 255)\"}, \"lon\": [16.916666666], \"type\": \"scattergeo\", \"text\": \"Pozna\\u0144\", \"name\": \"Jacek Tomczak\", \"lat\": [52.4]}, {\"marker\": {\"size\": 5, \"color\": \"rgb(0, 0, 255)\"}, \"lon\": [23.483333333], \"type\": \"scattergeo\", \"text\": \"Che\\u0142m\", \"name\": \"Grzegorz Raniewicz\", \"lat\": [51.133333333]}, {\"marker\": {\"size\": 5, \"color\": \"rgb(0, 0, 255)\"}, \"lon\": [20.631944444], \"type\": \"scattergeo\", \"text\": \"Kielce\", \"name\": \"Rajmund Miller\", \"lat\": [50.8725]}, {\"marker\": {\"size\": 5, \"color\": \"rgb(0, 0, 255)\"}, \"lon\": [18.776111111], \"type\": \"scattergeo\", \"text\": \"Grudzi\\u0105dz\", \"name\": \"Tomasz Szyma\\u0144ski\", \"lat\": [53.4925]}, {\"marker\": {\"size\": 5, \"color\": \"rgb(0, 0, 255)\"}, \"lon\": [22.0], \"type\": \"scattergeo\", \"text\": \"Rzesz\\u00f3w\", \"name\": \"Andrzej Szlachta\", \"lat\": [50.05]}, {\"marker\": {\"size\": 5, \"color\": \"rgb(0, 0, 255)\"}, \"lon\": [16.166666666], \"type\": \"scattergeo\", \"text\": \"Legnica\", \"name\": \"Robert Kropiwnicki\", \"lat\": [51.216666666]}, {\"marker\": {\"size\": 5, \"color\": \"rgb(0, 0, 255)\"}, \"lon\": [21.033333333], \"type\": \"scattergeo\", \"text\": \"Warszawa\", \"name\": \"Anna Maria Siarkowska\", \"lat\": [52.216666666]}, {\"marker\": {\"size\": 5, \"color\": \"rgb(0, 0, 255)\"}, \"lon\": [22.742222222], \"type\": \"scattergeo\", \"text\": \"Tarnogr\\u00f3d\", \"name\": \"Stanis\\u0142aw \\u017bmijan\", \"lat\": [50.360555555]}, {\"marker\": {\"size\": 5, \"color\": \"rgb(0, 0, 255)\"}, \"lon\": [21.156666666], \"type\": \"scattergeo\", \"text\": \"Radom\", \"name\": \"Wojciech Skurkiewicz\", \"lat\": [51.403611111]}, {\"marker\": {\"size\": 5, \"color\": \"rgb(0, 0, 255)\"}, \"lon\": [19.5], \"type\": \"scattergeo\", \"text\": \"Wadowice\", \"name\": \"Marek Polak\", \"lat\": [49.883333333]}, {\"marker\": {\"size\": 5, \"color\": \"rgb(0, 0, 255)\"}, \"lon\": [17.03533], \"type\": \"scattergeo\", \"text\": \"Wroc\\u0142aw\", \"name\": \"Przemys\\u0142aw Czarnecki\", \"lat\": [51.10773]}, {\"marker\": {\"size\": 5, \"color\": \"rgb(0, 0, 255)\"}, \"lon\": [17.001111111], \"type\": \"scattergeo\", \"text\": \"Janowiec\", \"name\": \"Krzysztof Szulowski\", \"lat\": [53.710277777]}, {\"marker\": {\"size\": 5, \"color\": \"rgb(0, 0, 255)\"}, \"lon\": [23.166666666], \"type\": \"scattergeo\", \"text\": \"Bia\\u0142ystok\", \"name\": \"Krzysztof Truskolaski\", \"lat\": [53.116666666]}, {\"marker\": {\"size\": 5, \"color\": \"rgb(0, 0, 255)\"}, \"lon\": [20.008888888], \"type\": \"scattergeo\", \"text\": \"Tomasz\\u00f3w Mazowiecki\", \"name\": \"Rafa\\u0142 W\\u00f3jcikowski\", \"lat\": [51.531388888]}, {\"marker\": {\"size\": 5, \"color\": \"rgb(0, 0, 255)\"}, \"lon\": [21.033333333], \"type\": \"scattergeo\", \"text\": \"Warszawa\", \"name\": \"Piotr Apel\", \"lat\": [52.216666666]}, {\"marker\": {\"size\": 5, \"color\": \"rgb(0, 0, 255)\"}, \"lon\": [16.583333333], \"type\": \"scattergeo\", \"text\": \"Szamotu\\u0142y\", \"name\": \"Zbigniew Ajchler\", \"lat\": [52.6]}, {\"marker\": {\"size\": 5, \"color\": \"rgb(0, 0, 255)\"}, \"lon\": [20.8675], \"type\": \"scattergeo\", \"text\": \"Gr\\u00f3jec\", \"name\": \"Marek Suski\", \"lat\": [51.865555555]}, {\"marker\": {\"size\": 5, \"color\": \"rgb(0, 0, 255)\"}, \"lon\": [18.866666666], \"type\": \"scattergeo\", \"text\": \"Tarnowskie G\\u00f3ry\", \"name\": \"Barbara Dziuk\", \"lat\": [50.45]}, {\"marker\": {\"size\": 5, \"color\": \"rgb(0, 0, 255)\"}, \"lon\": [19.95], \"type\": \"scattergeo\", \"text\": \"Krak\\u00f3w\", \"name\": \"Ewa Filipiak\", \"lat\": [50.066666666]}, {\"marker\": {\"size\": 5, \"color\": \"rgb(0, 0, 255)\"}, \"lon\": [17.483333333], \"type\": \"scattergeo\", \"text\": \"Brzeg\", \"name\": \"Stanis\\u0142aw Gaw\\u0142owski\", \"lat\": [50.866666666]}, {\"marker\": {\"size\": 5, \"color\": \"rgb(0, 0, 255)\"}, \"lon\": [16.683333333], \"type\": \"scattergeo\", \"text\": \"Szczecinek\", \"name\": \"Ma\\u0142gorzata Goli\\u0144ska\", \"lat\": [53.716666666]}, {\"marker\": {\"size\": 5, \"color\": \"rgb(0, 0, 255)\"}, \"lon\": [22.35], \"type\": \"scattergeo\", \"text\": \"E\\u0142k\", \"name\": \"Wojciech Kossakowski\", \"lat\": [53.816666666]}, {\"marker\": {\"size\": 5, \"color\": \"rgb(0, 0, 255)\"}, \"lon\": [19.683333333], \"type\": \"scattergeo\", \"text\": \"Piotrk\\u00f3w Trybunalski\", \"name\": \"Dariusz Kubiak\", \"lat\": [51.4]}, {\"marker\": {\"size\": 5, \"color\": \"rgb(0, 0, 255)\"}, \"lon\": [16.683333333], \"type\": \"scattergeo\", \"text\": \"Szczecinek\", \"name\": \"Rados\\u0142aw Lubczyk\", \"lat\": [53.716666666]}, {\"marker\": {\"size\": 5, \"color\": \"rgb(0, 0, 255)\"}, \"lon\": [14.555277777], \"type\": \"scattergeo\", \"text\": \"Szczecin\", \"name\": \"Norbert Obrycki\", \"lat\": [53.424722222]}, {\"marker\": {\"size\": 5, \"color\": \"rgb(0, 0, 255)\"}, \"lon\": [15.533333333], \"type\": \"scattergeo\", \"text\": \"\\u015awiebodzin\", \"name\": \"Katarzyna Osos\", \"lat\": [52.25]}, {\"marker\": {\"size\": 5, \"color\": \"rgb(0, 0, 255)\"}, \"lon\": [14.555277777], \"type\": \"scattergeo\", \"text\": \"Szczecin\", \"name\": \"Piotr Misi\\u0142o\", \"lat\": [53.424722222]}, {\"marker\": {\"size\": 5, \"color\": \"rgb(0, 0, 255)\"}, \"lon\": [19.044444444], \"type\": \"scattergeo\", \"text\": \"Bielsko-Bia\\u0142a\", \"name\": \"Grzegorz Puda\", \"lat\": [49.8225]}, {\"marker\": {\"size\": 5, \"color\": \"rgb(0, 0, 255)\"}, \"lon\": [17.483333333], \"type\": \"scattergeo\", \"text\": \"Brzeg\", \"name\": \"Jacek Protasiewicz\", \"lat\": [50.866666666]}, {\"marker\": {\"size\": 5, \"color\": \"rgb(0, 0, 255)\"}, \"lon\": [18.0], \"type\": \"scattergeo\", \"text\": \"Bydgoszcz\", \"name\": \"\\u0141ukasz Schreiber\", \"lat\": [53.116666666]}, {\"marker\": {\"size\": 5, \"color\": \"rgb(0, 0, 255)\"}, \"lon\": [17.721944444], \"type\": \"scattergeo\", \"text\": \"Brusy\", \"name\": \"Stanis\\u0142aw Lamczyk\", \"lat\": [53.885555555]}, {\"marker\": {\"size\": 5, \"color\": \"rgb(0, 0, 255)\"}, \"lon\": [20.3], \"type\": \"scattergeo\", \"text\": \"Proszowice\", \"name\": \"Ireneusz Ra\\u015b\", \"lat\": [50.2]}, {\"marker\": {\"size\": 5, \"color\": \"rgb(0, 0, 255)\"}, \"lon\": [19.083333333], \"type\": \"scattergeo\", \"text\": \"Czelad\\u017a\", \"name\": \"Waldemar Andzel\", \"lat\": [50.333333333]}, {\"marker\": {\"size\": 5, \"color\": \"rgb(0, 0, 255)\"}, \"lon\": [22.48333333], \"type\": \"scattergeo\", \"text\": \"Rz\\u0105\\u017cew\", \"name\": \"Krzysztof Tch\\u00f3rzewski\", \"lat\": [52.13333333]}, {\"marker\": {\"size\": 5, \"color\": \"rgb(0, 0, 255)\"}, \"lon\": [22.083333333], \"type\": \"scattergeo\", \"text\": \"\\u0141om\\u017ca\", \"name\": \"Jerzy \\u017by\\u017cy\\u0144ski\", \"lat\": [53.166666666]}, {\"marker\": {\"size\": 5, \"color\": \"rgb(0, 0, 255)\"}, \"lon\": [15.505], \"type\": \"scattergeo\", \"text\": \"Zielona G\\u00f3ra\", \"name\": \"Marek Ast\", \"lat\": [51.939722222]}, {\"marker\": {\"size\": 5, \"color\": \"rgb(0, 0, 255)\"}, \"lon\": [17.933333333], \"type\": \"scattergeo\", \"text\": \"Opole\", \"name\": \"Grzegorz Schetyna\", \"lat\": [50.666666666]}, {\"marker\": {\"size\": 5, \"color\": \"rgb(0, 0, 255)\"}, \"lon\": [20.631944444], \"type\": \"scattergeo\", \"text\": \"Kielce\", \"name\": \"Artur Gierada\", \"lat\": [50.8725]}, {\"marker\": {\"size\": 5, \"color\": \"rgb(0, 0, 255)\"}, \"lon\": [19.366666666], \"type\": \"scattergeo\", \"text\": \"Kutno\", \"name\": \"Tadeusz Wo\\u017aniak\", \"lat\": [52.233333333]}, {\"marker\": {\"size\": 5, \"color\": \"rgb(0, 0, 255)\"}, \"lon\": [20.141666666], \"type\": \"scattergeo\", \"text\": \"Skierniewice\", \"name\": \"Dorota Rutkowska\", \"lat\": [51.952777777]}, {\"marker\": {\"size\": 5, \"color\": \"rgb(0, 0, 255)\"}, \"lon\": [22.7], \"type\": \"scattergeo\", \"text\": \"\\u015awidnik\", \"name\": \"Artur Sobo\\u0144\", \"lat\": [51.233333333]}, {\"marker\": {\"size\": 5, \"color\": \"rgb(0, 0, 255)\"}, \"lon\": [19.316666666], \"type\": \"scattergeo\", \"text\": \"Libi\\u0105\\u017c\", \"name\": \"Marek Sowa\", \"lat\": [50.116666666]}, {\"marker\": {\"size\": 5, \"color\": \"rgb(0, 0, 255)\"}, \"lon\": [18.633333333], \"type\": \"scattergeo\", \"text\": \"Gda\\u0144sk\", \"name\": \"Grzegorz Raczak\", \"lat\": [54.366666666]}, {\"marker\": {\"size\": 5, \"color\": \"rgb(0, 0, 255)\"}, \"lon\": [20.483333333], \"type\": \"scattergeo\", \"text\": \"Olsztyn\", \"name\": \"Iwona Arent\", \"lat\": [53.783333333]}, {\"marker\": {\"size\": 5, \"color\": \"rgb(0, 0, 255)\"}, \"lon\": [19.166666666], \"type\": \"scattergeo\", \"text\": \"Sosnowiec\", \"name\": \"Ewa Malik\", \"lat\": [50.3]}, {\"marker\": {\"size\": 5, \"color\": \"rgb(0, 0, 255)\"}, \"lon\": [23.601667], \"type\": \"scattergeo\", \"text\": \"Boraty\\u0144szczyzna\", \"name\": \"Mieczys\\u0142aw Kazimierz Baszko\", \"lat\": [53.29]}, {\"marker\": {\"size\": 5, \"color\": \"rgb(0, 0, 255)\"}, \"lon\": [18.923], \"type\": \"scattergeo\", \"text\": \"Bytom\", \"name\": \"Wojciech Szarama\", \"lat\": [50.347]}, {\"marker\": {\"size\": 5, \"color\": \"rgb(0, 0, 255)\"}, \"lon\": [21.033333333], \"type\": \"scattergeo\", \"text\": \"Warszawa\", \"name\": \"Tomasz Cimoszewicz\", \"lat\": [52.216666666]}, {\"marker\": {\"size\": 5, \"color\": \"rgb(0, 0, 255)\"}, \"lon\": [18.923], \"type\": \"scattergeo\", \"text\": \"Bytom\", \"name\": \"Barbara Dolniak\", \"lat\": [50.347]}, {\"marker\": {\"size\": 5, \"color\": \"rgb(0, 0, 255)\"}, \"lon\": [21.156666666], \"type\": \"scattergeo\", \"text\": \"Radom\", \"name\": \"Leszek Ruszczyk\", \"lat\": [51.403611111]}, {\"marker\": {\"size\": 5, \"color\": \"rgb(0, 0, 255)\"}, \"lon\": [22.566666666], \"type\": \"scattergeo\", \"text\": \"Lublin\", \"name\": \"Jaros\\u0142aw Sachajko\", \"lat\": [51.233333333]}, {\"marker\": {\"size\": 5, \"color\": \"rgb(0, 0, 255)\"}, \"lon\": [16.90888889], \"type\": \"scattergeo\", \"text\": \"Oborniki \\u015al\\u0105skie\", \"name\": \"Krzysztof Micha\\u0142kiewicz\", \"lat\": [51.30222222]}, {\"marker\": {\"size\": 5, \"color\": \"rgb(0, 0, 255)\"}, \"lon\": [17.009722222], \"type\": \"scattergeo\", \"text\": \"Murowana Go\\u015blina\", \"name\": \"Witold Czarnecki\", \"lat\": [52.575833333]}, {\"marker\": {\"size\": 5, \"color\": \"rgb(0, 0, 255)\"}, \"lon\": [15.983333333], \"type\": \"scattergeo\", \"text\": \"Bia\\u0142ogard\", \"name\": \"Stefan Strza\\u0142kowski\", \"lat\": [54.0]}, {\"marker\": {\"size\": 5, \"color\": \"rgb(0, 0, 255)\"}, \"lon\": [20.233333333], \"type\": \"scattergeo\", \"text\": \"Sochaczew\", \"name\": \"Mariusz Kami\\u0144ski\", \"lat\": [52.233333333]}, {\"marker\": {\"size\": 5, \"color\": \"rgb(0, 0, 255)\"}, \"lon\": [18.85], \"type\": \"scattergeo\", \"text\": \"Ruda \\u015al\\u0105ska\", \"name\": \"Grzegorz Tobiszowski\", \"lat\": [50.25]}, {\"marker\": {\"size\": 5, \"color\": \"rgb(0, 0, 255)\"}, \"lon\": [18.55], \"type\": \"scattergeo\", \"text\": \"Sopot\", \"name\": \"Leonard Krasulski\", \"lat\": [54.433333333]}, {\"marker\": {\"size\": 5, \"color\": \"rgb(0, 0, 255)\"}, \"lon\": [21.583333333], \"type\": \"scattergeo\", \"text\": \"Ostro\\u0142\\u0119ka\", \"name\": \"Arkadiusz Czartoryski\", \"lat\": [53.083333333]}, {\"marker\": {\"size\": 5, \"color\": \"rgb(0, 0, 255)\"}, \"lon\": [17.03533], \"type\": \"scattergeo\", \"text\": \"Wroc\\u0142aw\", \"name\": \"Marzena Macha\\u0142ek\", \"lat\": [51.10773]}, {\"marker\": {\"size\": 5, \"color\": \"rgb(0, 0, 255)\"}, \"lon\": [19.95], \"type\": \"scattergeo\", \"text\": \"Krak\\u00f3w\", \"name\": \"Ryszard Terlecki\", \"lat\": [50.066666666]}, {\"marker\": {\"size\": 5, \"color\": \"rgb(0, 0, 255)\"}, \"lon\": [22.216666666], \"type\": \"scattergeo\", \"text\": \"Sanok\", \"name\": \"Piotr Uruski\", \"lat\": [49.55]}, {\"marker\": {\"size\": 5, \"color\": \"rgb(0, 0, 255)\"}, \"lon\": [17.7], \"type\": \"scattergeo\", \"text\": \"Ostr\\u00f3w Wielkopolski\", \"name\": \"Ryszard Wilczy\\u0144ski\", \"lat\": [51.65]}, {\"marker\": {\"size\": 5, \"color\": \"rgb(0, 0, 255)\"}, \"lon\": [16.080277777], \"type\": \"scattergeo\", \"text\": \"G\\u0142og\\u00f3w\", \"name\": \"Joanna Augustynowska\", \"lat\": [51.658888888]}, {\"marker\": {\"size\": 5, \"color\": \"rgb(0, 0, 255)\"}, \"lon\": [19.438055555], \"type\": \"scattergeo\", \"text\": \"Zator\", \"name\": \"Zbigniew Biernat\", \"lat\": [49.996388888]}, {\"marker\": {\"size\": 5, \"color\": \"rgb(0, 0, 255)\"}, \"lon\": [20.636388888], \"type\": \"scattergeo\", \"text\": \"Stary S\\u0105cz\", \"name\": \"Antoni Duda\", \"lat\": [49.5625]}, {\"marker\": {\"size\": 5, \"color\": \"rgb(0, 0, 255)\"}, \"lon\": [18.633333333], \"type\": \"scattergeo\", \"text\": \"Gda\\u0144sk\", \"name\": \"Grzegorz Furgo\", \"lat\": [54.366666666]}, {\"marker\": {\"size\": 5, \"color\": \"rgb(0, 0, 255)\"}, \"lon\": [17.03533], \"type\": \"scattergeo\", \"text\": \"Wroc\\u0142aw\", \"name\": \"Ryszard Galla\", \"lat\": [51.10773]}, {\"marker\": {\"size\": 5, \"color\": \"rgb(0, 0, 255)\"}, \"lon\": [21.80888889], \"type\": \"scattergeo\", \"text\": \"Jelonki\", \"name\": \"Zbigniew Gryglas\", \"lat\": [52.88638889]}, {\"marker\": {\"size\": 5, \"color\": \"rgb(0, 0, 255)\"}, \"lon\": [18.633333333], \"type\": \"scattergeo\", \"text\": \"Gda\\u0144sk\", \"name\": \"Andrzej Kobylarz\", \"lat\": [54.366666666]}, {\"marker\": {\"size\": 5, \"color\": \"rgb(0, 0, 255)\"}, \"lon\": [18.216666666], \"type\": \"scattergeo\", \"text\": \"Kluczbork\", \"name\": \"Tomasz Kostu\\u015b\", \"lat\": [50.983333333]}, {\"marker\": {\"size\": 5, \"color\": \"rgb(0, 0, 255)\"}, \"lon\": [20.8], \"type\": \"scattergeo\", \"text\": \"Bartoszyce\", \"name\": \"Andrzej Maciejewski\", \"lat\": [54.25]}, {\"marker\": {\"size\": 5, \"color\": \"rgb(0, 0, 255)\"}, \"lon\": [16.080277777], \"type\": \"scattergeo\", \"text\": \"G\\u0142og\\u00f3w\", \"name\": \"Krzysztof Mieszkowski\", \"lat\": [51.658888888]}, {\"marker\": {\"size\": 5, \"color\": \"rgb(0, 0, 255)\"}, \"lon\": [14.555277777], \"type\": \"scattergeo\", \"text\": \"Szczecin\", \"name\": \"Iwona Micha\\u0142ek\", \"lat\": [53.424722222]}, {\"marker\": {\"size\": 5, \"color\": \"rgb(0, 0, 255)\"}, \"lon\": [19.7847], \"type\": \"scattergeo\", \"text\": \"Ka\\u0142\\u0119czew\", \"name\": \"Stefan Niesio\\u0142owski\", \"lat\": [51.9277]}, {\"marker\": {\"size\": 5, \"color\": \"rgb(0, 0, 255)\"}, \"lon\": [15.923055555], \"type\": \"scattergeo\", \"text\": \"Wojciesz\\u00f3w\", \"name\": \"Krystyna Paw\\u0142owicz\", \"lat\": [50.954722222]}, {\"marker\": {\"size\": 5, \"color\": \"rgb(0, 0, 255)\"}, \"lon\": [21.033333333], \"type\": \"scattergeo\", \"text\": \"Warszawa\", \"name\": \"Piotr Naimski\", \"lat\": [52.216666666]}, {\"marker\": {\"size\": 5, \"color\": \"rgb(0, 0, 255)\"}, \"lon\": [18.866666666], \"type\": \"scattergeo\", \"text\": \"Tarnowskie G\\u00f3ry\", \"name\": \"Tomasz G\\u0142ogowski\", \"lat\": [50.45]}, {\"marker\": {\"size\": 5, \"color\": \"rgb(0, 0, 255)\"}, \"lon\": [18.5], \"type\": \"scattergeo\", \"text\": \"Rybnik\", \"name\": \"Marek Krz\\u0105ka\\u0142a\", \"lat\": [50.083333333]}, {\"marker\": {\"size\": 5, \"color\": \"rgb(0, 0, 255)\"}, \"lon\": [18.233333333], \"type\": \"scattergeo\", \"text\": \"Racib\\u00f3rz\", \"name\": \"Arkadiusz Mularczyk\", \"lat\": [50.083333333]}, {\"marker\": {\"size\": 5, \"color\": \"rgb(0, 0, 255)\"}, \"lon\": [19.083333333], \"type\": \"scattergeo\", \"text\": \"Czelad\\u017a\", \"name\": \"Borys Budka\", \"lat\": [50.333333333]}, {\"marker\": {\"size\": 5, \"color\": \"rgb(0, 0, 255)\"}, \"lon\": [17.033333333], \"type\": \"scattergeo\", \"text\": \"S\\u0142upsk\", \"name\": \"Zbigniew Konwi\\u0144ski\", \"lat\": [54.466666666]}, {\"marker\": {\"size\": 5, \"color\": \"rgb(0, 0, 255)\"}, \"lon\": [18.533333333], \"type\": \"scattergeo\", \"text\": \"Starogard Gda\\u0144ski\", \"name\": \"S\\u0142awomir Neumann\", \"lat\": [53.966666666]}, {\"marker\": {\"size\": 5, \"color\": \"rgb(0, 0, 255)\"}, \"lon\": [21.033333333], \"type\": \"scattergeo\", \"text\": \"Warszawa\", \"name\": \"Artur G\\u00f3rski\", \"lat\": [52.216666666]}, {\"marker\": {\"size\": 5, \"color\": \"rgb(0, 0, 255)\"}, \"lon\": [18.0], \"type\": \"scattergeo\", \"text\": \"Bydgoszcz\", \"name\": \"Pawe\\u0142 Skutecki\", \"lat\": [53.116666666]}, {\"marker\": {\"size\": 5, \"color\": \"rgb(0, 0, 255)\"}, \"lon\": [19.966666666], \"type\": \"scattergeo\", \"text\": \"Ostr\\u00f3da\", \"name\": \"Zbigniew Babalski\", \"lat\": [53.7]}, {\"marker\": {\"size\": 5, \"color\": \"rgb(0, 0, 255)\"}, \"lon\": [18.0], \"type\": \"scattergeo\", \"text\": \"Bydgoszcz\", \"name\": \"Micha\\u0142 Stasi\\u0144ski\", \"lat\": [53.116666666]}, {\"marker\": {\"size\": 5, \"color\": \"rgb(0, 0, 255)\"}, \"lon\": [19.933333333], \"type\": \"scattergeo\", \"text\": \"My\\u015blenice\", \"name\": \"Jaros\\u0142aw Szlachetka\", \"lat\": [49.833333333]}, {\"marker\": {\"size\": 5, \"color\": \"rgb(0, 0, 255)\"}, \"lon\": [19.4], \"type\": \"scattergeo\", \"text\": \"Brodnica\", \"name\": \"Pawe\\u0142 Szramka\", \"lat\": [53.25]}, {\"marker\": {\"size\": 5, \"color\": \"rgb(0, 0, 255)\"}, \"lon\": [19.275], \"type\": \"scattergeo\", \"text\": \"Jaworzno\", \"name\": \"Robert Warwas\", \"lat\": [50.2]}, {\"marker\": {\"size\": 5, \"color\": \"rgb(0, 0, 255)\"}, \"lon\": [20.25], \"type\": \"scattergeo\", \"text\": \"Rawa Mazowiecka\", \"name\": \"Grzegorz Wojciechowski\", \"lat\": [51.766666666]}, {\"marker\": {\"size\": 5, \"color\": \"rgb(0, 0, 255)\"}, \"lon\": [22.0], \"type\": \"scattergeo\", \"text\": \"Rzesz\\u00f3w\", \"name\": \"Krystyna Wr\\u00f3blewska\", \"lat\": [50.05]}, {\"marker\": {\"size\": 5, \"color\": \"rgb(0, 0, 255)\"}, \"lon\": [16.916666666], \"type\": \"scattergeo\", \"text\": \"Pozna\\u0144\", \"name\": \"Bart\\u0142omiej Wr\\u00f3blewski\", \"lat\": [52.4]}, {\"marker\": {\"size\": 5, \"color\": \"rgb(0, 0, 255)\"}, \"lon\": [22.45], \"type\": \"scattergeo\", \"text\": \"Grajewo\", \"name\": \"Adam Andruszkiewicz\", \"lat\": [53.65]}, {\"marker\": {\"size\": 5, \"color\": \"rgb(0, 0, 255)\"}, \"lon\": [22.4], \"type\": \"scattergeo\", \"text\": \"Jan\\u00f3w Lubelski\", \"name\": \"Jerzy Bielecki\", \"lat\": [50.7]}, {\"marker\": {\"size\": 5, \"color\": \"rgb(0, 0, 255)\"}, \"lon\": [19.38333333], \"type\": \"scattergeo\", \"text\": \"Rzeki Wielkie\", \"name\": \"Lidia Burzy\\u0144ska\", \"lat\": [50.86666667]}, {\"marker\": {\"size\": 5, \"color\": \"rgb(0, 0, 255)\"}, \"lon\": [19.45], \"type\": \"scattergeo\", \"text\": \"Rypin\", \"name\": \"Zbigniew Sosnowski\", \"lat\": [53.066666666]}, {\"marker\": {\"size\": 5, \"color\": \"rgb(0, 0, 255)\"}, \"lon\": [19.7], \"type\": \"scattergeo\", \"text\": \"P\\u0142ock\", \"name\": \"Piotr Zgorzelski\", \"lat\": [52.55]}, {\"marker\": {\"size\": 5, \"color\": \"rgb(0, 0, 255)\"}, \"lon\": [20.883333333], \"type\": \"scattergeo\", \"text\": \"Legionowo\", \"name\": \"Jan Grabiec\", \"lat\": [52.383333333]}, {\"marker\": {\"size\": 5, \"color\": \"rgb(0, 0, 255)\"}, \"lon\": [18.923], \"type\": \"scattergeo\", \"text\": \"Bytom\", \"name\": \"Pawe\\u0142 Kobyli\\u0144ski\", \"lat\": [50.347]}, {\"marker\": {\"size\": 5, \"color\": \"rgb(0, 0, 255)\"}, \"lon\": [18.85], \"type\": \"scattergeo\", \"text\": \"Ruda \\u015al\\u0105ska\", \"name\": \"Danuta Pietraszewska\", \"lat\": [50.25]}, {\"marker\": {\"size\": 5, \"color\": \"rgb(0, 0, 255)\"}, \"lon\": [15.505], \"type\": \"scattergeo\", \"text\": \"Zielona G\\u00f3ra\", \"name\": \"Pawe\\u0142 Pud\\u0142owski\", \"lat\": [51.939722222]}, {\"marker\": {\"size\": 5, \"color\": \"rgb(0, 0, 255)\"}, \"lon\": [18.533333333], \"type\": \"scattergeo\", \"text\": \"Starogard Gda\\u0144ski\", \"name\": \"Pawe\\u0142 Papke\", \"lat\": [53.966666666]}, {\"marker\": {\"size\": 5, \"color\": \"rgb(0, 0, 255)\"}, \"lon\": [20.433333333], \"type\": \"scattergeo\", \"text\": \"Bochnia\", \"name\": \"Krzysztof Gadowski\", \"lat\": [49.983333333]}, {\"marker\": {\"size\": 5, \"color\": \"rgb(0, 0, 255)\"}, \"lon\": [18.930833333], \"type\": \"scattergeo\", \"text\": \"Kwidzyn\", \"name\": \"Tomasz Piotr Nowak\", \"lat\": [53.735833333]}, {\"marker\": {\"size\": 5, \"color\": \"rgb(0, 0, 255)\"}, \"lon\": [23.519444444], \"type\": \"scattergeo\", \"text\": \"Ogrodniki\", \"name\": \"Krzysztof Jurgiel\", \"lat\": [52.963611111]}, {\"marker\": {\"size\": 5, \"color\": \"rgb(0, 0, 255)\"}, \"lon\": [18.83916667], \"type\": \"scattergeo\", \"text\": \"Grabinka\", \"name\": \"Piotr Polak\", \"lat\": [51.77972222]}, {\"marker\": {\"size\": 5, \"color\": \"rgb(0, 0, 255)\"}, \"lon\": [18.0], \"type\": \"scattergeo\", \"text\": \"Bydgoszcz\", \"name\": \"Grzegorz Schreiber\", \"lat\": [53.116666666]}, {\"marker\": {\"size\": 5, \"color\": \"rgb(0, 0, 255)\"}, \"lon\": [21.033333333], \"type\": \"scattergeo\", \"text\": \"Warszawa\", \"name\": \"Marek Opio\\u0142a\", \"lat\": [52.216666666]}, {\"marker\": {\"size\": 5, \"color\": \"rgb(0, 0, 255)\"}, \"lon\": [18.9], \"type\": \"scattergeo\", \"text\": \"Miko\\u0142\\u00f3w\", \"name\": \"Izabela Kloc\", \"lat\": [50.166666666]}, {\"marker\": {\"size\": 5, \"color\": \"rgb(0, 0, 255)\"}, \"lon\": [22.0922], \"type\": \"scattergeo\", \"text\": \"\\u017babianka\", \"name\": \"Henryk Kowalczyk\", \"lat\": [51.5872]}, {\"marker\": {\"size\": 5, \"color\": \"rgb(0, 0, 255)\"}, \"lon\": [18.533333333], \"type\": \"scattergeo\", \"text\": \"Gdynia\", \"name\": \"Jaros\\u0142aw Sellin\", \"lat\": [54.5]}, {\"marker\": {\"size\": 5, \"color\": \"rgb(0, 0, 255)\"}, \"lon\": [19.95], \"type\": \"scattergeo\", \"text\": \"Krak\\u00f3w\", \"name\": \"Bogus\\u0142aw Sonik\", \"lat\": [50.066666666]}, {\"marker\": {\"size\": 5, \"color\": \"rgb(0, 0, 255)\"}, \"lon\": [21.033333333], \"type\": \"scattergeo\", \"text\": \"Warszawa\", \"name\": \"Stanis\\u0142aw Tyszka\", \"lat\": [52.216666666]}, {\"marker\": {\"size\": 5, \"color\": \"rgb(0, 0, 255)\"}, \"lon\": [17.63], \"type\": \"scattergeo\", \"text\": \"Kocina\", \"name\": \"Jacek Wilk\", \"lat\": [51.4392]}, {\"marker\": {\"size\": 5, \"color\": \"rgb(0, 0, 255)\"}, \"lon\": [21.033333333], \"type\": \"scattergeo\", \"text\": \"Warszawa\", \"name\": \"Ma\\u0142gorzata Wypych\", \"lat\": [52.216666666]}, {\"marker\": {\"size\": 5, \"color\": \"rgb(0, 0, 255)\"}, \"lon\": [20.95], \"type\": \"scattergeo\", \"text\": \"Biskupiec\", \"name\": \"Urszula Pas\\u0142awska\", \"lat\": [53.85]}, {\"marker\": {\"size\": 5, \"color\": \"rgb(0, 0, 255)\"}, \"lon\": [21.033333333], \"type\": \"scattergeo\", \"text\": \"Warszawa\", \"name\": \"Miros\\u0142aw Maliszewski\", \"lat\": [52.216666666]}, {\"marker\": {\"size\": 5, \"color\": \"rgb(0, 0, 255)\"}, \"lon\": [21.156666666], \"type\": \"scattergeo\", \"text\": \"Radom\", \"name\": \"Anna Bia\\u0142kowska\", \"lat\": [51.403611111]}, {\"marker\": {\"size\": 5, \"color\": \"rgb(0, 0, 255)\"}, \"lon\": [21.866666666], \"type\": \"scattergeo\", \"text\": \"Annopol\", \"name\": \"Marek Kwitek\", \"lat\": [50.883333333]}, {\"marker\": {\"size\": 5, \"color\": \"rgb(0, 0, 255)\"}, \"lon\": [19.112222222], \"type\": \"scattergeo\", \"text\": \"L\\u0119dziny\", \"name\": \"Bo\\u017cena Borys-Szopa\", \"lat\": [50.126944444]}, {\"marker\": {\"size\": 5, \"color\": \"rgb(0, 0, 255)\"}, \"lon\": [21.033333333], \"type\": \"scattergeo\", \"text\": \"Warszawa\", \"name\": \"Marek Jakubiak\", \"lat\": [52.216666666]}, {\"marker\": {\"size\": 5, \"color\": \"rgb(0, 0, 255)\"}, \"lon\": [17.6], \"type\": \"scattergeo\", \"text\": \"Gniezno\", \"name\": \"Pawe\\u0142 Arndt\", \"lat\": [52.533333333]}, {\"marker\": {\"size\": 5, \"color\": \"rgb(0, 0, 255)\"}, \"lon\": [19.0], \"type\": \"scattergeo\", \"text\": \"Katowice\", \"name\": \"Joanna Kluzik-Rostkowska\", \"lat\": [50.25]}, {\"marker\": {\"size\": 5, \"color\": \"rgb(0, 0, 255)\"}, \"lon\": [18.23333], \"type\": \"scattergeo\", \"text\": \"Domatowo\", \"name\": \"Kazimierz Plocke\", \"lat\": [54.71667]}, {\"marker\": {\"size\": 5, \"color\": \"rgb(0, 0, 255)\"}, \"lon\": [18.616666666], \"type\": \"scattergeo\", \"text\": \"Toru\\u0144\", \"name\": \"Arkadiusz Myrcha\", \"lat\": [53.016666666]}, {\"marker\": {\"size\": 5, \"color\": \"rgb(0, 0, 255)\"}, \"lon\": [21.8], \"type\": \"scattergeo\", \"text\": \"Pisz\", \"name\": \"Jerzy Ma\\u0142ecki\", \"lat\": [53.616666666]}, {\"marker\": {\"size\": 5, \"color\": \"rgb(0, 0, 255)\"}, \"lon\": [20.988611111], \"type\": \"scattergeo\", \"text\": \"Tarn\\u00f3w\", \"name\": \"Urszula Augustyn\", \"lat\": [50.0125]}, {\"marker\": {\"size\": 5, \"color\": \"rgb(0, 0, 255)\"}, \"lon\": [16.583333333], \"type\": \"scattergeo\", \"text\": \"Szamotu\\u0142y\", \"name\": \"Jakub Rutnicki\", \"lat\": [52.6]}, {\"marker\": {\"size\": 5, \"color\": \"rgb(0, 0, 255)\"}, \"lon\": [16.916666666], \"type\": \"scattergeo\", \"text\": \"Pozna\\u0144\", \"name\": \"Bo\\u017cena Szyd\\u0142owska\", \"lat\": [52.4]}, {\"marker\": {\"size\": 5, \"color\": \"rgb(0, 0, 255)\"}, \"lon\": [20.3], \"type\": \"scattergeo\", \"text\": \"Proszowice\", \"name\": \"W\\u0142odzimierz Bernacki\", \"lat\": [50.2]}, {\"marker\": {\"size\": 5, \"color\": \"rgb(0, 0, 255)\"}, \"lon\": [20.633333333], \"type\": \"scattergeo\", \"text\": \"Ciechan\\u00f3w\", \"name\": \"Robert Ko\\u0142akowski\", \"lat\": [52.866666666]}, {\"marker\": {\"size\": 5, \"color\": \"rgb(0, 0, 255)\"}, \"lon\": [21.033333333], \"type\": \"scattergeo\", \"text\": \"Warszawa\", \"name\": \"Jacek Sasin\", \"lat\": [52.216666666]}, {\"marker\": {\"size\": 5, \"color\": \"rgb(0, 0, 255)\"}, \"lon\": [19.466666666], \"type\": \"scattergeo\", \"text\": \"Gostynin\", \"name\": \"Wojciech Jasi\\u0144ski\", \"lat\": [52.416666666]}, {\"marker\": {\"size\": 5, \"color\": \"rgb(0, 0, 255)\"}, \"lon\": [21.8], \"type\": \"scattergeo\", \"text\": \"Sielc\", \"name\": \"Dariusz Piontkowski\", \"lat\": [52.8167]}, {\"marker\": {\"size\": 5, \"color\": \"rgb(0, 0, 255)\"}, \"lon\": [16.733333333], \"type\": \"scattergeo\", \"text\": \"Pi\\u0142a\", \"name\": \"Jan Szewczak\", \"lat\": [53.15]}, {\"marker\": {\"size\": 5, \"color\": \"rgb(0, 0, 255)\"}, \"lon\": [20.697222222], \"type\": \"scattergeo\", \"text\": \"Nowy S\\u0105cz\", \"name\": \"J\\u00f3zefa Szczurek-\\u017belazko\", \"lat\": [49.623888888]}, {\"marker\": {\"size\": 5, \"color\": \"rgb(0, 0, 255)\"}, \"lon\": [16.916666666], \"type\": \"scattergeo\", \"text\": \"Pozna\\u0144\", \"name\": \"Szymon Szynkowski vel S\\u0119k\", \"lat\": [52.4]}, {\"marker\": {\"size\": 5, \"color\": \"rgb(0, 0, 255)\"}, \"lon\": [19.458511111], \"type\": \"scattergeo\", \"text\": \"\\u0141\\u00f3d\\u017a\", \"name\": \"Piotr Pszcz\\u00f3\\u0142kowski\", \"lat\": [51.759494444]}, {\"marker\": {\"size\": 5, \"color\": \"rgb(0, 0, 255)\"}, \"lon\": [16.733333333], \"type\": \"scattergeo\", \"text\": \"Pi\\u0142a\", \"name\": \"Grzegorz Piechowiak\", \"lat\": [53.15]}, {\"marker\": {\"size\": 5, \"color\": \"rgb(0, 0, 255)\"}, \"lon\": [22.766666666], \"type\": \"scattergeo\", \"text\": \"Przemy\\u015bl\", \"name\": \"Wojciech Bakun\", \"lat\": [49.783333333]}, {\"marker\": {\"size\": 5, \"color\": \"rgb(0, 0, 255)\"}, \"lon\": [15.309706], \"type\": \"scattergeo\", \"text\": \"Makala\", \"name\": \"Killion Munyama\", \"lat\": [-4.379788]}, {\"marker\": {\"size\": 5, \"color\": \"rgb(0, 0, 255)\"}, \"lon\": [20.631944444], \"type\": \"scattergeo\", \"text\": \"Kielce\", \"name\": \"Czes\\u0142aw Sobierajski\", \"lat\": [50.8725]}, {\"marker\": {\"size\": 5, \"color\": \"rgb(0, 0, 255)\"}, \"lon\": [32.933333333], \"type\": \"scattergeo\", \"text\": \"Bia\\u0142a\", \"name\": \"Katarzyna Czochara\", \"lat\": [55.833333333]}, {\"marker\": {\"size\": 5, \"color\": \"rgb(0, 0, 255)\"}, \"lon\": [21.75], \"type\": \"scattergeo\", \"text\": \"Krosno\", \"name\": \"Joanna Frydrych\", \"lat\": [49.683333333]}, {\"marker\": {\"size\": 5, \"color\": \"rgb(0, 0, 255)\"}, \"lon\": [21.416666666], \"type\": \"scattergeo\", \"text\": \"D\\u0119bica\", \"name\": \"Zdzis\\u0142aw Gawlik\", \"lat\": [50.05]}, {\"marker\": {\"size\": 5, \"color\": \"rgb(0, 0, 255)\"}, \"lon\": [17.6], \"type\": \"scattergeo\", \"text\": \"Gniezno\", \"name\": \"Paulina Hennig-Kloska\", \"lat\": [52.533333333]}, {\"marker\": {\"size\": 5, \"color\": \"rgb(0, 0, 255)\"}, \"lon\": [22.0], \"type\": \"scattergeo\", \"text\": \"Rzesz\\u00f3w\", \"name\": \"Maciej Mas\\u0142owski\", \"lat\": [50.05]}, {\"marker\": {\"size\": 5, \"color\": \"rgb(0, 0, 255)\"}, \"lon\": [21.75], \"type\": \"scattergeo\", \"text\": \"Krosno\", \"name\": \"Andrzej Matusiewicz\", \"lat\": [49.683333333]}, {\"marker\": {\"size\": 5, \"color\": \"rgb(0, 0, 255)\"}, \"lon\": [17.55], \"type\": \"scattergeo\", \"text\": \"Chojnice\", \"name\": \"Aleksander Mr\\u00f3wczy\\u0144ski\", \"lat\": [53.7]}, {\"marker\": {\"size\": 5, \"color\": \"rgb(0, 0, 255)\"}, \"lon\": [16.733333333], \"type\": \"scattergeo\", \"text\": \"Pi\\u0142a\", \"name\": \"B\\u0142a\\u017cej Parda\", \"lat\": [53.15]}, {\"marker\": {\"size\": 5, \"color\": \"rgb(0, 0, 255)\"}, \"lon\": [16.181666666], \"type\": \"scattergeo\", \"text\": \"Koszalin\", \"name\": \"Stefan Romecki\", \"lat\": [54.190277777]}, {\"marker\": {\"size\": 5, \"color\": \"rgb(0, 0, 255)\"}, \"lon\": [21.033333333], \"type\": \"scattergeo\", \"text\": \"Warszawa\", \"name\": \"Ma\\u0142gorzata Kidawa-B\\u0142o\\u0144ska\", \"lat\": [52.216666666]}, {\"marker\": {\"size\": 5, \"color\": \"rgb(0, 0, 255)\"}, \"lon\": [22.309444444], \"type\": \"scattergeo\", \"text\": \"Go\\u0142dap\", \"name\": \"Bo\\u017cena Kami\\u0144ska\", \"lat\": [54.316111111]}, {\"marker\": {\"size\": 5, \"color\": \"rgb(0, 0, 255)\"}, \"lon\": [15.505], \"type\": \"scattergeo\", \"text\": \"Zielona G\\u00f3ra\", \"name\": \"Jerzy Materna\", \"lat\": [51.939722222]}, {\"marker\": {\"size\": 5, \"color\": \"rgb(0, 0, 255)\"}, \"lon\": [16.3], \"type\": \"scattergeo\", \"text\": \"Wschowa\", \"name\": \"El\\u017cbieta Rafalska\", \"lat\": [51.8]}, {\"marker\": {\"size\": 5, \"color\": \"rgb(0, 0, 255)\"}, \"lon\": [22.48333], \"type\": \"scattergeo\", \"text\": \"Batorz\", \"name\": \"Gabriela Mas\\u0142owska\", \"lat\": [50.85]}, {\"marker\": {\"size\": 5, \"color\": \"rgb(0, 0, 255)\"}, \"lon\": [17.03533], \"type\": \"scattergeo\", \"text\": \"Wroc\\u0142aw\", \"name\": \"Wojciech Zubowski\", \"lat\": [51.10773]}, {\"marker\": {\"size\": 5, \"color\": \"rgb(0, 0, 255)\"}, \"lon\": [21.05], \"type\": \"scattergeo\", \"text\": \"Tuch\\u00f3w\", \"name\": \"Micha\\u0142 Wojtkiewicz\", \"lat\": [49.9]}, {\"marker\": {\"size\": 5, \"color\": \"rgb(0, 0, 255)\"}, \"lon\": [19.044444444], \"type\": \"scattergeo\", \"text\": \"Bielsko-Bia\\u0142a\", \"name\": \"Miros\\u0142aw Sucho\\u0144\", \"lat\": [49.8225]}, {\"marker\": {\"size\": 5, \"color\": \"rgb(0, 0, 255)\"}, \"lon\": [22.0], \"type\": \"scattergeo\", \"text\": \"Rzesz\\u00f3w\", \"name\": \"Halina Szyde\\u0142ko\", \"lat\": [50.05]}, {\"marker\": {\"size\": 5, \"color\": \"rgb(0, 0, 255)\"}, \"lon\": [22.766666666], \"type\": \"scattergeo\", \"text\": \"Przemy\\u015bl\", \"name\": \"Marek Kuchci\\u0144ski\", \"lat\": [49.783333333]}, {\"marker\": {\"size\": 5, \"color\": \"rgb(0, 0, 255)\"}, \"lon\": [20.016666666], \"type\": \"scattergeo\", \"text\": \"Nowy Targ\", \"name\": \"J\\u00f3zef Brynkus\", \"lat\": [49.466666666]}, {\"marker\": {\"size\": 5, \"color\": \"rgb(0, 0, 255)\"}, \"lon\": [16.283333333], \"type\": \"scattergeo\", \"text\": \"Wa\\u0142brzych\", \"name\": \"Alicja Chybicka\", \"lat\": [50.766666666]}, {\"marker\": {\"size\": 5, \"color\": \"rgb(0, 0, 255)\"}, \"lon\": [19.833333333], \"type\": \"scattergeo\", \"text\": \"Braniewo\", \"name\": \"Barbara Chrobak\", \"lat\": [54.383333333]}, {\"marker\": {\"size\": 5, \"color\": \"rgb(0, 0, 255)\"}, \"lon\": [20.988611111], \"type\": \"scattergeo\", \"text\": \"Tarn\\u00f3w\", \"name\": \"Anna Czech\", \"lat\": [50.0125]}, {\"marker\": {\"size\": 5, \"color\": \"rgb(0, 0, 255)\"}, \"lon\": [21.033333333], \"type\": \"scattergeo\", \"text\": \"Warszawa\", \"name\": \"Marcin \\u015awi\\u0119cicki\", \"lat\": [52.216666666]}, {\"marker\": {\"size\": 5, \"color\": \"rgb(0, 0, 255)\"}, \"lon\": [21.1], \"type\": \"scattergeo\", \"text\": \"Mak\\u00f3w Mazowiecki\", \"name\": \"Jerzy Gosiewski\", \"lat\": [52.866666666]}, {\"marker\": {\"size\": 5, \"color\": \"rgb(0, 0, 255)\"}, \"lon\": [21.033333333], \"type\": \"scattergeo\", \"text\": \"Warszawa\", \"name\": \"Andrzej Halicki\", \"lat\": [52.216666666]}, {\"marker\": {\"size\": 5, \"color\": \"rgb(0, 0, 255)\"}, \"lon\": [14.555277777], \"type\": \"scattergeo\", \"text\": \"Szczecin\", \"name\": \"Arkadiusz Marchewka\", \"lat\": [53.424722222]}, {\"marker\": {\"size\": 5, \"color\": \"rgb(0, 0, 255)\"}, \"lon\": [22.566666666], \"type\": \"scattergeo\", \"text\": \"Lublin\", \"name\": \"Jakub Kulesza\", \"lat\": [51.233333333]}, {\"marker\": {\"size\": 5, \"color\": \"rgb(0, 0, 255)\"}, \"lon\": [19.0875], \"type\": \"scattergeo\", \"text\": \"Mil\\u00f3wka\", \"name\": \"Kazimierz Matuszny\", \"lat\": [49.563055555]}, {\"marker\": {\"size\": 5, \"color\": \"rgb(0, 0, 255)\"}, \"lon\": [15.25], \"type\": \"scattergeo\", \"text\": \"Gorz\\u00f3w Wielkopolski\", \"name\": \"Jaros\\u0142aw Porwich\", \"lat\": [52.733333333]}, {\"marker\": {\"size\": 5, \"color\": \"rgb(0, 0, 255)\"}, \"lon\": [20.631944444], \"type\": \"scattergeo\", \"text\": \"Kielce\", \"name\": \"Marcin Porzucek\", \"lat\": [50.8725]}, {\"marker\": {\"size\": 5, \"color\": \"rgb(0, 0, 255)\"}, \"lon\": [18.0], \"type\": \"scattergeo\", \"text\": \"Bydgoszcz\", \"name\": \"Pawe\\u0142 Olszewski\", \"lat\": [53.116666666]}, {\"marker\": {\"size\": 5, \"color\": \"rgb(0, 0, 255)\"}, \"lon\": [17.03533], \"type\": \"scattergeo\", \"text\": \"Wroc\\u0142aw\", \"name\": \"Krzysztof Ostrowski\", \"lat\": [51.10773]}, {\"marker\": {\"size\": 5, \"color\": \"rgb(0, 0, 255)\"}, \"lon\": [16.080277777], \"type\": \"scattergeo\", \"text\": \"G\\u0142og\\u00f3w\", \"name\": \"Joanna Schmidt\", \"lat\": [51.658888888]}, {\"marker\": {\"size\": 5, \"color\": \"rgb(0, 0, 255)\"}, \"lon\": [17.266666666], \"type\": \"scattergeo\", \"text\": \"Wyrzysk\", \"name\": \"Maria Ma\\u0142gorzata Janyska\", \"lat\": [53.15]}, {\"marker\": {\"size\": 5, \"color\": \"rgb(0, 0, 255)\"}, \"lon\": [23.116666666], \"type\": \"scattergeo\", \"text\": \"Bia\\u0142a Podlaska\", \"name\": \"Adam Abramowicz\", \"lat\": [52.033333333]}, {\"marker\": {\"size\": 5, \"color\": \"rgb(0, 0, 255)\"}, \"lon\": [17.716666666], \"type\": \"scattergeo\", \"text\": \"Syc\\u00f3w\", \"name\": \"Beata Kempa\", \"lat\": [51.3]}, {\"marker\": {\"size\": 5, \"color\": \"rgb(0, 0, 255)\"}, \"lon\": [16.283333333], \"type\": \"scattergeo\", \"text\": \"Wa\\u0142brzych\", \"name\": \"Agnieszka Ko\\u0142acz-Leszczy\\u0144ska\", \"lat\": [50.766666666]}, {\"marker\": {\"size\": 5, \"color\": \"rgb(0, 0, 255)\"}, \"lon\": [20.916666666], \"type\": \"scattergeo\", \"text\": \"Skar\\u017cysko-Kamienna\", \"name\": \"Marzena Ok\\u0142a-Drewnowicz\", \"lat\": [51.116666666]}, {\"marker\": {\"size\": 5, \"color\": \"rgb(0, 0, 255)\"}, \"lon\": [17.04444444], \"type\": \"scattergeo\", \"text\": \"Jelenin\", \"name\": \"Czes\\u0142aw Hoc\", \"lat\": [50.86027778]}, {\"marker\": {\"size\": 5, \"color\": \"rgb(0, 0, 255)\"}, \"lon\": [22.25], \"type\": \"scattergeo\", \"text\": \"Zambr\\u00f3w\", \"name\": \"Lech Ko\\u0142akowski\", \"lat\": [52.983333333]}, {\"marker\": {\"size\": 5, \"color\": \"rgb(0, 0, 255)\"}, \"lon\": [21.633333333], \"type\": \"scattergeo\", \"text\": \"Garwolin\", \"name\": \"Grzegorz Adam Wo\\u017aniak\", \"lat\": [51.9]}, {\"marker\": {\"size\": 5, \"color\": \"rgb(0, 0, 255)\"}, \"lon\": [20.59778], \"type\": \"scattergeo\", \"text\": \"Chomranice\", \"name\": \"Wies\\u0142aw Janczyk\", \"lat\": [49.67611]}, {\"marker\": {\"size\": 5, \"color\": \"rgb(0, 0, 255)\"}, \"lon\": [14.555277777], \"type\": \"scattergeo\", \"text\": \"Szczecin\", \"name\": \"Leszek Dobrzy\\u0144ski\", \"lat\": [53.424722222]}, {\"marker\": {\"size\": 5, \"color\": \"rgb(0, 0, 255)\"}, \"lon\": [21.4], \"type\": \"scattergeo\", \"text\": \"\\u017byrak\\u00f3w\", \"name\": \"Kazimierz Moskal\", \"lat\": [50.0833]}, {\"marker\": {\"size\": 5, \"color\": \"rgb(0, 0, 255)\"}, \"lon\": [21.966666666], \"type\": \"scattergeo\", \"text\": \"Pu\\u0142awy\", \"name\": \"Piotr Pyzik\", \"lat\": [51.416666666]}, {\"marker\": {\"size\": 5, \"color\": \"rgb(0, 0, 255)\"}, \"lon\": [17.55], \"type\": \"scattergeo\", \"text\": \"Chojnice\", \"name\": \"Eugeniusz K\\u0142opotek\", \"lat\": [53.7]}, {\"marker\": {\"size\": 5, \"color\": \"rgb(0, 0, 255)\"}, \"lon\": [22.566666666], \"type\": \"scattergeo\", \"text\": \"Lublin\", \"name\": \"Sylwester Tu\\u0142ajew\", \"lat\": [51.233333333]}, {\"marker\": {\"size\": 5, \"color\": \"rgb(0, 0, 255)\"}, \"lon\": [19.933333333], \"type\": \"scattergeo\", \"text\": \"\\u0141owicz\", \"name\": \"Pawe\\u0142 Bejda\", \"lat\": [52.1]}, {\"marker\": {\"size\": 5, \"color\": \"rgb(0, 0, 255)\"}, \"lon\": [21.033333333], \"type\": \"scattergeo\", \"text\": \"Warszawa\", \"name\": \"Andrzej Smirnow\", \"lat\": [52.216666666]}, {\"marker\": {\"size\": 5, \"color\": \"rgb(0, 0, 255)\"}, \"lon\": [14.555277777], \"type\": \"scattergeo\", \"text\": \"Szczecin\", \"name\": \"Krzysztof Zaremba\", \"lat\": [53.424722222]}, {\"marker\": {\"size\": 5, \"color\": \"rgb(0, 0, 255)\"}, \"lon\": [15.505], \"type\": \"scattergeo\", \"text\": \"Zielona G\\u00f3ra\", \"name\": \"Artur Zasada\", \"lat\": [51.939722222]}, {\"marker\": {\"size\": 5, \"color\": \"rgb(0, 0, 255)\"}, \"lon\": [21.033333333], \"type\": \"scattergeo\", \"text\": \"Warszawa\", \"name\": \"Krzysztof Czaba\\u0144ski\", \"lat\": [52.216666666]}, {\"marker\": {\"size\": 5, \"color\": \"rgb(0, 0, 255)\"}, \"lon\": [16.316666666], \"type\": \"scattergeo\", \"text\": \"\\u015awiebodzice\", \"name\": \"Ireneusz Zyska\", \"lat\": [50.85]}, {\"marker\": {\"size\": 5, \"color\": \"rgb(0, 0, 255)\"}, \"lon\": [18.985833333], \"type\": \"scattergeo\", \"text\": \"Siemianowice \\u015al\\u0105skie\", \"name\": \"Jacek Falfus\", \"lat\": [50.275833333]}, {\"marker\": {\"size\": 5, \"color\": \"rgb(0, 0, 255)\"}, \"lon\": [19.116666666], \"type\": \"scattergeo\", \"text\": \"Cz\\u0119stochowa\", \"name\": \"Konrad G\\u0142\\u0119bocki\", \"lat\": [50.8]}, {\"marker\": {\"size\": 5, \"color\": \"rgb(0, 0, 255)\"}, \"lon\": [22.566666666], \"type\": \"scattergeo\", \"text\": \"Lublin\", \"name\": \"Artur Dunin\", \"lat\": [51.233333333]}, {\"marker\": {\"size\": 5, \"color\": \"rgb(0, 0, 255)\"}, \"lon\": [22.38333333], \"type\": \"scattergeo\", \"text\": \"Motycz\", \"name\": \"Jan \\u0141opata\", \"lat\": [51.23333333]}, {\"marker\": {\"size\": 5, \"color\": \"rgb(0, 0, 255)\"}, \"lon\": [18.4], \"type\": \"scattergeo\", \"text\": \"Rumia\", \"name\": \"Jan Klawiter\", \"lat\": [54.566666666]}, {\"marker\": {\"size\": 5, \"color\": \"rgb(0, 0, 255)\"}, \"lon\": [19.044444444], \"type\": \"scattergeo\", \"text\": \"Bielsko-Bia\\u0142a\", \"name\": \"Jerzy Jachnik\", \"lat\": [49.8225]}, {\"marker\": {\"size\": 5, \"color\": \"rgb(0, 0, 255)\"}, \"lon\": [20.716666666], \"type\": \"scattergeo\", \"text\": \"Busko-Zdr\\u00f3j\", \"name\": \"Krystian Jarubas\", \"lat\": [50.466666666]}, {\"marker\": {\"size\": 5, \"color\": \"rgb(0, 0, 255)\"}, \"lon\": [19.458511111], \"type\": \"scattergeo\", \"text\": \"\\u0141\\u00f3d\\u017a\", \"name\": \"Alicja Kaczorowska\", \"lat\": [51.759494444]}, {\"marker\": {\"size\": 5, \"color\": \"rgb(0, 0, 255)\"}, \"lon\": [18.786388888], \"type\": \"scattergeo\", \"text\": \"Tczew\", \"name\": \"Teresa Piotrowska\", \"lat\": [54.091111111]}, {\"marker\": {\"size\": 5, \"color\": \"rgb(0, 0, 255)\"}, \"lon\": [16.916666666], \"type\": \"scattergeo\", \"text\": \"Pozna\\u0144\", \"name\": \"Marek Ruci\\u0144ski\", \"lat\": [52.4]}, {\"marker\": {\"size\": 5, \"color\": \"rgb(0, 0, 255)\"}, \"lon\": [21.433333333], \"type\": \"scattergeo\", \"text\": \"Mielec\", \"name\": \"Krystyna Skowro\\u0144ska\", \"lat\": [50.283333333]}, {\"marker\": {\"size\": 5, \"color\": \"rgb(0, 0, 255)\"}, \"lon\": [15.25], \"type\": \"scattergeo\", \"text\": \"Gorz\\u00f3w Wielkopolski\", \"name\": \"Tomasz Kucharski\", \"lat\": [52.733333333]}, {\"marker\": {\"size\": 5, \"color\": \"rgb(0, 0, 255)\"}, \"lon\": [18.633333333], \"type\": \"scattergeo\", \"text\": \"Gda\\u0144sk\", \"name\": \"El\\u017cbieta Gelert\", \"lat\": [54.366666666]}, {\"marker\": {\"size\": 5, \"color\": \"rgb(0, 0, 255)\"}, \"lon\": [19.516666666], \"type\": \"scattergeo\", \"text\": \"Ogrodzieniec\", \"name\": \"Anna Nem\\u015b\", \"lat\": [50.45]}, {\"marker\": {\"size\": 5, \"color\": \"rgb(0, 0, 255)\"}, \"lon\": [16.316666666], \"type\": \"scattergeo\", \"text\": \"\\u015awiebodzice\", \"name\": \"Anna Zalewska\", \"lat\": [50.85]}, {\"marker\": {\"size\": 5, \"color\": \"rgb(0, 0, 255)\"}, \"lon\": [21.75], \"type\": \"scattergeo\", \"text\": \"Krosno\", \"name\": \"Piotr Babinetz\", \"lat\": [49.683333333]}, {\"marker\": {\"size\": 5, \"color\": \"rgb(0, 0, 255)\"}, \"lon\": [21.066666666], \"type\": \"scattergeo\", \"text\": \"Starachowice\", \"name\": \"Krzysztof Lipiec\", \"lat\": [51.05]}, {\"marker\": {\"size\": 5, \"color\": \"rgb(0, 0, 255)\"}, \"lon\": [19.044444444], \"type\": \"scattergeo\", \"text\": \"Bielsko-Bia\\u0142a\", \"name\": \"Stanis\\u0142aw Szwed\", \"lat\": [49.8225]}, {\"marker\": {\"size\": 5, \"color\": \"rgb(0, 0, 255)\"}, \"lon\": [20.8325], \"type\": \"scattergeo\", \"text\": \"Suchedni\\u00f3w\", \"name\": \"Maria Zuba\", \"lat\": [51.051666666]}, {\"marker\": {\"size\": 5, \"color\": \"rgb(0, 0, 255)\"}, \"lon\": [17.374166666], \"type\": \"scattergeo\", \"text\": \"G\\u0142ucho\\u0142azy\", \"name\": \"Andrzej So\\u015bnierz\", \"lat\": [50.313055555]}, {\"marker\": {\"size\": 5, \"color\": \"rgb(0, 0, 255)\"}, \"lon\": [21.248611111], \"type\": \"scattergeo\", \"text\": \"Skaryszew\", \"name\": \"Ewa Kopacz\", \"lat\": [51.308888888]}, {\"marker\": {\"size\": 5, \"color\": \"rgb(0, 0, 255)\"}, \"lon\": [17.03533], \"type\": \"scattergeo\", \"text\": \"Wroc\\u0142aw\", \"name\": \"Piotr \\u0141ukasz Babiarz\", \"lat\": [51.10773]}, {\"marker\": {\"size\": 5, \"color\": \"rgb(0, 0, 255)\"}, \"lon\": [19.95], \"type\": \"scattergeo\", \"text\": \"Krak\\u00f3w\", \"name\": \"Urszula Rusecka\", \"lat\": [50.066666666]}, {\"marker\": {\"size\": 5, \"color\": \"rgb(0, 0, 255)\"}, \"lon\": [21.033333333], \"type\": \"scattergeo\", \"text\": \"Warszawa\", \"name\": \"Micha\\u0142 Kami\\u0144ski\", \"lat\": [52.216666666]}, {\"marker\": {\"size\": 5, \"color\": \"rgb(0, 0, 255)\"}, \"lon\": [17.95], \"type\": \"scattergeo\", \"text\": \"Mogilno\", \"name\": \"Tomasz Lenz\", \"lat\": [52.65]}, {\"marker\": {\"size\": 5, \"color\": \"rgb(0, 0, 255)\"}, \"lon\": [21.424722222], \"type\": \"scattergeo\", \"text\": \"Opat\\u00f3w\", \"name\": \"Kazimierz Kotowski\", \"lat\": [50.805]}, {\"marker\": {\"size\": 5, \"color\": \"rgb(0, 0, 255)\"}, \"lon\": [21.4], \"type\": \"scattergeo\", \"text\": \"Ostrowiec \\u015awi\\u0119tokrzyski\", \"name\": \"Andrzej Kryj\", \"lat\": [50.933333333]}, {\"marker\": {\"size\": 5, \"color\": \"rgb(0, 0, 255)\"}, \"lon\": [18.566666666], \"type\": \"scattergeo\", \"text\": \"Wielu\\u0144\", \"name\": \"Beata Mateusiak-Pielucha\", \"lat\": [51.216666666]}, {\"marker\": {\"size\": 5, \"color\": \"rgb(0, 0, 255)\"}, \"lon\": [19.116666666], \"type\": \"scattergeo\", \"text\": \"Cz\\u0119stochowa\", \"name\": \"Halina Rozpondek\", \"lat\": [50.8]}, {\"marker\": {\"size\": 5, \"color\": \"rgb(0, 0, 255)\"}, \"lon\": [19.458511111], \"type\": \"scattergeo\", \"text\": \"\\u0141\\u00f3d\\u017a\", \"name\": \"Ma\\u0142gorzata Niemczyk\", \"lat\": [51.759494444]}, {\"marker\": {\"size\": 5, \"color\": \"rgb(0, 0, 255)\"}, \"lon\": [16.916666666], \"type\": \"scattergeo\", \"text\": \"Pozna\\u0144\", \"name\": \"Tomasz Latos\", \"lat\": [52.4]}, {\"marker\": {\"size\": 5, \"color\": \"rgb(0, 0, 255)\"}, \"lon\": [21.033333333], \"type\": \"scattergeo\", \"text\": \"Warszawa\", \"name\": \"Antoni Macierewicz\", \"lat\": [52.216666666]}, {\"marker\": {\"size\": 5, \"color\": \"rgb(0, 0, 255)\"}, \"lon\": [17.933333333], \"type\": \"scattergeo\", \"text\": \"Opole\", \"name\": \"Patryk Jaki\", \"lat\": [50.666666666]}, {\"marker\": {\"size\": 5, \"color\": \"rgb(0, 0, 255)\"}, \"lon\": [16.283333333], \"type\": \"scattergeo\", \"text\": \"Wa\\u0142brzych\", \"name\": \"Izabela Katarzyna Mrzyg\\u0142ocka\", \"lat\": [50.766666666]}, {\"marker\": {\"size\": 5, \"color\": \"rgb(0, 0, 255)\"}, \"lon\": [16.916666666], \"type\": \"scattergeo\", \"text\": \"Pozna\\u0144\", \"name\": \"Tadeusz Dziuba\", \"lat\": [52.4]}, {\"marker\": {\"size\": 5, \"color\": \"rgb(0, 0, 255)\"}, \"lon\": [16.2], \"type\": \"scattergeo\", \"text\": \"Lubin\", \"name\": \"El\\u017cbieta St\\u0119pie\\u0144\", \"lat\": [51.4]}, {\"marker\": {\"size\": 5, \"color\": \"rgb(0, 0, 255)\"}, \"lon\": [19.95], \"type\": \"scattergeo\", \"text\": \"Krak\\u00f3w\", \"name\": \"Micha\\u0142 W\\u00f3jcik\", \"lat\": [50.066666666]}, {\"marker\": {\"size\": 5, \"color\": \"rgb(0, 0, 255)\"}, \"lon\": [19.95], \"type\": \"scattergeo\", \"text\": \"Krak\\u00f3w\", \"name\": \"Zbigniew Ziobro\", \"lat\": [50.066666666]}, {\"marker\": {\"size\": 5, \"color\": \"rgb(0, 0, 255)\"}, \"lon\": [15.4], \"type\": \"scattergeo\", \"text\": \"Resko\", \"name\": \"Bartosz Ar\\u0142ukowicz\", \"lat\": [53.8]}, {\"marker\": {\"size\": 5, \"color\": \"rgb(0, 0, 255)\"}, \"lon\": [21.966666666], \"type\": \"scattergeo\", \"text\": \"Pu\\u0142awy\", \"name\": \"W\\u0142odzimierz Karpi\\u0144ski\", \"lat\": [51.416666666]}, {\"marker\": {\"size\": 5, \"color\": \"rgb(0, 0, 255)\"}, \"lon\": [21.033333333], \"type\": \"scattergeo\", \"text\": \"Warszawa\", \"name\": \"Andrzej Melak\", \"lat\": [52.216666666]}, {\"marker\": {\"size\": 5, \"color\": \"rgb(0, 0, 255)\"}, \"lon\": [21.033333333], \"type\": \"scattergeo\", \"text\": \"Warszawa\", \"name\": \"Jaros\\u0142aw Kaczy\\u0144ski\", \"lat\": [52.216666666]}, {\"marker\": {\"size\": 5, \"color\": \"rgb(0, 0, 255)\"}, \"lon\": [16.080277777], \"type\": \"scattergeo\", \"text\": \"G\\u0142og\\u00f3w\", \"name\": \"Sylwester Chruszcz\", \"lat\": [51.658888888]}, {\"marker\": {\"size\": 5, \"color\": \"rgb(0, 0, 255)\"}, \"lon\": [22.63333], \"type\": \"scattergeo\", \"text\": \"Biszcza\", \"name\": \"Genowefa Tokarska\", \"lat\": [50.4]}, {\"marker\": {\"size\": 5, \"color\": \"rgb(0, 0, 255)\"}, \"lon\": [18.33305556], \"type\": \"scattergeo\", \"text\": \"Ko\\u017aminek\", \"name\": \"Mariusz Witczak\", \"lat\": [51.79861111]}, {\"marker\": {\"size\": 5, \"color\": \"rgb(0, 0, 255)\"}, \"lon\": [18.29944444], \"type\": \"scattergeo\", \"text\": \"Komorniki\", \"name\": \"Iwona \\u015aledzi\\u0144ska-Katarasi\\u0144ska\", \"lat\": [50.46305556]}, {\"marker\": {\"size\": 5, \"color\": \"rgb(0, 0, 255)\"}, \"lon\": [17.483333333], \"type\": \"scattergeo\", \"text\": \"Brzeg\", \"name\": \"Pawe\\u0142 Grabowski\", \"lat\": [50.866666666]}, {\"marker\": {\"size\": 5, \"color\": \"rgb(0, 0, 255)\"}, \"lon\": [19.116666666], \"type\": \"scattergeo\", \"text\": \"Cz\\u0119stochowa\", \"name\": \"Tomasz Jask\\u00f3\\u0142a\", \"lat\": [50.8]}, {\"marker\": {\"size\": 5, \"color\": \"rgb(0, 0, 255)\"}, \"lon\": [20.483333333], \"type\": \"scattergeo\", \"text\": \"Olsztyn\", \"name\": \"Piotr Cie\\u015bli\\u0144ski\", \"lat\": [53.783333333]}, {\"marker\": {\"size\": 5, \"color\": \"rgb(0, 0, 255)\"}, \"lon\": [21.033333333], \"type\": \"scattergeo\", \"text\": \"Warszawa\", \"name\": \"Jaros\\u0142aw Krajewski\", \"lat\": [52.216666666]}, {\"marker\": {\"size\": 5, \"color\": \"rgb(0, 0, 255)\"}, \"lon\": [21.156666666], \"type\": \"scattergeo\", \"text\": \"Radom\", \"name\": \"Anna Kwiecie\\u0144\", \"lat\": [51.403611111]}, {\"marker\": {\"size\": 5, \"color\": \"rgb(0, 0, 255)\"}, \"lon\": [21.156666666], \"type\": \"scattergeo\", \"text\": \"Radom\", \"name\": \"Andrzej Kosztowniak\", \"lat\": [51.403611111]}, {\"marker\": {\"size\": 5, \"color\": \"rgb(0, 0, 255)\"}, \"lon\": [20.016666666], \"type\": \"scattergeo\", \"text\": \"Nowy Targ\", \"name\": \"Anna Paluch\", \"lat\": [49.466666666]}, {\"marker\": {\"size\": 5, \"color\": \"rgb(0, 0, 255)\"}, \"lon\": [19.95], \"type\": \"scattergeo\", \"text\": \"Krak\\u00f3w\", \"name\": \"Jerzy Meysztowicz\", \"lat\": [50.066666666]}, {\"marker\": {\"size\": 5, \"color\": \"rgb(0, 0, 255)\"}, \"lon\": [18.616666666], \"type\": \"scattergeo\", \"text\": \"Toru\\u0144\", \"name\": \"Joanna Scheuring-Wielgus\", \"lat\": [53.016666666]}, {\"marker\": {\"size\": 5, \"color\": \"rgb(0, 0, 255)\"}, \"lon\": [23.166666666], \"type\": \"scattergeo\", \"text\": \"Bia\\u0142ystok\", \"name\": \"Robert Tyszkiewicz\", \"lat\": [53.116666666]}, {\"marker\": {\"size\": 5, \"color\": \"rgb(0, 0, 255)\"}, \"lon\": [22.083333333], \"type\": \"scattergeo\", \"text\": \"\\u0141om\\u017ca\", \"name\": \"Micha\\u0142 Jach\", \"lat\": [53.166666666]}, {\"marker\": {\"size\": 5, \"color\": \"rgb(0, 0, 255)\"}, \"lon\": [23.183333333], \"type\": \"scattergeo\", \"text\": \"Krasnobr\\u00f3d\", \"name\": \"S\\u0142awomir Zawi\\u015blak\", \"lat\": [50.533333333]}, {\"marker\": {\"size\": 5, \"color\": \"rgb(0, 0, 255)\"}, \"lon\": [20.433333333], \"type\": \"scattergeo\", \"text\": \"Bochnia\", \"name\": \"Stanis\\u0142aw Piotrowicz\", \"lat\": [49.983333333]}, {\"marker\": {\"size\": 5, \"color\": \"rgb(0, 0, 255)\"}, \"lon\": [23.166666666], \"type\": \"scattergeo\", \"text\": \"Bia\\u0142ystok\", \"name\": \"Jacek \\u017balek\", \"lat\": [53.116666666]}, {\"marker\": {\"size\": 5, \"color\": \"rgb(0, 0, 255)\"}, \"lon\": [17.03533], \"type\": \"scattergeo\", \"text\": \"Wroc\\u0142aw\", \"name\": \"Jacek \\u015awiat\", \"lat\": [51.10773]}, {\"marker\": {\"size\": 5, \"color\": \"rgb(0, 0, 255)\"}, \"lon\": [21.033333333], \"type\": \"scattergeo\", \"text\": \"Warszawa\", \"name\": \"Bartosz Kownacki\", \"lat\": [52.216666666]}, {\"marker\": {\"size\": 5, \"color\": \"rgb(0, 0, 255)\"}, \"lon\": [21.033333333], \"type\": \"scattergeo\", \"text\": \"Warszawa\", \"name\": \"Maciej Ma\\u0142ecki\", \"lat\": [52.216666666]}, {\"marker\": {\"size\": 5, \"color\": \"rgb(0, 0, 255)\"}, \"lon\": [19.044444444], \"type\": \"scattergeo\", \"text\": \"Bielsko-Bia\\u0142a\", \"name\": \"Stanis\\u0142aw Pi\\u0119ta\", \"lat\": [49.8225]}, {\"marker\": {\"size\": 5, \"color\": \"rgb(0, 0, 255)\"}, \"lon\": [19.7], \"type\": \"scattergeo\", \"text\": \"P\\u0142ock\", \"name\": \"Ewa Tomaszewska\", \"lat\": [52.55]}, {\"marker\": {\"size\": 5, \"color\": \"rgb(0, 0, 255)\"}, \"lon\": [17.7], \"type\": \"scattergeo\", \"text\": \"Ostr\\u00f3w Wielkopolski\", \"name\": \"Jaros\\u0142aw Urbaniak\", \"lat\": [51.65]}, {\"marker\": {\"size\": 5, \"color\": \"rgb(0, 0, 255)\"}, \"lon\": [19.4], \"type\": \"scattergeo\", \"text\": \"Elbl\\u0105g\", \"name\": \"Jerzy Wilk\", \"lat\": [54.166666666]}, {\"marker\": {\"size\": 5, \"color\": \"rgb(0, 0, 255)\"}, \"lon\": [18.731944444], \"type\": \"scattergeo\", \"text\": \"Krzepice\", \"name\": \"Marian Zembala\", \"lat\": [50.967222222]}, {\"marker\": {\"size\": 5, \"color\": \"rgb(0, 0, 255)\"}, \"lon\": [18.5], \"type\": \"scattergeo\", \"text\": \"Strzelce Opolskie\", \"name\": \"Bart\\u0142omiej Stawiarski\", \"lat\": [50.866666666]}, {\"marker\": {\"size\": 5, \"color\": \"rgb(0, 0, 255)\"}, \"lon\": [22.383333333], \"type\": \"scattergeo\", \"text\": \"\\u0141uk\\u00f3w\", \"name\": \"Krzysztof G\\u0142uchowski\", \"lat\": [51.916666666]}, {\"marker\": {\"size\": 5, \"color\": \"rgb(0, 0, 255)\"}, \"lon\": [22.716666666], \"type\": \"scattergeo\", \"text\": \"\\u0141osice\", \"name\": \"Marcin Duszek\", \"lat\": [52.216666666]}, {\"marker\": {\"size\": 5, \"color\": \"rgb(0, 0, 255)\"}, \"lon\": [20.983333333], \"type\": \"scattergeo\", \"text\": \"D\\u0105browa Tarnowska\", \"name\": \"Micha\\u0142 Cie\\u015blak\", \"lat\": [50.166666666]}, {\"marker\": {\"size\": 5, \"color\": \"rgb(0, 0, 255)\"}, \"lon\": [16.8167], \"type\": \"scattergeo\", \"text\": \"Gorzyczki\", \"name\": \"Teresa Glenc\", \"lat\": [52.1167]}, {\"marker\": {\"size\": 5, \"color\": \"rgb(0, 0, 255)\"}, \"lon\": [22.0], \"type\": \"scattergeo\", \"text\": \"Rzesz\\u00f3w\", \"name\": \"Marek Rz\\u0105sa\", \"lat\": [50.05]}, {\"marker\": {\"size\": 5, \"color\": \"rgb(0, 0, 255)\"}, \"lon\": [15.133333333], \"type\": \"scattergeo\", \"text\": \"\\u017bary\", \"name\": \"Bo\\u017cenna Bukiewicz\", \"lat\": [51.633333333]}, {\"marker\": {\"size\": 5, \"color\": \"rgb(0, 0, 255)\"}, \"lon\": [21.033333333], \"type\": \"scattergeo\", \"text\": \"Warszawa\", \"name\": \"Marcin Kierwi\\u0144ski\", \"lat\": [52.216666666]}, {\"marker\": {\"size\": 5, \"color\": \"rgb(0, 0, 255)\"}, \"lon\": [21.033333333], \"type\": \"scattergeo\", \"text\": \"Warszawa\", \"name\": \"Leszek Korzeniowski\", \"lat\": [52.216666666]}, {\"marker\": {\"size\": 5, \"color\": \"rgb(0, 0, 255)\"}, \"lon\": [19.95], \"type\": \"scattergeo\", \"text\": \"Krak\\u00f3w\", \"name\": \"W\\u0142adys\\u0142aw Kosiniak-Kamysz\", \"lat\": [50.066666666]}, {\"marker\": {\"size\": 5, \"color\": \"rgb(0, 0, 255)\"}, \"lon\": [17.583333333], \"type\": \"scattergeo\", \"text\": \"Wrze\\u015bnia\", \"name\": \"Ewa Kozanecka\", \"lat\": [52.333333333]}, {\"marker\": {\"size\": 5, \"color\": \"rgb(0, 0, 255)\"}, \"lon\": [20.749722222], \"type\": \"scattergeo\", \"text\": \"Chmielnik\", \"name\": \"Bogdan Latosi\\u0144ski\", \"lat\": [50.611666666]}, {\"marker\": {\"size\": 5, \"color\": \"rgb(0, 0, 255)\"}, \"lon\": [19.45], \"type\": \"scattergeo\", \"text\": \"Radomsko\", \"name\": \"Anna Milczanowska\", \"lat\": [51.066666666]}, {\"marker\": {\"size\": 5, \"color\": \"rgb(0, 0, 255)\"}, \"lon\": [19.6167], \"type\": \"scattergeo\", \"text\": \"Bia\\u0142ocin\", \"name\": \"El\\u017cbieta Radziszewska\", \"lat\": [51.2833]}, {\"marker\": {\"size\": 5, \"color\": \"rgb(0, 0, 255)\"}, \"lon\": [17.03533], \"type\": \"scattergeo\", \"text\": \"Wroc\\u0142aw\", \"name\": \"Aldona M\\u0142y\\u0144czak\", \"lat\": [51.10773]}, {\"marker\": {\"size\": 5, \"color\": \"rgb(0, 0, 255)\"}, \"lon\": [22.514444444], \"type\": \"scattergeo\", \"text\": \"Wysokie Mazowieckie\", \"name\": \"Jacek Bogucki\", \"lat\": [52.919166666]}, {\"marker\": {\"size\": 5, \"color\": \"rgb(0, 0, 255)\"}, \"lon\": [18.66666667], \"type\": \"scattergeo\", \"text\": \"Ko\\u017amin\", \"name\": \"Zbigniew Dolata\", \"lat\": [52.06666667]}, {\"marker\": {\"size\": 5, \"color\": \"rgb(0, 0, 255)\"}, \"lon\": [21.9], \"type\": \"scattergeo\", \"text\": \"Ostr\\u00f3w Mazowiecka\", \"name\": \"Beata Mazurek\", \"lat\": [52.8]}, {\"marker\": {\"size\": 5, \"color\": \"rgb(0, 0, 255)\"}, \"lon\": [16.183333333], \"type\": \"scattergeo\", \"text\": \"Jawor\", \"name\": \"El\\u017cbieta Witek\", \"lat\": [51.05]}, {\"marker\": {\"size\": 5, \"color\": \"rgb(0, 0, 255)\"}, \"lon\": [39.85], \"type\": \"scattergeo\", \"text\": \"Jaros\\u0142aw\", \"name\": \"Mieczys\\u0142aw Kasprzak\", \"lat\": [57.616666666]}, {\"marker\": {\"size\": 5, \"color\": \"rgb(0, 0, 255)\"}, \"lon\": [19.4], \"type\": \"scattergeo\", \"text\": \"Chrzan\\u00f3w\", \"name\": \"Dariusz Starzycki\", \"lat\": [50.133333333]}, {\"marker\": {\"size\": 5, \"color\": \"rgb(0, 0, 255)\"}, \"lon\": [16.365], \"type\": \"scattergeo\", \"text\": \"Prochowice\", \"name\": \"Ewa Szyma\\u0144ska\", \"lat\": [51.274166666]}, {\"marker\": {\"size\": 5, \"color\": \"rgb(0, 0, 255)\"}, \"lon\": [19.95], \"type\": \"scattergeo\", \"text\": \"Krak\\u00f3w\", \"name\": \"Agnieszka \\u015acigaj\", \"lat\": [50.066666666]}, {\"marker\": {\"size\": 5, \"color\": \"rgb(0, 0, 255)\"}, \"lon\": [21.683333333], \"type\": \"scattergeo\", \"text\": \"Tarnobrzeg\", \"name\": \"Rafa\\u0142 Weber\", \"lat\": [50.583333333]}, {\"marker\": {\"size\": 5, \"color\": \"rgb(0, 0, 255)\"}, \"lon\": [18.533333333], \"type\": \"scattergeo\", \"text\": \"Gdynia\", \"name\": \"Magdalena B\\u0142e\\u0144ska\", \"lat\": [54.5]}, {\"marker\": {\"size\": 5, \"color\": \"rgb(0, 0, 255)\"}, \"lon\": [18.95], \"type\": \"scattergeo\", \"text\": \"Piekary \\u015al\\u0105skie\", \"name\": \"Jerzy Polaczek\", \"lat\": [50.383333333]}, {\"marker\": {\"size\": 5, \"color\": \"rgb(0, 0, 255)\"}, \"lon\": [17.03533], \"type\": \"scattergeo\", \"text\": \"Wroc\\u0142aw\", \"name\": \"Stanis\\u0142aw Huskowski\", \"lat\": [51.10773]}, {\"marker\": {\"size\": 5, \"color\": \"rgb(0, 0, 255)\"}, \"lon\": [18.633333333], \"type\": \"scattergeo\", \"text\": \"Gda\\u0144sk\", \"name\": \"Ma\\u0142gorzata Chmiel\", \"lat\": [54.366666666]}, {\"marker\": {\"size\": 5, \"color\": \"rgb(0, 0, 255)\"}, \"lon\": [20.633333333], \"type\": \"scattergeo\", \"text\": \"Ciechan\\u00f3w\", \"name\": \"Anna Cicholska\", \"lat\": [52.866666666]}, {\"marker\": {\"size\": 5, \"color\": \"rgb(0, 0, 255)\"}, \"lon\": [21.033333333], \"type\": \"scattergeo\", \"text\": \"Warszawa\", \"name\": \"Piotr Gli\\u0144ski\", \"lat\": [52.216666666]}, {\"marker\": {\"size\": 5, \"color\": \"rgb(0, 0, 255)\"}, \"lon\": [21.033333333], \"type\": \"scattergeo\", \"text\": \"Warszawa\", \"name\": \"Kamila Gasiuk-Pihowicz\", \"lat\": [52.216666666]}, {\"marker\": {\"size\": 5, \"color\": \"rgb(0, 0, 255)\"}, \"lon\": [19.458511111], \"type\": \"scattergeo\", \"text\": \"\\u0141\\u00f3d\\u017a\", \"name\": \"Joanna Kopci\\u0144ska\", \"lat\": [51.759494444]}, {\"marker\": {\"size\": 5, \"color\": \"rgb(0, 0, 255)\"}, \"lon\": [19.95], \"type\": \"scattergeo\", \"text\": \"Krak\\u00f3w\", \"name\": \"Barbara Bubula\", \"lat\": [50.066666666]}, {\"marker\": {\"size\": 5, \"color\": \"rgb(0, 0, 255)\"}, \"lon\": [17.983333333], \"type\": \"scattergeo\", \"text\": \"K\\u0119pno\", \"name\": \"And\\u017celika Mo\\u017cd\\u017canowska\", \"lat\": [51.283333333]}, {\"marker\": {\"size\": 5, \"color\": \"rgb(0, 0, 255)\"}, \"lon\": [22.733333333], \"type\": \"scattergeo\", \"text\": \"Bi\\u0142goraj\", \"name\": \"Piotr Olsz\\u00f3wka\", \"lat\": [50.55]}, {\"marker\": {\"size\": 5, \"color\": \"rgb(0, 0, 255)\"}, \"lon\": [16.2], \"type\": \"scattergeo\", \"text\": \"Lubin\", \"name\": \"Krzysztof Kub\\u00f3w\", \"lat\": [51.4]}, {\"marker\": {\"size\": 5, \"color\": \"rgb(0, 0, 255)\"}, \"lon\": [20.466666666], \"type\": \"scattergeo\", \"text\": \"Limanowa\", \"name\": \"J\\u00f3zef Le\\u015bniak\", \"lat\": [49.716666666]}, {\"marker\": {\"size\": 5, \"color\": \"rgb(0, 0, 255)\"}, \"lon\": [18.633333333], \"type\": \"scattergeo\", \"text\": \"Gda\\u0144sk\", \"name\": \"Ewa Lieder\", \"lat\": [54.366666666]}, {\"marker\": {\"size\": 5, \"color\": \"rgb(0, 0, 255)\"}, \"lon\": [20.583333333], \"type\": \"scattergeo\", \"text\": \"Lidzbark Warmi\\u0144ski\", \"name\": \"Jacek Protas\", \"lat\": [54.116666666]}, {\"marker\": {\"size\": 5, \"color\": \"rgb(0, 0, 255)\"}, \"lon\": [18.356666666], \"type\": \"scattergeo\", \"text\": \"Siedliska\", \"name\": \"J\\u00f3zef Lassota\", \"lat\": [50.785]}, {\"marker\": {\"size\": 5, \"color\": \"rgb(0, 0, 255)\"}, \"lon\": [18.834305555], \"type\": \"scattergeo\", \"text\": \"Zarzecze\", \"name\": \"Bogdan Rzo\\u0144ca\", \"lat\": [49.913011111]}, {\"marker\": {\"size\": 5, \"color\": \"rgb(0, 0, 255)\"}, \"lon\": [19.95], \"type\": \"scattergeo\", \"text\": \"Krak\\u00f3w\", \"name\": \"Jaros\\u0142aw Gowin\", \"lat\": [50.066666666]}, {\"marker\": {\"size\": 5, \"color\": \"rgb(0, 0, 255)\"}, \"lon\": [22.233333333], \"type\": \"scattergeo\", \"text\": \"\\u0141a\\u0144cut\", \"name\": \"Kazimierz Go\\u0142ojuch\", \"lat\": [50.066666666]}, {\"marker\": {\"size\": 5, \"color\": \"rgb(0, 0, 255)\"}, \"lon\": [19.406111111], \"type\": \"scattergeo\", \"text\": \"Zgierz\", \"name\": \"Marek Matuszewski\", \"lat\": [51.856388888]}, {\"marker\": {\"size\": 5, \"color\": \"rgb(0, 0, 255)\"}, \"lon\": [20.883333333], \"type\": \"scattergeo\", \"text\": \"Legionowo\", \"name\": \"Mariusz B\\u0142aszczak\", \"lat\": [52.383333333]}, {\"marker\": {\"size\": 5, \"color\": \"rgb(0, 0, 255)\"}, \"lon\": [15.0], \"type\": \"scattergeo\", \"text\": \"Zgorzelec\", \"name\": \"Robert Winnicki\", \"lat\": [51.152777777]}, {\"marker\": {\"size\": 5, \"color\": \"rgb(0, 0, 255)\"}, \"lon\": [21.4], \"type\": \"scattergeo\", \"text\": \"Ostrowiec \\u015awi\\u0119tokrzyski\", \"name\": \"Anna Wasilewska\", \"lat\": [50.933333333]}, {\"marker\": {\"size\": 5, \"color\": \"rgb(0, 0, 255)\"}, \"lon\": [18.533333333], \"type\": \"scattergeo\", \"text\": \"Gdynia\", \"name\": \"Ma\\u0142gorzata Zwiercan\", \"lat\": [54.5]}, {\"marker\": {\"size\": 5, \"color\": \"rgb(0, 0, 255)\"}, \"lon\": [19.383333333], \"type\": \"scattergeo\", \"text\": \"Pabianice\", \"name\": \"Krzysztof Maciejewski\", \"lat\": [51.65]}, {\"marker\": {\"size\": 5, \"color\": \"rgb(0, 0, 255)\"}, \"lon\": [18.55], \"type\": \"scattergeo\", \"text\": \"Sopot\", \"name\": \"Tadeusz Aziewicz\", \"lat\": [54.433333333]}, {\"marker\": {\"size\": 5, \"color\": \"rgb(0, 0, 255)\"}, \"lon\": [22.566666666], \"type\": \"scattergeo\", \"text\": \"Lublin\", \"name\": \"El\\u017cbieta Kruk\", \"lat\": [51.233333333]}, {\"marker\": {\"size\": 5, \"color\": \"rgb(0, 0, 255)\"}, \"lon\": [18.5], \"type\": \"scattergeo\", \"text\": \"Rybnik\", \"name\": \"Grzegorz Janik\", \"lat\": [50.083333333]}, {\"marker\": {\"size\": 5, \"color\": \"rgb(0, 0, 255)\"}, \"lon\": [18.68333333], \"type\": \"scattergeo\", \"text\": \"Kochcice\", \"name\": \"Andrzej Gawron\", \"lat\": [50.7]}, {\"marker\": {\"size\": 5, \"color\": \"rgb(0, 0, 255)\"}, \"lon\": [19.083333333], \"type\": \"scattergeo\", \"text\": \"Czelad\\u017a\", \"name\": \"Jaros\\u0142aw Gonciarz\", \"lat\": [50.333333333]}, {\"marker\": {\"size\": 5, \"color\": \"rgb(0, 0, 255)\"}, \"lon\": [14.555277777], \"type\": \"scattergeo\", \"text\": \"Szczecin\", \"name\": \"Magdalena Kochan\", \"lat\": [53.424722222]}, {\"marker\": {\"size\": 5, \"color\": \"rgb(0, 0, 255)\"}, \"lon\": [15.216666666], \"type\": \"scattergeo\", \"text\": \"Gryfice\", \"name\": \"Cezary Tomczyk\", \"lat\": [53.9]}, {\"marker\": {\"size\": 5, \"color\": \"rgb(0, 0, 255)\"}, \"lon\": [17.0], \"type\": \"scattergeo\", \"text\": \"Paczk\\u00f3w\", \"name\": \"Pawe\\u0142 Kukiz\", \"lat\": [50.45]}, {\"marker\": {\"size\": 5, \"color\": \"rgb(0, 0, 255)\"}, \"lon\": [15.533333333], \"type\": \"scattergeo\", \"text\": \"\\u015awiebodzin\", \"name\": \"Jacek Kurz\\u0119pa\", \"lat\": [52.25]}, {\"marker\": {\"size\": 5, \"color\": \"rgb(0, 0, 255)\"}, \"lon\": [19.0], \"type\": \"scattergeo\", \"text\": \"Katowice\", \"name\": \"Gabriela Lenartowicz\", \"lat\": [50.25]}, {\"marker\": {\"size\": 5, \"color\": \"rgb(0, 0, 255)\"}, \"lon\": [21.033333333], \"type\": \"scattergeo\", \"text\": \"Warszawa\", \"name\": \"Kornel Morawiecki\", \"lat\": [52.216666666]}, {\"marker\": {\"size\": 5, \"color\": \"rgb(0, 0, 255)\"}, \"lon\": [16.1], \"type\": \"scattergeo\", \"text\": \"Po\\u0142czyn-Zdr\\u00f3j\", \"name\": \"S\\u0142awomir Nitras\", \"lat\": [53.766666666]}, {\"marker\": {\"size\": 5, \"color\": \"rgb(0, 0, 255)\"}, \"lon\": [21.758888888], \"type\": \"scattergeo\", \"text\": \"Gi\\u017cycko\", \"name\": \"Adam O\\u0142dakowski\", \"lat\": [54.04]}, {\"marker\": {\"size\": 5, \"color\": \"rgb(0, 0, 255)\"}, \"lon\": [17.333888888], \"type\": \"scattergeo\", \"text\": \"Nysa\", \"name\": \"Janusz Sanocki\", \"lat\": [50.471388888]}, {\"marker\": {\"size\": 5, \"color\": \"rgb(0, 0, 255)\"}, \"lon\": [18.7], \"type\": \"scattergeo\", \"text\": \"Aleksandr\\u00f3w Kujawski\", \"name\": \"Micha\\u0142 Jaros\", \"lat\": [52.866666666]}, {\"marker\": {\"size\": 5, \"color\": \"rgb(0, 0, 255)\"}, \"lon\": [18.0], \"type\": \"scattergeo\", \"text\": \"Bydgoszcz\", \"name\": \"Krzysztof Brejza\", \"lat\": [53.116666666]}, {\"marker\": {\"size\": 5, \"color\": \"rgb(0, 0, 255)\"}, \"lon\": [17.033333333], \"type\": \"scattergeo\", \"text\": \"S\\u0142upsk\", \"name\": \"Jolanta Szczypi\\u0144ska\", \"lat\": [54.466666666]}, {\"marker\": {\"size\": 5, \"color\": \"rgb(0, 0, 255)\"}, \"lon\": [16.283333333], \"type\": \"scattergeo\", \"text\": \"Wa\\u0142brzych\", \"name\": \"Tomasz Siemoniak\", \"lat\": [50.766666666]}, {\"marker\": {\"size\": 5, \"color\": \"rgb(0, 0, 255)\"}, \"lon\": [17.833333333], \"type\": \"scattergeo\", \"text\": \"G\\u0142ubczyce\", \"name\": \"Adam Lipi\\u0144ski\", \"lat\": [50.2]}, {\"marker\": {\"size\": 5, \"color\": \"rgb(0, 0, 255)\"}, \"lon\": [16.65], \"type\": \"scattergeo\", \"text\": \"Ko\\u015bcian\", \"name\": \"Adam Sz\\u0142apka\", \"lat\": [52.083333333]}, {\"marker\": {\"size\": 5, \"color\": \"rgb(0, 0, 255)\"}, \"lon\": [21.033333333], \"type\": \"scattergeo\", \"text\": \"Warszawa\", \"name\": \"Rafa\\u0142 Trzaskowski\", \"lat\": [52.216666666]}, {\"marker\": {\"size\": 5, \"color\": \"rgb(0, 0, 255)\"}, \"lon\": [21.566666666], \"type\": \"scattergeo\", \"text\": \"Mi\\u0144sk Mazowiecki\", \"name\": \"Teresa Wargocka\", \"lat\": [52.183333333]}, {\"marker\": {\"size\": 5, \"color\": \"rgb(0, 0, 255)\"}, \"lon\": [17.933333333], \"type\": \"scattergeo\", \"text\": \"Opole\", \"name\": \"Witold Zembaczy\\u0144ski\", \"lat\": [50.666666666]}, {\"marker\": {\"size\": 5, \"color\": \"rgb(0, 0, 255)\"}, \"lon\": [18.500833333], \"type\": \"scattergeo\", \"text\": \"Piotrk\\u00f3w Kujawski\", \"name\": \"Anna El\\u017cbieta Sobecka\", \"lat\": [52.546944444]}, {\"marker\": {\"size\": 5, \"color\": \"rgb(0, 0, 255)\"}, \"lon\": [16.760555555], \"type\": \"scattergeo\", \"text\": \"Czempi\\u0144\", \"name\": \"Wojciech Ziemniak\", \"lat\": [52.145]}, {\"marker\": {\"size\": 5, \"color\": \"rgb(0, 0, 255)\"}, \"lon\": [19.013333333], \"type\": \"scattergeo\", \"text\": \"Nowy Staw\", \"name\": \"Tadeusz Cyma\\u0144ski\", \"lat\": [54.135555555]}, {\"marker\": {\"size\": 5, \"color\": \"rgb(0, 0, 255)\"}, \"lon\": [20.697222222], \"type\": \"scattergeo\", \"text\": \"Nowy S\\u0105cz\", \"name\": \"Jan Duda\", \"lat\": [49.623888888]}, {\"marker\": {\"size\": 5, \"color\": \"rgb(0, 0, 255)\"}, \"lon\": [21.033333333], \"type\": \"scattergeo\", \"text\": \"Warszawa\", \"name\": \"Kinga Gajewska-P\\u0142ochocka\", \"lat\": [52.216666666]}, {\"marker\": {\"size\": 5, \"color\": \"rgb(0, 0, 255)\"}, \"lon\": [18.666666666], \"type\": \"scattergeo\", \"text\": \"Gliwice\", \"name\": \"Marta Golbik\", \"lat\": [50.283333333]}, {\"marker\": {\"size\": 5, \"color\": \"rgb(0, 0, 255)\"}, \"lon\": [15.933333333], \"type\": \"scattergeo\", \"text\": \"Chojn\\u00f3w\", \"name\": \"Wies\\u0142aw Krajewski\", \"lat\": [51.266666666]}, {\"marker\": {\"size\": 5, \"color\": \"rgb(0, 0, 255)\"}, \"lon\": [19.275], \"type\": \"scattergeo\", \"text\": \"Jaworzno\", \"name\": \"Wojciech Kr\\u00f3l\", \"lat\": [50.2]}, {\"marker\": {\"size\": 5, \"color\": \"rgb(0, 0, 255)\"}, \"lon\": [21.033333333], \"type\": \"scattergeo\", \"text\": \"Warszawa\", \"name\": \"Krzysztof \\u0141api\\u0144ski\", \"lat\": [52.216666666]}, {\"marker\": {\"size\": 5, \"color\": \"rgb(0, 0, 255)\"}, \"lon\": [18.95], \"type\": \"scattergeo\", \"text\": \"Pszczyna\", \"name\": \"Tomasz Tomczykiewicz\", \"lat\": [49.983333333]}, {\"marker\": {\"size\": 5, \"color\": \"rgb(0, 0, 255)\"}, \"lon\": [19.366666666], \"type\": \"scattergeo\", \"text\": \"Kutno\", \"name\": \"Tomasz Rzymkowski\", \"lat\": [52.233333333]}, {\"marker\": {\"size\": 5, \"color\": \"rgb(0, 0, 255)\"}, \"lon\": [19.406111111], \"type\": \"scattergeo\", \"text\": \"Zgierz\", \"name\": \"\\u0141ukasz Rzepecki\", \"lat\": [51.856388888]}, {\"marker\": {\"size\": 5, \"color\": \"rgb(0, 0, 255)\"}, \"lon\": [39.85], \"type\": \"scattergeo\", \"text\": \"Jaros\\u0142aw\", \"name\": \"Anna Schmidt-Rodziewicz\", \"lat\": [57.616666666]}], {\"geo\": {\"resolution\": 50, \"lataxis\": {\"range\": [-6.379788, 59.616666666]}, \"showcountries\": true, \"lonaxis\": {\"range\": [-5.444722222999999, 59.85]}, \"projection\": {\"type\": \"mercator\"}, \"showland\": true}, \"title\": \"Miejsca urodzenia pos\\u0142\\u00f3w na Sejm RP VIII kadencji\"}, {\"showLink\": true, \"linkText\": \"Export to plot.ly\"})});</script>"
      ],
      "text/vnd.plotly.v1+html": [
       "<div id=\"a21d12d8-0ceb-405e-992c-b94d14e140d4\" style=\"height: 525px; width: 100%;\" class=\"plotly-graph-div\"></div><script type=\"text/javascript\">require([\"plotly\"], function(Plotly) { window.PLOTLYENV=window.PLOTLYENV || {};window.PLOTLYENV.BASE_URL=\"https://plot.ly\";Plotly.newPlot(\"a21d12d8-0ceb-405e-992c-b94d14e140d4\", [{\"marker\": {\"size\": 5, \"color\": \"rgb(0, 0, 255)\"}, \"lon\": [19.116666666], \"type\": \"scattergeo\", \"text\": \"Cz\\u0119stochowa\", \"name\": \"Szymon Gi\\u017cy\\u0144ski\", \"lat\": [50.8]}, {\"marker\": {\"size\": 5, \"color\": \"rgb(0, 0, 255)\"}, \"lon\": [16.181666666], \"type\": \"scattergeo\", \"text\": \"Koszalin\", \"name\": \"Marek Hok\", \"lat\": [54.190277777]}, {\"marker\": {\"size\": 5, \"color\": \"rgb(0, 0, 255)\"}, \"lon\": [16.383333333], \"type\": \"scattergeo\", \"text\": \"Wronki\", \"name\": \"Rafa\\u0142 Grupi\\u0144ski\", \"lat\": [52.7]}, {\"marker\": {\"size\": 5, \"color\": \"rgb(0, 0, 255)\"}, \"lon\": [19.275], \"type\": \"scattergeo\", \"text\": \"Jaworzno\", \"name\": \"Grzegorz Matusiak\", \"lat\": [50.2]}, {\"marker\": {\"size\": 5, \"color\": \"rgb(0, 0, 255)\"}, \"lon\": [21.033333333], \"type\": \"scattergeo\", \"text\": \"Warszawa\", \"name\": \"Maks Kraczkowski\", \"lat\": [52.216666666]}, {\"marker\": {\"size\": 5, \"color\": \"rgb(0, 0, 255)\"}, \"lon\": [19.966666666], \"type\": \"scattergeo\", \"text\": \"Rabka\", \"name\": \"Edward Siarka\", \"lat\": [49.616666666]}, {\"marker\": {\"size\": 5, \"color\": \"rgb(0, 0, 255)\"}, \"lon\": [19.233333333], \"type\": \"scattergeo\", \"text\": \"O\\u015bwi\\u0119cim\", \"name\": \"Dorota Niedziela\", \"lat\": [50.033333333]}, {\"marker\": {\"size\": 5, \"color\": \"rgb(0, 0, 255)\"}, \"lon\": [21.033333333], \"type\": \"scattergeo\", \"text\": \"Warszawa\", \"name\": \"Joanna Fabisiak\", \"lat\": [52.216666666]}, {\"marker\": {\"size\": 5, \"color\": \"rgb(0, 0, 255)\"}, \"lon\": [19.766666666], \"type\": \"scattergeo\", \"text\": \"Wolbrom\", \"name\": \"Lidia G\\u0105dek\", \"lat\": [50.4]}, {\"marker\": {\"size\": 5, \"color\": \"rgb(0, 0, 255)\"}, \"lon\": [18.616666666], \"type\": \"scattergeo\", \"text\": \"Toru\\u0144\", \"name\": \"\\u0141ukasz Zbonikowski\", \"lat\": [53.016666666]}, {\"marker\": {\"size\": 5, \"color\": \"rgb(0, 0, 255)\"}, \"lon\": [21.766666666], \"type\": \"scattergeo\", \"text\": \"Kolbuszowa\", \"name\": \"Zbigniew Chmielowiec\", \"lat\": [50.25]}, {\"marker\": {\"size\": 5, \"color\": \"rgb(0, 0, 255)\"}, \"lon\": [16.456111111], \"type\": \"scattergeo\", \"text\": \"Wambierzyce\", \"name\": \"S\\u0142awomir K\\u0142osowski\", \"lat\": [50.489166666]}, {\"marker\": {\"size\": 5, \"color\": \"rgb(0, 0, 255)\"}, \"lon\": [21.3], \"type\": \"scattergeo\", \"text\": \"Jod\\u0142owa\", \"name\": \"Jan Warzecha\", \"lat\": [49.86666667]}, {\"marker\": {\"size\": 5, \"color\": \"rgb(0, 0, 255)\"}, \"lon\": [17.833333333], \"type\": \"scattergeo\", \"text\": \"G\\u0142ubczyce\", \"name\": \"Mariusz Orion J\\u0119drysek\", \"lat\": [50.2]}, {\"marker\": {\"size\": 5, \"color\": \"rgb(0, 0, 255)\"}, \"lon\": [18.933333333], \"type\": \"scattergeo\", \"text\": \"Czernikowo\", \"name\": \"Jan Krzysztof Ardanowski\", \"lat\": [52.95]}, {\"marker\": {\"size\": 5, \"color\": \"rgb(0, 0, 255)\"}, \"lon\": [19.633333333], \"type\": \"scattergeo\", \"text\": \"Krzeszowice\", \"name\": \"Andrzej Adamczyk\", \"lat\": [50.133333333]}, {\"marker\": {\"size\": 5, \"color\": \"rgb(0, 0, 255)\"}, \"lon\": [14.785833333], \"type\": \"scattergeo\", \"text\": \"Kamie\\u0144 Pomorski\", \"name\": \"Marek Zag\\u00f3rski\", \"lat\": [53.969722222]}, {\"marker\": {\"size\": 5, \"color\": \"rgb(0, 0, 255)\"}, \"lon\": [22.216666666], \"type\": \"scattergeo\", \"text\": \"Kra\\u015bnik\", \"name\": \"Wojciech Wilk\", \"lat\": [50.916666666]}, {\"marker\": {\"size\": 5, \"color\": \"rgb(0, 0, 255)\"}, \"lon\": [18.95], \"type\": \"scattergeo\", \"text\": \"\\u015awierklaniec\", \"name\": \"Joachim Brudzi\\u0144ski\", \"lat\": [50.43333]}, {\"marker\": {\"size\": 5, \"color\": \"rgb(0, 0, 255)\"}, \"lon\": [18.5], \"type\": \"scattergeo\", \"text\": \"Turek\", \"name\": \"Waldemar Buda\", \"lat\": [52.016666666]}, {\"marker\": {\"size\": 5, \"color\": \"rgb(0, 0, 255)\"}, \"lon\": [21.166666666], \"type\": \"scattergeo\", \"text\": \"Gorlice\", \"name\": \"El\\u017cbieta Borowska\", \"lat\": [49.666666666]}, {\"marker\": {\"size\": 5, \"color\": \"rgb(0, 0, 255)\"}, \"lon\": [20.631944444], \"type\": \"scattergeo\", \"text\": \"Kielce\", \"name\": \"Adam Cyra\\u0144ski\", \"lat\": [50.8725]}, {\"marker\": {\"size\": 5, \"color\": \"rgb(0, 0, 255)\"}, \"lon\": [19.0], \"type\": \"scattergeo\", \"text\": \"Katowice\", \"name\": \"Grzegorz D\\u0142ugi\", \"lat\": [50.25]}, {\"marker\": {\"size\": 5, \"color\": \"rgb(0, 0, 255)\"}, \"lon\": [18.633333333], \"type\": \"scattergeo\", \"text\": \"Ko\\u0142o\", \"name\": \"Leszek Galemba\", \"lat\": [52.2]}, {\"marker\": {\"size\": 5, \"color\": \"rgb(0, 0, 255)\"}, \"lon\": [17.7], \"type\": \"scattergeo\", \"text\": \"Ostr\\u00f3w Wielkopolski\", \"name\": \"Tomasz \\u0141awniczak\", \"lat\": [51.65]}, {\"marker\": {\"size\": 5, \"color\": \"rgb(0, 0, 255)\"}, \"lon\": [19.458511111], \"type\": \"scattergeo\", \"text\": \"\\u0141\\u00f3d\\u017a\", \"name\": \"Katarzyna Lubnauer\", \"lat\": [51.759494444]}, {\"marker\": {\"size\": 5, \"color\": \"rgb(0, 0, 255)\"}, \"lon\": [20.3], \"type\": \"scattergeo\", \"text\": \"Proszowice\", \"name\": \"Norbert Kaczmarczyk\", \"lat\": [50.2]}, {\"marker\": {\"size\": 5, \"color\": \"rgb(0, 0, 255)\"}, \"lon\": [17.583333333], \"type\": \"scattergeo\", \"text\": \"Wrze\\u015bnia\", \"name\": \"Bartosz J\\u00f3zwiak\", \"lat\": [52.333333333]}, {\"marker\": {\"size\": 5, \"color\": \"rgb(0, 0, 255)\"}, \"lon\": [18.08], \"type\": \"scattergeo\", \"text\": \"Kalisz\", \"name\": \"Jerzy Koz\\u0142owski\", \"lat\": [51.7575]}, {\"marker\": {\"size\": 5, \"color\": \"rgb(0, 0, 255)\"}, \"lon\": [16.491388888], \"type\": \"scattergeo\", \"text\": \"\\u015awidnica\", \"name\": \"Wojciech Murdzek\", \"lat\": [50.846111111]}, {\"marker\": {\"size\": 5, \"color\": \"rgb(0, 0, 255)\"}, \"lon\": [18.923], \"type\": \"scattergeo\", \"text\": \"Bytom\", \"name\": \"Janusz Cicho\\u0144\", \"lat\": [50.347]}, {\"marker\": {\"size\": 5, \"color\": \"rgb(0, 0, 255)\"}, \"lon\": [20.697222222], \"type\": \"scattergeo\", \"text\": \"Nowy S\\u0105cz\", \"name\": \"Andrzej Czerwi\\u0144ski\", \"lat\": [49.623888888]}, {\"marker\": {\"size\": 5, \"color\": \"rgb(0, 0, 255)\"}, \"lon\": [16.5], \"type\": \"scattergeo\", \"text\": \"Nowa Ruda\", \"name\": \"Monika Wielichowska\", \"lat\": [50.583333333]}, {\"marker\": {\"size\": 5, \"color\": \"rgb(0, 0, 255)\"}, \"lon\": [19.7], \"type\": \"scattergeo\", \"text\": \"P\\u0142ock\", \"name\": \"El\\u017cbieta Gapi\\u0144ska\", \"lat\": [52.55]}, {\"marker\": {\"size\": 5, \"color\": \"rgb(0, 0, 255)\"}, \"lon\": [18.633333333], \"type\": \"scattergeo\", \"text\": \"Gda\\u0144sk\", \"name\": \"Ma\\u0142gorzata Gosiewska\", \"lat\": [54.366666666]}, {\"marker\": {\"size\": 5, \"color\": \"rgb(0, 0, 255)\"}, \"lon\": [18.45], \"type\": \"scattergeo\", \"text\": \"Wodzis\\u0142aw \\u015al\\u0105ski\", \"name\": \"Krzysztof Sitarski\", \"lat\": [50.0]}, {\"marker\": {\"size\": 5, \"color\": \"rgb(0, 0, 255)\"}, \"lon\": [21.166666666], \"type\": \"scattergeo\", \"text\": \"Gorlice\", \"name\": \"Barbara Bartu\\u015b\", \"lat\": [49.666666666]}, {\"marker\": {\"size\": 5, \"color\": \"rgb(0, 0, 255)\"}, \"lon\": [19.683333333], \"type\": \"scattergeo\", \"text\": \"Piotrk\\u00f3w Trybunalski\", \"name\": \"Witold Waszczykowski\", \"lat\": [51.4]}, {\"marker\": {\"size\": 5, \"color\": \"rgb(0, 0, 255)\"}, \"lon\": [14.555277777], \"type\": \"scattergeo\", \"text\": \"Szczecin\", \"name\": \"Artur Sza\\u0142abawka\", \"lat\": [53.424722222]}, {\"marker\": {\"size\": 5, \"color\": \"rgb(0, 0, 255)\"}, \"lon\": [14.555277777], \"type\": \"scattergeo\", \"text\": \"Szczecin\", \"name\": \"Pawe\\u0142 Szefernaker\", \"lat\": [53.424722222]}, {\"marker\": {\"size\": 5, \"color\": \"rgb(0, 0, 255)\"}, \"lon\": [19.95], \"type\": \"scattergeo\", \"text\": \"Krak\\u00f3w\", \"name\": \"Ma\\u0142gorzata Wassermann\", \"lat\": [50.066666666]}, {\"marker\": {\"size\": 5, \"color\": \"rgb(0, 0, 255)\"}, \"lon\": [16.916666666], \"type\": \"scattergeo\", \"text\": \"Pozna\\u0144\", \"name\": \"Szymon Zi\\u00f3\\u0142kowski\", \"lat\": [52.4]}, {\"marker\": {\"size\": 5, \"color\": \"rgb(0, 0, 255)\"}, \"lon\": [19.275], \"type\": \"scattergeo\", \"text\": \"Jaworzno\", \"name\": \"Pawe\\u0142 Ba\\u0144kowski\", \"lat\": [50.2]}, {\"marker\": {\"size\": 5, \"color\": \"rgb(0, 0, 255)\"}, \"lon\": [18.216666666], \"type\": \"scattergeo\", \"text\": \"Kluczbork\", \"name\": \"Bo\\u017cena Henczyca\", \"lat\": [50.983333333]}, {\"marker\": {\"size\": 5, \"color\": \"rgb(0, 0, 255)\"}, \"lon\": [18.0], \"type\": \"scattergeo\", \"text\": \"Bydgoszcz\", \"name\": \"Piotr Kr\\u00f3l\", \"lat\": [53.116666666]}, {\"marker\": {\"size\": 5, \"color\": \"rgb(0, 0, 255)\"}, \"lon\": [22.0], \"type\": \"scattergeo\", \"text\": \"Rzesz\\u00f3w\", \"name\": \"Wojciech Buczak\", \"lat\": [50.05]}, {\"marker\": {\"size\": 5, \"color\": \"rgb(0, 0, 255)\"}, \"lon\": [18.683333333], \"type\": \"scattergeo\", \"text\": \"Knur\\u00f3w\", \"name\": \"Krystyna Szumilas\", \"lat\": [50.216666666]}, {\"marker\": {\"size\": 5, \"color\": \"rgb(0, 0, 255)\"}, \"lon\": [22.4], \"type\": \"scattergeo\", \"text\": \"Radzi\\u0142\\u00f3w\", \"name\": \"Kazimierz Gwiazdowski\", \"lat\": [53.4]}, {\"marker\": {\"size\": 5, \"color\": \"rgb(0, 0, 255)\"}, \"lon\": [19.194722222], \"type\": \"scattergeo\", \"text\": \"D\\u0105browa G\\u00f3rnicza\", \"name\": \"Beata Ma\\u0142ecka-Libera\", \"lat\": [50.323888888]}, {\"marker\": {\"size\": 5, \"color\": \"rgb(0, 0, 255)\"}, \"lon\": [20.483333333], \"type\": \"scattergeo\", \"text\": \"Olsztyn\", \"name\": \"Henryka Krzywonos-Strycharska\", \"lat\": [53.783333333]}, {\"marker\": {\"size\": 5, \"color\": \"rgb(0, 0, 255)\"}, \"lon\": [19.458511111], \"type\": \"scattergeo\", \"text\": \"\\u0141\\u00f3d\\u017a\", \"name\": \"W\\u0142odzimierz Nykiel\", \"lat\": [51.759494444]}, {\"marker\": {\"size\": 5, \"color\": \"rgb(0, 0, 255)\"}, \"lon\": [21.156666666], \"type\": \"scattergeo\", \"text\": \"Radom\", \"name\": \"Robert Mordak\", \"lat\": [51.403611111]}, {\"marker\": {\"size\": 5, \"color\": \"rgb(0, 0, 255)\"}, \"lon\": [16.2], \"type\": \"scattergeo\", \"text\": \"Lubin\", \"name\": \"Jan Mosi\\u0144ski\", \"lat\": [51.4]}, {\"marker\": {\"size\": 5, \"color\": \"rgb(0, 0, 255)\"}, \"lon\": [21.033333333], \"type\": \"scattergeo\", \"text\": \"Warszawa\", \"name\": \"Pawe\\u0142 Lisiecki\", \"lat\": [52.216666666]}, {\"marker\": {\"size\": 5, \"color\": \"rgb(0, 0, 255)\"}, \"lon\": [22.128888888], \"type\": \"scattergeo\", \"text\": \"Soko\\u0142\\u00f3w Ma\\u0142opolski\", \"name\": \"Mieczys\\u0142aw Miazga\", \"lat\": [50.241944444]}, {\"marker\": {\"size\": 5, \"color\": \"rgb(0, 0, 255)\"}, \"lon\": [17.03533], \"type\": \"scattergeo\", \"text\": \"Wroc\\u0142aw\", \"name\": \"Ryszard Petru\", \"lat\": [51.10773]}, {\"marker\": {\"size\": 5, \"color\": \"rgb(0, 0, 255)\"}, \"lon\": [19.083333333], \"type\": \"scattergeo\", \"text\": \"Czelad\\u017a\", \"name\": \"Monika Rosa\", \"lat\": [50.333333333]}, {\"marker\": {\"size\": 5, \"color\": \"rgb(0, 0, 255)\"}, \"lon\": [19.458511111], \"type\": \"scattergeo\", \"text\": \"\\u0141\\u00f3d\\u017a\", \"name\": \"Cezary Grabarczyk\", \"lat\": [51.759494444]}, {\"marker\": {\"size\": 5, \"color\": \"rgb(0, 0, 255)\"}, \"lon\": [19.116666666], \"type\": \"scattergeo\", \"text\": \"Cz\\u0119stochowa\", \"name\": \"Izabela Leszczyna\", \"lat\": [50.8]}, {\"marker\": {\"size\": 5, \"color\": \"rgb(0, 0, 255)\"}, \"lon\": [16.466666666], \"type\": \"scattergeo\", \"text\": \"Wa\\u0142cz\", \"name\": \"Pawe\\u0142 Suski\", \"lat\": [53.266666666]}, {\"marker\": {\"size\": 5, \"color\": \"rgb(0, 0, 255)\"}, \"lon\": [21.033333333], \"type\": \"scattergeo\", \"text\": \"Warszawa\", \"name\": \"Micha\\u0142 Szczerba\", \"lat\": [52.216666666]}, {\"marker\": {\"size\": 5, \"color\": \"rgb(0, 0, 255)\"}, \"lon\": [22.9167], \"type\": \"scattergeo\", \"text\": \"Wola Obsza\\u0144ska\", \"name\": \"Zofia Czernow\", \"lat\": [50.3167]}, {\"marker\": {\"size\": 5, \"color\": \"rgb(0, 0, 255)\"}, \"lon\": [15.983333333], \"type\": \"scattergeo\", \"text\": \"Bia\\u0142ogard\", \"name\": \"Jerzy Borowczak\", \"lat\": [54.0]}, {\"marker\": {\"size\": 5, \"color\": \"rgb(0, 0, 255)\"}, \"lon\": [20.55], \"type\": \"scattergeo\", \"text\": \"St\\u0105pork\\u00f3w\", \"name\": \"Ewa Drozd\", \"lat\": [51.15]}, {\"marker\": {\"size\": 5, \"color\": \"rgb(0, 0, 255)\"}, \"lon\": [20.008888888], \"type\": \"scattergeo\", \"text\": \"Tomasz\\u00f3w Mazowiecki\", \"name\": \"S\\u0142awomir Jan Piechota\", \"lat\": [51.531388888]}, {\"marker\": {\"size\": 5, \"color\": \"rgb(0, 0, 255)\"}, \"lon\": [18.533333333], \"type\": \"scattergeo\", \"text\": \"Gdynia\", \"name\": \"Dorota Arciszewska-Mielewczyk\", \"lat\": [54.5]}, {\"marker\": {\"size\": 5, \"color\": \"rgb(0, 0, 255)\"}, \"lon\": [20.283333333], \"type\": \"scattergeo\", \"text\": \"Opoczno\", \"name\": \"Robert Telus\", \"lat\": [51.383333333]}, {\"marker\": {\"size\": 5, \"color\": \"rgb(0, 0, 255)\"}, \"lon\": [18.55], \"type\": \"scattergeo\", \"text\": \"Sopot\", \"name\": \"Marek Biernacki\", \"lat\": [54.433333333]}, {\"marker\": {\"size\": 5, \"color\": \"rgb(0, 0, 255)\"}, \"lon\": [21.232257], \"type\": \"scattergeo\", \"text\": \"Stara Mi\\u0142osna\", \"name\": \"Jan Szyszko\", \"lat\": [52.221598]}, {\"marker\": {\"size\": 5, \"color\": \"rgb(0, 0, 255)\"}, \"lon\": [21.033333333], \"type\": \"scattergeo\", \"text\": \"Warszawa\", \"name\": \"Piotr U\\u015bci\\u0144ski\", \"lat\": [52.216666666]}, {\"marker\": {\"size\": 5, \"color\": \"rgb(0, 0, 255)\"}, \"lon\": [21.033333333], \"type\": \"scattergeo\", \"text\": \"Warszawa\", \"name\": \"Maciej W\\u0105sik\", \"lat\": [52.216666666]}, {\"marker\": {\"size\": 5, \"color\": \"rgb(0, 0, 255)\"}, \"lon\": [22.8], \"type\": \"scattergeo\", \"text\": \"Mi\\u0119dzyrzec Podlaski\", \"name\": \"Kornelia Wr\\u00f3blewska\", \"lat\": [51.983333]}, {\"marker\": {\"size\": 5, \"color\": \"rgb(0, 0, 255)\"}, \"lon\": [21.033333333], \"type\": \"scattergeo\", \"text\": \"Warszawa\", \"name\": \"Micha\\u0142 Dworczyk\", \"lat\": [52.216666666]}, {\"marker\": {\"size\": 5, \"color\": \"rgb(0, 0, 255)\"}, \"lon\": [22.733333333], \"type\": \"scattergeo\", \"text\": \"Bi\\u0142goraj\", \"name\": \"Agata Borowiec\", \"lat\": [50.55]}, {\"marker\": {\"size\": 5, \"color\": \"rgb(0, 0, 255)\"}, \"lon\": [21.033333333], \"type\": \"scattergeo\", \"text\": \"Warszawa\", \"name\": \"Jan Dziedziczak\", \"lat\": [52.216666666]}, {\"marker\": {\"size\": 5, \"color\": \"rgb(0, 0, 255)\"}, \"lon\": [19.866666666], \"type\": \"scattergeo\", \"text\": \"Ska\\u0142a\", \"name\": \"El\\u017cbieta Duda\", \"lat\": [50.233333333]}, {\"marker\": {\"size\": 5, \"color\": \"rgb(0, 0, 255)\"}, \"lon\": [21.116111111], \"type\": \"scattergeo\", \"text\": \"Z\\u0105bki\", \"name\": \"Jolanta Hibner\", \"lat\": [52.292777777]}, {\"marker\": {\"size\": 5, \"color\": \"rgb(0, 0, 255)\"}, \"lon\": [18.633333333], \"type\": \"scattergeo\", \"text\": \"Gda\\u0144sk\", \"name\": \"Marcin Hora\\u0142a\", \"lat\": [54.366666666]}, {\"marker\": {\"size\": 5, \"color\": \"rgb(0, 0, 255)\"}, \"lon\": [18.533333333], \"type\": \"scattergeo\", \"text\": \"Gdynia\", \"name\": \"Agnieszka Pomaska\", \"lat\": [54.5]}, {\"marker\": {\"size\": 5, \"color\": \"rgb(0, 0, 255)\"}, \"lon\": [18.08], \"type\": \"scattergeo\", \"text\": \"Kalisz\", \"name\": \"Piotr Kaleta\", \"lat\": [51.7575]}, {\"marker\": {\"size\": 5, \"color\": \"rgb(0, 0, 255)\"}, \"lon\": [19.0], \"type\": \"scattergeo\", \"text\": \"Katowice\", \"name\": \"Marek W\\u00f3jcik\", \"lat\": [50.25]}, {\"marker\": {\"size\": 5, \"color\": \"rgb(0, 0, 255)\"}, \"lon\": [21.033333333], \"type\": \"scattergeo\", \"text\": \"Warszawa\", \"name\": \"Anna Krupka\", \"lat\": [52.216666666]}, {\"marker\": {\"size\": 5, \"color\": \"rgb(0, 0, 255)\"}, \"lon\": [20.716666666], \"type\": \"scattergeo\", \"text\": \"Busko-Zdr\\u00f3j\", \"name\": \"Piotr Liroy-Marzec\", \"lat\": [50.466666666]}, {\"marker\": {\"size\": 5, \"color\": \"rgb(0, 0, 255)\"}, \"lon\": [21.033333333], \"type\": \"scattergeo\", \"text\": \"Warszawa\", \"name\": \"Joanna Lichocka\", \"lat\": [52.216666666]}, {\"marker\": {\"size\": 5, \"color\": \"rgb(0, 0, 255)\"}, \"lon\": [22.318611111], \"type\": \"scattergeo\", \"text\": \"Nowa Sarzyna\", \"name\": \"Jerzy Paul\", \"lat\": [50.322222222]}, {\"marker\": {\"size\": 5, \"color\": \"rgb(0, 0, 255)\"}, \"lon\": [16.916666666], \"type\": \"scattergeo\", \"text\": \"Pozna\\u0144\", \"name\": \"Krzysztof Paszyk\", \"lat\": [52.4]}, {\"marker\": {\"size\": 5, \"color\": \"rgb(0, 0, 255)\"}, \"lon\": [16.012222222], \"type\": \"scattergeo\", \"text\": \"Z\\u0142ocieniec\", \"name\": \"Krystyna Sibi\\u0144ska\", \"lat\": [53.526944444]}, {\"marker\": {\"size\": 5, \"color\": \"rgb(0, 0, 255)\"}, \"lon\": [16.3], \"type\": \"scattergeo\", \"text\": \"Wschowa\", \"name\": \"Waldy Dzikowski\", \"lat\": [51.8]}, {\"marker\": {\"size\": 5, \"color\": \"rgb(0, 0, 255)\"}, \"lon\": [19.233333333], \"type\": \"scattergeo\", \"text\": \"O\\u015bwi\\u0119cim\", \"name\": \"Beata Szyd\\u0142o\", \"lat\": [50.033333333]}, {\"marker\": {\"size\": 5, \"color\": \"rgb(0, 0, 255)\"}, \"lon\": [21.016666666], \"type\": \"scattergeo\", \"text\": \"Piaseczno\", \"name\": \"Roman Jacek Kosecki\", \"lat\": [52.066666666]}, {\"marker\": {\"size\": 5, \"color\": \"rgb(0, 0, 255)\"}, \"lon\": [19.406111111], \"type\": \"scattergeo\", \"text\": \"Zgierz\", \"name\": \"Agnieszka Hanajczyk\", \"lat\": [51.856388888]}, {\"marker\": {\"size\": 5, \"color\": \"rgb(0, 0, 255)\"}, \"lon\": [22.4833], \"type\": \"scattergeo\", \"text\": \"Wa\\u0144kowa\", \"name\": \"Miros\\u0142awa Nykiel\", \"lat\": [49.5167]}, {\"marker\": {\"size\": 5, \"color\": \"rgb(0, 0, 255)\"}, \"lon\": [20.723055555], \"type\": \"scattergeo\", \"text\": \"Mogielnica\", \"name\": \"Dariusz B\\u0105k\", \"lat\": [51.689722222]}, {\"marker\": {\"size\": 5, \"color\": \"rgb(0, 0, 255)\"}, \"lon\": [19.566666666], \"type\": \"scattergeo\", \"text\": \"Olkusz\", \"name\": \"Jacek Osuch\", \"lat\": [50.283333333]}, {\"marker\": {\"size\": 5, \"color\": \"rgb(0, 0, 255)\"}, \"lon\": [18.55], \"type\": \"scattergeo\", \"text\": \"Sopot\", \"name\": \"Janusz \\u015aniadek\", \"lat\": [54.433333333]}, {\"marker\": {\"size\": 5, \"color\": \"rgb(0, 0, 255)\"}, \"lon\": [20.383333333], \"type\": \"scattergeo\", \"text\": \"P\\u0142o\\u0144sk\", \"name\": \"Joanna Mucha\", \"lat\": [52.633333333]}, {\"marker\": {\"size\": 5, \"color\": \"rgb(0, 0, 255)\"}, \"lon\": [15.533333333], \"type\": \"scattergeo\", \"text\": \"\\u015awiebodzin\", \"name\": \"Miros\\u0142awa Stachowiak-R\\u00f3\\u017cecka\", \"lat\": [52.25]}, {\"marker\": {\"size\": 5, \"color\": \"rgb(0, 0, 255)\"}, \"lon\": [22.566666666], \"type\": \"scattergeo\", \"text\": \"Lublin\", \"name\": \"Dominik Tarczy\\u0144ski\", \"lat\": [51.233333333]}, {\"marker\": {\"size\": 5, \"color\": \"rgb(0, 0, 255)\"}, \"lon\": [18.5], \"type\": \"scattergeo\", \"text\": \"Turek\", \"name\": \"Ryszard Bartosik\", \"lat\": [52.016666666]}, {\"marker\": {\"size\": 5, \"color\": \"rgb(0, 0, 255)\"}, \"lon\": [22.216666666], \"type\": \"scattergeo\", \"text\": \"Kra\\u015bnik\", \"name\": \"Jaros\\u0142aw Stawiarski\", \"lat\": [50.916666666]}, {\"marker\": {\"size\": 5, \"color\": \"rgb(0, 0, 255)\"}, \"lon\": [19.05], \"type\": \"scattergeo\", \"text\": \"Malbork\", \"name\": \"Kazimierz Smoli\\u0144ski\", \"lat\": [54.033333333]}, {\"marker\": {\"size\": 5, \"color\": \"rgb(0, 0, 255)\"}, \"lon\": [21.033333333], \"type\": \"scattergeo\", \"text\": \"Warszawa\", \"name\": \"Anita Czerwi\\u0144ska\", \"lat\": [52.216666666]}, {\"marker\": {\"size\": 5, \"color\": \"rgb(0, 0, 255)\"}, \"lon\": [19.0], \"type\": \"scattergeo\", \"text\": \"Katowice\", \"name\": \"Ewa Ko\\u0142odziej\", \"lat\": [50.25]}, {\"marker\": {\"size\": 5, \"color\": \"rgb(0, 0, 255)\"}, \"lon\": [23.166666666], \"type\": \"scattergeo\", \"text\": \"Krasnystaw\", \"name\": \"Teresa Ha\\u0142as\", \"lat\": [51.0]}, {\"marker\": {\"size\": 5, \"color\": \"rgb(0, 0, 255)\"}, \"lon\": [19.45], \"type\": \"scattergeo\", \"text\": \"Lubawa\", \"name\": \"Antoni M\\u0119\\u017cyd\\u0142o\", \"lat\": [53.3]}, {\"marker\": {\"size\": 5, \"color\": \"rgb(0, 0, 255)\"}, \"lon\": [18.633333333], \"type\": \"scattergeo\", \"text\": \"Gda\\u0144sk\", \"name\": \"Adam Korol\", \"lat\": [54.366666666]}, {\"marker\": {\"size\": 5, \"color\": \"rgb(0, 0, 255)\"}, \"lon\": [22.083333333], \"type\": \"scattergeo\", \"text\": \"\\u0141om\\u017ca\", \"name\": \"Bernadeta Krynicka\", \"lat\": [53.166666666]}, {\"marker\": {\"size\": 5, \"color\": \"rgb(0, 0, 255)\"}, \"lon\": [21.811666666], \"type\": \"scattergeo\", \"text\": \"Ka\\u0142uszyn\", \"name\": \"Czes\\u0142aw Mroczek\", \"lat\": [52.208333333]}, {\"marker\": {\"size\": 5, \"color\": \"rgb(0, 0, 255)\"}, \"lon\": [20.483333333], \"type\": \"scattergeo\", \"text\": \"Olsztyn\", \"name\": \"Miros\\u0142aw Pampuch\", \"lat\": [53.783333333]}, {\"marker\": {\"size\": 5, \"color\": \"rgb(0, 0, 255)\"}, \"lon\": [16.916666666], \"type\": \"scattergeo\", \"text\": \"Pozna\\u0144\", \"name\": \"Jacek Tomczak\", \"lat\": [52.4]}, {\"marker\": {\"size\": 5, \"color\": \"rgb(0, 0, 255)\"}, \"lon\": [23.483333333], \"type\": \"scattergeo\", \"text\": \"Che\\u0142m\", \"name\": \"Grzegorz Raniewicz\", \"lat\": [51.133333333]}, {\"marker\": {\"size\": 5, \"color\": \"rgb(0, 0, 255)\"}, \"lon\": [20.631944444], \"type\": \"scattergeo\", \"text\": \"Kielce\", \"name\": \"Rajmund Miller\", \"lat\": [50.8725]}, {\"marker\": {\"size\": 5, \"color\": \"rgb(0, 0, 255)\"}, \"lon\": [18.776111111], \"type\": \"scattergeo\", \"text\": \"Grudzi\\u0105dz\", \"name\": \"Tomasz Szyma\\u0144ski\", \"lat\": [53.4925]}, {\"marker\": {\"size\": 5, \"color\": \"rgb(0, 0, 255)\"}, \"lon\": [22.0], \"type\": \"scattergeo\", \"text\": \"Rzesz\\u00f3w\", \"name\": \"Andrzej Szlachta\", \"lat\": [50.05]}, {\"marker\": {\"size\": 5, \"color\": \"rgb(0, 0, 255)\"}, \"lon\": [16.166666666], \"type\": \"scattergeo\", \"text\": \"Legnica\", \"name\": \"Robert Kropiwnicki\", \"lat\": [51.216666666]}, {\"marker\": {\"size\": 5, \"color\": \"rgb(0, 0, 255)\"}, \"lon\": [21.033333333], \"type\": \"scattergeo\", \"text\": \"Warszawa\", \"name\": \"Anna Maria Siarkowska\", \"lat\": [52.216666666]}, {\"marker\": {\"size\": 5, \"color\": \"rgb(0, 0, 255)\"}, \"lon\": [22.742222222], \"type\": \"scattergeo\", \"text\": \"Tarnogr\\u00f3d\", \"name\": \"Stanis\\u0142aw \\u017bmijan\", \"lat\": [50.360555555]}, {\"marker\": {\"size\": 5, \"color\": \"rgb(0, 0, 255)\"}, \"lon\": [21.156666666], \"type\": \"scattergeo\", \"text\": \"Radom\", \"name\": \"Wojciech Skurkiewicz\", \"lat\": [51.403611111]}, {\"marker\": {\"size\": 5, \"color\": \"rgb(0, 0, 255)\"}, \"lon\": [19.5], \"type\": \"scattergeo\", \"text\": \"Wadowice\", \"name\": \"Marek Polak\", \"lat\": [49.883333333]}, {\"marker\": {\"size\": 5, \"color\": \"rgb(0, 0, 255)\"}, \"lon\": [17.03533], \"type\": \"scattergeo\", \"text\": \"Wroc\\u0142aw\", \"name\": \"Przemys\\u0142aw Czarnecki\", \"lat\": [51.10773]}, {\"marker\": {\"size\": 5, \"color\": \"rgb(0, 0, 255)\"}, \"lon\": [17.001111111], \"type\": \"scattergeo\", \"text\": \"Janowiec\", \"name\": \"Krzysztof Szulowski\", \"lat\": [53.710277777]}, {\"marker\": {\"size\": 5, \"color\": \"rgb(0, 0, 255)\"}, \"lon\": [23.166666666], \"type\": \"scattergeo\", \"text\": \"Bia\\u0142ystok\", \"name\": \"Krzysztof Truskolaski\", \"lat\": [53.116666666]}, {\"marker\": {\"size\": 5, \"color\": \"rgb(0, 0, 255)\"}, \"lon\": [20.008888888], \"type\": \"scattergeo\", \"text\": \"Tomasz\\u00f3w Mazowiecki\", \"name\": \"Rafa\\u0142 W\\u00f3jcikowski\", \"lat\": [51.531388888]}, {\"marker\": {\"size\": 5, \"color\": \"rgb(0, 0, 255)\"}, \"lon\": [21.033333333], \"type\": \"scattergeo\", \"text\": \"Warszawa\", \"name\": \"Piotr Apel\", \"lat\": [52.216666666]}, {\"marker\": {\"size\": 5, \"color\": \"rgb(0, 0, 255)\"}, \"lon\": [16.583333333], \"type\": \"scattergeo\", \"text\": \"Szamotu\\u0142y\", \"name\": \"Zbigniew Ajchler\", \"lat\": [52.6]}, {\"marker\": {\"size\": 5, \"color\": \"rgb(0, 0, 255)\"}, \"lon\": [20.8675], \"type\": \"scattergeo\", \"text\": \"Gr\\u00f3jec\", \"name\": \"Marek Suski\", \"lat\": [51.865555555]}, {\"marker\": {\"size\": 5, \"color\": \"rgb(0, 0, 255)\"}, \"lon\": [18.866666666], \"type\": \"scattergeo\", \"text\": \"Tarnowskie G\\u00f3ry\", \"name\": \"Barbara Dziuk\", \"lat\": [50.45]}, {\"marker\": {\"size\": 5, \"color\": \"rgb(0, 0, 255)\"}, \"lon\": [19.95], \"type\": \"scattergeo\", \"text\": \"Krak\\u00f3w\", \"name\": \"Ewa Filipiak\", \"lat\": [50.066666666]}, {\"marker\": {\"size\": 5, \"color\": \"rgb(0, 0, 255)\"}, \"lon\": [17.483333333], \"type\": \"scattergeo\", \"text\": \"Brzeg\", \"name\": \"Stanis\\u0142aw Gaw\\u0142owski\", \"lat\": [50.866666666]}, {\"marker\": {\"size\": 5, \"color\": \"rgb(0, 0, 255)\"}, \"lon\": [16.683333333], \"type\": \"scattergeo\", \"text\": \"Szczecinek\", \"name\": \"Ma\\u0142gorzata Goli\\u0144ska\", \"lat\": [53.716666666]}, {\"marker\": {\"size\": 5, \"color\": \"rgb(0, 0, 255)\"}, \"lon\": [22.35], \"type\": \"scattergeo\", \"text\": \"E\\u0142k\", \"name\": \"Wojciech Kossakowski\", \"lat\": [53.816666666]}, {\"marker\": {\"size\": 5, \"color\": \"rgb(0, 0, 255)\"}, \"lon\": [19.683333333], \"type\": \"scattergeo\", \"text\": \"Piotrk\\u00f3w Trybunalski\", \"name\": \"Dariusz Kubiak\", \"lat\": [51.4]}, {\"marker\": {\"size\": 5, \"color\": \"rgb(0, 0, 255)\"}, \"lon\": [16.683333333], \"type\": \"scattergeo\", \"text\": \"Szczecinek\", \"name\": \"Rados\\u0142aw Lubczyk\", \"lat\": [53.716666666]}, {\"marker\": {\"size\": 5, \"color\": \"rgb(0, 0, 255)\"}, \"lon\": [14.555277777], \"type\": \"scattergeo\", \"text\": \"Szczecin\", \"name\": \"Norbert Obrycki\", \"lat\": [53.424722222]}, {\"marker\": {\"size\": 5, \"color\": \"rgb(0, 0, 255)\"}, \"lon\": [15.533333333], \"type\": \"scattergeo\", \"text\": \"\\u015awiebodzin\", \"name\": \"Katarzyna Osos\", \"lat\": [52.25]}, {\"marker\": {\"size\": 5, \"color\": \"rgb(0, 0, 255)\"}, \"lon\": [14.555277777], \"type\": \"scattergeo\", \"text\": \"Szczecin\", \"name\": \"Piotr Misi\\u0142o\", \"lat\": [53.424722222]}, {\"marker\": {\"size\": 5, \"color\": \"rgb(0, 0, 255)\"}, \"lon\": [19.044444444], \"type\": \"scattergeo\", \"text\": \"Bielsko-Bia\\u0142a\", \"name\": \"Grzegorz Puda\", \"lat\": [49.8225]}, {\"marker\": {\"size\": 5, \"color\": \"rgb(0, 0, 255)\"}, \"lon\": [17.483333333], \"type\": \"scattergeo\", \"text\": \"Brzeg\", \"name\": \"Jacek Protasiewicz\", \"lat\": [50.866666666]}, {\"marker\": {\"size\": 5, \"color\": \"rgb(0, 0, 255)\"}, \"lon\": [18.0], \"type\": \"scattergeo\", \"text\": \"Bydgoszcz\", \"name\": \"\\u0141ukasz Schreiber\", \"lat\": [53.116666666]}, {\"marker\": {\"size\": 5, \"color\": \"rgb(0, 0, 255)\"}, \"lon\": [17.721944444], \"type\": \"scattergeo\", \"text\": \"Brusy\", \"name\": \"Stanis\\u0142aw Lamczyk\", \"lat\": [53.885555555]}, {\"marker\": {\"size\": 5, \"color\": \"rgb(0, 0, 255)\"}, \"lon\": [20.3], \"type\": \"scattergeo\", \"text\": \"Proszowice\", \"name\": \"Ireneusz Ra\\u015b\", \"lat\": [50.2]}, {\"marker\": {\"size\": 5, \"color\": \"rgb(0, 0, 255)\"}, \"lon\": [19.083333333], \"type\": \"scattergeo\", \"text\": \"Czelad\\u017a\", \"name\": \"Waldemar Andzel\", \"lat\": [50.333333333]}, {\"marker\": {\"size\": 5, \"color\": \"rgb(0, 0, 255)\"}, \"lon\": [22.48333333], \"type\": \"scattergeo\", \"text\": \"Rz\\u0105\\u017cew\", \"name\": \"Krzysztof Tch\\u00f3rzewski\", \"lat\": [52.13333333]}, {\"marker\": {\"size\": 5, \"color\": \"rgb(0, 0, 255)\"}, \"lon\": [22.083333333], \"type\": \"scattergeo\", \"text\": \"\\u0141om\\u017ca\", \"name\": \"Jerzy \\u017by\\u017cy\\u0144ski\", \"lat\": [53.166666666]}, {\"marker\": {\"size\": 5, \"color\": \"rgb(0, 0, 255)\"}, \"lon\": [15.505], \"type\": \"scattergeo\", \"text\": \"Zielona G\\u00f3ra\", \"name\": \"Marek Ast\", \"lat\": [51.939722222]}, {\"marker\": {\"size\": 5, \"color\": \"rgb(0, 0, 255)\"}, \"lon\": [17.933333333], \"type\": \"scattergeo\", \"text\": \"Opole\", \"name\": \"Grzegorz Schetyna\", \"lat\": [50.666666666]}, {\"marker\": {\"size\": 5, \"color\": \"rgb(0, 0, 255)\"}, \"lon\": [20.631944444], \"type\": \"scattergeo\", \"text\": \"Kielce\", \"name\": \"Artur Gierada\", \"lat\": [50.8725]}, {\"marker\": {\"size\": 5, \"color\": \"rgb(0, 0, 255)\"}, \"lon\": [19.366666666], \"type\": \"scattergeo\", \"text\": \"Kutno\", \"name\": \"Tadeusz Wo\\u017aniak\", \"lat\": [52.233333333]}, {\"marker\": {\"size\": 5, \"color\": \"rgb(0, 0, 255)\"}, \"lon\": [20.141666666], \"type\": \"scattergeo\", \"text\": \"Skierniewice\", \"name\": \"Dorota Rutkowska\", \"lat\": [51.952777777]}, {\"marker\": {\"size\": 5, \"color\": \"rgb(0, 0, 255)\"}, \"lon\": [22.7], \"type\": \"scattergeo\", \"text\": \"\\u015awidnik\", \"name\": \"Artur Sobo\\u0144\", \"lat\": [51.233333333]}, {\"marker\": {\"size\": 5, \"color\": \"rgb(0, 0, 255)\"}, \"lon\": [19.316666666], \"type\": \"scattergeo\", \"text\": \"Libi\\u0105\\u017c\", \"name\": \"Marek Sowa\", \"lat\": [50.116666666]}, {\"marker\": {\"size\": 5, \"color\": \"rgb(0, 0, 255)\"}, \"lon\": [18.633333333], \"type\": \"scattergeo\", \"text\": \"Gda\\u0144sk\", \"name\": \"Grzegorz Raczak\", \"lat\": [54.366666666]}, {\"marker\": {\"size\": 5, \"color\": \"rgb(0, 0, 255)\"}, \"lon\": [20.483333333], \"type\": \"scattergeo\", \"text\": \"Olsztyn\", \"name\": \"Iwona Arent\", \"lat\": [53.783333333]}, {\"marker\": {\"size\": 5, \"color\": \"rgb(0, 0, 255)\"}, \"lon\": [19.166666666], \"type\": \"scattergeo\", \"text\": \"Sosnowiec\", \"name\": \"Ewa Malik\", \"lat\": [50.3]}, {\"marker\": {\"size\": 5, \"color\": \"rgb(0, 0, 255)\"}, \"lon\": [23.601667], \"type\": \"scattergeo\", \"text\": \"Boraty\\u0144szczyzna\", \"name\": \"Mieczys\\u0142aw Kazimierz Baszko\", \"lat\": [53.29]}, {\"marker\": {\"size\": 5, \"color\": \"rgb(0, 0, 255)\"}, \"lon\": [18.923], \"type\": \"scattergeo\", \"text\": \"Bytom\", \"name\": \"Wojciech Szarama\", \"lat\": [50.347]}, {\"marker\": {\"size\": 5, \"color\": \"rgb(0, 0, 255)\"}, \"lon\": [21.033333333], \"type\": \"scattergeo\", \"text\": \"Warszawa\", \"name\": \"Tomasz Cimoszewicz\", \"lat\": [52.216666666]}, {\"marker\": {\"size\": 5, \"color\": \"rgb(0, 0, 255)\"}, \"lon\": [18.923], \"type\": \"scattergeo\", \"text\": \"Bytom\", \"name\": \"Barbara Dolniak\", \"lat\": [50.347]}, {\"marker\": {\"size\": 5, \"color\": \"rgb(0, 0, 255)\"}, \"lon\": [21.156666666], \"type\": \"scattergeo\", \"text\": \"Radom\", \"name\": \"Leszek Ruszczyk\", \"lat\": [51.403611111]}, {\"marker\": {\"size\": 5, \"color\": \"rgb(0, 0, 255)\"}, \"lon\": [22.566666666], \"type\": \"scattergeo\", \"text\": \"Lublin\", \"name\": \"Jaros\\u0142aw Sachajko\", \"lat\": [51.233333333]}, {\"marker\": {\"size\": 5, \"color\": \"rgb(0, 0, 255)\"}, \"lon\": [16.90888889], \"type\": \"scattergeo\", \"text\": \"Oborniki \\u015al\\u0105skie\", \"name\": \"Krzysztof Micha\\u0142kiewicz\", \"lat\": [51.30222222]}, {\"marker\": {\"size\": 5, \"color\": \"rgb(0, 0, 255)\"}, \"lon\": [17.009722222], \"type\": \"scattergeo\", \"text\": \"Murowana Go\\u015blina\", \"name\": \"Witold Czarnecki\", \"lat\": [52.575833333]}, {\"marker\": {\"size\": 5, \"color\": \"rgb(0, 0, 255)\"}, \"lon\": [15.983333333], \"type\": \"scattergeo\", \"text\": \"Bia\\u0142ogard\", \"name\": \"Stefan Strza\\u0142kowski\", \"lat\": [54.0]}, {\"marker\": {\"size\": 5, \"color\": \"rgb(0, 0, 255)\"}, \"lon\": [20.233333333], \"type\": \"scattergeo\", \"text\": \"Sochaczew\", \"name\": \"Mariusz Kami\\u0144ski\", \"lat\": [52.233333333]}, {\"marker\": {\"size\": 5, \"color\": \"rgb(0, 0, 255)\"}, \"lon\": [18.85], \"type\": \"scattergeo\", \"text\": \"Ruda \\u015al\\u0105ska\", \"name\": \"Grzegorz Tobiszowski\", \"lat\": [50.25]}, {\"marker\": {\"size\": 5, \"color\": \"rgb(0, 0, 255)\"}, \"lon\": [18.55], \"type\": \"scattergeo\", \"text\": \"Sopot\", \"name\": \"Leonard Krasulski\", \"lat\": [54.433333333]}, {\"marker\": {\"size\": 5, \"color\": \"rgb(0, 0, 255)\"}, \"lon\": [21.583333333], \"type\": \"scattergeo\", \"text\": \"Ostro\\u0142\\u0119ka\", \"name\": \"Arkadiusz Czartoryski\", \"lat\": [53.083333333]}, {\"marker\": {\"size\": 5, \"color\": \"rgb(0, 0, 255)\"}, \"lon\": [17.03533], \"type\": \"scattergeo\", \"text\": \"Wroc\\u0142aw\", \"name\": \"Marzena Macha\\u0142ek\", \"lat\": [51.10773]}, {\"marker\": {\"size\": 5, \"color\": \"rgb(0, 0, 255)\"}, \"lon\": [19.95], \"type\": \"scattergeo\", \"text\": \"Krak\\u00f3w\", \"name\": \"Ryszard Terlecki\", \"lat\": [50.066666666]}, {\"marker\": {\"size\": 5, \"color\": \"rgb(0, 0, 255)\"}, \"lon\": [22.216666666], \"type\": \"scattergeo\", \"text\": \"Sanok\", \"name\": \"Piotr Uruski\", \"lat\": [49.55]}, {\"marker\": {\"size\": 5, \"color\": \"rgb(0, 0, 255)\"}, \"lon\": [17.7], \"type\": \"scattergeo\", \"text\": \"Ostr\\u00f3w Wielkopolski\", \"name\": \"Ryszard Wilczy\\u0144ski\", \"lat\": [51.65]}, {\"marker\": {\"size\": 5, \"color\": \"rgb(0, 0, 255)\"}, \"lon\": [16.080277777], \"type\": \"scattergeo\", \"text\": \"G\\u0142og\\u00f3w\", \"name\": \"Joanna Augustynowska\", \"lat\": [51.658888888]}, {\"marker\": {\"size\": 5, \"color\": \"rgb(0, 0, 255)\"}, \"lon\": [19.438055555], \"type\": \"scattergeo\", \"text\": \"Zator\", \"name\": \"Zbigniew Biernat\", \"lat\": [49.996388888]}, {\"marker\": {\"size\": 5, \"color\": \"rgb(0, 0, 255)\"}, \"lon\": [20.636388888], \"type\": \"scattergeo\", \"text\": \"Stary S\\u0105cz\", \"name\": \"Antoni Duda\", \"lat\": [49.5625]}, {\"marker\": {\"size\": 5, \"color\": \"rgb(0, 0, 255)\"}, \"lon\": [18.633333333], \"type\": \"scattergeo\", \"text\": \"Gda\\u0144sk\", \"name\": \"Grzegorz Furgo\", \"lat\": [54.366666666]}, {\"marker\": {\"size\": 5, \"color\": \"rgb(0, 0, 255)\"}, \"lon\": [17.03533], \"type\": \"scattergeo\", \"text\": \"Wroc\\u0142aw\", \"name\": \"Ryszard Galla\", \"lat\": [51.10773]}, {\"marker\": {\"size\": 5, \"color\": \"rgb(0, 0, 255)\"}, \"lon\": [21.80888889], \"type\": \"scattergeo\", \"text\": \"Jelonki\", \"name\": \"Zbigniew Gryglas\", \"lat\": [52.88638889]}, {\"marker\": {\"size\": 5, \"color\": \"rgb(0, 0, 255)\"}, \"lon\": [18.633333333], \"type\": \"scattergeo\", \"text\": \"Gda\\u0144sk\", \"name\": \"Andrzej Kobylarz\", \"lat\": [54.366666666]}, {\"marker\": {\"size\": 5, \"color\": \"rgb(0, 0, 255)\"}, \"lon\": [18.216666666], \"type\": \"scattergeo\", \"text\": \"Kluczbork\", \"name\": \"Tomasz Kostu\\u015b\", \"lat\": [50.983333333]}, {\"marker\": {\"size\": 5, \"color\": \"rgb(0, 0, 255)\"}, \"lon\": [20.8], \"type\": \"scattergeo\", \"text\": \"Bartoszyce\", \"name\": \"Andrzej Maciejewski\", \"lat\": [54.25]}, {\"marker\": {\"size\": 5, \"color\": \"rgb(0, 0, 255)\"}, \"lon\": [16.080277777], \"type\": \"scattergeo\", \"text\": \"G\\u0142og\\u00f3w\", \"name\": \"Krzysztof Mieszkowski\", \"lat\": [51.658888888]}, {\"marker\": {\"size\": 5, \"color\": \"rgb(0, 0, 255)\"}, \"lon\": [14.555277777], \"type\": \"scattergeo\", \"text\": \"Szczecin\", \"name\": \"Iwona Micha\\u0142ek\", \"lat\": [53.424722222]}, {\"marker\": {\"size\": 5, \"color\": \"rgb(0, 0, 255)\"}, \"lon\": [19.7847], \"type\": \"scattergeo\", \"text\": \"Ka\\u0142\\u0119czew\", \"name\": \"Stefan Niesio\\u0142owski\", \"lat\": [51.9277]}, {\"marker\": {\"size\": 5, \"color\": \"rgb(0, 0, 255)\"}, \"lon\": [15.923055555], \"type\": \"scattergeo\", \"text\": \"Wojciesz\\u00f3w\", \"name\": \"Krystyna Paw\\u0142owicz\", \"lat\": [50.954722222]}, {\"marker\": {\"size\": 5, \"color\": \"rgb(0, 0, 255)\"}, \"lon\": [21.033333333], \"type\": \"scattergeo\", \"text\": \"Warszawa\", \"name\": \"Piotr Naimski\", \"lat\": [52.216666666]}, {\"marker\": {\"size\": 5, \"color\": \"rgb(0, 0, 255)\"}, \"lon\": [18.866666666], \"type\": \"scattergeo\", \"text\": \"Tarnowskie G\\u00f3ry\", \"name\": \"Tomasz G\\u0142ogowski\", \"lat\": [50.45]}, {\"marker\": {\"size\": 5, \"color\": \"rgb(0, 0, 255)\"}, \"lon\": [18.5], \"type\": \"scattergeo\", \"text\": \"Rybnik\", \"name\": \"Marek Krz\\u0105ka\\u0142a\", \"lat\": [50.083333333]}, {\"marker\": {\"size\": 5, \"color\": \"rgb(0, 0, 255)\"}, \"lon\": [18.233333333], \"type\": \"scattergeo\", \"text\": \"Racib\\u00f3rz\", \"name\": \"Arkadiusz Mularczyk\", \"lat\": [50.083333333]}, {\"marker\": {\"size\": 5, \"color\": \"rgb(0, 0, 255)\"}, \"lon\": [19.083333333], \"type\": \"scattergeo\", \"text\": \"Czelad\\u017a\", \"name\": \"Borys Budka\", \"lat\": [50.333333333]}, {\"marker\": {\"size\": 5, \"color\": \"rgb(0, 0, 255)\"}, \"lon\": [17.033333333], \"type\": \"scattergeo\", \"text\": \"S\\u0142upsk\", \"name\": \"Zbigniew Konwi\\u0144ski\", \"lat\": [54.466666666]}, {\"marker\": {\"size\": 5, \"color\": \"rgb(0, 0, 255)\"}, \"lon\": [18.533333333], \"type\": \"scattergeo\", \"text\": \"Starogard Gda\\u0144ski\", \"name\": \"S\\u0142awomir Neumann\", \"lat\": [53.966666666]}, {\"marker\": {\"size\": 5, \"color\": \"rgb(0, 0, 255)\"}, \"lon\": [21.033333333], \"type\": \"scattergeo\", \"text\": \"Warszawa\", \"name\": \"Artur G\\u00f3rski\", \"lat\": [52.216666666]}, {\"marker\": {\"size\": 5, \"color\": \"rgb(0, 0, 255)\"}, \"lon\": [18.0], \"type\": \"scattergeo\", \"text\": \"Bydgoszcz\", \"name\": \"Pawe\\u0142 Skutecki\", \"lat\": [53.116666666]}, {\"marker\": {\"size\": 5, \"color\": \"rgb(0, 0, 255)\"}, \"lon\": [19.966666666], \"type\": \"scattergeo\", \"text\": \"Ostr\\u00f3da\", \"name\": \"Zbigniew Babalski\", \"lat\": [53.7]}, {\"marker\": {\"size\": 5, \"color\": \"rgb(0, 0, 255)\"}, \"lon\": [18.0], \"type\": \"scattergeo\", \"text\": \"Bydgoszcz\", \"name\": \"Micha\\u0142 Stasi\\u0144ski\", \"lat\": [53.116666666]}, {\"marker\": {\"size\": 5, \"color\": \"rgb(0, 0, 255)\"}, \"lon\": [19.933333333], \"type\": \"scattergeo\", \"text\": \"My\\u015blenice\", \"name\": \"Jaros\\u0142aw Szlachetka\", \"lat\": [49.833333333]}, {\"marker\": {\"size\": 5, \"color\": \"rgb(0, 0, 255)\"}, \"lon\": [19.4], \"type\": \"scattergeo\", \"text\": \"Brodnica\", \"name\": \"Pawe\\u0142 Szramka\", \"lat\": [53.25]}, {\"marker\": {\"size\": 5, \"color\": \"rgb(0, 0, 255)\"}, \"lon\": [19.275], \"type\": \"scattergeo\", \"text\": \"Jaworzno\", \"name\": \"Robert Warwas\", \"lat\": [50.2]}, {\"marker\": {\"size\": 5, \"color\": \"rgb(0, 0, 255)\"}, \"lon\": [20.25], \"type\": \"scattergeo\", \"text\": \"Rawa Mazowiecka\", \"name\": \"Grzegorz Wojciechowski\", \"lat\": [51.766666666]}, {\"marker\": {\"size\": 5, \"color\": \"rgb(0, 0, 255)\"}, \"lon\": [22.0], \"type\": \"scattergeo\", \"text\": \"Rzesz\\u00f3w\", \"name\": \"Krystyna Wr\\u00f3blewska\", \"lat\": [50.05]}, {\"marker\": {\"size\": 5, \"color\": \"rgb(0, 0, 255)\"}, \"lon\": [16.916666666], \"type\": \"scattergeo\", \"text\": \"Pozna\\u0144\", \"name\": \"Bart\\u0142omiej Wr\\u00f3blewski\", \"lat\": [52.4]}, {\"marker\": {\"size\": 5, \"color\": \"rgb(0, 0, 255)\"}, \"lon\": [22.45], \"type\": \"scattergeo\", \"text\": \"Grajewo\", \"name\": \"Adam Andruszkiewicz\", \"lat\": [53.65]}, {\"marker\": {\"size\": 5, \"color\": \"rgb(0, 0, 255)\"}, \"lon\": [22.4], \"type\": \"scattergeo\", \"text\": \"Jan\\u00f3w Lubelski\", \"name\": \"Jerzy Bielecki\", \"lat\": [50.7]}, {\"marker\": {\"size\": 5, \"color\": \"rgb(0, 0, 255)\"}, \"lon\": [19.38333333], \"type\": \"scattergeo\", \"text\": \"Rzeki Wielkie\", \"name\": \"Lidia Burzy\\u0144ska\", \"lat\": [50.86666667]}, {\"marker\": {\"size\": 5, \"color\": \"rgb(0, 0, 255)\"}, \"lon\": [19.45], \"type\": \"scattergeo\", \"text\": \"Rypin\", \"name\": \"Zbigniew Sosnowski\", \"lat\": [53.066666666]}, {\"marker\": {\"size\": 5, \"color\": \"rgb(0, 0, 255)\"}, \"lon\": [19.7], \"type\": \"scattergeo\", \"text\": \"P\\u0142ock\", \"name\": \"Piotr Zgorzelski\", \"lat\": [52.55]}, {\"marker\": {\"size\": 5, \"color\": \"rgb(0, 0, 255)\"}, \"lon\": [20.883333333], \"type\": \"scattergeo\", \"text\": \"Legionowo\", \"name\": \"Jan Grabiec\", \"lat\": [52.383333333]}, {\"marker\": {\"size\": 5, \"color\": \"rgb(0, 0, 255)\"}, \"lon\": [18.923], \"type\": \"scattergeo\", \"text\": \"Bytom\", \"name\": \"Pawe\\u0142 Kobyli\\u0144ski\", \"lat\": [50.347]}, {\"marker\": {\"size\": 5, \"color\": \"rgb(0, 0, 255)\"}, \"lon\": [18.85], \"type\": \"scattergeo\", \"text\": \"Ruda \\u015al\\u0105ska\", \"name\": \"Danuta Pietraszewska\", \"lat\": [50.25]}, {\"marker\": {\"size\": 5, \"color\": \"rgb(0, 0, 255)\"}, \"lon\": [15.505], \"type\": \"scattergeo\", \"text\": \"Zielona G\\u00f3ra\", \"name\": \"Pawe\\u0142 Pud\\u0142owski\", \"lat\": [51.939722222]}, {\"marker\": {\"size\": 5, \"color\": \"rgb(0, 0, 255)\"}, \"lon\": [18.533333333], \"type\": \"scattergeo\", \"text\": \"Starogard Gda\\u0144ski\", \"name\": \"Pawe\\u0142 Papke\", \"lat\": [53.966666666]}, {\"marker\": {\"size\": 5, \"color\": \"rgb(0, 0, 255)\"}, \"lon\": [20.433333333], \"type\": \"scattergeo\", \"text\": \"Bochnia\", \"name\": \"Krzysztof Gadowski\", \"lat\": [49.983333333]}, {\"marker\": {\"size\": 5, \"color\": \"rgb(0, 0, 255)\"}, \"lon\": [18.930833333], \"type\": \"scattergeo\", \"text\": \"Kwidzyn\", \"name\": \"Tomasz Piotr Nowak\", \"lat\": [53.735833333]}, {\"marker\": {\"size\": 5, \"color\": \"rgb(0, 0, 255)\"}, \"lon\": [23.519444444], \"type\": \"scattergeo\", \"text\": \"Ogrodniki\", \"name\": \"Krzysztof Jurgiel\", \"lat\": [52.963611111]}, {\"marker\": {\"size\": 5, \"color\": \"rgb(0, 0, 255)\"}, \"lon\": [18.83916667], \"type\": \"scattergeo\", \"text\": \"Grabinka\", \"name\": \"Piotr Polak\", \"lat\": [51.77972222]}, {\"marker\": {\"size\": 5, \"color\": \"rgb(0, 0, 255)\"}, \"lon\": [18.0], \"type\": \"scattergeo\", \"text\": \"Bydgoszcz\", \"name\": \"Grzegorz Schreiber\", \"lat\": [53.116666666]}, {\"marker\": {\"size\": 5, \"color\": \"rgb(0, 0, 255)\"}, \"lon\": [21.033333333], \"type\": \"scattergeo\", \"text\": \"Warszawa\", \"name\": \"Marek Opio\\u0142a\", \"lat\": [52.216666666]}, {\"marker\": {\"size\": 5, \"color\": \"rgb(0, 0, 255)\"}, \"lon\": [18.9], \"type\": \"scattergeo\", \"text\": \"Miko\\u0142\\u00f3w\", \"name\": \"Izabela Kloc\", \"lat\": [50.166666666]}, {\"marker\": {\"size\": 5, \"color\": \"rgb(0, 0, 255)\"}, \"lon\": [22.0922], \"type\": \"scattergeo\", \"text\": \"\\u017babianka\", \"name\": \"Henryk Kowalczyk\", \"lat\": [51.5872]}, {\"marker\": {\"size\": 5, \"color\": \"rgb(0, 0, 255)\"}, \"lon\": [18.533333333], \"type\": \"scattergeo\", \"text\": \"Gdynia\", \"name\": \"Jaros\\u0142aw Sellin\", \"lat\": [54.5]}, {\"marker\": {\"size\": 5, \"color\": \"rgb(0, 0, 255)\"}, \"lon\": [19.95], \"type\": \"scattergeo\", \"text\": \"Krak\\u00f3w\", \"name\": \"Bogus\\u0142aw Sonik\", \"lat\": [50.066666666]}, {\"marker\": {\"size\": 5, \"color\": \"rgb(0, 0, 255)\"}, \"lon\": [21.033333333], \"type\": \"scattergeo\", \"text\": \"Warszawa\", \"name\": \"Stanis\\u0142aw Tyszka\", \"lat\": [52.216666666]}, {\"marker\": {\"size\": 5, \"color\": \"rgb(0, 0, 255)\"}, \"lon\": [17.63], \"type\": \"scattergeo\", \"text\": \"Kocina\", \"name\": \"Jacek Wilk\", \"lat\": [51.4392]}, {\"marker\": {\"size\": 5, \"color\": \"rgb(0, 0, 255)\"}, \"lon\": [21.033333333], \"type\": \"scattergeo\", \"text\": \"Warszawa\", \"name\": \"Ma\\u0142gorzata Wypych\", \"lat\": [52.216666666]}, {\"marker\": {\"size\": 5, \"color\": \"rgb(0, 0, 255)\"}, \"lon\": [20.95], \"type\": \"scattergeo\", \"text\": \"Biskupiec\", \"name\": \"Urszula Pas\\u0142awska\", \"lat\": [53.85]}, {\"marker\": {\"size\": 5, \"color\": \"rgb(0, 0, 255)\"}, \"lon\": [21.033333333], \"type\": \"scattergeo\", \"text\": \"Warszawa\", \"name\": \"Miros\\u0142aw Maliszewski\", \"lat\": [52.216666666]}, {\"marker\": {\"size\": 5, \"color\": \"rgb(0, 0, 255)\"}, \"lon\": [21.156666666], \"type\": \"scattergeo\", \"text\": \"Radom\", \"name\": \"Anna Bia\\u0142kowska\", \"lat\": [51.403611111]}, {\"marker\": {\"size\": 5, \"color\": \"rgb(0, 0, 255)\"}, \"lon\": [21.866666666], \"type\": \"scattergeo\", \"text\": \"Annopol\", \"name\": \"Marek Kwitek\", \"lat\": [50.883333333]}, {\"marker\": {\"size\": 5, \"color\": \"rgb(0, 0, 255)\"}, \"lon\": [19.112222222], \"type\": \"scattergeo\", \"text\": \"L\\u0119dziny\", \"name\": \"Bo\\u017cena Borys-Szopa\", \"lat\": [50.126944444]}, {\"marker\": {\"size\": 5, \"color\": \"rgb(0, 0, 255)\"}, \"lon\": [21.033333333], \"type\": \"scattergeo\", \"text\": \"Warszawa\", \"name\": \"Marek Jakubiak\", \"lat\": [52.216666666]}, {\"marker\": {\"size\": 5, \"color\": \"rgb(0, 0, 255)\"}, \"lon\": [17.6], \"type\": \"scattergeo\", \"text\": \"Gniezno\", \"name\": \"Pawe\\u0142 Arndt\", \"lat\": [52.533333333]}, {\"marker\": {\"size\": 5, \"color\": \"rgb(0, 0, 255)\"}, \"lon\": [19.0], \"type\": \"scattergeo\", \"text\": \"Katowice\", \"name\": \"Joanna Kluzik-Rostkowska\", \"lat\": [50.25]}, {\"marker\": {\"size\": 5, \"color\": \"rgb(0, 0, 255)\"}, \"lon\": [18.23333], \"type\": \"scattergeo\", \"text\": \"Domatowo\", \"name\": \"Kazimierz Plocke\", \"lat\": [54.71667]}, {\"marker\": {\"size\": 5, \"color\": \"rgb(0, 0, 255)\"}, \"lon\": [18.616666666], \"type\": \"scattergeo\", \"text\": \"Toru\\u0144\", \"name\": \"Arkadiusz Myrcha\", \"lat\": [53.016666666]}, {\"marker\": {\"size\": 5, \"color\": \"rgb(0, 0, 255)\"}, \"lon\": [21.8], \"type\": \"scattergeo\", \"text\": \"Pisz\", \"name\": \"Jerzy Ma\\u0142ecki\", \"lat\": [53.616666666]}, {\"marker\": {\"size\": 5, \"color\": \"rgb(0, 0, 255)\"}, \"lon\": [20.988611111], \"type\": \"scattergeo\", \"text\": \"Tarn\\u00f3w\", \"name\": \"Urszula Augustyn\", \"lat\": [50.0125]}, {\"marker\": {\"size\": 5, \"color\": \"rgb(0, 0, 255)\"}, \"lon\": [16.583333333], \"type\": \"scattergeo\", \"text\": \"Szamotu\\u0142y\", \"name\": \"Jakub Rutnicki\", \"lat\": [52.6]}, {\"marker\": {\"size\": 5, \"color\": \"rgb(0, 0, 255)\"}, \"lon\": [16.916666666], \"type\": \"scattergeo\", \"text\": \"Pozna\\u0144\", \"name\": \"Bo\\u017cena Szyd\\u0142owska\", \"lat\": [52.4]}, {\"marker\": {\"size\": 5, \"color\": \"rgb(0, 0, 255)\"}, \"lon\": [20.3], \"type\": \"scattergeo\", \"text\": \"Proszowice\", \"name\": \"W\\u0142odzimierz Bernacki\", \"lat\": [50.2]}, {\"marker\": {\"size\": 5, \"color\": \"rgb(0, 0, 255)\"}, \"lon\": [20.633333333], \"type\": \"scattergeo\", \"text\": \"Ciechan\\u00f3w\", \"name\": \"Robert Ko\\u0142akowski\", \"lat\": [52.866666666]}, {\"marker\": {\"size\": 5, \"color\": \"rgb(0, 0, 255)\"}, \"lon\": [21.033333333], \"type\": \"scattergeo\", \"text\": \"Warszawa\", \"name\": \"Jacek Sasin\", \"lat\": [52.216666666]}, {\"marker\": {\"size\": 5, \"color\": \"rgb(0, 0, 255)\"}, \"lon\": [19.466666666], \"type\": \"scattergeo\", \"text\": \"Gostynin\", \"name\": \"Wojciech Jasi\\u0144ski\", \"lat\": [52.416666666]}, {\"marker\": {\"size\": 5, \"color\": \"rgb(0, 0, 255)\"}, \"lon\": [21.8], \"type\": \"scattergeo\", \"text\": \"Sielc\", \"name\": \"Dariusz Piontkowski\", \"lat\": [52.8167]}, {\"marker\": {\"size\": 5, \"color\": \"rgb(0, 0, 255)\"}, \"lon\": [16.733333333], \"type\": \"scattergeo\", \"text\": \"Pi\\u0142a\", \"name\": \"Jan Szewczak\", \"lat\": [53.15]}, {\"marker\": {\"size\": 5, \"color\": \"rgb(0, 0, 255)\"}, \"lon\": [20.697222222], \"type\": \"scattergeo\", \"text\": \"Nowy S\\u0105cz\", \"name\": \"J\\u00f3zefa Szczurek-\\u017belazko\", \"lat\": [49.623888888]}, {\"marker\": {\"size\": 5, \"color\": \"rgb(0, 0, 255)\"}, \"lon\": [16.916666666], \"type\": \"scattergeo\", \"text\": \"Pozna\\u0144\", \"name\": \"Szymon Szynkowski vel S\\u0119k\", \"lat\": [52.4]}, {\"marker\": {\"size\": 5, \"color\": \"rgb(0, 0, 255)\"}, \"lon\": [19.458511111], \"type\": \"scattergeo\", \"text\": \"\\u0141\\u00f3d\\u017a\", \"name\": \"Piotr Pszcz\\u00f3\\u0142kowski\", \"lat\": [51.759494444]}, {\"marker\": {\"size\": 5, \"color\": \"rgb(0, 0, 255)\"}, \"lon\": [16.733333333], \"type\": \"scattergeo\", \"text\": \"Pi\\u0142a\", \"name\": \"Grzegorz Piechowiak\", \"lat\": [53.15]}, {\"marker\": {\"size\": 5, \"color\": \"rgb(0, 0, 255)\"}, \"lon\": [22.766666666], \"type\": \"scattergeo\", \"text\": \"Przemy\\u015bl\", \"name\": \"Wojciech Bakun\", \"lat\": [49.783333333]}, {\"marker\": {\"size\": 5, \"color\": \"rgb(0, 0, 255)\"}, \"lon\": [15.309706], \"type\": \"scattergeo\", \"text\": \"Makala\", \"name\": \"Killion Munyama\", \"lat\": [-4.379788]}, {\"marker\": {\"size\": 5, \"color\": \"rgb(0, 0, 255)\"}, \"lon\": [20.631944444], \"type\": \"scattergeo\", \"text\": \"Kielce\", \"name\": \"Czes\\u0142aw Sobierajski\", \"lat\": [50.8725]}, {\"marker\": {\"size\": 5, \"color\": \"rgb(0, 0, 255)\"}, \"lon\": [32.933333333], \"type\": \"scattergeo\", \"text\": \"Bia\\u0142a\", \"name\": \"Katarzyna Czochara\", \"lat\": [55.833333333]}, {\"marker\": {\"size\": 5, \"color\": \"rgb(0, 0, 255)\"}, \"lon\": [21.75], \"type\": \"scattergeo\", \"text\": \"Krosno\", \"name\": \"Joanna Frydrych\", \"lat\": [49.683333333]}, {\"marker\": {\"size\": 5, \"color\": \"rgb(0, 0, 255)\"}, \"lon\": [21.416666666], \"type\": \"scattergeo\", \"text\": \"D\\u0119bica\", \"name\": \"Zdzis\\u0142aw Gawlik\", \"lat\": [50.05]}, {\"marker\": {\"size\": 5, \"color\": \"rgb(0, 0, 255)\"}, \"lon\": [17.6], \"type\": \"scattergeo\", \"text\": \"Gniezno\", \"name\": \"Paulina Hennig-Kloska\", \"lat\": [52.533333333]}, {\"marker\": {\"size\": 5, \"color\": \"rgb(0, 0, 255)\"}, \"lon\": [22.0], \"type\": \"scattergeo\", \"text\": \"Rzesz\\u00f3w\", \"name\": \"Maciej Mas\\u0142owski\", \"lat\": [50.05]}, {\"marker\": {\"size\": 5, \"color\": \"rgb(0, 0, 255)\"}, \"lon\": [21.75], \"type\": \"scattergeo\", \"text\": \"Krosno\", \"name\": \"Andrzej Matusiewicz\", \"lat\": [49.683333333]}, {\"marker\": {\"size\": 5, \"color\": \"rgb(0, 0, 255)\"}, \"lon\": [17.55], \"type\": \"scattergeo\", \"text\": \"Chojnice\", \"name\": \"Aleksander Mr\\u00f3wczy\\u0144ski\", \"lat\": [53.7]}, {\"marker\": {\"size\": 5, \"color\": \"rgb(0, 0, 255)\"}, \"lon\": [16.733333333], \"type\": \"scattergeo\", \"text\": \"Pi\\u0142a\", \"name\": \"B\\u0142a\\u017cej Parda\", \"lat\": [53.15]}, {\"marker\": {\"size\": 5, \"color\": \"rgb(0, 0, 255)\"}, \"lon\": [16.181666666], \"type\": \"scattergeo\", \"text\": \"Koszalin\", \"name\": \"Stefan Romecki\", \"lat\": [54.190277777]}, {\"marker\": {\"size\": 5, \"color\": \"rgb(0, 0, 255)\"}, \"lon\": [21.033333333], \"type\": \"scattergeo\", \"text\": \"Warszawa\", \"name\": \"Ma\\u0142gorzata Kidawa-B\\u0142o\\u0144ska\", \"lat\": [52.216666666]}, {\"marker\": {\"size\": 5, \"color\": \"rgb(0, 0, 255)\"}, \"lon\": [22.309444444], \"type\": \"scattergeo\", \"text\": \"Go\\u0142dap\", \"name\": \"Bo\\u017cena Kami\\u0144ska\", \"lat\": [54.316111111]}, {\"marker\": {\"size\": 5, \"color\": \"rgb(0, 0, 255)\"}, \"lon\": [15.505], \"type\": \"scattergeo\", \"text\": \"Zielona G\\u00f3ra\", \"name\": \"Jerzy Materna\", \"lat\": [51.939722222]}, {\"marker\": {\"size\": 5, \"color\": \"rgb(0, 0, 255)\"}, \"lon\": [16.3], \"type\": \"scattergeo\", \"text\": \"Wschowa\", \"name\": \"El\\u017cbieta Rafalska\", \"lat\": [51.8]}, {\"marker\": {\"size\": 5, \"color\": \"rgb(0, 0, 255)\"}, \"lon\": [22.48333], \"type\": \"scattergeo\", \"text\": \"Batorz\", \"name\": \"Gabriela Mas\\u0142owska\", \"lat\": [50.85]}, {\"marker\": {\"size\": 5, \"color\": \"rgb(0, 0, 255)\"}, \"lon\": [17.03533], \"type\": \"scattergeo\", \"text\": \"Wroc\\u0142aw\", \"name\": \"Wojciech Zubowski\", \"lat\": [51.10773]}, {\"marker\": {\"size\": 5, \"color\": \"rgb(0, 0, 255)\"}, \"lon\": [21.05], \"type\": \"scattergeo\", \"text\": \"Tuch\\u00f3w\", \"name\": \"Micha\\u0142 Wojtkiewicz\", \"lat\": [49.9]}, {\"marker\": {\"size\": 5, \"color\": \"rgb(0, 0, 255)\"}, \"lon\": [19.044444444], \"type\": \"scattergeo\", \"text\": \"Bielsko-Bia\\u0142a\", \"name\": \"Miros\\u0142aw Sucho\\u0144\", \"lat\": [49.8225]}, {\"marker\": {\"size\": 5, \"color\": \"rgb(0, 0, 255)\"}, \"lon\": [22.0], \"type\": \"scattergeo\", \"text\": \"Rzesz\\u00f3w\", \"name\": \"Halina Szyde\\u0142ko\", \"lat\": [50.05]}, {\"marker\": {\"size\": 5, \"color\": \"rgb(0, 0, 255)\"}, \"lon\": [22.766666666], \"type\": \"scattergeo\", \"text\": \"Przemy\\u015bl\", \"name\": \"Marek Kuchci\\u0144ski\", \"lat\": [49.783333333]}, {\"marker\": {\"size\": 5, \"color\": \"rgb(0, 0, 255)\"}, \"lon\": [20.016666666], \"type\": \"scattergeo\", \"text\": \"Nowy Targ\", \"name\": \"J\\u00f3zef Brynkus\", \"lat\": [49.466666666]}, {\"marker\": {\"size\": 5, \"color\": \"rgb(0, 0, 255)\"}, \"lon\": [16.283333333], \"type\": \"scattergeo\", \"text\": \"Wa\\u0142brzych\", \"name\": \"Alicja Chybicka\", \"lat\": [50.766666666]}, {\"marker\": {\"size\": 5, \"color\": \"rgb(0, 0, 255)\"}, \"lon\": [19.833333333], \"type\": \"scattergeo\", \"text\": \"Braniewo\", \"name\": \"Barbara Chrobak\", \"lat\": [54.383333333]}, {\"marker\": {\"size\": 5, \"color\": \"rgb(0, 0, 255)\"}, \"lon\": [20.988611111], \"type\": \"scattergeo\", \"text\": \"Tarn\\u00f3w\", \"name\": \"Anna Czech\", \"lat\": [50.0125]}, {\"marker\": {\"size\": 5, \"color\": \"rgb(0, 0, 255)\"}, \"lon\": [21.033333333], \"type\": \"scattergeo\", \"text\": \"Warszawa\", \"name\": \"Marcin \\u015awi\\u0119cicki\", \"lat\": [52.216666666]}, {\"marker\": {\"size\": 5, \"color\": \"rgb(0, 0, 255)\"}, \"lon\": [21.1], \"type\": \"scattergeo\", \"text\": \"Mak\\u00f3w Mazowiecki\", \"name\": \"Jerzy Gosiewski\", \"lat\": [52.866666666]}, {\"marker\": {\"size\": 5, \"color\": \"rgb(0, 0, 255)\"}, \"lon\": [21.033333333], \"type\": \"scattergeo\", \"text\": \"Warszawa\", \"name\": \"Andrzej Halicki\", \"lat\": [52.216666666]}, {\"marker\": {\"size\": 5, \"color\": \"rgb(0, 0, 255)\"}, \"lon\": [14.555277777], \"type\": \"scattergeo\", \"text\": \"Szczecin\", \"name\": \"Arkadiusz Marchewka\", \"lat\": [53.424722222]}, {\"marker\": {\"size\": 5, \"color\": \"rgb(0, 0, 255)\"}, \"lon\": [22.566666666], \"type\": \"scattergeo\", \"text\": \"Lublin\", \"name\": \"Jakub Kulesza\", \"lat\": [51.233333333]}, {\"marker\": {\"size\": 5, \"color\": \"rgb(0, 0, 255)\"}, \"lon\": [19.0875], \"type\": \"scattergeo\", \"text\": \"Mil\\u00f3wka\", \"name\": \"Kazimierz Matuszny\", \"lat\": [49.563055555]}, {\"marker\": {\"size\": 5, \"color\": \"rgb(0, 0, 255)\"}, \"lon\": [15.25], \"type\": \"scattergeo\", \"text\": \"Gorz\\u00f3w Wielkopolski\", \"name\": \"Jaros\\u0142aw Porwich\", \"lat\": [52.733333333]}, {\"marker\": {\"size\": 5, \"color\": \"rgb(0, 0, 255)\"}, \"lon\": [20.631944444], \"type\": \"scattergeo\", \"text\": \"Kielce\", \"name\": \"Marcin Porzucek\", \"lat\": [50.8725]}, {\"marker\": {\"size\": 5, \"color\": \"rgb(0, 0, 255)\"}, \"lon\": [18.0], \"type\": \"scattergeo\", \"text\": \"Bydgoszcz\", \"name\": \"Pawe\\u0142 Olszewski\", \"lat\": [53.116666666]}, {\"marker\": {\"size\": 5, \"color\": \"rgb(0, 0, 255)\"}, \"lon\": [17.03533], \"type\": \"scattergeo\", \"text\": \"Wroc\\u0142aw\", \"name\": \"Krzysztof Ostrowski\", \"lat\": [51.10773]}, {\"marker\": {\"size\": 5, \"color\": \"rgb(0, 0, 255)\"}, \"lon\": [16.080277777], \"type\": \"scattergeo\", \"text\": \"G\\u0142og\\u00f3w\", \"name\": \"Joanna Schmidt\", \"lat\": [51.658888888]}, {\"marker\": {\"size\": 5, \"color\": \"rgb(0, 0, 255)\"}, \"lon\": [17.266666666], \"type\": \"scattergeo\", \"text\": \"Wyrzysk\", \"name\": \"Maria Ma\\u0142gorzata Janyska\", \"lat\": [53.15]}, {\"marker\": {\"size\": 5, \"color\": \"rgb(0, 0, 255)\"}, \"lon\": [23.116666666], \"type\": \"scattergeo\", \"text\": \"Bia\\u0142a Podlaska\", \"name\": \"Adam Abramowicz\", \"lat\": [52.033333333]}, {\"marker\": {\"size\": 5, \"color\": \"rgb(0, 0, 255)\"}, \"lon\": [17.716666666], \"type\": \"scattergeo\", \"text\": \"Syc\\u00f3w\", \"name\": \"Beata Kempa\", \"lat\": [51.3]}, {\"marker\": {\"size\": 5, \"color\": \"rgb(0, 0, 255)\"}, \"lon\": [16.283333333], \"type\": \"scattergeo\", \"text\": \"Wa\\u0142brzych\", \"name\": \"Agnieszka Ko\\u0142acz-Leszczy\\u0144ska\", \"lat\": [50.766666666]}, {\"marker\": {\"size\": 5, \"color\": \"rgb(0, 0, 255)\"}, \"lon\": [20.916666666], \"type\": \"scattergeo\", \"text\": \"Skar\\u017cysko-Kamienna\", \"name\": \"Marzena Ok\\u0142a-Drewnowicz\", \"lat\": [51.116666666]}, {\"marker\": {\"size\": 5, \"color\": \"rgb(0, 0, 255)\"}, \"lon\": [17.04444444], \"type\": \"scattergeo\", \"text\": \"Jelenin\", \"name\": \"Czes\\u0142aw Hoc\", \"lat\": [50.86027778]}, {\"marker\": {\"size\": 5, \"color\": \"rgb(0, 0, 255)\"}, \"lon\": [22.25], \"type\": \"scattergeo\", \"text\": \"Zambr\\u00f3w\", \"name\": \"Lech Ko\\u0142akowski\", \"lat\": [52.983333333]}, {\"marker\": {\"size\": 5, \"color\": \"rgb(0, 0, 255)\"}, \"lon\": [21.633333333], \"type\": \"scattergeo\", \"text\": \"Garwolin\", \"name\": \"Grzegorz Adam Wo\\u017aniak\", \"lat\": [51.9]}, {\"marker\": {\"size\": 5, \"color\": \"rgb(0, 0, 255)\"}, \"lon\": [20.59778], \"type\": \"scattergeo\", \"text\": \"Chomranice\", \"name\": \"Wies\\u0142aw Janczyk\", \"lat\": [49.67611]}, {\"marker\": {\"size\": 5, \"color\": \"rgb(0, 0, 255)\"}, \"lon\": [14.555277777], \"type\": \"scattergeo\", \"text\": \"Szczecin\", \"name\": \"Leszek Dobrzy\\u0144ski\", \"lat\": [53.424722222]}, {\"marker\": {\"size\": 5, \"color\": \"rgb(0, 0, 255)\"}, \"lon\": [21.4], \"type\": \"scattergeo\", \"text\": \"\\u017byrak\\u00f3w\", \"name\": \"Kazimierz Moskal\", \"lat\": [50.0833]}, {\"marker\": {\"size\": 5, \"color\": \"rgb(0, 0, 255)\"}, \"lon\": [21.966666666], \"type\": \"scattergeo\", \"text\": \"Pu\\u0142awy\", \"name\": \"Piotr Pyzik\", \"lat\": [51.416666666]}, {\"marker\": {\"size\": 5, \"color\": \"rgb(0, 0, 255)\"}, \"lon\": [17.55], \"type\": \"scattergeo\", \"text\": \"Chojnice\", \"name\": \"Eugeniusz K\\u0142opotek\", \"lat\": [53.7]}, {\"marker\": {\"size\": 5, \"color\": \"rgb(0, 0, 255)\"}, \"lon\": [22.566666666], \"type\": \"scattergeo\", \"text\": \"Lublin\", \"name\": \"Sylwester Tu\\u0142ajew\", \"lat\": [51.233333333]}, {\"marker\": {\"size\": 5, \"color\": \"rgb(0, 0, 255)\"}, \"lon\": [19.933333333], \"type\": \"scattergeo\", \"text\": \"\\u0141owicz\", \"name\": \"Pawe\\u0142 Bejda\", \"lat\": [52.1]}, {\"marker\": {\"size\": 5, \"color\": \"rgb(0, 0, 255)\"}, \"lon\": [21.033333333], \"type\": \"scattergeo\", \"text\": \"Warszawa\", \"name\": \"Andrzej Smirnow\", \"lat\": [52.216666666]}, {\"marker\": {\"size\": 5, \"color\": \"rgb(0, 0, 255)\"}, \"lon\": [14.555277777], \"type\": \"scattergeo\", \"text\": \"Szczecin\", \"name\": \"Krzysztof Zaremba\", \"lat\": [53.424722222]}, {\"marker\": {\"size\": 5, \"color\": \"rgb(0, 0, 255)\"}, \"lon\": [15.505], \"type\": \"scattergeo\", \"text\": \"Zielona G\\u00f3ra\", \"name\": \"Artur Zasada\", \"lat\": [51.939722222]}, {\"marker\": {\"size\": 5, \"color\": \"rgb(0, 0, 255)\"}, \"lon\": [21.033333333], \"type\": \"scattergeo\", \"text\": \"Warszawa\", \"name\": \"Krzysztof Czaba\\u0144ski\", \"lat\": [52.216666666]}, {\"marker\": {\"size\": 5, \"color\": \"rgb(0, 0, 255)\"}, \"lon\": [16.316666666], \"type\": \"scattergeo\", \"text\": \"\\u015awiebodzice\", \"name\": \"Ireneusz Zyska\", \"lat\": [50.85]}, {\"marker\": {\"size\": 5, \"color\": \"rgb(0, 0, 255)\"}, \"lon\": [18.985833333], \"type\": \"scattergeo\", \"text\": \"Siemianowice \\u015al\\u0105skie\", \"name\": \"Jacek Falfus\", \"lat\": [50.275833333]}, {\"marker\": {\"size\": 5, \"color\": \"rgb(0, 0, 255)\"}, \"lon\": [19.116666666], \"type\": \"scattergeo\", \"text\": \"Cz\\u0119stochowa\", \"name\": \"Konrad G\\u0142\\u0119bocki\", \"lat\": [50.8]}, {\"marker\": {\"size\": 5, \"color\": \"rgb(0, 0, 255)\"}, \"lon\": [22.566666666], \"type\": \"scattergeo\", \"text\": \"Lublin\", \"name\": \"Artur Dunin\", \"lat\": [51.233333333]}, {\"marker\": {\"size\": 5, \"color\": \"rgb(0, 0, 255)\"}, \"lon\": [22.38333333], \"type\": \"scattergeo\", \"text\": \"Motycz\", \"name\": \"Jan \\u0141opata\", \"lat\": [51.23333333]}, {\"marker\": {\"size\": 5, \"color\": \"rgb(0, 0, 255)\"}, \"lon\": [18.4], \"type\": \"scattergeo\", \"text\": \"Rumia\", \"name\": \"Jan Klawiter\", \"lat\": [54.566666666]}, {\"marker\": {\"size\": 5, \"color\": \"rgb(0, 0, 255)\"}, \"lon\": [19.044444444], \"type\": \"scattergeo\", \"text\": \"Bielsko-Bia\\u0142a\", \"name\": \"Jerzy Jachnik\", \"lat\": [49.8225]}, {\"marker\": {\"size\": 5, \"color\": \"rgb(0, 0, 255)\"}, \"lon\": [20.716666666], \"type\": \"scattergeo\", \"text\": \"Busko-Zdr\\u00f3j\", \"name\": \"Krystian Jarubas\", \"lat\": [50.466666666]}, {\"marker\": {\"size\": 5, \"color\": \"rgb(0, 0, 255)\"}, \"lon\": [19.458511111], \"type\": \"scattergeo\", \"text\": \"\\u0141\\u00f3d\\u017a\", \"name\": \"Alicja Kaczorowska\", \"lat\": [51.759494444]}, {\"marker\": {\"size\": 5, \"color\": \"rgb(0, 0, 255)\"}, \"lon\": [18.786388888], \"type\": \"scattergeo\", \"text\": \"Tczew\", \"name\": \"Teresa Piotrowska\", \"lat\": [54.091111111]}, {\"marker\": {\"size\": 5, \"color\": \"rgb(0, 0, 255)\"}, \"lon\": [16.916666666], \"type\": \"scattergeo\", \"text\": \"Pozna\\u0144\", \"name\": \"Marek Ruci\\u0144ski\", \"lat\": [52.4]}, {\"marker\": {\"size\": 5, \"color\": \"rgb(0, 0, 255)\"}, \"lon\": [21.433333333], \"type\": \"scattergeo\", \"text\": \"Mielec\", \"name\": \"Krystyna Skowro\\u0144ska\", \"lat\": [50.283333333]}, {\"marker\": {\"size\": 5, \"color\": \"rgb(0, 0, 255)\"}, \"lon\": [15.25], \"type\": \"scattergeo\", \"text\": \"Gorz\\u00f3w Wielkopolski\", \"name\": \"Tomasz Kucharski\", \"lat\": [52.733333333]}, {\"marker\": {\"size\": 5, \"color\": \"rgb(0, 0, 255)\"}, \"lon\": [18.633333333], \"type\": \"scattergeo\", \"text\": \"Gda\\u0144sk\", \"name\": \"El\\u017cbieta Gelert\", \"lat\": [54.366666666]}, {\"marker\": {\"size\": 5, \"color\": \"rgb(0, 0, 255)\"}, \"lon\": [19.516666666], \"type\": \"scattergeo\", \"text\": \"Ogrodzieniec\", \"name\": \"Anna Nem\\u015b\", \"lat\": [50.45]}, {\"marker\": {\"size\": 5, \"color\": \"rgb(0, 0, 255)\"}, \"lon\": [16.316666666], \"type\": \"scattergeo\", \"text\": \"\\u015awiebodzice\", \"name\": \"Anna Zalewska\", \"lat\": [50.85]}, {\"marker\": {\"size\": 5, \"color\": \"rgb(0, 0, 255)\"}, \"lon\": [21.75], \"type\": \"scattergeo\", \"text\": \"Krosno\", \"name\": \"Piotr Babinetz\", \"lat\": [49.683333333]}, {\"marker\": {\"size\": 5, \"color\": \"rgb(0, 0, 255)\"}, \"lon\": [21.066666666], \"type\": \"scattergeo\", \"text\": \"Starachowice\", \"name\": \"Krzysztof Lipiec\", \"lat\": [51.05]}, {\"marker\": {\"size\": 5, \"color\": \"rgb(0, 0, 255)\"}, \"lon\": [19.044444444], \"type\": \"scattergeo\", \"text\": \"Bielsko-Bia\\u0142a\", \"name\": \"Stanis\\u0142aw Szwed\", \"lat\": [49.8225]}, {\"marker\": {\"size\": 5, \"color\": \"rgb(0, 0, 255)\"}, \"lon\": [20.8325], \"type\": \"scattergeo\", \"text\": \"Suchedni\\u00f3w\", \"name\": \"Maria Zuba\", \"lat\": [51.051666666]}, {\"marker\": {\"size\": 5, \"color\": \"rgb(0, 0, 255)\"}, \"lon\": [17.374166666], \"type\": \"scattergeo\", \"text\": \"G\\u0142ucho\\u0142azy\", \"name\": \"Andrzej So\\u015bnierz\", \"lat\": [50.313055555]}, {\"marker\": {\"size\": 5, \"color\": \"rgb(0, 0, 255)\"}, \"lon\": [21.248611111], \"type\": \"scattergeo\", \"text\": \"Skaryszew\", \"name\": \"Ewa Kopacz\", \"lat\": [51.308888888]}, {\"marker\": {\"size\": 5, \"color\": \"rgb(0, 0, 255)\"}, \"lon\": [17.03533], \"type\": \"scattergeo\", \"text\": \"Wroc\\u0142aw\", \"name\": \"Piotr \\u0141ukasz Babiarz\", \"lat\": [51.10773]}, {\"marker\": {\"size\": 5, \"color\": \"rgb(0, 0, 255)\"}, \"lon\": [19.95], \"type\": \"scattergeo\", \"text\": \"Krak\\u00f3w\", \"name\": \"Urszula Rusecka\", \"lat\": [50.066666666]}, {\"marker\": {\"size\": 5, \"color\": \"rgb(0, 0, 255)\"}, \"lon\": [21.033333333], \"type\": \"scattergeo\", \"text\": \"Warszawa\", \"name\": \"Micha\\u0142 Kami\\u0144ski\", \"lat\": [52.216666666]}, {\"marker\": {\"size\": 5, \"color\": \"rgb(0, 0, 255)\"}, \"lon\": [17.95], \"type\": \"scattergeo\", \"text\": \"Mogilno\", \"name\": \"Tomasz Lenz\", \"lat\": [52.65]}, {\"marker\": {\"size\": 5, \"color\": \"rgb(0, 0, 255)\"}, \"lon\": [21.424722222], \"type\": \"scattergeo\", \"text\": \"Opat\\u00f3w\", \"name\": \"Kazimierz Kotowski\", \"lat\": [50.805]}, {\"marker\": {\"size\": 5, \"color\": \"rgb(0, 0, 255)\"}, \"lon\": [21.4], \"type\": \"scattergeo\", \"text\": \"Ostrowiec \\u015awi\\u0119tokrzyski\", \"name\": \"Andrzej Kryj\", \"lat\": [50.933333333]}, {\"marker\": {\"size\": 5, \"color\": \"rgb(0, 0, 255)\"}, \"lon\": [18.566666666], \"type\": \"scattergeo\", \"text\": \"Wielu\\u0144\", \"name\": \"Beata Mateusiak-Pielucha\", \"lat\": [51.216666666]}, {\"marker\": {\"size\": 5, \"color\": \"rgb(0, 0, 255)\"}, \"lon\": [19.116666666], \"type\": \"scattergeo\", \"text\": \"Cz\\u0119stochowa\", \"name\": \"Halina Rozpondek\", \"lat\": [50.8]}, {\"marker\": {\"size\": 5, \"color\": \"rgb(0, 0, 255)\"}, \"lon\": [19.458511111], \"type\": \"scattergeo\", \"text\": \"\\u0141\\u00f3d\\u017a\", \"name\": \"Ma\\u0142gorzata Niemczyk\", \"lat\": [51.759494444]}, {\"marker\": {\"size\": 5, \"color\": \"rgb(0, 0, 255)\"}, \"lon\": [16.916666666], \"type\": \"scattergeo\", \"text\": \"Pozna\\u0144\", \"name\": \"Tomasz Latos\", \"lat\": [52.4]}, {\"marker\": {\"size\": 5, \"color\": \"rgb(0, 0, 255)\"}, \"lon\": [21.033333333], \"type\": \"scattergeo\", \"text\": \"Warszawa\", \"name\": \"Antoni Macierewicz\", \"lat\": [52.216666666]}, {\"marker\": {\"size\": 5, \"color\": \"rgb(0, 0, 255)\"}, \"lon\": [17.933333333], \"type\": \"scattergeo\", \"text\": \"Opole\", \"name\": \"Patryk Jaki\", \"lat\": [50.666666666]}, {\"marker\": {\"size\": 5, \"color\": \"rgb(0, 0, 255)\"}, \"lon\": [16.283333333], \"type\": \"scattergeo\", \"text\": \"Wa\\u0142brzych\", \"name\": \"Izabela Katarzyna Mrzyg\\u0142ocka\", \"lat\": [50.766666666]}, {\"marker\": {\"size\": 5, \"color\": \"rgb(0, 0, 255)\"}, \"lon\": [16.916666666], \"type\": \"scattergeo\", \"text\": \"Pozna\\u0144\", \"name\": \"Tadeusz Dziuba\", \"lat\": [52.4]}, {\"marker\": {\"size\": 5, \"color\": \"rgb(0, 0, 255)\"}, \"lon\": [16.2], \"type\": \"scattergeo\", \"text\": \"Lubin\", \"name\": \"El\\u017cbieta St\\u0119pie\\u0144\", \"lat\": [51.4]}, {\"marker\": {\"size\": 5, \"color\": \"rgb(0, 0, 255)\"}, \"lon\": [19.95], \"type\": \"scattergeo\", \"text\": \"Krak\\u00f3w\", \"name\": \"Micha\\u0142 W\\u00f3jcik\", \"lat\": [50.066666666]}, {\"marker\": {\"size\": 5, \"color\": \"rgb(0, 0, 255)\"}, \"lon\": [19.95], \"type\": \"scattergeo\", \"text\": \"Krak\\u00f3w\", \"name\": \"Zbigniew Ziobro\", \"lat\": [50.066666666]}, {\"marker\": {\"size\": 5, \"color\": \"rgb(0, 0, 255)\"}, \"lon\": [15.4], \"type\": \"scattergeo\", \"text\": \"Resko\", \"name\": \"Bartosz Ar\\u0142ukowicz\", \"lat\": [53.8]}, {\"marker\": {\"size\": 5, \"color\": \"rgb(0, 0, 255)\"}, \"lon\": [21.966666666], \"type\": \"scattergeo\", \"text\": \"Pu\\u0142awy\", \"name\": \"W\\u0142odzimierz Karpi\\u0144ski\", \"lat\": [51.416666666]}, {\"marker\": {\"size\": 5, \"color\": \"rgb(0, 0, 255)\"}, \"lon\": [21.033333333], \"type\": \"scattergeo\", \"text\": \"Warszawa\", \"name\": \"Andrzej Melak\", \"lat\": [52.216666666]}, {\"marker\": {\"size\": 5, \"color\": \"rgb(0, 0, 255)\"}, \"lon\": [21.033333333], \"type\": \"scattergeo\", \"text\": \"Warszawa\", \"name\": \"Jaros\\u0142aw Kaczy\\u0144ski\", \"lat\": [52.216666666]}, {\"marker\": {\"size\": 5, \"color\": \"rgb(0, 0, 255)\"}, \"lon\": [16.080277777], \"type\": \"scattergeo\", \"text\": \"G\\u0142og\\u00f3w\", \"name\": \"Sylwester Chruszcz\", \"lat\": [51.658888888]}, {\"marker\": {\"size\": 5, \"color\": \"rgb(0, 0, 255)\"}, \"lon\": [22.63333], \"type\": \"scattergeo\", \"text\": \"Biszcza\", \"name\": \"Genowefa Tokarska\", \"lat\": [50.4]}, {\"marker\": {\"size\": 5, \"color\": \"rgb(0, 0, 255)\"}, \"lon\": [18.33305556], \"type\": \"scattergeo\", \"text\": \"Ko\\u017aminek\", \"name\": \"Mariusz Witczak\", \"lat\": [51.79861111]}, {\"marker\": {\"size\": 5, \"color\": \"rgb(0, 0, 255)\"}, \"lon\": [18.29944444], \"type\": \"scattergeo\", \"text\": \"Komorniki\", \"name\": \"Iwona \\u015aledzi\\u0144ska-Katarasi\\u0144ska\", \"lat\": [50.46305556]}, {\"marker\": {\"size\": 5, \"color\": \"rgb(0, 0, 255)\"}, \"lon\": [17.483333333], \"type\": \"scattergeo\", \"text\": \"Brzeg\", \"name\": \"Pawe\\u0142 Grabowski\", \"lat\": [50.866666666]}, {\"marker\": {\"size\": 5, \"color\": \"rgb(0, 0, 255)\"}, \"lon\": [19.116666666], \"type\": \"scattergeo\", \"text\": \"Cz\\u0119stochowa\", \"name\": \"Tomasz Jask\\u00f3\\u0142a\", \"lat\": [50.8]}, {\"marker\": {\"size\": 5, \"color\": \"rgb(0, 0, 255)\"}, \"lon\": [20.483333333], \"type\": \"scattergeo\", \"text\": \"Olsztyn\", \"name\": \"Piotr Cie\\u015bli\\u0144ski\", \"lat\": [53.783333333]}, {\"marker\": {\"size\": 5, \"color\": \"rgb(0, 0, 255)\"}, \"lon\": [21.033333333], \"type\": \"scattergeo\", \"text\": \"Warszawa\", \"name\": \"Jaros\\u0142aw Krajewski\", \"lat\": [52.216666666]}, {\"marker\": {\"size\": 5, \"color\": \"rgb(0, 0, 255)\"}, \"lon\": [21.156666666], \"type\": \"scattergeo\", \"text\": \"Radom\", \"name\": \"Anna Kwiecie\\u0144\", \"lat\": [51.403611111]}, {\"marker\": {\"size\": 5, \"color\": \"rgb(0, 0, 255)\"}, \"lon\": [21.156666666], \"type\": \"scattergeo\", \"text\": \"Radom\", \"name\": \"Andrzej Kosztowniak\", \"lat\": [51.403611111]}, {\"marker\": {\"size\": 5, \"color\": \"rgb(0, 0, 255)\"}, \"lon\": [20.016666666], \"type\": \"scattergeo\", \"text\": \"Nowy Targ\", \"name\": \"Anna Paluch\", \"lat\": [49.466666666]}, {\"marker\": {\"size\": 5, \"color\": \"rgb(0, 0, 255)\"}, \"lon\": [19.95], \"type\": \"scattergeo\", \"text\": \"Krak\\u00f3w\", \"name\": \"Jerzy Meysztowicz\", \"lat\": [50.066666666]}, {\"marker\": {\"size\": 5, \"color\": \"rgb(0, 0, 255)\"}, \"lon\": [18.616666666], \"type\": \"scattergeo\", \"text\": \"Toru\\u0144\", \"name\": \"Joanna Scheuring-Wielgus\", \"lat\": [53.016666666]}, {\"marker\": {\"size\": 5, \"color\": \"rgb(0, 0, 255)\"}, \"lon\": [23.166666666], \"type\": \"scattergeo\", \"text\": \"Bia\\u0142ystok\", \"name\": \"Robert Tyszkiewicz\", \"lat\": [53.116666666]}, {\"marker\": {\"size\": 5, \"color\": \"rgb(0, 0, 255)\"}, \"lon\": [22.083333333], \"type\": \"scattergeo\", \"text\": \"\\u0141om\\u017ca\", \"name\": \"Micha\\u0142 Jach\", \"lat\": [53.166666666]}, {\"marker\": {\"size\": 5, \"color\": \"rgb(0, 0, 255)\"}, \"lon\": [23.183333333], \"type\": \"scattergeo\", \"text\": \"Krasnobr\\u00f3d\", \"name\": \"S\\u0142awomir Zawi\\u015blak\", \"lat\": [50.533333333]}, {\"marker\": {\"size\": 5, \"color\": \"rgb(0, 0, 255)\"}, \"lon\": [20.433333333], \"type\": \"scattergeo\", \"text\": \"Bochnia\", \"name\": \"Stanis\\u0142aw Piotrowicz\", \"lat\": [49.983333333]}, {\"marker\": {\"size\": 5, \"color\": \"rgb(0, 0, 255)\"}, \"lon\": [23.166666666], \"type\": \"scattergeo\", \"text\": \"Bia\\u0142ystok\", \"name\": \"Jacek \\u017balek\", \"lat\": [53.116666666]}, {\"marker\": {\"size\": 5, \"color\": \"rgb(0, 0, 255)\"}, \"lon\": [17.03533], \"type\": \"scattergeo\", \"text\": \"Wroc\\u0142aw\", \"name\": \"Jacek \\u015awiat\", \"lat\": [51.10773]}, {\"marker\": {\"size\": 5, \"color\": \"rgb(0, 0, 255)\"}, \"lon\": [21.033333333], \"type\": \"scattergeo\", \"text\": \"Warszawa\", \"name\": \"Bartosz Kownacki\", \"lat\": [52.216666666]}, {\"marker\": {\"size\": 5, \"color\": \"rgb(0, 0, 255)\"}, \"lon\": [21.033333333], \"type\": \"scattergeo\", \"text\": \"Warszawa\", \"name\": \"Maciej Ma\\u0142ecki\", \"lat\": [52.216666666]}, {\"marker\": {\"size\": 5, \"color\": \"rgb(0, 0, 255)\"}, \"lon\": [19.044444444], \"type\": \"scattergeo\", \"text\": \"Bielsko-Bia\\u0142a\", \"name\": \"Stanis\\u0142aw Pi\\u0119ta\", \"lat\": [49.8225]}, {\"marker\": {\"size\": 5, \"color\": \"rgb(0, 0, 255)\"}, \"lon\": [19.7], \"type\": \"scattergeo\", \"text\": \"P\\u0142ock\", \"name\": \"Ewa Tomaszewska\", \"lat\": [52.55]}, {\"marker\": {\"size\": 5, \"color\": \"rgb(0, 0, 255)\"}, \"lon\": [17.7], \"type\": \"scattergeo\", \"text\": \"Ostr\\u00f3w Wielkopolski\", \"name\": \"Jaros\\u0142aw Urbaniak\", \"lat\": [51.65]}, {\"marker\": {\"size\": 5, \"color\": \"rgb(0, 0, 255)\"}, \"lon\": [19.4], \"type\": \"scattergeo\", \"text\": \"Elbl\\u0105g\", \"name\": \"Jerzy Wilk\", \"lat\": [54.166666666]}, {\"marker\": {\"size\": 5, \"color\": \"rgb(0, 0, 255)\"}, \"lon\": [18.731944444], \"type\": \"scattergeo\", \"text\": \"Krzepice\", \"name\": \"Marian Zembala\", \"lat\": [50.967222222]}, {\"marker\": {\"size\": 5, \"color\": \"rgb(0, 0, 255)\"}, \"lon\": [18.5], \"type\": \"scattergeo\", \"text\": \"Strzelce Opolskie\", \"name\": \"Bart\\u0142omiej Stawiarski\", \"lat\": [50.866666666]}, {\"marker\": {\"size\": 5, \"color\": \"rgb(0, 0, 255)\"}, \"lon\": [22.383333333], \"type\": \"scattergeo\", \"text\": \"\\u0141uk\\u00f3w\", \"name\": \"Krzysztof G\\u0142uchowski\", \"lat\": [51.916666666]}, {\"marker\": {\"size\": 5, \"color\": \"rgb(0, 0, 255)\"}, \"lon\": [22.716666666], \"type\": \"scattergeo\", \"text\": \"\\u0141osice\", \"name\": \"Marcin Duszek\", \"lat\": [52.216666666]}, {\"marker\": {\"size\": 5, \"color\": \"rgb(0, 0, 255)\"}, \"lon\": [20.983333333], \"type\": \"scattergeo\", \"text\": \"D\\u0105browa Tarnowska\", \"name\": \"Micha\\u0142 Cie\\u015blak\", \"lat\": [50.166666666]}, {\"marker\": {\"size\": 5, \"color\": \"rgb(0, 0, 255)\"}, \"lon\": [16.8167], \"type\": \"scattergeo\", \"text\": \"Gorzyczki\", \"name\": \"Teresa Glenc\", \"lat\": [52.1167]}, {\"marker\": {\"size\": 5, \"color\": \"rgb(0, 0, 255)\"}, \"lon\": [22.0], \"type\": \"scattergeo\", \"text\": \"Rzesz\\u00f3w\", \"name\": \"Marek Rz\\u0105sa\", \"lat\": [50.05]}, {\"marker\": {\"size\": 5, \"color\": \"rgb(0, 0, 255)\"}, \"lon\": [15.133333333], \"type\": \"scattergeo\", \"text\": \"\\u017bary\", \"name\": \"Bo\\u017cenna Bukiewicz\", \"lat\": [51.633333333]}, {\"marker\": {\"size\": 5, \"color\": \"rgb(0, 0, 255)\"}, \"lon\": [21.033333333], \"type\": \"scattergeo\", \"text\": \"Warszawa\", \"name\": \"Marcin Kierwi\\u0144ski\", \"lat\": [52.216666666]}, {\"marker\": {\"size\": 5, \"color\": \"rgb(0, 0, 255)\"}, \"lon\": [21.033333333], \"type\": \"scattergeo\", \"text\": \"Warszawa\", \"name\": \"Leszek Korzeniowski\", \"lat\": [52.216666666]}, {\"marker\": {\"size\": 5, \"color\": \"rgb(0, 0, 255)\"}, \"lon\": [19.95], \"type\": \"scattergeo\", \"text\": \"Krak\\u00f3w\", \"name\": \"W\\u0142adys\\u0142aw Kosiniak-Kamysz\", \"lat\": [50.066666666]}, {\"marker\": {\"size\": 5, \"color\": \"rgb(0, 0, 255)\"}, \"lon\": [17.583333333], \"type\": \"scattergeo\", \"text\": \"Wrze\\u015bnia\", \"name\": \"Ewa Kozanecka\", \"lat\": [52.333333333]}, {\"marker\": {\"size\": 5, \"color\": \"rgb(0, 0, 255)\"}, \"lon\": [20.749722222], \"type\": \"scattergeo\", \"text\": \"Chmielnik\", \"name\": \"Bogdan Latosi\\u0144ski\", \"lat\": [50.611666666]}, {\"marker\": {\"size\": 5, \"color\": \"rgb(0, 0, 255)\"}, \"lon\": [19.45], \"type\": \"scattergeo\", \"text\": \"Radomsko\", \"name\": \"Anna Milczanowska\", \"lat\": [51.066666666]}, {\"marker\": {\"size\": 5, \"color\": \"rgb(0, 0, 255)\"}, \"lon\": [19.6167], \"type\": \"scattergeo\", \"text\": \"Bia\\u0142ocin\", \"name\": \"El\\u017cbieta Radziszewska\", \"lat\": [51.2833]}, {\"marker\": {\"size\": 5, \"color\": \"rgb(0, 0, 255)\"}, \"lon\": [17.03533], \"type\": \"scattergeo\", \"text\": \"Wroc\\u0142aw\", \"name\": \"Aldona M\\u0142y\\u0144czak\", \"lat\": [51.10773]}, {\"marker\": {\"size\": 5, \"color\": \"rgb(0, 0, 255)\"}, \"lon\": [22.514444444], \"type\": \"scattergeo\", \"text\": \"Wysokie Mazowieckie\", \"name\": \"Jacek Bogucki\", \"lat\": [52.919166666]}, {\"marker\": {\"size\": 5, \"color\": \"rgb(0, 0, 255)\"}, \"lon\": [18.66666667], \"type\": \"scattergeo\", \"text\": \"Ko\\u017amin\", \"name\": \"Zbigniew Dolata\", \"lat\": [52.06666667]}, {\"marker\": {\"size\": 5, \"color\": \"rgb(0, 0, 255)\"}, \"lon\": [21.9], \"type\": \"scattergeo\", \"text\": \"Ostr\\u00f3w Mazowiecka\", \"name\": \"Beata Mazurek\", \"lat\": [52.8]}, {\"marker\": {\"size\": 5, \"color\": \"rgb(0, 0, 255)\"}, \"lon\": [16.183333333], \"type\": \"scattergeo\", \"text\": \"Jawor\", \"name\": \"El\\u017cbieta Witek\", \"lat\": [51.05]}, {\"marker\": {\"size\": 5, \"color\": \"rgb(0, 0, 255)\"}, \"lon\": [39.85], \"type\": \"scattergeo\", \"text\": \"Jaros\\u0142aw\", \"name\": \"Mieczys\\u0142aw Kasprzak\", \"lat\": [57.616666666]}, {\"marker\": {\"size\": 5, \"color\": \"rgb(0, 0, 255)\"}, \"lon\": [19.4], \"type\": \"scattergeo\", \"text\": \"Chrzan\\u00f3w\", \"name\": \"Dariusz Starzycki\", \"lat\": [50.133333333]}, {\"marker\": {\"size\": 5, \"color\": \"rgb(0, 0, 255)\"}, \"lon\": [16.365], \"type\": \"scattergeo\", \"text\": \"Prochowice\", \"name\": \"Ewa Szyma\\u0144ska\", \"lat\": [51.274166666]}, {\"marker\": {\"size\": 5, \"color\": \"rgb(0, 0, 255)\"}, \"lon\": [19.95], \"type\": \"scattergeo\", \"text\": \"Krak\\u00f3w\", \"name\": \"Agnieszka \\u015acigaj\", \"lat\": [50.066666666]}, {\"marker\": {\"size\": 5, \"color\": \"rgb(0, 0, 255)\"}, \"lon\": [21.683333333], \"type\": \"scattergeo\", \"text\": \"Tarnobrzeg\", \"name\": \"Rafa\\u0142 Weber\", \"lat\": [50.583333333]}, {\"marker\": {\"size\": 5, \"color\": \"rgb(0, 0, 255)\"}, \"lon\": [18.533333333], \"type\": \"scattergeo\", \"text\": \"Gdynia\", \"name\": \"Magdalena B\\u0142e\\u0144ska\", \"lat\": [54.5]}, {\"marker\": {\"size\": 5, \"color\": \"rgb(0, 0, 255)\"}, \"lon\": [18.95], \"type\": \"scattergeo\", \"text\": \"Piekary \\u015al\\u0105skie\", \"name\": \"Jerzy Polaczek\", \"lat\": [50.383333333]}, {\"marker\": {\"size\": 5, \"color\": \"rgb(0, 0, 255)\"}, \"lon\": [17.03533], \"type\": \"scattergeo\", \"text\": \"Wroc\\u0142aw\", \"name\": \"Stanis\\u0142aw Huskowski\", \"lat\": [51.10773]}, {\"marker\": {\"size\": 5, \"color\": \"rgb(0, 0, 255)\"}, \"lon\": [18.633333333], \"type\": \"scattergeo\", \"text\": \"Gda\\u0144sk\", \"name\": \"Ma\\u0142gorzata Chmiel\", \"lat\": [54.366666666]}, {\"marker\": {\"size\": 5, \"color\": \"rgb(0, 0, 255)\"}, \"lon\": [20.633333333], \"type\": \"scattergeo\", \"text\": \"Ciechan\\u00f3w\", \"name\": \"Anna Cicholska\", \"lat\": [52.866666666]}, {\"marker\": {\"size\": 5, \"color\": \"rgb(0, 0, 255)\"}, \"lon\": [21.033333333], \"type\": \"scattergeo\", \"text\": \"Warszawa\", \"name\": \"Piotr Gli\\u0144ski\", \"lat\": [52.216666666]}, {\"marker\": {\"size\": 5, \"color\": \"rgb(0, 0, 255)\"}, \"lon\": [21.033333333], \"type\": \"scattergeo\", \"text\": \"Warszawa\", \"name\": \"Kamila Gasiuk-Pihowicz\", \"lat\": [52.216666666]}, {\"marker\": {\"size\": 5, \"color\": \"rgb(0, 0, 255)\"}, \"lon\": [19.458511111], \"type\": \"scattergeo\", \"text\": \"\\u0141\\u00f3d\\u017a\", \"name\": \"Joanna Kopci\\u0144ska\", \"lat\": [51.759494444]}, {\"marker\": {\"size\": 5, \"color\": \"rgb(0, 0, 255)\"}, \"lon\": [19.95], \"type\": \"scattergeo\", \"text\": \"Krak\\u00f3w\", \"name\": \"Barbara Bubula\", \"lat\": [50.066666666]}, {\"marker\": {\"size\": 5, \"color\": \"rgb(0, 0, 255)\"}, \"lon\": [17.983333333], \"type\": \"scattergeo\", \"text\": \"K\\u0119pno\", \"name\": \"And\\u017celika Mo\\u017cd\\u017canowska\", \"lat\": [51.283333333]}, {\"marker\": {\"size\": 5, \"color\": \"rgb(0, 0, 255)\"}, \"lon\": [22.733333333], \"type\": \"scattergeo\", \"text\": \"Bi\\u0142goraj\", \"name\": \"Piotr Olsz\\u00f3wka\", \"lat\": [50.55]}, {\"marker\": {\"size\": 5, \"color\": \"rgb(0, 0, 255)\"}, \"lon\": [16.2], \"type\": \"scattergeo\", \"text\": \"Lubin\", \"name\": \"Krzysztof Kub\\u00f3w\", \"lat\": [51.4]}, {\"marker\": {\"size\": 5, \"color\": \"rgb(0, 0, 255)\"}, \"lon\": [20.466666666], \"type\": \"scattergeo\", \"text\": \"Limanowa\", \"name\": \"J\\u00f3zef Le\\u015bniak\", \"lat\": [49.716666666]}, {\"marker\": {\"size\": 5, \"color\": \"rgb(0, 0, 255)\"}, \"lon\": [18.633333333], \"type\": \"scattergeo\", \"text\": \"Gda\\u0144sk\", \"name\": \"Ewa Lieder\", \"lat\": [54.366666666]}, {\"marker\": {\"size\": 5, \"color\": \"rgb(0, 0, 255)\"}, \"lon\": [20.583333333], \"type\": \"scattergeo\", \"text\": \"Lidzbark Warmi\\u0144ski\", \"name\": \"Jacek Protas\", \"lat\": [54.116666666]}, {\"marker\": {\"size\": 5, \"color\": \"rgb(0, 0, 255)\"}, \"lon\": [18.356666666], \"type\": \"scattergeo\", \"text\": \"Siedliska\", \"name\": \"J\\u00f3zef Lassota\", \"lat\": [50.785]}, {\"marker\": {\"size\": 5, \"color\": \"rgb(0, 0, 255)\"}, \"lon\": [18.834305555], \"type\": \"scattergeo\", \"text\": \"Zarzecze\", \"name\": \"Bogdan Rzo\\u0144ca\", \"lat\": [49.913011111]}, {\"marker\": {\"size\": 5, \"color\": \"rgb(0, 0, 255)\"}, \"lon\": [19.95], \"type\": \"scattergeo\", \"text\": \"Krak\\u00f3w\", \"name\": \"Jaros\\u0142aw Gowin\", \"lat\": [50.066666666]}, {\"marker\": {\"size\": 5, \"color\": \"rgb(0, 0, 255)\"}, \"lon\": [22.233333333], \"type\": \"scattergeo\", \"text\": \"\\u0141a\\u0144cut\", \"name\": \"Kazimierz Go\\u0142ojuch\", \"lat\": [50.066666666]}, {\"marker\": {\"size\": 5, \"color\": \"rgb(0, 0, 255)\"}, \"lon\": [19.406111111], \"type\": \"scattergeo\", \"text\": \"Zgierz\", \"name\": \"Marek Matuszewski\", \"lat\": [51.856388888]}, {\"marker\": {\"size\": 5, \"color\": \"rgb(0, 0, 255)\"}, \"lon\": [20.883333333], \"type\": \"scattergeo\", \"text\": \"Legionowo\", \"name\": \"Mariusz B\\u0142aszczak\", \"lat\": [52.383333333]}, {\"marker\": {\"size\": 5, \"color\": \"rgb(0, 0, 255)\"}, \"lon\": [15.0], \"type\": \"scattergeo\", \"text\": \"Zgorzelec\", \"name\": \"Robert Winnicki\", \"lat\": [51.152777777]}, {\"marker\": {\"size\": 5, \"color\": \"rgb(0, 0, 255)\"}, \"lon\": [21.4], \"type\": \"scattergeo\", \"text\": \"Ostrowiec \\u015awi\\u0119tokrzyski\", \"name\": \"Anna Wasilewska\", \"lat\": [50.933333333]}, {\"marker\": {\"size\": 5, \"color\": \"rgb(0, 0, 255)\"}, \"lon\": [18.533333333], \"type\": \"scattergeo\", \"text\": \"Gdynia\", \"name\": \"Ma\\u0142gorzata Zwiercan\", \"lat\": [54.5]}, {\"marker\": {\"size\": 5, \"color\": \"rgb(0, 0, 255)\"}, \"lon\": [19.383333333], \"type\": \"scattergeo\", \"text\": \"Pabianice\", \"name\": \"Krzysztof Maciejewski\", \"lat\": [51.65]}, {\"marker\": {\"size\": 5, \"color\": \"rgb(0, 0, 255)\"}, \"lon\": [18.55], \"type\": \"scattergeo\", \"text\": \"Sopot\", \"name\": \"Tadeusz Aziewicz\", \"lat\": [54.433333333]}, {\"marker\": {\"size\": 5, \"color\": \"rgb(0, 0, 255)\"}, \"lon\": [22.566666666], \"type\": \"scattergeo\", \"text\": \"Lublin\", \"name\": \"El\\u017cbieta Kruk\", \"lat\": [51.233333333]}, {\"marker\": {\"size\": 5, \"color\": \"rgb(0, 0, 255)\"}, \"lon\": [18.5], \"type\": \"scattergeo\", \"text\": \"Rybnik\", \"name\": \"Grzegorz Janik\", \"lat\": [50.083333333]}, {\"marker\": {\"size\": 5, \"color\": \"rgb(0, 0, 255)\"}, \"lon\": [18.68333333], \"type\": \"scattergeo\", \"text\": \"Kochcice\", \"name\": \"Andrzej Gawron\", \"lat\": [50.7]}, {\"marker\": {\"size\": 5, \"color\": \"rgb(0, 0, 255)\"}, \"lon\": [19.083333333], \"type\": \"scattergeo\", \"text\": \"Czelad\\u017a\", \"name\": \"Jaros\\u0142aw Gonciarz\", \"lat\": [50.333333333]}, {\"marker\": {\"size\": 5, \"color\": \"rgb(0, 0, 255)\"}, \"lon\": [14.555277777], \"type\": \"scattergeo\", \"text\": \"Szczecin\", \"name\": \"Magdalena Kochan\", \"lat\": [53.424722222]}, {\"marker\": {\"size\": 5, \"color\": \"rgb(0, 0, 255)\"}, \"lon\": [15.216666666], \"type\": \"scattergeo\", \"text\": \"Gryfice\", \"name\": \"Cezary Tomczyk\", \"lat\": [53.9]}, {\"marker\": {\"size\": 5, \"color\": \"rgb(0, 0, 255)\"}, \"lon\": [17.0], \"type\": \"scattergeo\", \"text\": \"Paczk\\u00f3w\", \"name\": \"Pawe\\u0142 Kukiz\", \"lat\": [50.45]}, {\"marker\": {\"size\": 5, \"color\": \"rgb(0, 0, 255)\"}, \"lon\": [15.533333333], \"type\": \"scattergeo\", \"text\": \"\\u015awiebodzin\", \"name\": \"Jacek Kurz\\u0119pa\", \"lat\": [52.25]}, {\"marker\": {\"size\": 5, \"color\": \"rgb(0, 0, 255)\"}, \"lon\": [19.0], \"type\": \"scattergeo\", \"text\": \"Katowice\", \"name\": \"Gabriela Lenartowicz\", \"lat\": [50.25]}, {\"marker\": {\"size\": 5, \"color\": \"rgb(0, 0, 255)\"}, \"lon\": [21.033333333], \"type\": \"scattergeo\", \"text\": \"Warszawa\", \"name\": \"Kornel Morawiecki\", \"lat\": [52.216666666]}, {\"marker\": {\"size\": 5, \"color\": \"rgb(0, 0, 255)\"}, \"lon\": [16.1], \"type\": \"scattergeo\", \"text\": \"Po\\u0142czyn-Zdr\\u00f3j\", \"name\": \"S\\u0142awomir Nitras\", \"lat\": [53.766666666]}, {\"marker\": {\"size\": 5, \"color\": \"rgb(0, 0, 255)\"}, \"lon\": [21.758888888], \"type\": \"scattergeo\", \"text\": \"Gi\\u017cycko\", \"name\": \"Adam O\\u0142dakowski\", \"lat\": [54.04]}, {\"marker\": {\"size\": 5, \"color\": \"rgb(0, 0, 255)\"}, \"lon\": [17.333888888], \"type\": \"scattergeo\", \"text\": \"Nysa\", \"name\": \"Janusz Sanocki\", \"lat\": [50.471388888]}, {\"marker\": {\"size\": 5, \"color\": \"rgb(0, 0, 255)\"}, \"lon\": [18.7], \"type\": \"scattergeo\", \"text\": \"Aleksandr\\u00f3w Kujawski\", \"name\": \"Micha\\u0142 Jaros\", \"lat\": [52.866666666]}, {\"marker\": {\"size\": 5, \"color\": \"rgb(0, 0, 255)\"}, \"lon\": [18.0], \"type\": \"scattergeo\", \"text\": \"Bydgoszcz\", \"name\": \"Krzysztof Brejza\", \"lat\": [53.116666666]}, {\"marker\": {\"size\": 5, \"color\": \"rgb(0, 0, 255)\"}, \"lon\": [17.033333333], \"type\": \"scattergeo\", \"text\": \"S\\u0142upsk\", \"name\": \"Jolanta Szczypi\\u0144ska\", \"lat\": [54.466666666]}, {\"marker\": {\"size\": 5, \"color\": \"rgb(0, 0, 255)\"}, \"lon\": [16.283333333], \"type\": \"scattergeo\", \"text\": \"Wa\\u0142brzych\", \"name\": \"Tomasz Siemoniak\", \"lat\": [50.766666666]}, {\"marker\": {\"size\": 5, \"color\": \"rgb(0, 0, 255)\"}, \"lon\": [17.833333333], \"type\": \"scattergeo\", \"text\": \"G\\u0142ubczyce\", \"name\": \"Adam Lipi\\u0144ski\", \"lat\": [50.2]}, {\"marker\": {\"size\": 5, \"color\": \"rgb(0, 0, 255)\"}, \"lon\": [16.65], \"type\": \"scattergeo\", \"text\": \"Ko\\u015bcian\", \"name\": \"Adam Sz\\u0142apka\", \"lat\": [52.083333333]}, {\"marker\": {\"size\": 5, \"color\": \"rgb(0, 0, 255)\"}, \"lon\": [21.033333333], \"type\": \"scattergeo\", \"text\": \"Warszawa\", \"name\": \"Rafa\\u0142 Trzaskowski\", \"lat\": [52.216666666]}, {\"marker\": {\"size\": 5, \"color\": \"rgb(0, 0, 255)\"}, \"lon\": [21.566666666], \"type\": \"scattergeo\", \"text\": \"Mi\\u0144sk Mazowiecki\", \"name\": \"Teresa Wargocka\", \"lat\": [52.183333333]}, {\"marker\": {\"size\": 5, \"color\": \"rgb(0, 0, 255)\"}, \"lon\": [17.933333333], \"type\": \"scattergeo\", \"text\": \"Opole\", \"name\": \"Witold Zembaczy\\u0144ski\", \"lat\": [50.666666666]}, {\"marker\": {\"size\": 5, \"color\": \"rgb(0, 0, 255)\"}, \"lon\": [18.500833333], \"type\": \"scattergeo\", \"text\": \"Piotrk\\u00f3w Kujawski\", \"name\": \"Anna El\\u017cbieta Sobecka\", \"lat\": [52.546944444]}, {\"marker\": {\"size\": 5, \"color\": \"rgb(0, 0, 255)\"}, \"lon\": [16.760555555], \"type\": \"scattergeo\", \"text\": \"Czempi\\u0144\", \"name\": \"Wojciech Ziemniak\", \"lat\": [52.145]}, {\"marker\": {\"size\": 5, \"color\": \"rgb(0, 0, 255)\"}, \"lon\": [19.013333333], \"type\": \"scattergeo\", \"text\": \"Nowy Staw\", \"name\": \"Tadeusz Cyma\\u0144ski\", \"lat\": [54.135555555]}, {\"marker\": {\"size\": 5, \"color\": \"rgb(0, 0, 255)\"}, \"lon\": [20.697222222], \"type\": \"scattergeo\", \"text\": \"Nowy S\\u0105cz\", \"name\": \"Jan Duda\", \"lat\": [49.623888888]}, {\"marker\": {\"size\": 5, \"color\": \"rgb(0, 0, 255)\"}, \"lon\": [21.033333333], \"type\": \"scattergeo\", \"text\": \"Warszawa\", \"name\": \"Kinga Gajewska-P\\u0142ochocka\", \"lat\": [52.216666666]}, {\"marker\": {\"size\": 5, \"color\": \"rgb(0, 0, 255)\"}, \"lon\": [18.666666666], \"type\": \"scattergeo\", \"text\": \"Gliwice\", \"name\": \"Marta Golbik\", \"lat\": [50.283333333]}, {\"marker\": {\"size\": 5, \"color\": \"rgb(0, 0, 255)\"}, \"lon\": [15.933333333], \"type\": \"scattergeo\", \"text\": \"Chojn\\u00f3w\", \"name\": \"Wies\\u0142aw Krajewski\", \"lat\": [51.266666666]}, {\"marker\": {\"size\": 5, \"color\": \"rgb(0, 0, 255)\"}, \"lon\": [19.275], \"type\": \"scattergeo\", \"text\": \"Jaworzno\", \"name\": \"Wojciech Kr\\u00f3l\", \"lat\": [50.2]}, {\"marker\": {\"size\": 5, \"color\": \"rgb(0, 0, 255)\"}, \"lon\": [21.033333333], \"type\": \"scattergeo\", \"text\": \"Warszawa\", \"name\": \"Krzysztof \\u0141api\\u0144ski\", \"lat\": [52.216666666]}, {\"marker\": {\"size\": 5, \"color\": \"rgb(0, 0, 255)\"}, \"lon\": [18.95], \"type\": \"scattergeo\", \"text\": \"Pszczyna\", \"name\": \"Tomasz Tomczykiewicz\", \"lat\": [49.983333333]}, {\"marker\": {\"size\": 5, \"color\": \"rgb(0, 0, 255)\"}, \"lon\": [19.366666666], \"type\": \"scattergeo\", \"text\": \"Kutno\", \"name\": \"Tomasz Rzymkowski\", \"lat\": [52.233333333]}, {\"marker\": {\"size\": 5, \"color\": \"rgb(0, 0, 255)\"}, \"lon\": [19.406111111], \"type\": \"scattergeo\", \"text\": \"Zgierz\", \"name\": \"\\u0141ukasz Rzepecki\", \"lat\": [51.856388888]}, {\"marker\": {\"size\": 5, \"color\": \"rgb(0, 0, 255)\"}, \"lon\": [39.85], \"type\": \"scattergeo\", \"text\": \"Jaros\\u0142aw\", \"name\": \"Anna Schmidt-Rodziewicz\", \"lat\": [57.616666666]}], {\"geo\": {\"resolution\": 50, \"lataxis\": {\"range\": [-6.379788, 59.616666666]}, \"showcountries\": true, \"lonaxis\": {\"range\": [-5.444722222999999, 59.85]}, \"projection\": {\"type\": \"mercator\"}, \"showland\": true}, \"title\": \"Miejsca urodzenia pos\\u0142\\u00f3w na Sejm RP VIII kadencji\"}, {\"showLink\": true, \"linkText\": \"Export to plot.ly\"})});</script>"
      ]
     },
     "metadata": {},
     "output_type": "display_data"
    }
   ],
   "source": [
    "py.init_notebook_mode(connected=True)\n",
    "py.iplot(fig)"
   ]
  },
  {
   "cell_type": "markdown",
   "metadata": {
    "slideshow": {
     "slide_type": "slide"
    }
   },
   "source": [
    "## Dziękuję za uwagę\n",
    "\n",
    "Szczegóły na kolejnych (i kolejnych...) zajęciach.\n",
    "\n",
    "Wtorek 7 listopada, 16:30. Potem mniej więcej co dwa tygodnie."
   ]
  },
  {
   "cell_type": "markdown",
   "metadata": {
    "slideshow": {
     "slide_type": "slide"
    }
   },
   "source": [
    "## Praca domowa\n",
    "\n",
    "1. Zainstalować sobie Jupyter Notebook (http://jupyter.org/install.html , interesuje nas Python 3.X (a nie 2.X)).\n",
    "2. Uruchomić tenże, stworzyć sobie w nim Notatnik i stworzyć komórkę, która wypisze sumę wszystkich liczb naturalnych mniejszych niż 200.\n",
    "3. Skopiować to obliczenie do poniższej komórki."
   ]
  }
 ],
 "metadata": {
  "celltoolbar": "Slideshow",
  "kernelspec": {
   "display_name": "Python 3",
   "language": "python",
   "name": "python3"
  },
  "language_info": {
   "codemirror_mode": {
    "name": "ipython",
    "version": 3
   },
   "file_extension": ".py",
   "mimetype": "text/x-python",
   "name": "python",
   "nbconvert_exporter": "python",
   "pygments_lexer": "ipython3",
   "version": "3.5.3"
  }
 },
 "nbformat": 4,
 "nbformat_minor": 2
}
