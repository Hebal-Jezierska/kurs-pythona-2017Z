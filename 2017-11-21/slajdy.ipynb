{
 "cells": [
  {
   "cell_type": "markdown",
   "metadata": {
    "slideshow": {
     "slide_type": "slide"
    }
   },
   "source": [
    "# Python w badaniach humanistycznych\n",
    "## Zajęcia 2"
   ]
  },
  {
   "cell_type": "markdown",
   "metadata": {
    "slideshow": {
     "slide_type": "slide"
    }
   },
   "source": [
    "Na tym etapie wszyscy powinni mieć lokalnie wykonane wszystkie czynności opisane na poprzednim wykładzie, w szczególności sklonowane repozytorium o nazwie `kurs-pythona-2017Z-<login-githubowy>`."
   ]
  },
  {
   "cell_type": "markdown",
   "metadata": {
    "slideshow": {
     "slide_type": "fragment"
    }
   },
   "source": [
    "Spróbujemy teraz zaciągnąć do naszego repozytorium zmiany w repozytorium \"macierzystym\" (=materiały do dzisiejszych zajęć), ale najpierw nauczymy się commitować nasze zmiany. Użytkownicy Windowsa uruchamiają `Git Gui`, użytkownicy Linuksa (i, miejmy nadzieję, Maca) uruchmamiają `git citool` (uprzednio zainstalowawszy paczkę `git-gui`)."
   ]
  },
  {
   "cell_type": "markdown",
   "metadata": {
    "slideshow": {
     "slide_type": "fragment"
    }
   },
   "source": [
    "Osoby ciekawe świata i gita mogą w wolnych chwilach czytać https://git-scm.com/book"
   ]
  },
  {
   "cell_type": "markdown",
   "metadata": {
    "slideshow": {
     "slide_type": "slide"
    }
   },
   "source": [
    "1. Otwieramy lokalizację, w której mamy nasze repozytorium.\n",
    "2. W lewym górym oknie (`Unstaged Changes`) mamy listę plików, które są inne niż w najnowszej zacommitowanej wersji.\n",
    "3. Te zmiany, które chcemy utrwalić, musimy najpierw oznaczyć jako takie (`stage`). Wybieramy plik i klikamy `Commit -> Stage to commit`. Plik znika z `Unstaged Changes` i pojawia się w `Staged Changes` (lewo-dół.\n",
    "4. Kiedy mamy zestage'owane wszystkie zmiany, możemy wpisać commit message (prawo-doł) i kliknąć `Commit`. Jeśli dodatkowo klikniemy `Push`, na zmiana znajdzie się na serwerze GitHuba.\n",
    "5. Uwaga: żeby mergowanie w następnym kroku się udało, nie możemy mieć żadnych _zmienionych_, niezacommitowanych plików w repozytorium.\n",
    "\n"
   ]
  },
  {
   "cell_type": "markdown",
   "metadata": {
    "slideshow": {
     "slide_type": "subslide"
    }
   },
   "source": [
    "1. Z menu wybieramy `Remote -> Add`.\n",
    "2. Podajemy Name: `upstream` (bo to ładne i w miarę adekwatne słowo) i Location: `git@github.com:LaCH-UW/kurs-pythona-2017Z.git` ( bo inaczej nie zadziała, przeklejone z pola `Clone` ze strony https://github.com/LaCH-UW/kurs-pythona-2017Z ). Niech opcja \"Fetch immediately\" będzie zaznaczona (i tylko ona).\n",
    "3. \"Następnym razem\" pamiętajmy o opcji `Remote -> Fetch`.\n",
    "4. Utwórzmy lokalnego brancha w oparciu o to: `Branch -> Create`, Name: `upstream-master`, a jako `Starting Revision` podajmy Revision Expression: `upstream/master` (Uwaga, to to samo słowo `upstream`, co w pkt. 3). Chcemy domyślnych opcji (`Fast Forward Only`, `Fetch Tracking Branch` i `Checkout After Creation`).\n",
    "5. Teraz możemy nanieść zmiany z brancha `upstream-master` na nasz branch `master` -- `Branch -> Checkout` i wybieramy `master`.\n",
    "6. `Merge -> Local Merge`, i w `Local branch` wybieramy `upstream-master`.\n",
    "7. Uruchamiamy Jupyter Notebook (jeśli go nie uruchomiliśmy) i możemy pracować."
   ]
  },
  {
   "cell_type": "markdown",
   "metadata": {
    "slideshow": {
     "slide_type": "slide"
    }
   },
   "source": [
    "Jak \"zwykle\" mamy pliki `2017-11-21/zajecia.ipynb` (ćwiczenia na zajęciach), `2017-11-21/slajdy.ipynb` (materiały z wykładu) i `2017-11-21/praca_domowa.ipynb` (wiadomo)."
   ]
  },
  {
   "cell_type": "markdown",
   "metadata": {
    "slideshow": {
     "slide_type": "slide"
    }
   },
   "source": [
    "## Praca z plikami\n",
    "\n",
    "Za pomocą polecenia `with open(<scieżka-do-pliku>, <tryb>) as wskaznik:` możemy znaleźć się w kontekście otwartego pliku, pod zmienną `wskaznik` mając wskaźnik do pliku. Jeśli otwieramy plik do odczytu (`tryb == 'r'`), wskaźnik ma metodę `read`; jeśli do zapisu, to `write` (`tryb == 'w'`; UWAGA: otwarcie pliku w trybie zapisu go wyczyści; możemy dopisywać coś do pliku otwarłszy go do \"dopisywania\" (`'a'`)).\n",
    "\n",
    "W momencie, kiedy opuścimy kontekst (=kod przestanie być \"wcięty\" względem `with`), plik zostanie automatycznie zamknięty."
   ]
  },
  {
   "cell_type": "code",
   "execution_count": 1,
   "metadata": {
    "slideshow": {
     "slide_type": "subslide"
    }
   },
   "outputs": [
    {
     "data": {
      "text/plain": [
       "'Bolesław Prus\\n\\nLalka\\n\\n\\n\\n\\n\\n\\nTom I\\n\\n\\n\\nI. Jak wygląda firma J. Mincel i S. Wokulski przez szkło butelek'"
      ]
     },
     "execution_count": 1,
     "metadata": {},
     "output_type": "execute_result"
    }
   ],
   "source": [
    "with open('../dane/lalka-tom-pierwszy.txt', 'r') as fp:\n",
    "    tekst = fp.read()\n",
    "\n",
    "tekst[:100]"
   ]
  },
  {
   "cell_type": "markdown",
   "metadata": {
    "slideshow": {
     "slide_type": "fragment"
    }
   },
   "source": [
    "Nb. w zmiennej typu `string` znaki nowej linii są oznaczane symbolem `\\n` (polubmy go, może się przydać). Jeśli wywołamy polecenie `print()`, zostaną automatycznie zamieniona na faktycznie złamania wiersza."
   ]
  },
  {
   "cell_type": "markdown",
   "metadata": {
    "slideshow": {
     "slide_type": "slide"
    }
   },
   "source": [
    "## Ćwiczenie 1: Sprawdź ile znaków jest w pierwszym tomie Lalki\n",
    "(powinien być na ścieżce `../dane/lalka-tom-pierwszy.txt`)"
   ]
  },
  {
   "cell_type": "markdown",
   "metadata": {
    "slideshow": {
     "slide_type": "slide"
    }
   },
   "source": [
    "## Liczenie słów w tekście"
   ]
  },
  {
   "cell_type": "code",
   "execution_count": 2,
   "metadata": {
    "slideshow": {
     "slide_type": "slide"
    }
   },
   "outputs": [
    {
     "data": {
      "text/plain": [
       "59"
      ]
     },
     "execution_count": 2,
     "metadata": {},
     "output_type": "execute_result"
    }
   ],
   "source": [
    "# wersja 'chcemy policzyć tylko jedno słowo'\n",
    "\n",
    "def wersja_1(text, searched_word):\n",
    "    count = 0\n",
    "    for word in text.split():\n",
    "        if word == searched_word:\n",
    "            count += 1\n",
    "\n",
    "    return count\n",
    "\n",
    "wersja_1(tekst, 'dzień')"
   ]
  },
  {
   "cell_type": "code",
   "execution_count": 3,
   "metadata": {
    "slideshow": {
     "slide_type": "subslide"
    }
   },
   "outputs": [
    {
     "data": {
      "text/plain": [
       "59"
      ]
     },
     "execution_count": 3,
     "metadata": {},
     "output_type": "execute_result"
    }
   ],
   "source": [
    "# wersja naiwna\n",
    "\n",
    "def wersja_2(text):\n",
    "    struct = []\n",
    "    for word in text.split():\n",
    "        struct.append(word)\n",
    "\n",
    "    return struct\n",
    "\n",
    "dane_2 = wersja_2(tekst)\n",
    "dane_2.count('dzień')"
   ]
  },
  {
   "cell_type": "code",
   "execution_count": 4,
   "metadata": {
    "slideshow": {
     "slide_type": "subslide"
    }
   },
   "outputs": [
    {
     "data": {
      "text/plain": [
       "59"
      ]
     },
     "execution_count": 4,
     "metadata": {},
     "output_type": "execute_result"
    }
   ],
   "source": [
    "# wersja dużo-lepsza: wyszukiwanie w słowniku jest szybsze\n",
    "\n",
    "def wersja_3(text):\n",
    "    struct = {}\n",
    "    for word in text.split():\n",
    "        if word not in struct:\n",
    "            struct[word] = 1\n",
    "        else:\n",
    "            struct[word] += 1\n",
    "    return struct\n",
    "\n",
    "dane_3 = wersja_3(tekst)\n",
    "dane_3['dzień']"
   ]
  },
  {
   "cell_type": "code",
   "execution_count": 5,
   "metadata": {
    "slideshow": {
     "slide_type": "fragment"
    }
   },
   "outputs": [
    {
     "data": {
      "text/plain": [
       "0"
      ]
     },
     "execution_count": 5,
     "metadata": {},
     "output_type": "execute_result"
    }
   ],
   "source": [
    "# Uwaga: Ponieważ dane słowo jest dodawane do słownika przy pierwszym wystąpieniu to byłby błąd:\n",
    "#dane_3['carewicz']\n",
    "# Możemy użyć polecenia (drugi parametr jest wartością zwracaną przez metodę, jeśli klucza nie ma w słowniku):\n",
    "dane_3.get('carewicz', 0)"
   ]
  },
  {
   "cell_type": "markdown",
   "metadata": {
    "slideshow": {
     "slide_type": "subslide"
    }
   },
   "source": [
    "## Ćwiczenie 2:\n",
    "### 1. Weź 20 pierwszych \"słów\" z tekstu Lalki.\n",
    "### 2. Policz ile razy każde z nich występuje w tekście."
   ]
  },
  {
   "cell_type": "markdown",
   "metadata": {
    "slideshow": {
     "slide_type": "slide"
    }
   },
   "source": [
    "## Powyższe metody liczenia są z gruntu wadliwe. Co im dolega?"
   ]
  },
  {
   "cell_type": "code",
   "execution_count": 6,
   "metadata": {
    "slideshow": {
     "slide_type": "slide"
    }
   },
   "outputs": [
    {
     "name": "stdout",
     "output_type": "stream",
     "text": [
      "59\n",
      "7\n"
     ]
    }
   ],
   "source": [
    "# Po pierwsze, jest kwestia wielkości liter\n",
    "print(dane_3.get('dzień', 0))\n",
    "print(dane_3.get('Dzień', 0))"
   ]
  },
  {
   "cell_type": "code",
   "execution_count": 7,
   "metadata": {
    "slideshow": {
     "slide_type": "subslide"
    }
   },
   "outputs": [
    {
     "name": "stdout",
     "output_type": "stream",
     "text": [
      "0\n",
      "0\n",
      "66\n",
      "66\n"
     ]
    }
   ],
   "source": [
    "# normalizacja\n",
    "\n",
    "def wersja_4(text):\n",
    "    struct = {}\n",
    "    for word in text.upper().split():\n",
    "        if word not in struct:\n",
    "            struct[word] = 1\n",
    "        else:\n",
    "            struct[word] += 1\n",
    "    return struct\n",
    "\n",
    "dane_4 = wersja_4(tekst)\n",
    "print(dane_4.get('dzień', 0))\n",
    "print(dane_4.get('Dzień', 0))\n",
    "print(dane_4.get('DZIEŃ', 0))\n",
    "print(dane_4.get('Dzień'.upper(), 0))"
   ]
  },
  {
   "cell_type": "code",
   "execution_count": 8,
   "metadata": {
    "slideshow": {
     "slide_type": "slide"
    }
   },
   "outputs": [
    {
     "name": "stdout",
     "output_type": "stream",
     "text": [
      "4\n"
     ]
    }
   ],
   "source": [
    "# Po drugie, warto się pozbyć znaków niealfanumerycznych\n",
    "print(dane_3.get('dzień.', 0))"
   ]
  },
  {
   "cell_type": "code",
   "execution_count": 9,
   "metadata": {
    "slideshow": {
     "slide_type": "subslide"
    }
   },
   "outputs": [
    {
     "name": "stdout",
     "output_type": "stream",
     "text": [
      "66\n",
      "71\n"
     ]
    }
   ],
   "source": [
    "# wyrzucanie znaków interpunkcyjnych\n",
    "\n",
    "def wersja_5(text):\n",
    "    struct = {}\n",
    "    for word in text.replace('.', '').replace('?', '').replace('!', '').replace('…', '').upper().split():\n",
    "        if word not in struct:\n",
    "            struct[word] = 1\n",
    "        else:\n",
    "            struct[word] += 1\n",
    "    return struct\n",
    "\n",
    "dane_5 = wersja_5(tekst)\n",
    "print(dane_4.get('dzień'.upper(), 0))\n",
    "print(dane_5.get('dzień'.upper(), 0))"
   ]
  },
  {
   "cell_type": "markdown",
   "metadata": {
    "slideshow": {
     "slide_type": "slide"
    }
   },
   "source": [
    "## Ćwiczenie 3: Wykonaj polecenia z ćwiczenia 2 licząc \"bardziej słowa\". Porównaj wyniki."
   ]
  },
  {
   "cell_type": "markdown",
   "metadata": {
    "slideshow": {
     "slide_type": "slide"
    }
   },
   "source": [
    "Czy na pewno wyrzuciliśmy wszystkie znaki interpunkcyjne? Jak mieć pewność?"
   ]
  },
  {
   "cell_type": "markdown",
   "metadata": {
    "slideshow": {
     "slide_type": "fragment"
    }
   },
   "source": [
    "https://en.wikipedia.org/wiki/Unicode_character_property"
   ]
  },
  {
   "cell_type": "code",
   "execution_count": 10,
   "metadata": {
    "slideshow": {
     "slide_type": "subslide"
    }
   },
   "outputs": [
    {
     "name": "stdout",
     "output_type": "stream",
     "text": [
      "Ll\n",
      "Lu\n",
      "Po\n",
      "Zs\n",
      "Nd\n",
      "Cc\n"
     ]
    }
   ],
   "source": [
    "import unicodedata  # to jest moduł Pythona; niektóre są wbudowane (jak unicodedata), inne trzeba zainstalować\n",
    "\n",
    "print(unicodedata.category('a'))\n",
    "print(unicodedata.category('A'))\n",
    "print(unicodedata.category('.'))\n",
    "print(unicodedata.category(' '))\n",
    "print(unicodedata.category('1'))\n",
    "print(unicodedata.category('\\n'))  # pamiętamy?\n"
   ]
  },
  {
   "cell_type": "code",
   "execution_count": 11,
   "metadata": {
    "slideshow": {
     "slide_type": "subslide"
    }
   },
   "outputs": [
    {
     "name": "stdout",
     "output_type": "stream",
     "text": [
      "66\n",
      "71\n",
      "83\n"
     ]
    }
   ],
   "source": [
    "import unicodedata\n",
    "\n",
    "def wersja_6(text):\n",
    "    struct = {}\n",
    "    for word in ''.join(c for c in text if unicodedata.category(c) != 'Po').upper().split():\n",
    "        if word not in struct:\n",
    "            struct[word] = 1\n",
    "        else:\n",
    "            struct[word] += 1\n",
    "    return struct\n",
    "\n",
    "dane_6 = wersja_6(tekst)\n",
    "print(dane_4.get('dzień'.upper(), 0))\n",
    "print(dane_5.get('dzień'.upper(), 0))\n",
    "print(dane_6.get('dzień'.upper(), 0))"
   ]
  },
  {
   "cell_type": "markdown",
   "metadata": {
    "slideshow": {
     "slide_type": "slide"
    }
   },
   "source": [
    "Czy to jest dobrze? Skąd wiemy co chcemy wyrzucić?"
   ]
  },
  {
   "cell_type": "markdown",
   "metadata": {
    "slideshow": {
     "slide_type": "fragment"
    }
   },
   "source": [
    "## Ćwiczenie 4: Zbuduj (i obejrzyj) mapę znaków i ich klas unicode'owych"
   ]
  },
  {
   "cell_type": "code",
   "execution_count": 12,
   "metadata": {
    "slideshow": {
     "slide_type": "subslide"
    }
   },
   "outputs": [
    {
     "name": "stdout",
     "output_type": "stream",
     "text": [
      "66\n",
      "71\n",
      "83\n",
      "84\n"
     ]
    }
   ],
   "source": [
    "import unicodedata\n",
    "\n",
    "def wersja_7(text):\n",
    "    struct = {}\n",
    "    for word in ''.join(c for c in text if not unicodedata.category(c).startswith('P')).upper().split():\n",
    "        if word not in struct:\n",
    "            struct[word] = 1\n",
    "        else:\n",
    "            struct[word] += 1\n",
    "    return struct\n",
    "\n",
    "dane_7 = wersja_7(tekst)\n",
    "print(dane_4.get('dzień'.upper(), 0))\n",
    "print(dane_5.get('dzień'.upper(), 0))\n",
    "print(dane_6.get('dzień'.upper(), 0))\n",
    "print(dane_7.get('dzień'.upper(), 0))"
   ]
  },
  {
   "cell_type": "markdown",
   "metadata": {
    "slideshow": {
     "slide_type": "slide"
    }
   },
   "source": [
    "## Krótko o wyrażeniach regularnych\n",
    "\n",
    "Dłużej tutaj: https://docs.python.org/3/library/re.html"
   ]
  },
  {
   "cell_type": "code",
   "execution_count": 13,
   "metadata": {
    "slideshow": {
     "slide_type": "subslide"
    }
   },
   "outputs": [
    {
     "name": "stdout",
     "output_type": "stream",
     "text": [
      "<_sre.SRE_Match object; span=(137566, 137571), match='wozie'>\n",
      "wozie\n",
      "wozie\n",
      "wozić\n",
      "woziki\n",
      "wozie\n",
      "wozić\n",
      "woził\n",
      "woziła\n",
      "Ala ma piesa, pies ma Alę\n"
     ]
    }
   ],
   "source": [
    "import re\n",
    "\n",
    "# znajdź napis postaci \"<wozi> + dowolna liczba znaków będących literami\"\n",
    "print(re.search(r'wozi\\w*', tekst))\n",
    "\n",
    "# znajdź wszystkie wystąpienia powyższego\n",
    "for m in re.findall(r'wozi\\w*', tekst):\n",
    "    print(m)\n",
    "\n",
    "# znajdź wszystkie napisy postaci \"kot + <dowolna liczba znaków będących literami>\"\n",
    "# i zamień je na napisy postaci \"pies + <to, co było po 'kot'>\"\n",
    "print(re.sub(r'kot(\\w*)', 'pies\\g<1>', 'Ala ma kota, kot ma Alę'))"
   ]
  },
  {
   "cell_type": "code",
   "execution_count": 14,
   "metadata": {
    "slideshow": {
     "slide_type": "subslide"
    }
   },
   "outputs": [
    {
     "name": "stdout",
     "output_type": "stream",
     "text": [
      "<_sre.SRE_Match object; span=(36062, 36065), match='koń'>\n",
      "Czy sądzisz że interpunkcja jest zbędna Ja tak\n",
      "Jestem numerofilem!\n",
      "['2017', '02', '04']\n"
     ]
    }
   ],
   "source": [
    "import re\n",
    "\n",
    "# . oznacza dowolny znak, \\b -- granicę słowa\n",
    "print(re.search(r'\\bk.ń\\b', tekst))\n",
    "\n",
    "# w kwadratowych nawiasach możemy podać pulę znaków, które matchujemy; | oznacza alternatywę (\"lub\")\n",
    "print(re.sub(r'[.,?…]|!', '', 'Czy sądzisz, że interpunkcja jest zbędna? Ja tak!'))\n",
    "\n",
    "# \\d oznacza cyfrę (alternatywnie możemy napisać \"[0-9]\")\n",
    "print(re.sub(r'\\d', '', 'Jestem nu324me31ro31f1i0l5em!'))\n",
    "\n",
    "# dzielenie po wyrażeniu regularnym -- efektem jest lista\n",
    "print(re.split(r'-', '2017-02-04'))"
   ]
  },
  {
   "cell_type": "markdown",
   "metadata": {
    "slideshow": {
     "slide_type": "slide"
    }
   },
   "source": [
    "## Ćwiczenie 5: policz, ile osób jest w Lalce wymienionych jako \"pan Jakiśtam\"\n",
    "### Przyjmijmy, że interesują nas tylko wyrażenia mianownikowe, w których słowo po \"pan\" zaczyna się wielką literą.\n",
    "Oczywiście pan Wokulski i pan Stanisław to na potrzeby tego ćwiczenia dwie różne \"postaci\".\n",
    "\n",
    "Zrób to w komórce poniżej."
   ]
  },
  {
   "cell_type": "markdown",
   "metadata": {
    "slideshow": {
     "slide_type": "slide"
    }
   },
   "source": [
    "## Następne zajęcia: 5 grudnia 2017, 16:30\n",
    "### Praca domowa znajduje się w pliku `2017-11-21/praca_domowa.ipynb`\n",
    "Proszę o wrzucenie jej do swojego repozytorium do 2 grudnia 2017 (sobota), do godziny 23:59.\n",
    "\n",
    "Ten sam termin obowiązuje na poprawki poprzedniej pracy domowej."
   ]
  }
 ],
 "metadata": {
  "celltoolbar": "Slideshow",
  "kernelspec": {
   "display_name": "Python 3",
   "language": "python",
   "name": "python3"
  },
  "language_info": {
   "codemirror_mode": {
    "name": "ipython",
    "version": 3
   },
   "file_extension": ".py",
   "mimetype": "text/x-python",
   "name": "python",
   "nbconvert_exporter": "python",
   "pygments_lexer": "ipython3",
   "version": "3.5.2"
  }
 },
 "nbformat": 4,
 "nbformat_minor": 2
}
