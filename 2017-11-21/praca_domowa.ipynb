{
 "cells": [
  {
   "cell_type": "markdown",
   "metadata": {},
   "source": [
    "Napisz w komórkach polecenia (funkcje) wykonujące poniższe polecenia.\n",
    "\n",
    "Następnie zapisz notatki, zacommituj i wypushuj!"
   ]
  },
  {
   "cell_type": "markdown",
   "metadata": {},
   "source": [
    "(1) Współczynnk bogactwa leksykalnego tekstu to stosunek liczby różnych słów w tekście do łącznej liczby słów w tekście. Napisz funkcję, która policzy współczynnik bogactwa leksykalnego dla tekstu zawartym w pliku o podanej w parametrze nazwie."
   ]
  },
  {
   "cell_type": "code",
   "execution_count": null,
   "metadata": {},
   "outputs": [],
   "source": []
  },
  {
   "cell_type": "code",
   "execution_count": 13,
   "metadata": {},
   "outputs": [],
   "source": [
    "# A tutaj użyj powyższej funkcji, żeby policzyć bogactwo leksykalne pierwszego tomu Lalki."
   ]
  },
  {
   "cell_type": "markdown",
   "metadata": {},
   "source": [
    "(2) Napisz funcję, która policzy ile zdań mających więcej niż 7 słów jest w tekście zawartym w pliku o podanej w parametrze nazwie.\n",
    "\n",
    "Podpowiedź: re"
   ]
  },
  {
   "cell_type": "code",
   "execution_count": null,
   "metadata": {},
   "outputs": [],
   "source": []
  },
  {
   "cell_type": "code",
   "execution_count": 12,
   "metadata": {},
   "outputs": [],
   "source": [
    "# A tutaj użyj powyższej funkcji, żeby policzyć ile \"długich\" zdań jest w pierwszym tomie Lalki."
   ]
  },
  {
   "cell_type": "markdown",
   "metadata": {},
   "source": [
    "(3) Napisz funkcję `get_emoji(fname)`, która wczyta tekst z pliku `fname` i zwróci listę wszystkich emotikonek zawartych w tym pliku (na potrzeby ćwiczenia załóżmy, że emotki to tylko (i wszystkie) znaki należące do tej samej kategorii unicode'owej co ten znak: `☺`). Następnie użyj funkcji get_emoji do znalezienia wszystkich emotikonek w pliku `../dane/lorem-ipsum.txt` i wypisania ich do pliku `./emotki.txt`, po jednej w linii."
   ]
  },
  {
   "cell_type": "code",
   "execution_count": 5,
   "metadata": {},
   "outputs": [],
   "source": [
    "# ☺"
   ]
  },
  {
   "cell_type": "code",
   "execution_count": 11,
   "metadata": {},
   "outputs": [],
   "source": [
    "# ten kod może trochę pomóc w pisaniu do pliku\n",
    "with open('../dane/lorem-ipsum.txt') as fp:\n",
    "    if False:\n",
    "        with open('./emotki.txt') as fpw:\n",
    "            fpw.write(wyniki)"
   ]
  },
  {
   "cell_type": "markdown",
   "metadata": {},
   "source": [
    "(4*) Dla ambitnych:\n",
    "\n",
    "Napisz funkcję `maim(fname_in, fname_out)`, która : wczyta tekst z pliku `fname_in` i wypisze do pliku `fname_out` jego zawartość pozbawioną diakrytów (zamieni 'żółty' na 'zolty').\n",
    "\n",
    "Podpowiedź 1: przeczytaj https://docs.python.org/3/library/unicodedata.html\n",
    "\n",
    "Podpowiedź 2: funkcja `unicodedata.normalize('NFD', text)` rozbija znaki na części składowe (np. 'ą' na 'a' i 'ogonek'), funkcja `unicodedata.normalize('NFC', text)` wykonuje operację odwrotną\n",
    "\n",
    "Podpowiedź 2b: informacja w 2 jest \"prawie zawsze\" prawdą. Zachowaj czujność!"
   ]
  },
  {
   "cell_type": "code",
   "execution_count": null,
   "metadata": {},
   "outputs": [],
   "source": []
  },
  {
   "cell_type": "code",
   "execution_count": 8,
   "metadata": {},
   "outputs": [],
   "source": [
    "# użyj maim() na pierwszym tomie Lalki!"
   ]
  }
 ],
 "metadata": {
  "kernelspec": {
   "display_name": "Python 3",
   "language": "python",
   "name": "python3"
  },
  "language_info": {
   "codemirror_mode": {
    "name": "ipython",
    "version": 3
   },
   "file_extension": ".py",
   "mimetype": "text/x-python",
   "name": "python",
   "nbconvert_exporter": "python",
   "pygments_lexer": "ipython3",
   "version": "3.5.2"
  }
 },
 "nbformat": 4,
 "nbformat_minor": 2
}
