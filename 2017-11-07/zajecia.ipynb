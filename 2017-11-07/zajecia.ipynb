{
 "cells": [
  {
   "cell_type": "markdown",
   "metadata": {},
   "source": [
    "## Ćwiczenie 1: Ile to jest 15 do potęgi 10?\n",
    "Oblicz w komórce poniżej."
   ]
  },
  {
   "cell_type": "code",
   "execution_count": null,
   "metadata": {},
   "outputs": [],
   "source": []
  },
  {
   "cell_type": "markdown",
   "metadata": {},
   "source": [
    "## Ćwiczenie 2: Policz \"na palcach\" (dodając po 1) liczbę liter w słowie 'konstantynopolitaneczka'\n",
    "Oblicz w komórce poniżej."
   ]
  },
  {
   "cell_type": "code",
   "execution_count": null,
   "metadata": {},
   "outputs": [],
   "source": []
  },
  {
   "cell_type": "markdown",
   "metadata": {},
   "source": [
    "## Ćwiczenie 3: Zsumuj te spośród liczb 0..100, które są nieparzyste lub podzielne przez 5\n",
    "Oblicz w komórce poniżej."
   ]
  },
  {
   "cell_type": "code",
   "execution_count": null,
   "metadata": {},
   "outputs": [],
   "source": []
  },
  {
   "cell_type": "markdown",
   "metadata": {},
   "source": [
    "## Ćwiczenie 4: Napisz funkcję o nazwie `pan_funkcja`, która poprzedzi każdy przekazany jej napis słowem \"pan\"\n",
    "`print(pan_funkcja('Tadeusz'))  # \"pan Tadeusz\"`\n",
    "\n",
    "Zrób to w komórce poniżej."
   ]
  },
  {
   "cell_type": "code",
   "execution_count": null,
   "metadata": {},
   "outputs": [],
   "source": []
  },
  {
   "cell_type": "markdown",
   "metadata": {},
   "source": [
    "## Ćwiczenie 5: Napisz funkcję o nazwie `skracacz`, która obetnie podany napis do 10 znaków i doda na końcu wielokropek.\n",
    "\n",
    "## Ćwiczenie 5a, odrobinę ambitniejsze: niech funkcja `skracacz` dodaje wielokropek tylko wtedy, jeśli faktycznie coś skróciła.\n",
    "Zrób to w komórce poniżej."
   ]
  },
  {
   "cell_type": "code",
   "execution_count": null,
   "metadata": {},
   "outputs": [],
   "source": []
  }
 ],
 "metadata": {
  "kernelspec": {
   "display_name": "Python 3",
   "language": "python",
   "name": "python3"
  },
  "language_info": {
   "codemirror_mode": {
    "name": "ipython",
    "version": 3
   },
   "file_extension": ".py",
   "mimetype": "text/x-python",
   "name": "python",
   "nbconvert_exporter": "python",
   "pygments_lexer": "ipython3",
   "version": "3.5.2"
  }
 },
 "nbformat": 4,
 "nbformat_minor": 2
}
