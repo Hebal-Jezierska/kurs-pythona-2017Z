{
 "cells": [
  {
   "cell_type": "markdown",
   "metadata": {},
   "source": [
    "## Ćwiczenie 1: Ile to jest 15 do potęgi 10?\n",
    "Oblicz w komórce poniżej."
   ]
  },
  {
   "cell_type": "code",
   "execution_count": 1,
   "metadata": {},
   "outputs": [
    {
     "data": {
      "text/plain": [
       "4"
      ]
     },
     "execution_count": 1,
     "metadata": {},
     "output_type": "execute_result"
    }
   ],
   "source": [
    "2 + 2"
   ]
  },
  {
   "cell_type": "code",
   "execution_count": 5,
   "metadata": {},
   "outputs": [
    {
     "name": "stdout",
     "output_type": "stream",
     "text": [
      "20\n",
      "0\n",
      "1\n",
      "2\n",
      "3\n",
      "4\n",
      "5\n",
      "6\n",
      "7\n",
      "8\n",
      "9\n",
      "0\n",
      "1\n"
     ]
    }
   ],
   "source": [
    "bardzo_dluga_nZWA = 20\n",
    "print(bardzo_dluga_nZWA)\n",
    "for bardzo_dluga_nZWA in range(10):\n",
    "        print(bardzo_dluga_nZWA)\n",
    "for i in range(2):\n",
    " print(i)"
   ]
  },
  {
   "cell_type": "markdown",
   "metadata": {},
   "source": [
    "## Ćwiczenie 2: Policz \"na palcach\" (dodając po 1) liczbę liter w słowie 'konstantynopolitaneczka'\n",
    "Oblicz w komórce poniżej."
   ]
  },
  {
   "cell_type": "code",
   "execution_count": 11,
   "metadata": {},
   "outputs": [
    {
     "data": {
      "text/plain": [
       "23"
      ]
     },
     "execution_count": 11,
     "metadata": {},
     "output_type": "execute_result"
    }
   ],
   "source": [
    "suma = 0\n",
    "for i in 'konstantynopolitaneczka':\n",
    "    suma += 1\n",
    "suma"
   ]
  },
  {
   "cell_type": "markdown",
   "metadata": {},
   "source": [
    "## Ćwiczenie 3: Zsumuj te spośród liczb 0..100, które są nieparzyste lub podzielne przez 5\n",
    "Oblicz w komórce poniżej."
   ]
  },
  {
   "cell_type": "code",
   "execution_count": 21,
   "metadata": {},
   "outputs": [
    {
     "data": {
      "text/plain": [
       "3050"
      ]
     },
     "execution_count": 21,
     "metadata": {},
     "output_type": "execute_result"
    }
   ],
   "source": [
    "suma = 0\n",
    "for i in range(101):\n",
    "    if i % 2 != 0 or i % 5 == 0:\n",
    "        suma += i\n",
    "suma"
   ]
  },
  {
   "cell_type": "markdown",
   "metadata": {},
   "source": [
    "## Ćwiczenie 4: Napisz funkcję o nazwie `pan_funkcja`, która poprzedzi każdy przekazany jej napis słowem \"pan\"\n",
    "`print(pan_funkcja('Tadeusz'))  # \"pan Tadeusz\"`\n",
    "\n",
    "Zrób to w komórce poniżej."
   ]
  },
  {
   "cell_type": "code",
   "execution_count": null,
   "metadata": {},
   "outputs": [],
   "source": []
  },
  {
   "cell_type": "markdown",
   "metadata": {},
   "source": [
    "## Ćwiczenie 5: Napisz funkcję o nazwie `skracacz`, która obetnie podany napis do 10 znaków i doda na końcu wielokropek.\n",
    "\n",
    "## Ćwiczenie 5a, odrobinę ambitniejsze: niech funkcja `skracacz` dodaje wielokropek tylko wtedy, jeśli faktycznie coś skróciła.\n",
    "Zrób to w komórce poniżej."
   ]
  },
  {
   "cell_type": "code",
   "execution_count": null,
   "metadata": {},
   "outputs": [],
   "source": []
  }
 ],
 "metadata": {
  "kernelspec": {
   "display_name": "Python 3",
   "language": "python",
   "name": "python3"
  },
  "language_info": {
   "codemirror_mode": {
    "name": "ipython",
    "version": 3
   },
   "file_extension": ".py",
   "mimetype": "text/x-python",
   "name": "python",
   "nbconvert_exporter": "python",
   "pygments_lexer": "ipython3",
   "version": "3.5.2"
  }
 },
 "nbformat": 4,
 "nbformat_minor": 2
}
