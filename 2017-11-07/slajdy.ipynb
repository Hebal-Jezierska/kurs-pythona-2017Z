{
 "cells": [
  {
   "cell_type": "markdown",
   "metadata": {
    "slideshow": {
     "slide_type": "slide"
    }
   },
   "source": [
    "# Python w badaniach humanistycznych\n",
    "## Zajęcia 1"
   ]
  },
  {
   "cell_type": "markdown",
   "metadata": {
    "slideshow": {
     "slide_type": "slide"
    }
   },
   "source": [
    "Technologie używane na zajęciach:\n",
    "* Python 3.X ( https://www.python.org/ )\n",
    "* Jupyter Notebook ( http://jupyter.org/ )\n",
    "* Git / GitHub ( https://git-scm.com/ , https://github.com/ )"
   ]
  },
  {
   "cell_type": "markdown",
   "metadata": {
    "slideshow": {
     "slide_type": "slide"
    }
   },
   "source": [
    "Na tym etapie wszyscy powinni mieć założone konto w serwisie GitHub oraz komputer z zainstalowanym Pythonem i Jupyter Notebookiem. Niniejszy kurs zakłada, że dwa ostatnie pochodzą z dystrybucji Anaconda ( https://www.anaconda.com/download/ ), co pozwala instalować dodatkowe paczki za pomocą polecenia `conda`. Alternatywą jest korzystanie z menadżera paczek `pip`."
   ]
  },
  {
   "cell_type": "markdown",
   "metadata": {
    "slideshow": {
     "slide_type": "slide"
    }
   },
   "source": [
    "Spróbujmy teraz utworzyć repozytorium GitHubowe, z którym będziemy pracować, wchodząc w link: https://classroom.github.com/a/UCPsy0Yh i sklonować je na twardy dysk ( może to wymagać zainstalowania klienta gita, https://git-scm.com/downloads )."
   ]
  },
  {
   "cell_type": "markdown",
   "metadata": {
    "slideshow": {
     "slide_type": "slide"
    }
   },
   "source": [
    "Przykładowy opis postępowania pod Windowsem:\n",
    "1. Po zainstalowaniu GITa powinniśmy mieć w menu start `Git Gui`.\n",
    "2. W tymże możemy zacząć od wygenerowania klucza ssh (który pozwala serwerom identyfikować się wzajemnie).\n",
    "  * `Help -> Show SSH Key -> Generate Key -> Copy To Clipboard`\n",
    "3. Rejestrujemy nasz klucz na GitHubie:\n",
    "  * Na stronie https://github.com/settings/keys (będąc zalogowanym) klikamy `New SSH key` i w pole `Key` wklejamy wartość z poprzedniego punktu\n",
    "4. Na stronie repozytorium, które utworzyliśmy przez classroom klikamy `Clone or download`, wybieramy `Use SSH` (jeśli nagłowek nie głosi od razu `Clone with SSH` i kopiujemy wartość formularza (`git@github.com:...git`)\n",
    "5. W Git Gui wybieramy `Clone Existing Repository`.\n",
    "  * W source location wklejamy wartość skopiowaną w poprzednim punkcie\n",
    "  * W target directory wybieramy, gdzie na dysku ma znaleźć się repozytorium; zapamiętajmy to miejsce!\n",
    "6. Uruchamiamy Jupyter Notebook (powinien być w menu start) i odnajdujemy folder, który ustawiliśmy jako target directory w poprzednim punkcie."
   ]
  },
  {
   "cell_type": "markdown",
   "metadata": {
    "slideshow": {
     "slide_type": "slide"
    }
   },
   "source": [
    "Otworzymy teraz w Jupyter Notebooku plik `2017-11-07/zajecia.ipynb`, i każdy będzie pracował na jego prywatnej kopii."
   ]
  },
  {
   "cell_type": "markdown",
   "metadata": {
    "slideshow": {
     "slide_type": "fragment"
    }
   },
   "source": [
    "Nb. w repozytorium powinien się także znajdować plik `2017-11-07/praca_domowa.ipynb`. Będzie on przedmiotem Państwa zainteresowania między niniejszymi zajęciami a kolejnymi."
   ]
  },
  {
   "cell_type": "markdown",
   "metadata": {
    "slideshow": {
     "slide_type": "slide"
    }
   },
   "source": [
    "# Bardzo krótka instrukcja obsługi Jupyter Notebook"
   ]
  },
  {
   "cell_type": "markdown",
   "metadata": {
    "slideshow": {
     "slide_type": "subslide"
    }
   },
   "source": [
    "1. Każda komórka (cell) w notesie Jupyterowym ma swój typ -- interesują nas głównie typy `Markdown` (tekst z biednym formatowaniem) i `Code` (Python).\n",
    "2. Myszką (lub, mniej wygodnie, klawiaturą) możemy przechodzić między komórkami. Warto zamykać logiczne całostki w oddzielnych komórkach -- w razie czego zmiennie z jednych komórek i tak są widoczne w innych.\n",
    "3. Kombinacją klawiszy `Ctrl+Enter` (lub przyciskiem `Run` na pasku) możemy wykonać komórkę -- typu `Code` spowoduje to wykonanie kodu Pythonowego, dla typu `Markdown` -- zwizualizowanie formatowania.\n",
    "4. Możemy dodać nową komórkę ikonką plusa.\n",
    "5. Warto pamiętać o zapisywaniu zmian w notesie (ikonką dyskietki lub skrótem `Ctrl+S`."
   ]
  },
  {
   "cell_type": "code",
   "execution_count": 1,
   "metadata": {
    "collapsed": true,
    "slideshow": {
     "slide_type": "slide"
    }
   },
   "outputs": [],
   "source": [
    "a = 4  # to jest zmienna 'a' typu int (integer, liczba całkowita)\n",
    "b = 6\n",
    "a + b  # to jest operacja dodawania, która jest wynikiem komórki"
   ]
  },
  {
   "cell_type": "code",
   "execution_count": 2,
   "metadata": {
    "slideshow": {
     "slide_type": "slide"
    }
   },
   "outputs": [
    {
     "data": {
      "text/plain": [
       "4"
      ]
     },
     "execution_count": 2,
     "metadata": {},
     "output_type": "execute_result"
    }
   ],
   "source": [
    "# wynikiem komórki może być dowolne wyrażenie - proste...\n",
    "a"
   ]
  },
  {
   "cell_type": "code",
   "execution_count": 3,
   "metadata": {
    "slideshow": {
     "slide_type": "subslide"
    }
   },
   "outputs": [
    {
     "data": {
      "text/plain": [
       "7168"
      ]
     },
     "execution_count": 3,
     "metadata": {},
     "output_type": "execute_result"
    }
   ],
   "source": [
    "# ... lub skomplikowane\n",
    "# (+ dodawanie, - odejmowanie, * mnożenie, / dzielenie,\n",
    "#  // dzielenie całkowitoliczbowe (bez reszty),\n",
    "#  % modulo (reszta z dzielenia), ** potęgowanie)\n",
    "14 * (1 + 1) ** (12 - 9 // 3)"
   ]
  },
  {
   "cell_type": "code",
   "execution_count": 4,
   "metadata": {
    "slideshow": {
     "slide_type": "slide"
    }
   },
   "outputs": [
    {
     "name": "stdout",
     "output_type": "stream",
     "text": [
      "1\n",
      "2\n",
      "3 4 5 12\n"
     ]
    }
   ],
   "source": [
    "# możemy użyć funkcji print, aby wypisać coś\n",
    "# w trakcie prowadzenia obliczeń w jednej komórce\n",
    "print(1)\n",
    "print(2)\n",
    "# print może dostać dowolnie dużo argumentów -- wypisze je wszystkie, oddzielając spacjami\n",
    "print(3, 4, 5, 12)"
   ]
  },
  {
   "cell_type": "markdown",
   "metadata": {
    "slideshow": {
     "slide_type": "slide"
    }
   },
   "source": [
    "## Ćwiczenie 1: Ile to jest 15 do potęgi 10?"
   ]
  },
  {
   "cell_type": "markdown",
   "metadata": {
    "slideshow": {
     "slide_type": "slide"
    }
   },
   "source": [
    "Oprócz integerów najpopularniejsze typy danych, z którymi będziemy mieć kontakt, to:\n",
    "* float (liczba zmiennoprzecinkowa, ułamek), np. `2.3`\n",
    "* string (napis), np. `'abc'` lub `\"Zosia\"` (możemy użyć `'` lub `\"`, ale w obrębie jednego stringa muszą się zgadzać)\n",
    "* list (lista, czasem zwana tablicą), np. `[1.3, 2, 'skarb', 56]`\n",
    "* dict (dictionary, słownik, mapa), np. `{ 'Marek': 32, 'Zbyszek': 11, 'Krzyś': 999 }`\n",
    "* bool (stałe boole'owskie, logiczne), `True` i `False`"
   ]
  },
  {
   "cell_type": "code",
   "execution_count": 5,
   "metadata": {
    "collapsed": true,
    "slideshow": {
     "slide_type": "subslide"
    }
   },
   "outputs": [],
   "source": [
    "# każdy z tych typów możemy przypisać na zmienną\n",
    "a = 42\n",
    "b = 'Kasia'\n",
    "c = True"
   ]
  },
  {
   "cell_type": "code",
   "execution_count": 6,
   "metadata": {
    "slideshow": {
     "slide_type": "subslide"
    }
   },
   "outputs": [
    {
     "name": "stdout",
     "output_type": "stream",
     "text": [
      "42\n",
      "Robert\n"
     ]
    }
   ],
   "source": [
    "# możemy nadpisać wartość zmiennej zmienną innego typu\n",
    "a = 42\n",
    "print(a)\n",
    "a = 'Robert'\n",
    "print(a)"
   ]
  },
  {
   "cell_type": "code",
   "execution_count": 7,
   "metadata": {
    "slideshow": {
     "slide_type": "subslide"
    }
   },
   "outputs": [
    {
     "name": "stdout",
     "output_type": "stream",
     "text": [
      "4\n",
      "Stój Halina\n"
     ]
    }
   ],
   "source": [
    "# ale pewne typy nie mogą być mieszane w pewnych operacjach\n",
    "print(2 + 2)  # dobrze\n",
    "print('St' + 'ój' + ' ' + 'H' + 'alina')  # dobrze\n",
    "#print(2 + 'ój')  # niedobrze"
   ]
  },
  {
   "cell_type": "code",
   "execution_count": 8,
   "metadata": {
    "slideshow": {
     "slide_type": "subslide"
    }
   },
   "outputs": [
    {
     "name": "stdout",
     "output_type": "stream",
     "text": [
      "2\n",
      "3\n"
     ]
    }
   ],
   "source": [
    "# zmienna może brać udział w obliczeniach - po obu ich stronach\n",
    "a = 1\n",
    "a = a + 1\n",
    "print(a)\n",
    "a += 1  # to samo, krócej; z innymi operatorami też można\n",
    "print(a)"
   ]
  },
  {
   "cell_type": "code",
   "execution_count": 9,
   "metadata": {
    "slideshow": {
     "slide_type": "subslide"
    }
   },
   "outputs": [
    {
     "name": "stdout",
     "output_type": "stream",
     "text": [
      "Z\n",
      "o\n",
      "s\n",
      "i\n",
      "a\n"
     ]
    }
   ],
   "source": [
    "# po niektórych typach (głównie: listach i napisach) możemy iterować - przechodzić\n",
    "#  element po elemencie\n",
    "for i in 'Zosia':\n",
    "    print(i)"
   ]
  },
  {
   "cell_type": "code",
   "execution_count": 10,
   "metadata": {
    "slideshow": {
     "slide_type": "subslide"
    }
   },
   "outputs": [
    {
     "name": "stdout",
     "output_type": "stream",
     "text": [
      "1.3\n",
      "2\n",
      "skarb\n",
      "56\n"
     ]
    }
   ],
   "source": [
    "for i in [1.3, 2, 'skarb', 56]:\n",
    "    print(i)"
   ]
  },
  {
   "cell_type": "code",
   "execution_count": 11,
   "metadata": {
    "slideshow": {
     "slide_type": "subslide"
    }
   },
   "outputs": [
    {
     "name": "stdout",
     "output_type": "stream",
     "text": [
      "0\n",
      "1\n",
      "2\n",
      "3\n",
      "4\n"
     ]
    }
   ],
   "source": [
    "# możemy użyć funkcji range(n), żeby wygenerować ciąg kolejnych liczb\n",
    "for i in range(5):\n",
    "    print(i)"
   ]
  },
  {
   "cell_type": "markdown",
   "metadata": {
    "slideshow": {
     "slide_type": "slide"
    }
   },
   "source": [
    "W pętli for wyróżniamy deklarację pętli (`for nazwa_zmiennej in obiekt_po_ktorym_iterujemy:`) oraz ciało pętli - kod, który jest wykonywany raz dla każdego elementu iterowanego obiektu.\n",
    "Ciało pętli może mieć dowolnie dużo linii - jego koniec poznajemy po końcu wcięcia."
   ]
  },
  {
   "cell_type": "code",
   "execution_count": 12,
   "metadata": {
    "slideshow": {
     "slide_type": "subslide"
    }
   },
   "outputs": [
    {
     "name": "stdout",
     "output_type": "stream",
     "text": [
      "Wynik częściowy: 0 w obrocie pętli numer 0\n",
      "Wynik częściowy: 1 w obrocie pętli numer 1\n",
      "Wynik częściowy: 3 w obrocie pętli numer 2\n",
      "Wynik częściowy: 6 w obrocie pętli numer 3\n",
      "Wynik częściowy: 10 w obrocie pętli numer 4\n",
      "Wynik końcowy: 10\n"
     ]
    }
   ],
   "source": [
    "suma = 0\n",
    "for liczba in range(5):  # deklaracja pętli\n",
    "    suma += liczba  # ciało pętli\n",
    "    print('Wynik częściowy:', suma, 'w obrocie pętli numer', liczba)  # dalej ciało pętli\n",
    "print('Wynik końcowy:', suma)  # już nie ciało pętli"
   ]
  },
  {
   "cell_type": "markdown",
   "metadata": {
    "slideshow": {
     "slide_type": "slide"
    }
   },
   "source": [
    "## Ćwiczenie 2: Policz \"na palcach\" (dodając po 1) liczbę liter w słowie 'konstantynopolitaneczka'"
   ]
  },
  {
   "cell_type": "code",
   "execution_count": 13,
   "metadata": {
    "slideshow": {
     "slide_type": "subslide"
    }
   },
   "outputs": [
    {
     "data": {
      "text/plain": [
       "23"
      ]
     },
     "execution_count": 13,
     "metadata": {},
     "output_type": "execute_result"
    }
   ],
   "source": [
    "# dla uczciwości naukowej: długość napisu możemy liczyć dedykowaną do tego celu funkcją\n",
    "len('konstantynopolitaneczka')"
   ]
  },
  {
   "cell_type": "code",
   "execution_count": 14,
   "metadata": {
    "slideshow": {
     "slide_type": "slide"
    }
   },
   "outputs": [
    {
     "name": "stdout",
     "output_type": "stream",
     "text": [
      "17\n",
      "i\n"
     ]
    }
   ],
   "source": [
    "# możemy również odwołać się bezpośrednio do n-tego elementu listy/słowa\n",
    "#  (uwaga: indeksujemy od 0)\n",
    "a = [42, 17, 98, 23]\n",
    "imie = 'Zosia'\n",
    "print(a[1])\n",
    "print(imie[3])"
   ]
  },
  {
   "cell_type": "code",
   "execution_count": 15,
   "metadata": {
    "slideshow": {
     "slide_type": "subslide"
    }
   },
   "outputs": [
    {
     "name": "stdout",
     "output_type": "stream",
     "text": [
      "[32]\n"
     ]
    },
    {
     "data": {
      "text/plain": [
       "[32, 0, 1, 2, 3, 4]"
      ]
     },
     "execution_count": 15,
     "metadata": {},
     "output_type": "execute_result"
    }
   ],
   "source": [
    "# możemy dodawać (na koniec) do listy elementy metodą append()\n",
    "b = []\n",
    "b.append(32)\n",
    "print(b)\n",
    "for i in range(5):\n",
    "    b.append(i)\n",
    "b"
   ]
  },
  {
   "cell_type": "code",
   "execution_count": 16,
   "metadata": {
    "slideshow": {
     "slide_type": "slide"
    }
   },
   "outputs": [
    {
     "data": {
      "text/plain": [
       "32"
      ]
     },
     "execution_count": 16,
     "metadata": {},
     "output_type": "execute_result"
    }
   ],
   "source": [
    "# podobnie odwołujemy się do elementów słownika\n",
    "a = {'Marek': 32, 'Zbyszek': 11, 'Krzyś': 999}\n",
    "a['Marek']"
   ]
  },
  {
   "cell_type": "code",
   "execution_count": 17,
   "metadata": {
    "slideshow": {
     "slide_type": "subslide"
    }
   },
   "outputs": [
    {
     "name": "stdout",
     "output_type": "stream",
     "text": [
      "17\n",
      "32\n"
     ]
    },
    {
     "data": {
      "text/plain": [
       "231"
      ]
     },
     "execution_count": 17,
     "metadata": {},
     "output_type": "execute_result"
    }
   ],
   "source": [
    "# elementy w słowniku dodajemy (lub podmieniamy) w ten sam sposób\n",
    "a['Wojtek'] = 17\n",
    "print(a['Wojtek'])\n",
    "print(a['Marek'])\n",
    "a['Marek'] += 199\n",
    "a['Marek']"
   ]
  },
  {
   "cell_type": "code",
   "execution_count": 18,
   "metadata": {
    "slideshow": {
     "slide_type": "subslide"
    }
   },
   "outputs": [
    {
     "name": "stdout",
     "output_type": "stream",
     "text": [
      "Krzyś 999\n",
      "Marek 32\n",
      "Zbyszek 11\n"
     ]
    }
   ],
   "source": [
    "# iterowanie po słowniku daje nam do ręki klucze\n",
    "a = {'Marek': 32, 'Zbyszek': 11, 'Krzyś': 999}\n",
    "for i in a:\n",
    "    print(i, a[i])"
   ]
  },
  {
   "cell_type": "code",
   "execution_count": 19,
   "metadata": {
    "slideshow": {
     "slide_type": "subslide"
    }
   },
   "outputs": [
    {
     "name": "stdout",
     "output_type": "stream",
     "text": [
      "Krzyś 999\n",
      "Marek 32\n",
      "Zbyszek 11\n"
     ]
    }
   ],
   "source": [
    "# jeśli chcemy iterować po kluczach i wartościach jednocześnie, możemy użyć metody items()\n",
    "a = {'Marek': 32, 'Zbyszek': 11, 'Krzyś': 999}\n",
    "for k, v in a.items():\n",
    "    print(k, v)"
   ]
  },
  {
   "cell_type": "code",
   "execution_count": 20,
   "metadata": {
    "slideshow": {
     "slide_type": "slide"
    }
   },
   "outputs": [
    {
     "name": "stdout",
     "output_type": "stream",
     "text": [
      "No raczej\n"
     ]
    }
   ],
   "source": [
    "# operacje możemy wykonywać warunkowo\n",
    "if 4 < 5:\n",
    "    print('No raczej')\n",
    "else:\n",
    "    print('Pisanie tego kodu jest niemądrą stratą czasu')\n",
    "    s = znajdz_sens_zycia()\n",
    "    print(s)"
   ]
  },
  {
   "cell_type": "markdown",
   "metadata": {
    "slideshow": {
     "slide_type": "subslide"
    }
   },
   "source": [
    "Operatory, których możemy używać w warunku if:\n",
    "* `a == b` - `a` takie samo jak `b`\n",
    "* `a != b` - `a` nie jest takie samo jak `b`\n",
    "* `a is b` - `a` jest tym samym co `b` (czasem to ważne rozróżnienie; na co dzień używajmy `==`)\n",
    "* `a in b` - element `a` znajduje się w obiekcie `b`; `b` powinno być napisem, listą lub słownikiem\n",
    "* `a < b` (`a > b`) - `a` jest mniejsze (większe) od `b`\n",
    "* `a <= b` (`a >= b`) - `a` jest mniejsze (większe) lub równe od `b`\n",
    "Dodatkowo warunki możemy łączyć słowami `or` i `and` lub poprzedzić słowem `not`."
   ]
  },
  {
   "cell_type": "markdown",
   "metadata": {
    "slideshow": {
     "slide_type": "slide"
    }
   },
   "source": [
    "## Ćwiczenie 3: Zsumuj te spośród liczb 0..100, które są nieparzyste lub podzielne przez 5"
   ]
  },
  {
   "cell_type": "markdown",
   "metadata": {
    "slideshow": {
     "slide_type": "slide"
    }
   },
   "source": [
    "Kod możemy (i powinniśmy) organizować w funkcje.\n",
    "* funkcja dzieli się na nagłówek i ciało\n",
    "* nagłówek zawiera nazwę funkcji i argumenty, które można/trzeba przekazać do niej; zaczyna się od słowa `def`, a kończy dwukropkiem\n",
    "* ciało funkcji zawiera jej logikę; kończy się tam, gdzie kończy się blok wciętego kodu\n",
    "* w ciele funkcji możemy użyć słowa kluczowego `return`: powoduje ono przerwanie wykonywania funkcji i zwrócenie przez funkcję podanej wartości"
   ]
  },
  {
   "cell_type": "code",
   "execution_count": 21,
   "metadata": {
    "slideshow": {
     "slide_type": "subslide"
    }
   },
   "outputs": [
    {
     "data": {
      "text/plain": [
       "20"
      ]
     },
     "execution_count": 21,
     "metadata": {},
     "output_type": "execute_result"
    }
   ],
   "source": [
    "def podwojenie(x):\n",
    "    return 2 * x\n",
    "\n",
    "podwojenie(10)"
   ]
  },
  {
   "cell_type": "markdown",
   "metadata": {
    "slideshow": {
     "slide_type": "slide"
    }
   },
   "source": [
    "## Ćwiczenie 4: Napisz funkcję o nazwie `pan_funkcja`, która poprzedzi każdy przekazany jej napis słowem \"pan\"\n",
    "`print(pan_funkcja('Tadeusz'))  # \"pan Tadeusz\"`"
   ]
  },
  {
   "cell_type": "markdown",
   "metadata": {
    "slideshow": {
     "slide_type": "slide"
    }
   },
   "source": [
    "Z list i napisów możemy też wyciągać zakresy (slices), oznaczane (jak element) przez kwadratowe nawiasy.\n",
    "\n",
    "Pełny zapis zakresu to: `a[A:B:C]`, gdzie:\n",
    "* A to indeks pierwszego elementu wchodzącego w skład zakresu,\n",
    "* B to indeks pierwszego elementu NIE wchodzącego w skład zakresu,\n",
    "* C mówi, co który element bierzemy (jest to tzw. krok, step)."
   ]
  },
  {
   "cell_type": "code",
   "execution_count": 22,
   "metadata": {
    "slideshow": {
     "slide_type": "fragment"
    }
   },
   "outputs": [
    {
     "name": "stdout",
     "output_type": "stream",
     "text": [
      "[2, 4, 7]\n",
      "[2, 3, 4]\n"
     ]
    }
   ],
   "source": [
    "a = [1, 2, 3, 4, 6, 7, 8, 9, 10]\n",
    "print(a[1:7:2])\n",
    "# możemy napisać tylko a[A:B], wtedy C == 1 (bierzemy każdy element)\n",
    "print(a[1:4])"
   ]
  },
  {
   "cell_type": "code",
   "execution_count": 23,
   "metadata": {
    "slideshow": {
     "slide_type": "fragment"
    }
   },
   "outputs": [
    {
     "name": "stdout",
     "output_type": "stream",
     "text": [
      "[7, 8, 9, 10]\n",
      "cz\n",
      "[1, 2, 3, 4, 6, 7, 8, 9, 10]\n"
     ]
    }
   ],
   "source": [
    "# możemy pominąć A lub B, wtedy A == początek listy, B == koniec listy\n",
    "print(a[5:])\n",
    "print('czapka'[:2])\n",
    "print(a[:])"
   ]
  },
  {
   "cell_type": "code",
   "execution_count": 24,
   "metadata": {
    "slideshow": {
     "slide_type": "fragment"
    }
   },
   "outputs": [
    {
     "name": "stdout",
     "output_type": "stream",
     "text": [
      "[4, 3, 2, 1]\n"
     ]
    }
   ],
   "source": [
    "# pożyteczna sztuczka: step (C) może być ujemny, wtedy iterujemy po obiekcie wstecz\n",
    "print([1, 2, 3, 4][::-1])\n",
    "# jakie są wówczas sensowne wartości A i B zostawiamy do eksperymentowania"
   ]
  },
  {
   "cell_type": "markdown",
   "metadata": {
    "slideshow": {
     "slide_type": "slide"
    }
   },
   "source": [
    "## Ćwiczenie 5: Napisz funkcję o nazwie `skracacz`, która obetnie podany napis do 10 znaków i doda na końcu wielokropek.\n",
    "\n",
    "## Ćwiczenie 5a, odrobinę ambitniejsze: niech funkcja `skracacz` dodaje wielokropek tylko wtedy, jeśli faktycznie coś skróciła."
   ]
  },
  {
   "cell_type": "markdown",
   "metadata": {
    "slideshow": {
     "slide_type": "slide"
    }
   },
   "source": [
    "## Następne zajęcia: 21 listopada 2017, 16:30\n",
    "### Praca domowa znajduje się w pliku `2017-11-07/praca_domowa.ipynb`\n",
    "Proszę o wrzucenie jej do swojego repozytorium do 18 listopada 2017 (sobota), do godziny 23:59."
   ]
  }
 ],
 "metadata": {
  "celltoolbar": "Slideshow",
  "kernelspec": {
   "display_name": "Python 3",
   "language": "python",
   "name": "python3"
  },
  "language_info": {
   "codemirror_mode": {
    "name": "ipython",
    "version": 3
   },
   "file_extension": ".py",
   "mimetype": "text/x-python",
   "name": "python",
   "nbconvert_exporter": "python",
   "pygments_lexer": "ipython3",
   "version": "3.6.3"
  }
 },
 "nbformat": 4,
 "nbformat_minor": 2
}
