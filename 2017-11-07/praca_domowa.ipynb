{
 "cells": [
  {
   "cell_type": "markdown",
   "metadata": {},
   "source": [
    "Napisz w komórkach polecenia (funkcje) wykonujące poniższe polecenia.\n",
    "\n",
    "Mile widziane jest napisanie w komórce obok przykładu użycia, który działa."
   ]
  },
  {
   "cell_type": "markdown",
   "metadata": {},
   "source": [
    "(1) Sprawdź czy podane słowa są palindromami:"
   ]
  },
  {
   "cell_type": "code",
   "execution_count": null,
   "metadata": {},
   "outputs": [],
   "source": [
    "slowa = ['aaabaaa', 'aa', 'c', 'bbaa', 'baba', 'abba']"
   ]
  },
  {
   "cell_type": "markdown",
   "metadata": {},
   "source": [
    "(2) Napisz funkcję, która wygeneruje palindromy postaci baaa..aaab o długości podanej przez użytkownika (przez argument).\n",
    "\n",
    "Palindrom o długości 1 to b, o długości 2 to bb."
   ]
  },
  {
   "cell_type": "code",
   "execution_count": null,
   "metadata": {},
   "outputs": [],
   "source": []
  },
  {
   "cell_type": "code",
   "execution_count": null,
   "metadata": {},
   "outputs": [],
   "source": [
    "# przykład użycia powyższej funkcji"
   ]
  },
  {
   "cell_type": "markdown",
   "metadata": {},
   "source": [
    "(3) Napisz funkcję, który wygeneruje palindromy postaci:\n",
    "\n",
    "`a..aba..a` jeśli użytkownik poda liczbę nieparzystą\n",
    "\n",
    "`a..abba..a` jeśli użytkownik poda liczbę parzystą\n",
    "\n",
    "Gdzie podana przez użytkownika wartość (argument funkcji) jest długością palindromu"
   ]
  },
  {
   "cell_type": "code",
   "execution_count": null,
   "metadata": {},
   "outputs": [],
   "source": []
  },
  {
   "cell_type": "code",
   "execution_count": null,
   "metadata": {},
   "outputs": [],
   "source": [
    "# przykład użycia powyższej funkcji"
   ]
  },
  {
   "cell_type": "markdown",
   "metadata": {},
   "source": [
    "(4) Wygeneruj 100 palindromów (jak w 3.) o długościach 1, 2, ... i wpisz je do listy. Następnie wypisz palindromy nr. 3, 7, 15, 62."
   ]
  },
  {
   "cell_type": "code",
   "execution_count": null,
   "metadata": {},
   "outputs": [],
   "source": []
  },
  {
   "cell_type": "markdown",
   "metadata": {},
   "source": [
    "(5) Napisz funkcję, która wypisze długość podanego napisu i informację o tym, czy jest on palindromem."
   ]
  },
  {
   "cell_type": "code",
   "execution_count": null,
   "metadata": {},
   "outputs": [],
   "source": []
  },
  {
   "cell_type": "code",
   "execution_count": null,
   "metadata": {},
   "outputs": [],
   "source": [
    "# przykład użycia powyższej funkcji"
   ]
  }
 ],
 "metadata": {
  "kernelspec": {
   "display_name": "Python 3",
   "language": "python",
   "name": "python3"
  },
  "language_info": {
   "codemirror_mode": {
    "name": "ipython",
    "version": 3
   },
   "file_extension": ".py",
   "mimetype": "text/x-python",
   "name": "python",
   "nbconvert_exporter": "python",
   "pygments_lexer": "ipython3",
   "version": "3.5.2"
  }
 },
 "nbformat": 4,
 "nbformat_minor": 2
}
